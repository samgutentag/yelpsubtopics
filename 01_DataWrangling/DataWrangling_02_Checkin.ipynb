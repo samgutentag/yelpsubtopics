{
 "cells": [
  {
   "cell_type": "markdown",
   "metadata": {},
   "source": [
    "# Yelp Checkins Wrangling"
   ]
  },
  {
   "cell_type": "code",
   "execution_count": 1,
   "metadata": {},
   "outputs": [],
   "source": [
    "%matplotlib inline\n",
    "\n",
    "import matplotlib\n",
    "import numpy as np\n",
    "import matplotlib.pyplot as plt\n",
    "import pandas as pd\n",
    "import datetime\n",
    "\n",
    "import json\n",
    "\n",
    "import seaborn as sns\n",
    "sns.set()\n",
    "# sns.set_style('whitegrid')\n",
    "# sns.set_context(\"poster\")"
   ]
  },
  {
   "cell_type": "code",
   "execution_count": 2,
   "metadata": {},
   "outputs": [
    {
     "data": {
      "text/html": [
       "<style>.container { width:95% !important; }</style>"
      ],
      "text/plain": [
       "<IPython.core.display.HTML object>"
      ]
     },
     "metadata": {},
     "output_type": "display_data"
    }
   ],
   "source": [
    "from IPython.core.display import display, HTML\n",
    "display(HTML(\"<style>.container { width:95% !important; }</style>\"))"
   ]
  },
  {
   "cell_type": "code",
   "execution_count": 3,
   "metadata": {},
   "outputs": [],
   "source": [
    "day_labels = ['Monday', 'Tuesday', 'Wednesday', 'Thursday', 'Friday', 'Saturday', 'Sunday']"
   ]
  },
  {
   "cell_type": "markdown",
   "metadata": {},
   "source": [
    "# Load Checkins Data"
   ]
  },
  {
   "cell_type": "code",
   "execution_count": 4,
   "metadata": {},
   "outputs": [
    {
     "name": "stdout",
     "output_type": "stream",
     "text": [
      "[02:37:37.347645] Loading Checkins Data...\n",
      "[02:37:46.757365] creating dataframe...\n",
      "[02:37:47.298917] data type cleanup...\n",
      "[02:37:47.299149] Complete!\n"
     ]
    }
   ],
   "source": [
    "print('[%s] Loading Checkins Data...' % datetime.datetime.now().time())\n",
    "\n",
    "data = pd.DataFrame()\n",
    "source_data_file = '../source_data/checkin.json'\n",
    "\n",
    "checkins_list = []\n",
    "for line in open(source_data_file, 'r'):\n",
    "    checkins_list.append(json.loads(line))\n",
    "\n",
    "print('[%s] creating dataframe...' % datetime.datetime.now().time())    \n",
    "checkins_df = pd.DataFrame(checkins_list)\n",
    "\n",
    "print('[%s] data type cleanup...' % datetime.datetime.now().time())    \n",
    "# tips_df.date        = pd.to_datetime(tips_df.date)\n",
    "# tips_df.likes       = tips_df.likes.astype('int')\n",
    "    \n",
    "print('[%s] Complete!' % datetime.datetime.now().time())"
   ]
  },
  {
   "cell_type": "code",
   "execution_count": 5,
   "metadata": {},
   "outputs": [
    {
     "name": "stdout",
     "output_type": "stream",
     "text": [
      "<class 'pandas.core.frame.DataFrame'>\n",
      "RangeIndex: 135148 entries, 0 to 135147\n",
      "Data columns (total 2 columns):\n",
      "business_id    135148 non-null object\n",
      "time           135148 non-null object\n",
      "dtypes: object(2)\n",
      "memory usage: 2.1+ MB\n"
     ]
    }
   ],
   "source": [
    "checkins_df.info()"
   ]
  },
  {
   "cell_type": "code",
   "execution_count": 6,
   "metadata": {},
   "outputs": [
    {
     "data": {
      "text/html": [
       "<div>\n",
       "<style scoped>\n",
       "    .dataframe tbody tr th:only-of-type {\n",
       "        vertical-align: middle;\n",
       "    }\n",
       "\n",
       "    .dataframe tbody tr th {\n",
       "        vertical-align: top;\n",
       "    }\n",
       "\n",
       "    .dataframe thead th {\n",
       "        text-align: right;\n",
       "    }\n",
       "</style>\n",
       "<table border=\"1\" class=\"dataframe\">\n",
       "  <thead>\n",
       "    <tr style=\"text-align: right;\">\n",
       "      <th></th>\n",
       "      <th>business_id</th>\n",
       "      <th>time</th>\n",
       "    </tr>\n",
       "  </thead>\n",
       "  <tbody>\n",
       "    <tr>\n",
       "      <th>0</th>\n",
       "      <td>7KPBkxAOEtb3QeIL9PEErg</td>\n",
       "      <td>{'Thursday': {'21:00': 4, '1:00': 1, '4:00': 1...</td>\n",
       "    </tr>\n",
       "    <tr>\n",
       "      <th>1</th>\n",
       "      <td>kREVIrSBbtqBhIYkTccQUg</td>\n",
       "      <td>{'Monday': {'13:00': 1}, 'Thursday': {'20:00':...</td>\n",
       "    </tr>\n",
       "    <tr>\n",
       "      <th>2</th>\n",
       "      <td>tJRDll5yqpZwehenzE2cSg</td>\n",
       "      <td>{'Monday': {'12:00': 1, '1:00': 1}, 'Saturday'...</td>\n",
       "    </tr>\n",
       "    <tr>\n",
       "      <th>3</th>\n",
       "      <td>nhZ1HGWD8lMErdn3FuWuTQ</td>\n",
       "      <td>{'Sunday': {'18:00': 1, '17:00': 2, '22:00': 1...</td>\n",
       "    </tr>\n",
       "    <tr>\n",
       "      <th>4</th>\n",
       "      <td>vDoXZGE7p6xAkKQ0XQPvoA</td>\n",
       "      <td>{'Thursday': {'15:00': 1}, 'Saturday': {'23:00...</td>\n",
       "    </tr>\n",
       "  </tbody>\n",
       "</table>\n",
       "</div>"
      ],
      "text/plain": [
       "              business_id                                               time\n",
       "0  7KPBkxAOEtb3QeIL9PEErg  {'Thursday': {'21:00': 4, '1:00': 1, '4:00': 1...\n",
       "1  kREVIrSBbtqBhIYkTccQUg  {'Monday': {'13:00': 1}, 'Thursday': {'20:00':...\n",
       "2  tJRDll5yqpZwehenzE2cSg  {'Monday': {'12:00': 1, '1:00': 1}, 'Saturday'...\n",
       "3  nhZ1HGWD8lMErdn3FuWuTQ  {'Sunday': {'18:00': 1, '17:00': 2, '22:00': 1...\n",
       "4  vDoXZGE7p6xAkKQ0XQPvoA  {'Thursday': {'15:00': 1}, 'Saturday': {'23:00..."
      ]
     },
     "execution_count": 6,
     "metadata": {},
     "output_type": "execute_result"
    }
   ],
   "source": [
    "checkins_df.head()"
   ]
  },
  {
   "cell_type": "code",
   "execution_count": 7,
   "metadata": {},
   "outputs": [],
   "source": [
    "def unpack(df, column, fillna=None):\n",
    "    ret = None\n",
    "    if fillna is None:\n",
    "        ret = pd.concat([df, pd.DataFrame((d for idx, d in df[column].iteritems()))], axis=1)\n",
    "        del ret[column]\n",
    "    else:\n",
    "        ret = pd.concat([df, pd.DataFrame((d for idx, d in df[column].iteritems())).fillna(fillna)], axis=1)\n",
    "        del ret[column]\n",
    "    return ret\n",
    "\n",
    "checkins_daily_df = unpack(checkins_df, 'time')"
   ]
  },
  {
   "cell_type": "code",
   "execution_count": null,
   "metadata": {
    "scrolled": true
   },
   "outputs": [
    {
     "data": {
      "text/html": [
       "<div>\n",
       "<style scoped>\n",
       "    .dataframe tbody tr th:only-of-type {\n",
       "        vertical-align: middle;\n",
       "    }\n",
       "\n",
       "    .dataframe tbody tr th {\n",
       "        vertical-align: top;\n",
       "    }\n",
       "\n",
       "    .dataframe thead th {\n",
       "        text-align: right;\n",
       "    }\n",
       "</style>\n",
       "<table border=\"1\" class=\"dataframe\">\n",
       "  <thead>\n",
       "    <tr style=\"text-align: right;\">\n",
       "      <th></th>\n",
       "      <th>business_id</th>\n",
       "      <th>Friday</th>\n",
       "      <th>Monday</th>\n",
       "      <th>Saturday</th>\n",
       "      <th>Sunday</th>\n",
       "      <th>Thursday</th>\n",
       "      <th>Tuesday</th>\n",
       "      <th>Wednesday</th>\n",
       "    </tr>\n",
       "  </thead>\n",
       "  <tbody>\n",
       "    <tr>\n",
       "      <th>0</th>\n",
       "      <td>7KPBkxAOEtb3QeIL9PEErg</td>\n",
       "      <td>{'16:00': 1, '14:00': 2, '10:00': 2, '23:00': ...</td>\n",
       "      <td>{'12:00': 1, '11:00': 1, '14:00': 1, '18:00': ...</td>\n",
       "      <td>{'21:00': 1, '23:00': 3, '18:00': 4, '10:00': ...</td>\n",
       "      <td>{'18:00': 1, '16:00': 1, '14:00': 1, '19:00': ...</td>\n",
       "      <td>{'21:00': 4, '1:00': 1, '4:00': 1, '2:00': 1, ...</td>\n",
       "      <td>{'18:00': 2, '12:00': 1, '13:00': 2, '16:00': ...</td>\n",
       "      <td>{'11:00': 2, '13:00': 2, '14:00': 1, '17:00': ...</td>\n",
       "    </tr>\n",
       "    <tr>\n",
       "      <th>1</th>\n",
       "      <td>kREVIrSBbtqBhIYkTccQUg</td>\n",
       "      <td>NaN</td>\n",
       "      <td>{'13:00': 1}</td>\n",
       "      <td>{'21:00': 1, '16:00': 1}</td>\n",
       "      <td>{'19:00': 1}</td>\n",
       "      <td>{'20:00': 1, '13:00': 1}</td>\n",
       "      <td>NaN</td>\n",
       "      <td>{'17:00': 1}</td>\n",
       "    </tr>\n",
       "    <tr>\n",
       "      <th>2</th>\n",
       "      <td>tJRDll5yqpZwehenzE2cSg</td>\n",
       "      <td>NaN</td>\n",
       "      <td>{'12:00': 1, '1:00': 1}</td>\n",
       "      <td>{'16:00': 1}</td>\n",
       "      <td>NaN</td>\n",
       "      <td>{'0:00': 1}</td>\n",
       "      <td>NaN</td>\n",
       "      <td>NaN</td>\n",
       "    </tr>\n",
       "    <tr>\n",
       "      <th>3</th>\n",
       "      <td>nhZ1HGWD8lMErdn3FuWuTQ</td>\n",
       "      <td>{'18:00': 1, '22:00': 2, '1:00': 1, '0:00': 1}</td>\n",
       "      <td>{'17:00': 1, '18:00': 1, '19:00': 1, '2:00': 1...</td>\n",
       "      <td>{'20:00': 1, '23:00': 2, '22:00': 3, '17:00': ...</td>\n",
       "      <td>{'18:00': 1, '17:00': 2, '22:00': 1, '0:00': 1...</td>\n",
       "      <td>{'3:00': 1, '0:00': 1, '20:00': 1, '21:00': 1,...</td>\n",
       "      <td>{'17:00': 1, '1:00': 1, '23:00': 3, '22:00': 3}</td>\n",
       "      <td>{'3:00': 1, '0:00': 1, '22:00': 1}</td>\n",
       "    </tr>\n",
       "    <tr>\n",
       "      <th>4</th>\n",
       "      <td>vDoXZGE7p6xAkKQ0XQPvoA</td>\n",
       "      <td>NaN</td>\n",
       "      <td>NaN</td>\n",
       "      <td>{'23:00': 1}</td>\n",
       "      <td>NaN</td>\n",
       "      <td>{'15:00': 1}</td>\n",
       "      <td>NaN</td>\n",
       "      <td>NaN</td>\n",
       "    </tr>\n",
       "  </tbody>\n",
       "</table>\n",
       "</div>"
      ],
      "text/plain": [
       "              business_id                                             Friday  \\\n",
       "0  7KPBkxAOEtb3QeIL9PEErg  {'16:00': 1, '14:00': 2, '10:00': 2, '23:00': ...   \n",
       "1  kREVIrSBbtqBhIYkTccQUg                                                NaN   \n",
       "2  tJRDll5yqpZwehenzE2cSg                                                NaN   \n",
       "3  nhZ1HGWD8lMErdn3FuWuTQ     {'18:00': 1, '22:00': 2, '1:00': 1, '0:00': 1}   \n",
       "4  vDoXZGE7p6xAkKQ0XQPvoA                                                NaN   \n",
       "\n",
       "                                              Monday  \\\n",
       "0  {'12:00': 1, '11:00': 1, '14:00': 1, '18:00': ...   \n",
       "1                                       {'13:00': 1}   \n",
       "2                            {'12:00': 1, '1:00': 1}   \n",
       "3  {'17:00': 1, '18:00': 1, '19:00': 1, '2:00': 1...   \n",
       "4                                                NaN   \n",
       "\n",
       "                                            Saturday  \\\n",
       "0  {'21:00': 1, '23:00': 3, '18:00': 4, '10:00': ...   \n",
       "1                           {'21:00': 1, '16:00': 1}   \n",
       "2                                       {'16:00': 1}   \n",
       "3  {'20:00': 1, '23:00': 2, '22:00': 3, '17:00': ...   \n",
       "4                                       {'23:00': 1}   \n",
       "\n",
       "                                              Sunday  \\\n",
       "0  {'18:00': 1, '16:00': 1, '14:00': 1, '19:00': ...   \n",
       "1                                       {'19:00': 1}   \n",
       "2                                                NaN   \n",
       "3  {'18:00': 1, '17:00': 2, '22:00': 1, '0:00': 1...   \n",
       "4                                                NaN   \n",
       "\n",
       "                                            Thursday  \\\n",
       "0  {'21:00': 4, '1:00': 1, '4:00': 1, '2:00': 1, ...   \n",
       "1                           {'20:00': 1, '13:00': 1}   \n",
       "2                                        {'0:00': 1}   \n",
       "3  {'3:00': 1, '0:00': 1, '20:00': 1, '21:00': 1,...   \n",
       "4                                       {'15:00': 1}   \n",
       "\n",
       "                                             Tuesday  \\\n",
       "0  {'18:00': 2, '12:00': 1, '13:00': 2, '16:00': ...   \n",
       "1                                                NaN   \n",
       "2                                                NaN   \n",
       "3    {'17:00': 1, '1:00': 1, '23:00': 3, '22:00': 3}   \n",
       "4                                                NaN   \n",
       "\n",
       "                                           Wednesday  \n",
       "0  {'11:00': 2, '13:00': 2, '14:00': 1, '17:00': ...  \n",
       "1                                       {'17:00': 1}  \n",
       "2                                                NaN  \n",
       "3                 {'3:00': 1, '0:00': 1, '22:00': 1}  \n",
       "4                                                NaN  "
      ]
     },
     "execution_count": 8,
     "metadata": {},
     "output_type": "execute_result"
    }
   ],
   "source": [
    "checkins_daily_df.head()"
   ]
  },
  {
   "cell_type": "code",
   "execution_count": null,
   "metadata": {
    "scrolled": true
   },
   "outputs": [
    {
     "name": "stderr",
     "output_type": "stream",
     "text": [
      "/Users/samgutentag/anaconda/envs/spring/lib/python3.6/site-packages/pandas/core/indexes/api.py:87: RuntimeWarning: '<' not supported between instances of 'int' and 'str', sort order is undefined for incomparable objects\n",
      "  result = result.union(other)\n",
      "/Users/samgutentag/anaconda/envs/spring/lib/python3.6/site-packages/pandas/core/indexes/api.py:87: RuntimeWarning: '<' not supported between instances of 'str' and 'int', sort order is undefined for incomparable objects\n",
      "  result = result.union(other)\n",
      "/Users/samgutentag/anaconda/envs/spring/lib/python3.6/site-packages/pandas/core/indexes/api.py:57: RuntimeWarning: '<' not supported between instances of 'str' and 'int', sort order is undefined for incomparable objects\n",
      "  union = _union_indexes(indexes)\n",
      "/Users/samgutentag/anaconda/envs/spring/lib/python3.6/site-packages/pandas/core/indexes/api.py:57: RuntimeWarning: '<' not supported between instances of 'int' and 'str', sort order is undefined for incomparable objects\n",
      "  union = _union_indexes(indexes)\n"
     ]
    }
   ],
   "source": [
    "chunks = []\n",
    "for day in checkins_daily_df.columns[1:]:\n",
    "    data = checkins_daily_df[day].copy().to_frame()\n",
    "    chunk = data[day].apply(pd.Series)\n",
    "    chunk.drop([0], axis=1, inplace=True)\n",
    "    chunk.columns = [int(str(x).split(':')[0]) for x in chunk.columns]\n",
    "\n",
    "#     fill in missing hours\n",
    "    for n in range(0, 24, 1):\n",
    "        if n not in chunk.columns:\n",
    "            chunk[n] = np.nan\n",
    "    chunk['day'] = day\n",
    "\n",
    "    chunks.append(chunk)\n",
    "    \n",
    "    \n",
    "checkins_hourly_df = pd.concat(chunks)\n",
    "checkins_hourly_df"
   ]
  },
  {
   "cell_type": "code",
   "execution_count": null,
   "metadata": {},
   "outputs": [],
   "source": [
    "weekly_checkins = checkins_hourly_df.merge(checkins_daily_df, left_index=True, right_index=True, how='left')\n",
    "weekly_checkins.drop(day_labels, axis=1, inplace=True)\n",
    "weekly_checkins.fillna(0, inplace=True)\n",
    "weekly_checkins.reset_index(inplace=True, drop=True)\n",
    "weekly_checkins.head(3)"
   ]
  },
  {
   "cell_type": "markdown",
   "metadata": {},
   "source": [
    "# Write to File\n",
    "<p>Split by day of week</p>"
   ]
  },
  {
   "cell_type": "code",
   "execution_count": null,
   "metadata": {},
   "outputs": [],
   "source": [
    "day_count = len(weekly_checkins.day.unique())\n",
    "for i, day in enumerate(weekly_checkins.day.unique()):\n",
    "    biz_df = weekly_checkins[weekly_checkins.day == day].copy()\n",
    "    biz_df.reset_index(inplace=True, drop=True)\n",
    "    print('%s of %s' % (str(i+1), str(day_count)))\n",
    "    biz_df.to_csv('../clean_data/02_checkins/%s_checkins_clean.csv' % (day))"
   ]
  },
  {
   "cell_type": "code",
   "execution_count": null,
   "metadata": {},
   "outputs": [],
   "source": [
    "weekly_checkins.shape[0]"
   ]
  },
  {
   "cell_type": "code",
   "execution_count": null,
   "metadata": {},
   "outputs": [],
   "source": []
  }
 ],
 "metadata": {
  "kernelspec": {
   "display_name": "Python 3",
   "language": "python",
   "name": "python3"
  },
  "language_info": {
   "codemirror_mode": {
    "name": "ipython",
    "version": 3
   },
   "file_extension": ".py",
   "mimetype": "text/x-python",
   "name": "python",
   "nbconvert_exporter": "python",
   "pygments_lexer": "ipython3",
   "version": "3.6.3"
  }
 },
 "nbformat": 4,
 "nbformat_minor": 2
}
