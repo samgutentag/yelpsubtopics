{
 "cells": [
  {
   "cell_type": "markdown",
   "metadata": {},
   "source": [
    "# Yelp Review Wrangling"
   ]
  },
  {
   "cell_type": "code",
   "execution_count": 1,
   "metadata": {
    "collapsed": true
   },
   "outputs": [],
   "source": [
    "%matplotlib inline\n",
    "\n",
    "import pandas as pd\n",
    "import datetime\n",
    "import json\n",
    "from glob import glob\n",
    "import math\n",
    "\n",
    "DRY_RUN = False"
   ]
  },
  {
   "cell_type": "code",
   "execution_count": 2,
   "metadata": {},
   "outputs": [
    {
     "data": {
      "text/html": [
       "<style>.container { width:95% !important; }</style>"
      ],
      "text/plain": [
       "<IPython.core.display.HTML object>"
      ]
     },
     "metadata": {},
     "output_type": "display_data"
    }
   ],
   "source": [
    "from IPython.core.display import display, HTML\n",
    "display(HTML(\"<style>.container { width:95% !important; }</style>\"))"
   ]
  },
  {
   "cell_type": "code",
   "execution_count": 3,
   "metadata": {
    "collapsed": true
   },
   "outputs": [],
   "source": [
    "day_labels = ['Monday', 'Tuesday', 'Wednesday', 'Thursday', 'Friday', 'Saturday', 'Sunday']\n",
    "\n",
    "def time_marker(text=''):\n",
    "    print('[{}] {}'.format(datetime.datetime.now().time(), text.lower()))\n",
    "    \n",
    "def unpack(df, column, fillna=None):\n",
    "    ret = None\n",
    "    if fillna is None:\n",
    "        ret = pd.concat([df, pd.DataFrame((d for idx, d in df[column].iteritems()))], axis=1)\n",
    "        del ret[column]\n",
    "    else:\n",
    "        ret = pd.concat([df, pd.DataFrame((d for idx, d in df[column].iteritems())).fillna(fillna)], axis=1)\n",
    "        del ret[column]\n",
    "    return ret"
   ]
  },
  {
   "cell_type": "markdown",
   "metadata": {},
   "source": [
    "# Load Review Data"
   ]
  },
  {
   "cell_type": "code",
   "execution_count": null,
   "metadata": {
    "collapsed": true
   },
   "outputs": [],
   "source": [
    "time_marker(text='Loading Reviews Data...')\n",
    "\n",
    "data = pd.DataFrame()\n",
    "source_data_file = '../source_data/review.json'\n",
    "\n",
    "reviews_list = []\n",
    "for line in open(source_data_file, 'r'):\n",
    "    reviews_list.append(json.loads(line))\n",
    "\n",
    "time_marker(text='creating dataframe...')\n",
    "reviews_df = pd.DataFrame(reviews_list)\n",
    "\n",
    "time_marker(text='done')"
   ]
  },
  {
   "cell_type": "markdown",
   "metadata": {},
   "source": [
    "# append `business_id` prefix columns"
   ]
  },
  {
   "cell_type": "code",
   "execution_count": null,
   "metadata": {
    "collapsed": true
   },
   "outputs": [],
   "source": [
    "time_marker('appending bid_prefix column...')\n",
    "reviews_df['bid_prefix'] = reviews_df.business_id.apply(lambda x: x[:1])\n",
    "reviews_df.head(8)"
   ]
  },
  {
   "cell_type": "code",
   "execution_count": null,
   "metadata": {
    "collapsed": true
   },
   "outputs": [],
   "source": [
    "time_marker(text='Writing to files...')\n",
    "file_count = len(reviews_df.bid_prefix.unique())\n",
    "\n",
    "for i, prefix in enumerate(sorted(reviews_df.bid_prefix.unique())):\n",
    "    df = reviews_df[reviews_df.bid_prefix == prefix].iloc[:,:-1].copy()\n",
    "    df.reset_index(inplace=True, drop=True)\n",
    "    file_name = '../clean_data/reviews/tmp/{}_{}_reviews_clean.csv'.format(str(i).zfill(2), prefix)\n",
    "    time_marker(text='Writing {:d} records to file {}'.format(df.shape[0], file_name))\n",
    "    if DRY_RUN:\n",
    "        pass\n",
    "    else:\n",
    "        df.to_csv(file_name, encoding='utf-8')\n",
    "time_marker(text='Done!')"
   ]
  },
  {
   "cell_type": "markdown",
   "metadata": {},
   "source": [
    "# Reload data from CSVs for next steps"
   ]
  },
  {
   "cell_type": "code",
   "execution_count": 5,
   "metadata": {
    "collapsed": true
   },
   "outputs": [],
   "source": [
    "import string\n",
    "translator = str.maketrans('','', string.punctuation)"
   ]
  },
  {
   "cell_type": "code",
   "execution_count": 12,
   "metadata": {},
   "outputs": [
    {
     "name": "stdout",
     "output_type": "stream",
     "text": [
      "[14:46:31.017799] reading 1 of 64 ../clean_data/reviews/tmp/00_-_reviews_clean.csv...\n",
      "[14:46:33.796165] reading 2 of 64 ../clean_data/reviews/tmp/01_0_reviews_clean.csv...\n",
      "[14:46:36.213556] reading 3 of 64 ../clean_data/reviews/tmp/02_1_reviews_clean.csv...\n",
      "[14:46:38.358417] reading 4 of 64 ../clean_data/reviews/tmp/03_2_reviews_clean.csv...\n",
      "[14:46:40.717474] reading 5 of 64 ../clean_data/reviews/tmp/04_3_reviews_clean.csv...\n",
      "[14:46:44.092458] reading 6 of 64 ../clean_data/reviews/tmp/05_4_reviews_clean.csv...\n",
      "[14:46:46.448280] reading 7 of 64 ../clean_data/reviews/tmp/06_5_reviews_clean.csv...\n",
      "[14:46:48.986774] reading 8 of 64 ../clean_data/reviews/tmp/07_6_reviews_clean.csv...\n",
      "[14:46:51.314714] reading 9 of 64 ../clean_data/reviews/tmp/08_7_reviews_clean.csv...\n",
      "[14:46:53.739564] reading 10 of 64 ../clean_data/reviews/tmp/09_8_reviews_clean.csv...\n",
      "[14:46:55.832587] reading 11 of 64 ../clean_data/reviews/tmp/10_9_reviews_clean.csv...\n",
      "[14:46:58.107531] reading 12 of 64 ../clean_data/reviews/tmp/11_a_reviews_clean.csv...\n",
      "[14:47:00.665783] reading 13 of 64 ../clean_data/reviews/tmp/12_b_reviews_clean.csv...\n",
      "[14:47:03.169513] reading 14 of 64 ../clean_data/reviews/tmp/13_c_reviews_clean.csv...\n",
      "[14:47:05.562380] reading 15 of 64 ../clean_data/reviews/tmp/14_d_reviews_clean.csv...\n",
      "[14:47:08.210855] reading 16 of 64 ../clean_data/reviews/tmp/15_e_reviews_clean.csv...\n",
      "[14:47:10.838413] reading 17 of 64 ../clean_data/reviews/tmp/16_f_reviews_clean.csv...\n",
      "[14:47:13.809950] reading 18 of 64 ../clean_data/reviews/tmp/17_g_reviews_clean.csv...\n",
      "[14:47:16.377284] reading 19 of 64 ../clean_data/reviews/tmp/18_h_reviews_clean.csv...\n",
      "[14:47:18.926771] reading 20 of 64 ../clean_data/reviews/tmp/19_i_reviews_clean.csv...\n",
      "[14:47:21.253132] reading 21 of 64 ../clean_data/reviews/tmp/20_j_reviews_clean.csv...\n",
      "[14:47:23.894584] reading 22 of 64 ../clean_data/reviews/tmp/21_k_reviews_clean.csv...\n",
      "[14:47:26.461540] reading 23 of 64 ../clean_data/reviews/tmp/22_l_reviews_clean.csv...\n",
      "[14:47:29.229476] reading 24 of 64 ../clean_data/reviews/tmp/23_m_reviews_clean.csv...\n",
      "[14:47:31.539057] reading 25 of 64 ../clean_data/reviews/tmp/24_n_reviews_clean.csv...\n",
      "[14:47:33.908134] reading 26 of 64 ../clean_data/reviews/tmp/25_o_reviews_clean.csv...\n",
      "[14:47:36.521928] reading 27 of 64 ../clean_data/reviews/tmp/26_p_reviews_clean.csv...\n",
      "[14:47:38.782300] reading 28 of 64 ../clean_data/reviews/tmp/27_q_reviews_clean.csv...\n",
      "[14:47:41.307911] reading 29 of 64 ../clean_data/reviews/tmp/28_r_reviews_clean.csv...\n",
      "[14:47:44.619803] reading 30 of 64 ../clean_data/reviews/tmp/29_s_reviews_clean.csv...\n",
      "[14:47:47.514191] reading 31 of 64 ../clean_data/reviews/tmp/30_t_reviews_clean.csv...\n",
      "[14:47:49.883224] reading 32 of 64 ../clean_data/reviews/tmp/31_u_reviews_clean.csv...\n",
      "[14:47:52.482217] reading 33 of 64 ../clean_data/reviews/tmp/32_v_reviews_clean.csv...\n",
      "[14:47:55.117280] reading 34 of 64 ../clean_data/reviews/tmp/33_w_reviews_clean.csv...\n",
      "[14:47:57.696959] reading 35 of 64 ../clean_data/reviews/tmp/34_x_reviews_clean.csv...\n",
      "[14:48:00.415484] reading 36 of 64 ../clean_data/reviews/tmp/35_y_reviews_clean.csv...\n",
      "[14:48:03.072903] reading 37 of 64 ../clean_data/reviews/tmp/36_z_reviews_clean.csv...\n",
      "[14:48:05.374405] reading 38 of 64 ../clean_data/reviews/tmp/37___reviews_clean.csv...\n",
      "[14:48:07.755286] reading 39 of 64 ../clean_data/reviews/tmp/38_a_reviews_clean.csv...\n",
      "[14:48:10.444817] reading 40 of 64 ../clean_data/reviews/tmp/39_b_reviews_clean.csv...\n",
      "[14:48:13.411362] reading 41 of 64 ../clean_data/reviews/tmp/40_c_reviews_clean.csv...\n",
      "[14:48:16.396858] reading 42 of 64 ../clean_data/reviews/tmp/41_d_reviews_clean.csv...\n",
      "[14:48:19.623436] reading 43 of 64 ../clean_data/reviews/tmp/42_e_reviews_clean.csv...\n",
      "[14:48:22.662425] reading 44 of 64 ../clean_data/reviews/tmp/43_f_reviews_clean.csv...\n",
      "[14:48:25.562834] reading 45 of 64 ../clean_data/reviews/tmp/44_g_reviews_clean.csv...\n",
      "[14:48:28.058765] reading 46 of 64 ../clean_data/reviews/tmp/45_h_reviews_clean.csv...\n",
      "[14:48:30.448075] reading 47 of 64 ../clean_data/reviews/tmp/46_i_reviews_clean.csv...\n",
      "[14:48:32.877468] reading 48 of 64 ../clean_data/reviews/tmp/47_j_reviews_clean.csv...\n",
      "[14:48:35.152605] reading 49 of 64 ../clean_data/reviews/tmp/48_k_reviews_clean.csv...\n",
      "[14:48:37.507781] reading 50 of 64 ../clean_data/reviews/tmp/49_l_reviews_clean.csv...\n",
      "[14:48:39.793456] reading 51 of 64 ../clean_data/reviews/tmp/50_m_reviews_clean.csv...\n",
      "[14:48:42.467676] reading 52 of 64 ../clean_data/reviews/tmp/51_n_reviews_clean.csv...\n",
      "[14:48:45.374964] reading 53 of 64 ../clean_data/reviews/tmp/52_o_reviews_clean.csv...\n",
      "[14:48:47.793381] reading 54 of 64 ../clean_data/reviews/tmp/53_p_reviews_clean.csv...\n",
      "[14:48:50.442669] reading 55 of 64 ../clean_data/reviews/tmp/54_q_reviews_clean.csv...\n",
      "[14:48:52.876116] reading 56 of 64 ../clean_data/reviews/tmp/55_r_reviews_clean.csv...\n",
      "[14:48:55.266502] reading 57 of 64 ../clean_data/reviews/tmp/56_s_reviews_clean.csv...\n",
      "[14:48:57.687978] reading 58 of 64 ../clean_data/reviews/tmp/57_t_reviews_clean.csv...\n",
      "[14:49:00.047437] reading 59 of 64 ../clean_data/reviews/tmp/58_u_reviews_clean.csv...\n",
      "[14:49:03.088278] reading 60 of 64 ../clean_data/reviews/tmp/59_v_reviews_clean.csv...\n",
      "[14:49:05.350158] reading 61 of 64 ../clean_data/reviews/tmp/60_w_reviews_clean.csv...\n",
      "[14:49:08.027182] reading 62 of 64 ../clean_data/reviews/tmp/61_x_reviews_clean.csv...\n",
      "[14:49:10.579049] reading 63 of 64 ../clean_data/reviews/tmp/62_y_reviews_clean.csv...\n",
      "[14:49:13.609854] reading 64 of 64 ../clean_data/reviews/tmp/63_z_reviews_clean.csv...\n",
      "[14:49:16.652418] merging to dataframe...\n",
      "[14:49:39.772356] reseting index...\n",
      "[14:49:40.020385] complete!\n"
     ]
    }
   ],
   "source": [
    "reviews = pd.DataFrame()\n",
    "\n",
    "semi_cleaned_files = '../clean_data/reviews/tmp/*.csv'\n",
    "file_list = glob(semi_cleaned_files)\n",
    "\n",
    "# Chunk Settings\n",
    "chunks = list()\n",
    "chunksize = 10000\n",
    "\n",
    "for ii, file in enumerate(sorted(file_list)):\n",
    "    time_marker('Reading {} of {} {}...'.format(ii+1, len(file_list), file))\n",
    "    num_chunks = math.ceil(sum(1 for row in open(file, 'r'))/chunksize)\n",
    "    format_width = len(str(num_chunks))\n",
    "\n",
    "    # import file in chunks\n",
    "    for jj, chunk in enumerate(pd.read_csv(file, chunksize=chunksize, iterator=True, index_col=0, parse_dates=['date'])):\n",
    "\n",
    "        # drop reviews with missing review text\n",
    "        chunk = chunk[~chunk.text.isnull()].copy()\n",
    "\n",
    "        # lowercase text and remove puncutation\n",
    "        chunk['text'] = chunk['text'].apply(lambda text: text.translate(translator).lower())\n",
    "\n",
    "\n",
    "        # append text length columns \n",
    "        chunk['review_length'] = chunk.text.str.len()\n",
    "        \n",
    "        # append business_id prefix column or file sorting\n",
    "        chunk['bid_prefix'] = chunk.business_id.apply(lambda x: x[:1])\n",
    "\n",
    "\n",
    "        # append chunk to chunks list\n",
    "        chunks.append(chunk)        \n",
    "\n",
    "#         if jj % 10 == 0 or jj == num_chunks:\n",
    "#             time_marker(text='\\tfinished chunk {} of {}'.format(str(jj+1).rjust(format_width), str(num_chunks).rjust(format_width)))\n",
    "\n",
    "time_marker(text='merging to dataframe...')\n",
    "reviews = pd.concat(chunks)\n",
    "\n",
    "time_marker('reseting index...')\n",
    "reviews.reset_index(inplace=True, drop=True)\n",
    "time_marker(text='Complete!')"
   ]
  },
  {
   "cell_type": "markdown",
   "metadata": {},
   "source": [
    "# Write to File\n",
    "<p>split by business prefix first character</p>"
   ]
  },
  {
   "cell_type": "code",
   "execution_count": 13,
   "metadata": {
    "scrolled": false
   },
   "outputs": [
    {
     "name": "stdout",
     "output_type": "stream",
     "text": [
      "[14:49:40.073639] writing to files...\n",
      "[14:49:49.526564] writing 84333 records to file ../clean_data/reviews/00_-_reviews_clean.csv\n",
      "[14:49:53.945826] writing 75066 records to file ../clean_data/reviews/01_0_reviews_clean.csv\n",
      "[14:49:57.987004] writing 65730 records to file ../clean_data/reviews/02_1_reviews_clean.csv\n",
      "[14:50:01.609724] writing 68042 records to file ../clean_data/reviews/03_2_reviews_clean.csv\n",
      "[14:50:05.455760] writing 79967 records to file ../clean_data/reviews/04_3_reviews_clean.csv\n",
      "[14:50:09.796685] writing 71994 records to file ../clean_data/reviews/05_4_reviews_clean.csv\n",
      "[14:50:14.388722] writing 76597 records to file ../clean_data/reviews/06_5_reviews_clean.csv\n",
      "[14:50:19.072267] writing 70897 records to file ../clean_data/reviews/07_6_reviews_clean.csv\n",
      "[14:50:23.424402] writing 73512 records to file ../clean_data/reviews/08_7_reviews_clean.csv\n",
      "[14:50:27.782066] writing 64413 records to file ../clean_data/reviews/09_8_reviews_clean.csv\n",
      "[14:50:31.577857] writing 70055 records to file ../clean_data/reviews/10_9_reviews_clean.csv\n",
      "[14:50:35.470863] writing 78278 records to file ../clean_data/reviews/11_a_reviews_clean.csv\n",
      "[14:50:40.128386] writing 74002 records to file ../clean_data/reviews/12_b_reviews_clean.csv\n",
      "[14:50:44.850958] writing 73640 records to file ../clean_data/reviews/13_c_reviews_clean.csv\n",
      "[14:50:49.689601] writing 80544 records to file ../clean_data/reviews/14_d_reviews_clean.csv\n",
      "[14:50:54.078813] writing 76541 records to file ../clean_data/reviews/15_e_reviews_clean.csv\n",
      "[14:50:58.815012] writing 70380 records to file ../clean_data/reviews/16_f_reviews_clean.csv\n",
      "[14:51:03.834383] writing 70044 records to file ../clean_data/reviews/17_g_reviews_clean.csv\n",
      "[14:51:07.749130] writing 72920 records to file ../clean_data/reviews/18_h_reviews_clean.csv\n",
      "[14:51:11.875474] writing 75516 records to file ../clean_data/reviews/19_i_reviews_clean.csv\n",
      "[14:51:17.226167] writing 84212 records to file ../clean_data/reviews/20_j_reviews_clean.csv\n",
      "[14:51:21.995688] writing 78628 records to file ../clean_data/reviews/21_k_reviews_clean.csv\n",
      "[14:51:26.725484] writing 78771 records to file ../clean_data/reviews/22_l_reviews_clean.csv\n",
      "[14:51:32.016203] writing 65242 records to file ../clean_data/reviews/23_m_reviews_clean.csv\n",
      "[14:51:36.349735] writing 73940 records to file ../clean_data/reviews/24_n_reviews_clean.csv\n",
      "[14:51:41.442531] writing 77855 records to file ../clean_data/reviews/25_o_reviews_clean.csv\n",
      "[14:51:47.572138] writing 70234 records to file ../clean_data/reviews/26_p_reviews_clean.csv\n",
      "[14:51:52.178811] writing 71875 records to file ../clean_data/reviews/27_q_reviews_clean.csv\n",
      "[14:51:56.945523] writing 82272 records to file ../clean_data/reviews/28_r_reviews_clean.csv\n",
      "[14:52:02.315709] writing 81210 records to file ../clean_data/reviews/29_s_reviews_clean.csv\n",
      "[14:52:07.762832] writing 70385 records to file ../clean_data/reviews/30_t_reviews_clean.csv\n",
      "[14:52:13.244406] writing 75259 records to file ../clean_data/reviews/31_u_reviews_clean.csv\n",
      "[14:52:19.168331] writing 75659 records to file ../clean_data/reviews/32_v_reviews_clean.csv\n",
      "[14:52:24.195120] writing 73819 records to file ../clean_data/reviews/33_w_reviews_clean.csv\n",
      "[14:52:29.534535] writing 77688 records to file ../clean_data/reviews/34_x_reviews_clean.csv\n",
      "[14:52:35.345882] writing 73966 records to file ../clean_data/reviews/35_y_reviews_clean.csv\n",
      "[14:52:41.212174] writing 70180 records to file ../clean_data/reviews/36_z_reviews_clean.csv\n",
      "[14:52:46.216878] writing 69541 records to file ../clean_data/reviews/37___reviews_clean.csv\n",
      "[14:52:52.172485] writing 80051 records to file ../clean_data/reviews/38_a_reviews_clean.csv\n",
      "[14:52:58.131016] writing 70576 records to file ../clean_data/reviews/39_b_reviews_clean.csv\n",
      "[14:53:03.438530] writing 75070 records to file ../clean_data/reviews/40_c_reviews_clean.csv\n",
      "[14:53:09.053400] writing 73945 records to file ../clean_data/reviews/41_d_reviews_clean.csv\n",
      "[14:53:14.481300] writing 83751 records to file ../clean_data/reviews/42_e_reviews_clean.csv\n",
      "[14:53:20.407342] writing 82828 records to file ../clean_data/reviews/43_f_reviews_clean.csv\n",
      "[14:53:26.853958] writing 74355 records to file ../clean_data/reviews/44_g_reviews_clean.csv\n",
      "[14:53:32.112982] writing 73371 records to file ../clean_data/reviews/45_h_reviews_clean.csv\n",
      "[14:53:37.103603] writing 72062 records to file ../clean_data/reviews/46_i_reviews_clean.csv\n",
      "[14:53:42.376900] writing 68409 records to file ../clean_data/reviews/47_j_reviews_clean.csv\n",
      "[14:53:47.732806] writing 70336 records to file ../clean_data/reviews/48_k_reviews_clean.csv\n",
      "[14:53:53.302309] writing 64574 records to file ../clean_data/reviews/49_l_reviews_clean.csv\n",
      "[14:53:59.413474] writing 72134 records to file ../clean_data/reviews/50_m_reviews_clean.csv\n",
      "[14:54:05.389921] writing 69761 records to file ../clean_data/reviews/51_n_reviews_clean.csv\n",
      "[14:54:11.625123] writing 74022 records to file ../clean_data/reviews/52_o_reviews_clean.csv\n",
      "[14:54:16.948447] writing 79331 records to file ../clean_data/reviews/53_p_reviews_clean.csv\n",
      "[14:54:28.625763] writing 73301 records to file ../clean_data/reviews/54_q_reviews_clean.csv\n",
      "[14:54:34.465347] writing 68180 records to file ../clean_data/reviews/55_r_reviews_clean.csv\n",
      "[14:54:39.641667] writing 69971 records to file ../clean_data/reviews/56_s_reviews_clean.csv\n",
      "[14:54:44.522581] writing 69644 records to file ../clean_data/reviews/57_t_reviews_clean.csv\n",
      "[14:54:49.459237] writing 86812 records to file ../clean_data/reviews/58_u_reviews_clean.csv\n",
      "[14:54:56.577486] writing 67371 records to file ../clean_data/reviews/59_v_reviews_clean.csv\n",
      "[14:55:02.008674] writing 78634 records to file ../clean_data/reviews/60_w_reviews_clean.csv\n",
      "[14:55:07.905839] writing 67618 records to file ../clean_data/reviews/61_x_reviews_clean.csv\n",
      "[14:55:13.007925] writing 75235 records to file ../clean_data/reviews/62_y_reviews_clean.csv\n",
      "[14:55:18.301689] writing 72348 records to file ../clean_data/reviews/63_z_reviews_clean.csv\n",
      "[14:55:22.879382] done!\n"
     ]
    }
   ],
   "source": [
    "time_marker(text='Writing to files...')\n",
    "file_count = len(reviews.bid_prefix.unique())\n",
    "\n",
    "for i, prefix in enumerate(sorted(reviews.bid_prefix.unique())):\n",
    "    df = reviews[reviews.bid_prefix == prefix].iloc[:,:-1].copy()\n",
    "    df.reset_index(inplace=True, drop=True)\n",
    "    file_name = '../clean_data/reviews/{}_{}_reviews_clean.csv'.format(str(i).zfill(2), prefix)\n",
    "    time_marker(text='Writing {:d} records to file {}'.format(df.shape[0], file_name))\n",
    "    if DRY_RUN:\n",
    "        pass\n",
    "    else:\n",
    "        df.to_csv(file_name, encoding='utf-8')\n",
    "time_marker(text='Done!')"
   ]
  },
  {
   "cell_type": "code",
   "execution_count": null,
   "metadata": {
    "collapsed": true
   },
   "outputs": [],
   "source": []
  }
 ],
 "metadata": {
  "kernelspec": {
   "display_name": "Python 3",
   "language": "python",
   "name": "python3"
  },
  "language_info": {
   "codemirror_mode": {
    "name": "ipython",
    "version": 3
   },
   "file_extension": ".py",
   "mimetype": "text/x-python",
   "name": "python",
   "nbconvert_exporter": "python",
   "pygments_lexer": "ipython3",
   "version": "3.6.2"
  }
 },
 "nbformat": 4,
 "nbformat_minor": 2
}
