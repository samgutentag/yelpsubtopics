{
 "cells": [
  {
   "cell_type": "markdown",
   "metadata": {},
   "source": [
    "# Yelp Review Wrangling"
   ]
  },
  {
   "cell_type": "code",
   "execution_count": 1,
   "metadata": {},
   "outputs": [],
   "source": [
    "%matplotlib inline\n",
    "\n",
    "import matplotlib\n",
    "import numpy as np\n",
    "import matplotlib.pyplot as plt\n",
    "import pandas as pd\n",
    "import datetime\n",
    "\n",
    "import json\n",
    "\n",
    "import seaborn as sns\n",
    "sns.set()\n",
    "# sns.set_style('whitegrid')\n",
    "# sns.set_context(\"poster\")"
   ]
  },
  {
   "cell_type": "code",
   "execution_count": null,
   "metadata": {},
   "outputs": [
    {
     "data": {
      "text/html": [
       "<style>.container { width:95% !important; }</style>"
      ],
      "text/plain": [
       "<IPython.core.display.HTML object>"
      ]
     },
     "metadata": {},
     "output_type": "display_data"
    }
   ],
   "source": [
    "from IPython.core.display import display, HTML\n",
    "display(HTML(\"<style>.container { width:95% !important; }</style>\"))"
   ]
  },
  {
   "cell_type": "markdown",
   "metadata": {},
   "source": [
    "# Load Review Data"
   ]
  },
  {
   "cell_type": "code",
   "execution_count": null,
   "metadata": {},
   "outputs": [
    {
     "name": "stdout",
     "output_type": "stream",
     "text": [
      "[04:15:06.503325] Loading Review Data...\n"
     ]
    }
   ],
   "source": [
    "print('[%s] Loading Review Data...' % datetime.datetime.now().time())\n",
    "\n",
    "data = pd.DataFrame()\n",
    "source_data_file = '../source_data/review.json'\n",
    "\n",
    "reviews_list = []\n",
    "for line in open(source_data_file, 'r'):\n",
    "    reviews_list.append(json.loads(line))\n",
    "\n",
    "print('[%s] creating dataframe...' % datetime.datetime.now().time())    \n",
    "reviews_df = pd.DataFrame(reviews_list)\n",
    "\n",
    "print('[%s] data type cleanup...' % datetime.datetime.now().time())    \n",
    "reviews_df.date        = pd.to_datetime(reviews_df.date)\n",
    "    \n",
    "print('[%s] sanitizing review text...' % datetime.datetime.now().time())    \n",
    "reviews_df['text'] = reviews_df['text'].str.strip()\n",
    "reviews_df['text'] = reviews_df['text'].str.replace(',', ' ')\n",
    "    \n",
    "print('[%s] Complete!' % datetime.datetime.now().time())"
   ]
  },
  {
   "cell_type": "code",
   "execution_count": null,
   "metadata": {},
   "outputs": [],
   "source": [
    "reviews_df.info()"
   ]
  },
  {
   "cell_type": "code",
   "execution_count": null,
   "metadata": {},
   "outputs": [],
   "source": [
    "reviews_df.head()"
   ]
  },
  {
   "cell_type": "markdown",
   "metadata": {},
   "source": [
    "# Write to File\n",
    "<p>Split by year and month</p>"
   ]
  },
  {
   "cell_type": "code",
   "execution_count": null,
   "metadata": {
    "scrolled": false
   },
   "outputs": [],
   "source": [
    "for year in sorted(pd.unique(reviews_df.date.dt.year)):\n",
    "    year_reviews_df = reviews_df[reviews_df.date.dt.year == year]\n",
    "    \n",
    "    for month in sorted(pd.unique(year_reviews_df.date.dt.month)):\n",
    "        month_reviews_df = year_reviews_df[year_reviews_df.date.dt.month == month]\n",
    "        \n",
    "        month_reviews_df.reset_index(inplace=True, drop=True)\n",
    "        month_reviews_df.to_csv('../clean_data/reviews/%s_%s_reviews_clean.csv' % (year, str(month).rjust(2, '0')))\n",
    "    print('FINISHED %s' % year)"
   ]
  },
  {
   "cell_type": "code",
   "execution_count": null,
   "metadata": {},
   "outputs": [],
   "source": []
  }
 ],
 "metadata": {
  "kernelspec": {
   "display_name": "Python 3",
   "language": "python",
   "name": "python3"
  },
  "language_info": {
   "codemirror_mode": {
    "name": "ipython",
    "version": 3
   },
   "file_extension": ".py",
   "mimetype": "text/x-python",
   "name": "python",
   "nbconvert_exporter": "python",
   "pygments_lexer": "ipython3",
   "version": "3.6.3"
  }
 },
 "nbformat": 4,
 "nbformat_minor": 2
}
