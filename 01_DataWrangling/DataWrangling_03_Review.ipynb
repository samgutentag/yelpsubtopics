{
 "cells": [
  {
   "cell_type": "markdown",
   "metadata": {},
   "source": [
    "# Yelp Review Wrangling"
   ]
  },
  {
   "cell_type": "code",
   "execution_count": 4,
   "metadata": {},
   "outputs": [],
   "source": [
    "%matplotlib inline\n",
    "\n",
    "import pandas as pd\n",
    "import datetime\n",
    "import json\n",
    "\n",
    "\n",
    "DRY_RUN = False"
   ]
  },
  {
   "cell_type": "code",
   "execution_count": 5,
   "metadata": {},
   "outputs": [
    {
     "data": {
      "text/html": [
       "<style>.container { width:95% !important; }</style>"
      ],
      "text/plain": [
       "<IPython.core.display.HTML object>"
      ]
     },
     "metadata": {},
     "output_type": "display_data"
    }
   ],
   "source": [
    "from IPython.core.display import display, HTML\n",
    "display(HTML(\"<style>.container { width:95% !important; }</style>\"))"
   ]
  },
  {
   "cell_type": "code",
   "execution_count": 6,
   "metadata": {},
   "outputs": [],
   "source": [
    "day_labels = ['Monday', 'Tuesday', 'Wednesday', 'Thursday', 'Friday', 'Saturday', 'Sunday']\n",
    "\n",
    "def time_marker(text=''):\n",
    "    print('[{}] {}'.format(datetime.datetime.now().time(), text.title()))\n",
    "    \n",
    "def unpack(df, column, fillna=None):\n",
    "    ret = None\n",
    "    if fillna is None:\n",
    "        ret = pd.concat([df, pd.DataFrame((d for idx, d in df[column].iteritems()))], axis=1)\n",
    "        del ret[column]\n",
    "    else:\n",
    "        ret = pd.concat([df, pd.DataFrame((d for idx, d in df[column].iteritems())).fillna(fillna)], axis=1)\n",
    "        del ret[column]\n",
    "    return ret"
   ]
  },
  {
   "cell_type": "markdown",
   "metadata": {},
   "source": [
    "# Load Review Data"
   ]
  },
  {
   "cell_type": "code",
   "execution_count": null,
   "metadata": {},
   "outputs": [
    {
     "name": "stdout",
     "output_type": "stream",
     "text": [
      "[20:32:53.691532] Loading Reviews Data...\n",
      "[20:34:46.854710] Creating Dataframe...\n"
     ]
    }
   ],
   "source": [
    "time_marker(text='Loading Reviews Data...')\n",
    "\n",
    "data = pd.DataFrame()\n",
    "source_data_file = '../source_data/review.json'\n",
    "\n",
    "reviews_list = []\n",
    "for line in open(source_data_file, 'r'):\n",
    "    reviews_list.append(json.loads(line))\n",
    "\n",
    "time_marker(text='creating dataframe...')\n",
    "reviews_df = pd.DataFrame(reviews_list)\n",
    "\n",
    "time_marker(text='correcting data type...')\n",
    "reviews_df.date        = pd.to_datetime(reviews_df.date)\n",
    "    \n",
    "time_marker(text='sanitizing review text for csv...')\n",
    "reviews_df['text'] = reviews_df['text'].str.strip()\n",
    "reviews_df['text'] = reviews_df['text'].str.replace(',', ' ')\n"
   ]
  },
  {
   "cell_type": "code",
   "execution_count": null,
   "metadata": {},
   "outputs": [],
   "source": [
    "reviews_df.info()"
   ]
  },
  {
   "cell_type": "code",
   "execution_count": null,
   "metadata": {},
   "outputs": [],
   "source": [
    "reviews_df.head()"
   ]
  },
  {
   "cell_type": "markdown",
   "metadata": {},
   "source": [
    "# Write to File\n",
    "<p>Split by year and month</p>"
   ]
  },
  {
   "cell_type": "code",
   "execution_count": null,
   "metadata": {
    "scrolled": false
   },
   "outputs": [],
   "source": [
    "time_marker(text='Writing to files...')\n",
    "\n",
    "for year in reviews_df.date.dt.year.unique()):\n",
    "    df = reviews_df[reviews_df.date.dt.year == year].copy()\n",
    "    df.reset_index(inplace=True, drop=True)\n",
    "\n",
    "    file_name = '../clean_data/reviews/{:d}_checkins_clean.csv'.format(year)\n",
    "    time_marker(text='Writing {:d} records file...'.format(year))\n",
    "    if DRY_RUN:\n",
    "        pass\n",
    "    else:\n",
    "        df.to_csv(file_name, encoding='utf-8')\n"
   ]
  },
  {
   "cell_type": "code",
   "execution_count": null,
   "metadata": {},
   "outputs": [],
   "source": []
  }
 ],
 "metadata": {
  "kernelspec": {
   "display_name": "Python 3",
   "language": "python",
   "name": "python3"
  },
  "language_info": {
   "codemirror_mode": {
    "name": "ipython",
    "version": 3
   },
   "file_extension": ".py",
   "mimetype": "text/x-python",
   "name": "python",
   "nbconvert_exporter": "python",
   "pygments_lexer": "ipython3",
   "version": "3.6.3"
  }
 },
 "nbformat": 4,
 "nbformat_minor": 2
}
