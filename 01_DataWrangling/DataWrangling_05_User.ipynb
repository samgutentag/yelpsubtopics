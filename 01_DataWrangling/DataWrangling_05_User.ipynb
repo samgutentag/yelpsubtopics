{
 "cells": [
  {
   "cell_type": "markdown",
   "metadata": {},
   "source": [
    "# Yelp User Wrangling"
   ]
  },
  {
   "cell_type": "code",
   "execution_count": null,
   "metadata": {},
   "outputs": [],
   "source": [
    "import numpy as np\n",
    "import pandas as pd\n",
    "import datetime\n",
    "import json\n",
    "\n",
    "DRY_RUN = True"
   ]
  },
  {
   "cell_type": "code",
   "execution_count": null,
   "metadata": {},
   "outputs": [
    {
     "data": {
      "text/html": [
       "<style>.container { width:95% !important; }</style>"
      ],
      "text/plain": [
       "<IPython.core.display.HTML object>"
      ]
     },
     "metadata": {},
     "output_type": "display_data"
    }
   ],
   "source": [
    "from IPython.core.display import display, HTML\n",
    "display(HTML(\"<style>.container { width:95% !important; }</style>\"))"
   ]
  },
  {
   "cell_type": "markdown",
   "metadata": {},
   "source": [
    "# Load User Data"
   ]
  },
  {
   "cell_type": "code",
   "execution_count": null,
   "metadata": {},
   "outputs": [
    {
     "name": "stdout",
     "output_type": "stream",
     "text": [
      "[01:31:29.479772] Loading User Data...\n",
      "[01:37:22.029148] creating dataframe...\n"
     ]
    }
   ],
   "source": [
    "print('[%s] Loading User Data...' % datetime.datetime.now().time())\n",
    "\n",
    "data = pd.DataFrame()\n",
    "source_data_file = '../source_data/user.json'\n",
    "\n",
    "user_list = []\n",
    "for line in open(source_data_file, 'r'):\n",
    "    user_list.append(json.loads(line))\n",
    "\n",
    "print('[%s] creating dataframe...' % datetime.datetime.now().time())    \n",
    "user_df = pd.DataFrame(user_list)\n",
    "\n",
    "print('[%s] data type cleanup...' % datetime.datetime.now().time())    \n",
    "user_df.yelping_since = pd.to_datetime(user_df.yelping_since)\n",
    "\n",
    "print('[%s] Complete!' % datetime.datetime.now().time())"
   ]
  },
  {
   "cell_type": "markdown",
   "metadata": {},
   "source": [
    "# Calculate Friend Count"
   ]
  },
  {
   "cell_type": "code",
   "execution_count": null,
   "metadata": {},
   "outputs": [],
   "source": [
    "user_df['friend_count'] = user_df['friends'].apply(lambda x: len(x))"
   ]
  },
  {
   "cell_type": "markdown",
   "metadata": {},
   "source": [
    "# Split out `Friends` dataframe"
   ]
  },
  {
   "cell_type": "code",
   "execution_count": null,
   "metadata": {
    "scrolled": false
   },
   "outputs": [],
   "source": [
    "friends_df = user_df[['user_id', 'friends']].copy()\n",
    "friends_df.columns = ['user_id', 'friends_list']\n",
    "\n",
    "friends_df['friend_count'] = 0\n",
    "friends_df.head(3)"
   ]
  },
  {
   "cell_type": "markdown",
   "metadata": {},
   "source": [
    "# Drop `friends` Column from users_df"
   ]
  },
  {
   "cell_type": "code",
   "execution_count": null,
   "metadata": {},
   "outputs": [],
   "source": [
    "user_df.drop(['friends'], axis=1, inplace=True)"
   ]
  },
  {
   "cell_type": "markdown",
   "metadata": {},
   "source": [
    "# Calculate `yelper_age` column"
   ]
  },
  {
   "cell_type": "code",
   "execution_count": null,
   "metadata": {},
   "outputs": [],
   "source": [
    "if DRY_RUN:\n",
    "    tmp = user_df[:20].copy()\n",
    "    tmp['yelper_age'] = tmp.apply(lambda row: (tmp.yelping_since.max() - row.yelping_since).days,axis=1)\n",
    "    print('{}\\t{}'.format(len(tmp.yelp_age.unique()), tmp.yelp_age.unique()))\n",
    "else:\n",
    "    user_df['yelper_age'] = user_df.apply(lambda row: (user_df.yelping_since.max() - row.yelping_since).days,axis=1)\n",
    "    print('{}\\t{}'.format(len(user_df.yelp_age.unique()), user_df.yelp_age.unique()))"
   ]
  },
  {
   "cell_type": "code",
   "execution_count": null,
   "metadata": {},
   "outputs": [],
   "source": []
  },
  {
   "cell_type": "code",
   "execution_count": null,
   "metadata": {},
   "outputs": [],
   "source": []
  },
  {
   "cell_type": "code",
   "execution_count": null,
   "metadata": {},
   "outputs": [],
   "source": [
    "user_df.yelp_age.unique()"
   ]
  },
  {
   "cell_type": "markdown",
   "metadata": {},
   "source": [
    "# One Hot Encode `elite` years with sklearn"
   ]
  },
  {
   "cell_type": "code",
   "execution_count": null,
   "metadata": {},
   "outputs": [],
   "source": [
    "tmp = pd.DataFrame(user_df.elite.values.tolist(), index= user_df.index)\n",
    "elite_min_year = int(tmp.min().min())\n",
    "elite_max_year = int(tmp.max().max())\n",
    "\n",
    "num_elite_years = elite_max_year - elite_min_year + 1"
   ]
  },
  {
   "cell_type": "code",
   "execution_count": null,
   "metadata": {},
   "outputs": [],
   "source": [
    "from sklearn.preprocessing import MultiLabelBinarizer\n",
    "mlb = MultiLabelBinarizer()\n",
    "user_df = user_df.join(pd.DataFrame(mlb.fit_transform(user_df.pop('elite')),\n",
    "                          columns=mlb.classes_,\n",
    "                          index=user_df.index))"
   ]
  },
  {
   "cell_type": "code",
   "execution_count": null,
   "metadata": {},
   "outputs": [],
   "source": [
    "elite_cols = list(user_df.columns[-num_elite_years:])\n",
    "orig_columns = list(user_df.columns)[:-num_elite_years]\n",
    "user_df.columns = orig_columns + ['elite_{}'.format(x) for x in elite_cols]"
   ]
  },
  {
   "cell_type": "markdown",
   "metadata": {},
   "source": [
    "# Write to Files"
   ]
  },
  {
   "cell_type": "code",
   "execution_count": null,
   "metadata": {},
   "outputs": [],
   "source": []
  }
 ],
 "metadata": {
  "kernelspec": {
   "display_name": "Python 3",
   "language": "python",
   "name": "python3"
  },
  "language_info": {
   "codemirror_mode": {
    "name": "ipython",
    "version": 3
   },
   "file_extension": ".py",
   "mimetype": "text/x-python",
   "name": "python",
   "nbconvert_exporter": "python",
   "pygments_lexer": "ipython3",
   "version": "3.6.3"
  }
 },
 "nbformat": 4,
 "nbformat_minor": 2
}
