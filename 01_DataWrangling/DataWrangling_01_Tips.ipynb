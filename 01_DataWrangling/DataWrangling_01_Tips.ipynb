{
 "cells": [
  {
   "cell_type": "markdown",
   "metadata": {},
   "source": [
    "# Yelp Tips Wrangling"
   ]
  },
  {
   "cell_type": "code",
   "execution_count": 1,
   "metadata": {},
   "outputs": [],
   "source": [
    "%matplotlib inline\n",
    "\n",
    "\n",
    "import numpy as np\n",
    "import pandas as pd\n",
    "import datetime\n",
    "import json"
   ]
  },
  {
   "cell_type": "code",
   "execution_count": 2,
   "metadata": {},
   "outputs": [
    {
     "data": {
      "text/html": [
       "<style>.container { width:95% !important; }</style>"
      ],
      "text/plain": [
       "<IPython.core.display.HTML object>"
      ]
     },
     "metadata": {},
     "output_type": "display_data"
    }
   ],
   "source": [
    "from IPython.core.display import display, HTML\n",
    "display(HTML(\"<style>.container { width:95% !important; }</style>\"))"
   ]
  },
  {
   "cell_type": "markdown",
   "metadata": {},
   "source": [
    "# Load Tips Data"
   ]
  },
  {
   "cell_type": "code",
   "execution_count": 3,
   "metadata": {},
   "outputs": [
    {
     "name": "stdout",
     "output_type": "stream",
     "text": [
      "[16:06:37.625036] Loading Tips Data...\n",
      "[16:06:51.712426] creating dataframe...\n",
      "[16:07:00.297768] data type cleanup...\n",
      "[16:07:01.671690] Complete!\n"
     ]
    }
   ],
   "source": [
    "print('[%s] Loading Tips Data...' % datetime.datetime.now().time())\n",
    "\n",
    "data = pd.DataFrame()\n",
    "source_data_file = '../source_data/tip.json'\n",
    "\n",
    "tips_list = []\n",
    "for line in open(source_data_file, 'r'):\n",
    "    tips_list.append(json.loads(line))\n",
    "\n",
    "print('[%s] creating dataframe...' % datetime.datetime.now().time())    \n",
    "tips_df = pd.DataFrame(tips_list)\n",
    "\n",
    "print('[%s] data type cleanup...' % datetime.datetime.now().time())    \n",
    "tips_df.date        = pd.to_datetime(tips_df.date)\n",
    "tips_df.likes       = tips_df.likes.astype('int')\n",
    "    \n",
    "print('[%s] Complete!' % datetime.datetime.now().time())"
   ]
  },
  {
   "cell_type": "code",
   "execution_count": 4,
   "metadata": {
    "scrolled": true
   },
   "outputs": [
    {
     "name": "stdout",
     "output_type": "stream",
     "text": [
      "Number of Unique business_id -  104412\n",
      "Number of Unique date        -    3004\n",
      "Number of Unique likes       -      13\n",
      "Number of Unique text        -  968489\n",
      "Number of Unique user_id     -  244632\n"
     ]
    }
   ],
   "source": [
    "for col in tips_df.columns:\n",
    "    print('Number of Unique %s - %s' % (col.ljust(11), str(len(tips_df[col].unique())).rjust(7)))"
   ]
  },
  {
   "cell_type": "code",
   "execution_count": 5,
   "metadata": {},
   "outputs": [],
   "source": [
    "tips_df['tip_len'] = tips_df.text.str.len()"
   ]
  },
  {
   "cell_type": "code",
   "execution_count": 6,
   "metadata": {
    "scrolled": true
   },
   "outputs": [],
   "source": [
    "tips_df.to_csv('../clean_data/tips_clean.csv')"
   ]
  },
  {
   "cell_type": "code",
   "execution_count": null,
   "metadata": {},
   "outputs": [],
   "source": []
  }
 ],
 "metadata": {
  "kernelspec": {
   "display_name": "Python 3",
   "language": "python",
   "name": "python3"
  },
  "language_info": {
   "codemirror_mode": {
    "name": "ipython",
    "version": 3
   },
   "file_extension": ".py",
   "mimetype": "text/x-python",
   "name": "python",
   "nbconvert_exporter": "python",
   "pygments_lexer": "ipython3",
   "version": "3.6.3"
  }
 },
 "nbformat": 4,
 "nbformat_minor": 2
}
