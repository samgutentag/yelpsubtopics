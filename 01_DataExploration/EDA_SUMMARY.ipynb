{
 "cells": [
  {
   "cell_type": "markdown",
   "metadata": {},
   "source": [
    "# LDA Model Results"
   ]
  },
  {
   "cell_type": "code",
   "execution_count": 1,
   "metadata": {},
   "outputs": [
    {
     "data": {
      "text/html": [
       "<style>.container { width:95% !important; }</style>"
      ],
      "text/plain": [
       "<IPython.core.display.HTML object>"
      ]
     },
     "metadata": {},
     "output_type": "display_data"
    }
   ],
   "source": [
    "from IPython.core.display import display, HTML\n",
    "display(HTML(\"<style>.container { width:95% !important; }</style>\"))"
   ]
  },
  {
   "cell_type": "code",
   "execution_count": 2,
   "metadata": {},
   "outputs": [],
   "source": [
    "from gensim.models.ldamulticore import LdaMulticore\n",
    "import itertools\n",
    "from collections import Counter"
   ]
  },
  {
   "cell_type": "markdown",
   "metadata": {},
   "source": [
    "## Load Model Results"
   ]
  },
  {
   "cell_type": "code",
   "execution_count": 3,
   "metadata": {},
   "outputs": [],
   "source": [
    "ldam_fast_food_101050      = LdaMulticore.load('../models/ldam_fast_food_10_topics_10_terms_50_passes.model')\n",
    "ldam_fast_food_501050      = LdaMulticore.load('../models/ldam_fast_food_50_topics_10_terms_50_passes.model')\n",
    "ldam_non_fast_food_201550  = LdaMulticore.load('../models/ldam_non_fast_food_20_topics_15_terms_50_passes.model')\n",
    "ldam_all_noun_151550       = LdaMulticore.load('../models/ldam_noun_15_topics_15_terms_50_passes.model')\n",
    "ldam_all_noun_201550       = LdaMulticore.load('../models/ldam_noun_20_topics_15_terms_50_passes.model')\n",
    "ldam_all_noun_501030       = LdaMulticore.load('../models/ldam_noun_50_topics_10_terms_30_passes.model')\n",
    "ldam_all_noun_verbs_301550 = LdaMulticore.load('../models/ldam_noun_verb_30_topics_15_terms_50_passes.model')"
   ]
  },
  {
   "cell_type": "markdown",
   "metadata": {},
   "source": [
    "## Pretty Printer Function"
   ]
  },
  {
   "cell_type": "code",
   "execution_count": 4,
   "metadata": {},
   "outputs": [],
   "source": [
    "def print_topic_terms(model, num_topics=-1, num_words=10, unique=False):\n",
    "    results = model.print_topics(num_topics=num_topics, num_words=num_words)\n",
    "    if not unique:\n",
    "        print('=============================== Terms Per Topic ===============================')\n",
    "        for r in results:\n",
    "            topic = r[0]\n",
    "            term_list = r[1]\n",
    "\n",
    "            term_list = term_list.split('\"')[1::2]\n",
    "            topic_terms = [term for term in term_list]\n",
    "            print('{}\\t{}'.format(topic, topic_terms))\n",
    "    else:\n",
    "        terms = [x[1] for x in results]\n",
    "        term_lists = [x.split('\"')[1::2] for x in terms]\n",
    "\n",
    "        flatList = itertools.chain.from_iterable(term_lists)\n",
    "        term_counts = Counter(flatList)\n",
    "\n",
    "        # non_unique_terms = term_counts\n",
    "        test = dict(term_counts)\n",
    "\n",
    "        # extract terms that appear more than once\n",
    "        non_unique_terms = [key for key, value in test.items() if value > 1]\n",
    "        \n",
    "        \n",
    "        print('============================ Unique Terms Per Topic ===========================')\n",
    "        for r in results:\n",
    "            topic = r[0]\n",
    "            term_list = r[1]\n",
    "\n",
    "            term_list = term_list.split('\"')[1::2]\n",
    "            topic_terms = [term for term in term_list if term not in non_unique_terms]\n",
    "            print('{}\\t{}'.format(topic, topic_terms))"
   ]
  },
  {
   "cell_type": "code",
   "execution_count": 5,
   "metadata": {
    "scrolled": true
   },
   "outputs": [
    {
     "name": "stdout",
     "output_type": "stream",
     "text": [
      "============================ Unique Terms Per Topic ===========================\n",
      "0\t['go', 'best', 'menu', 'style']\n",
      "1\t['pizza', 'drink', 'ice', 'topping', 'free', 'tea', 'pie', 'crust']\n",
      "2\t['great', 'friendly', 'fresh', 'delicious']\n",
      "3\t['rice', 'wei', 'pei', 'panda', 'dish']\n",
      "4\t['dog', 'hot', 'got', 'sauce', 'wing']\n",
      "5\t['sandwich', 'sub', 'cheese', 'bread', 'meat']\n",
      "6\t['would', 'table', 'star', 'eat', 'people', 'bad']\n",
      "7\t['taco', 'burrito', 'chipotle', 'bell', 'bean', 'salsa', 'chip', 'mexican']\n",
      "8\t['always', 'location', 'fast']\n",
      "9\t['minute', 'customer', 'asked', 'said']\n"
     ]
    }
   ],
   "source": [
    "print_topic_terms(ldam_fast_food_101050, unique=True)"
   ]
  },
  {
   "cell_type": "markdown",
   "metadata": {},
   "source": [
    "## Fast Food Model - Best Choice"
   ]
  },
  {
   "cell_type": "code",
   "execution_count": 6,
   "metadata": {},
   "outputs": [
    {
     "name": "stdout",
     "output_type": "stream",
     "text": [
      "=============================== Terms Per Topic ===============================\n",
      "0\t['chipotle', 'bowl', 'burrito', 'rice', 'bean', 'meat', 'chicken', 'steak', 'guacamole', 'get']\n",
      "1\t['taco', 'bell', 'burrito', 'mexican', 'salsa', 'carne', 'asada', 'good', 'food', 'tortilla']\n",
      "2\t['counter', 'one', 'behind', 'people', 'employee', 'order', 'line', 'guy', 'working', 'front']\n",
      "3\t['cold', 'fry', 'food', 'old', 'never', 'hot', 'warm', 'ever', 'even', 'fresh']\n",
      "4\t['lunch', 'quick', 'rush', 'dinner', 'work', 'stopped', 'get', 'today', 'busy', 'grab']\n",
      "5\t['drive', 'thru', 'window', 'car', 'minute', 'get', 'order', 'food', 'inside', 'wait']\n",
      "6\t['panda', 'express', 'job', 'team', 'professional', 'thanks', 'thank', 'polite', 'guy', 'done']\n",
      "7\t['asked', 'said', 'told', 'back', 'ordered', 'wanted', 'got', 'went', 'would', 'could']\n",
      "8\t['box', 'jack', 'server', 'surprised', 'waitress', 'rocket', 'johnny', 'mall', 'pleasantly', 'la']\n",
      "9\t['chicken', 'wei', 'pei', 'rice', 'food', 'dish', 'roll', 'orange', 'chinese', 'teriyaki']\n",
      "10\t['place', 'try', 'back', 'best', 'great', 'good', 'go', 'time', 'owner', 'definitely']\n",
      "11\t['location', 'one', 'time', 'staff', 'new', 'visit', 'particular', 'store', 'employee', 'need']\n",
      "12\t['dirty', 'clean', 'place', 'food', 'dining', 'area', 'kid', 'room', 'bathroom', 'floor']\n",
      "13\t['fish', 'chip', 'bar', 'priced', 'outstanding', 'beer', 'game', 'reasonably', 'menu', 'selection']\n",
      "14\t['lot', 'parking', 'across', 'street', 'wall', 'hole', 'space', 'sooo', 'spot', 'basic']\n",
      "15\t['manager', 'called', 'back', 'call', 'order', 'store', 'phone', 'would', 'number', 'could']\n",
      "16\t['place', 'would', 'like', 'good', 'really', 'better', 'much', 'get', 'little', 'pretty']\n",
      "17\t['hubby', 'lemon', 'sugar', 'malt', 'mild', 'fruit', 'cinnamon', 'btw', 'gf', 'content']\n",
      "18\t['review', 'star', 'yelp', 'write', 'read', 'based', 'negative', 'writing', 'reading', 'http']\n",
      "19\t['drink', 'soda', 'ice', 'cup', 'machine', 'tea', 'water', 'coke', 'cream', 'iced']\n",
      "20\t['order', 'time', 'get', 'wrong', 'go', 'every', 'right', 'location', 'never', 'correct']\n",
      "21\t['food', 'fast', 'good', 'service', 'place', 'pretty', 'really', 'friendly', 'restaurant', 'like']\n",
      "22\t['breakfast', 'mcdonald', 'egg', 'morning', 'coffee', 'mcdonalds', 'sausage', 'bacon', 'whataburger', 'brown']\n",
      "23\t['sub', 'subway', 'firehouse', 'meatball', 'shop', 'best', 'meat', 'bread', 'way', 'veggie']\n",
      "24\t['table', 'inside', 'restaurant', 'outside', 'area', 'seating', 'sit', 'clean', 'station', 'nice']\n",
      "25\t['sandwich', 'bread', 'cheese', 'meat', 'good', 'subway', 'turkey', 'like', 'mayo', 'tomato']\n",
      "26\t['pizza', 'topping', 'crust', 'place', 'pie', 'good', 'mod', 'great', 'like', 'sauce']\n",
      "27\t['price', 'small', 'size', 'special', 'portion', 'large', 'nothing', 'money', 'full', 'average']\n",
      "28\t['like', 'place', 'get', 'know', 'food', 'go', 'want', 'people', 'say', 'one']\n",
      "29\t['chicken', 'wing', 'piece', 'sauce', 'kfc', 'got', 'spicy', 'meal', 'ordered', 'tender']\n",
      "30\t['potato', 'wendy', 'gravy', 'mashed', 'popeye', 'sweet', 'airport', 'whopper', 'cheese', 'quarter']\n",
      "31\t['u', 'man', 'young', 'lady', 'hair', 'took', 'came', 'gave', 'went', 'guy']\n",
      "32\t['time', 'first', 'ordered', 'got', 'back', 'like', 'one', 'went', 'tasted', 'would']\n",
      "33\t['salad', 'fresh', 'mike', 'healthy', 'jersey', 'dressing', 'option', 'love', 'pita', 'ingredient']\n",
      "34\t['school', 'phoenix', 'carl', 'high', 'jr', 'bk', 'north', 'downtown', 'mcd', 'american']\n",
      "35\t['customer', 'service', 'employee', 'rude', 'manager', 'ever', 'worst', 'food', 'bad', 'attitude']\n",
      "36\t['night', 'open', 'late', 'close', 'hour', 'closed', 'door', 'sign', 'friday', 'closing']\n",
      "37\t['year', 'last', 'week', 'time', 'ago', 'food', 'eat', 'day', 'month', 'went']\n",
      "38\t['container', 'grill', 'heat', 'fork', 'plastic', 'put', 'throw', 'spoon', 'set', 'standard']\n",
      "39\t['sauce', 'flavor', 'green', 'red', 'hot', 'good', 'fresh', 'menu', 'delicious', 'also']\n",
      "40\t['yes', 'mac', 'cheese', 'big', 'drop', 'yeah', 'everyday', 'heart', 'blue', 'denny']\n",
      "41\t['card', 'extra', 'charge', 'pay', 'cash', 'cent', 'use', 'credit', 'money', 'dollar']\n",
      "42\t['always', 'love', 'get', 'location', 'time', 'go', 'friendly', 'never', 'staff', 'one']\n",
      "43\t['order', 'minute', 'wait', 'food', 'time', 'line', 'ready', 'long', 'waiting', 'waited']\n",
      "44\t['shake', 'burger', 'style', 'n', 'fry', 'animal', 'double', 'menu', 'love', 'east']\n",
      "45\t['sonic', 'drink', 'tot', 'happy', 'hour', 'frosty', 'slush', 'cherry', 'w', 'car']\n",
      "46\t['free', 'coupon', 'lettuce', 'wrap', 'buy', 'use', 'deal', 'birthday', 'one', 'learned']\n",
      "47\t['dog', 'hot', 'beef', 'chicago', 'chili', 'italian', 'fry', 'cheese', 'good', 'portillo']\n",
      "48\t['great', 'food', 'friendly', 'service', 'staff', 'place', 'delicious', 'fresh', 'clean', 'awesome']\n",
      "49\t['burger', 'fry', 'onion', 'cheese', 'guy', 'five', 'good', 'cheeseburger', 'bun', 'bacon']\n"
     ]
    }
   ],
   "source": [
    "print_topic_terms(ldam_fast_food_501050)"
   ]
  },
  {
   "cell_type": "code",
   "execution_count": 7,
   "metadata": {},
   "outputs": [
    {
     "name": "stdout",
     "output_type": "stream",
     "text": [
      "============================ Unique Terms Per Topic ===========================\n",
      "0\t['chipotle', 'bowl', 'bean', 'steak', 'guacamole']\n",
      "1\t['taco', 'bell', 'mexican', 'salsa', 'carne', 'asada', 'tortilla']\n",
      "2\t['counter', 'behind', 'working', 'front']\n",
      "3\t['cold', 'old', 'warm', 'even']\n",
      "4\t['lunch', 'quick', 'rush', 'dinner', 'work', 'stopped', 'today', 'busy', 'grab']\n",
      "5\t['drive', 'thru', 'window']\n",
      "6\t['panda', 'express', 'job', 'team', 'professional', 'thanks', 'thank', 'polite', 'done']\n",
      "7\t['asked', 'said', 'told', 'wanted']\n",
      "8\t['box', 'jack', 'server', 'surprised', 'waitress', 'rocket', 'johnny', 'mall', 'pleasantly', 'la']\n",
      "9\t['wei', 'pei', 'dish', 'roll', 'orange', 'chinese', 'teriyaki']\n",
      "10\t['try', 'owner', 'definitely']\n",
      "11\t['new', 'visit', 'particular', 'need']\n",
      "12\t['dirty', 'dining', 'kid', 'room', 'bathroom', 'floor']\n",
      "13\t['fish', 'chip', 'bar', 'priced', 'outstanding', 'beer', 'game', 'reasonably', 'selection']\n",
      "14\t['lot', 'parking', 'across', 'street', 'wall', 'hole', 'space', 'sooo', 'spot', 'basic']\n",
      "15\t['called', 'call', 'phone', 'number']\n",
      "16\t['better', 'much', 'little']\n",
      "17\t['hubby', 'lemon', 'sugar', 'malt', 'mild', 'fruit', 'cinnamon', 'btw', 'gf', 'content']\n",
      "18\t['review', 'star', 'yelp', 'write', 'read', 'based', 'negative', 'writing', 'reading', 'http']\n",
      "19\t['soda', 'ice', 'cup', 'machine', 'tea', 'water', 'coke', 'cream', 'iced']\n",
      "20\t['wrong', 'every', 'right', 'correct']\n",
      "21\t['fast']\n",
      "22\t['breakfast', 'mcdonald', 'egg', 'morning', 'coffee', 'mcdonalds', 'sausage', 'whataburger', 'brown']\n",
      "23\t['sub', 'firehouse', 'meatball', 'shop', 'way', 'veggie']\n",
      "24\t['table', 'outside', 'seating', 'sit', 'station', 'nice']\n",
      "25\t['sandwich', 'turkey', 'mayo', 'tomato']\n",
      "26\t['pizza', 'topping', 'crust', 'pie', 'mod']\n",
      "27\t['price', 'small', 'size', 'special', 'portion', 'large', 'nothing', 'full', 'average']\n",
      "28\t['know', 'want', 'say']\n",
      "29\t['wing', 'piece', 'kfc', 'spicy', 'meal', 'tender']\n",
      "30\t['potato', 'wendy', 'gravy', 'mashed', 'popeye', 'sweet', 'airport', 'whopper', 'quarter']\n",
      "31\t['u', 'man', 'young', 'lady', 'hair', 'took', 'came', 'gave']\n",
      "32\t['first', 'tasted']\n",
      "33\t['salad', 'mike', 'healthy', 'jersey', 'dressing', 'option', 'pita', 'ingredient']\n",
      "34\t['school', 'phoenix', 'carl', 'high', 'jr', 'bk', 'north', 'downtown', 'mcd', 'american']\n",
      "35\t['customer', 'rude', 'worst', 'bad', 'attitude']\n",
      "36\t['night', 'open', 'late', 'close', 'closed', 'door', 'sign', 'friday', 'closing']\n",
      "37\t['year', 'last', 'week', 'ago', 'eat', 'day', 'month']\n",
      "38\t['container', 'grill', 'heat', 'fork', 'plastic', 'put', 'throw', 'spoon', 'set', 'standard']\n",
      "39\t['flavor', 'green', 'red', 'also']\n",
      "40\t['yes', 'mac', 'big', 'drop', 'yeah', 'everyday', 'heart', 'blue', 'denny']\n",
      "41\t['card', 'extra', 'charge', 'pay', 'cash', 'cent', 'credit', 'dollar']\n",
      "42\t['always']\n",
      "43\t['ready', 'long', 'waiting', 'waited']\n",
      "44\t['shake', 'style', 'n', 'animal', 'double', 'east']\n",
      "45\t['sonic', 'tot', 'happy', 'frosty', 'slush', 'cherry', 'w']\n",
      "46\t['free', 'coupon', 'lettuce', 'wrap', 'buy', 'deal', 'birthday', 'learned']\n",
      "47\t['dog', 'beef', 'chicago', 'chili', 'italian', 'portillo']\n",
      "48\t['awesome']\n",
      "49\t['onion', 'five', 'cheeseburger', 'bun']\n"
     ]
    }
   ],
   "source": [
    "print_topic_terms(ldam_fast_food_501050, unique=True)"
   ]
  },
  {
   "cell_type": "markdown",
   "metadata": {},
   "source": [
    "___"
   ]
  },
  {
   "cell_type": "code",
   "execution_count": 8,
   "metadata": {
    "scrolled": false
   },
   "outputs": [
    {
     "name": "stdout",
     "output_type": "stream",
     "text": [
      "=============================== Terms Per Topic ===============================\n",
      "0\t['place', 'back', 'try', 'got', 'time', 'good', 'really', 'went', 'first', 'ordered']\n",
      "1\t['great', 'bar', 'highly', 'patio', 'beer', 'atmosphere', 'place', 'nice', 'outside', 'area']\n",
      "2\t['salad', 'dessert', 'dish', 'bread', 'wine', 'pasta', 'meal', 'sauce', 'delicious', 'cheese']\n",
      "3\t['like', 'food', 'place', 'would', 'could', 'one', 'taste', 'bad', 'even', 'really']\n",
      "4\t['steak', 'shrimp', 'fish', 'fried', 'cooked', 'seafood', 'ordered', 'crab', 'potato', 'good']\n",
      "5\t['place', 'always', 'love', 'best', 'food', 'get', 'go', 'great', 'time', 'favorite']\n",
      "6\t['chicken', 'rice', 'dish', 'thai', 'soup', 'chinese', 'food', 'noodle', 'pho', 'sauce']\n",
      "7\t['breakfast', 'egg', 'coffee', 'pancake', 'bacon', 'morning', 'toast', 'waffle', 'potato', 'brunch']\n",
      "8\t['great', 'food', 'service', 'friendly', 'good', 'staff', 'place', 'back', 'delicious', 'definitely']\n",
      "9\t['bbq', 'pork', 'rib', 'meat', 'sauce', 'side', 'brisket', 'mac', 'cheese', 'pulled']\n",
      "10\t['burger', 'sandwich', 'fry', 'cheese', 'onion', 'bread', 'good', 'vegan', 'bun', 'sub']\n",
      "11\t['sushi', 'roll', 'hour', 'happy', 'tuna', 'fish', 'fresh', 'chef', 'spicy', 'salmon']\n",
      "12\t['time', 'location', 'year', 'last', 'restaurant', 'visit', 'since', 'food', 'first', 'one']\n",
      "13\t['restaurant', 'make', 'menu', 'know', 'business', 'owner', 'review', 'one', 'staff', 'experience']\n",
      "14\t['pizza', 'wing', 'crust', 'cheese', 'good', 'sauce', 'italian', 'slice', 'topping', 'thin']\n",
      "15\t['good', 'food', 'place', 'price', 'pretty', 'really', 'get', 'like', 'would', 'little']\n",
      "16\t['table', 'u', 'server', 'minute', 'drink', 'food', 'came', 'wait', 'time', 'service']\n",
      "17\t['chicken', 'salad', 'pita', 'gyro', 'dog', 'greek', 'hummus', 'meat', 'tea', 'lunch']\n",
      "18\t['order', 'food', 'time', 'said', 'back', 'would', 'service', 'asked', 'get', 'customer']\n",
      "19\t['taco', 'mexican', 'salsa', 'burrito', 'chip', 'bean', 'good', 'cheese', 'green', 'tortilla']\n"
     ]
    }
   ],
   "source": [
    "print_topic_terms(ldam_non_fast_food_201550)"
   ]
  },
  {
   "cell_type": "code",
   "execution_count": 9,
   "metadata": {
    "scrolled": true
   },
   "outputs": [
    {
     "name": "stdout",
     "output_type": "stream",
     "text": [
      "=============================== Terms Per Topic ===============================\n",
      "0\t['location', 'place', 'phoenix', 'restaurant', 'area', 'parking', 'lot', 'year', 'make', 'day']\n",
      "1\t['steak', 'salad', 'dessert', 'dish', 'meal', 'restaurant', 'menu', 'dinner', 'bread', 'pasta']\n",
      "2\t['pho', 'tea', 'dog', 'ice', 'cream', 'spring', 'beef', 'broth', 'lemonade', 'drink']\n",
      "3\t['shrimp', 'fish', 'seafood', 'crab', 'soda', 'cup', 'sauce', 'lobster', 'groupon', 'drink']\n",
      "4\t['table', 'food', 'drink', 'server', 'bar', 'service', 'time', 'night', 'hour', 'restaurant']\n",
      "5\t['burger', 'fry', 'onion', 'place', 'cheese', 'time', 'order', 'shake', 'ring', 'bacon']\n",
      "6\t['pizza', 'wing', 'place', 'cheese', 'sauce', 'time', 'slice', 'pie', 'love', 'try']\n",
      "7\t['beer', 'wall', 'place', 'game', 'selection', 'music', 'bathroom', 'tv', 'smell', 'hole']\n",
      "8\t['food', 'place', 'service', 'love', 'time', 'restaurant', 'price', 'staff', 'family', 'try']\n",
      "9\t['sushi', 'rice', 'place', 'chicken', 'soup', 'dish', 'spicy', 'food', 'noodle', 'curry']\n",
      "10\t['sandwich', 'salad', 'lunch', 'chicken', 'bread', 'place', 'pita', 'gyro', 'meat', 'sub']\n",
      "11\t['order', 'food', 'time', 'service', 'customer', 'minute', 'manager', 'location', 'people', 'make']\n",
      "12\t['taco', 'salsa', 'chip', 'bean', 'food', 'place', 'tortilla', 'cheese', 'margarita', 'rice']\n",
      "13\t['chicken', 'meat', 'sauce', 'bbq', 'pork', 'food', 'side', 'flavor', 'place', 'rib']\n",
      "14\t['breakfast', 'egg', 'coffee', 'bacon', 'place', 'waffle', 'morning', 'toast', 'food', 'sunday']\n"
     ]
    }
   ],
   "source": [
    "print_topic_terms(ldam_all_noun_151550)"
   ]
  },
  {
   "cell_type": "code",
   "execution_count": 10,
   "metadata": {
    "scrolled": false
   },
   "outputs": [
    {
     "name": "stdout",
     "output_type": "stream",
     "text": [
      "=============================== Terms Per Topic ===============================\n",
      "0\t['sushi', 'fish', 'shrimp', 'crab', 'place', 'seafood', 'tuna', 'chef', 'salmon', 'time']\n",
      "1\t['breakfast', 'egg', 'coffee', 'bacon', 'waffle', 'morning', 'place', 'toast', 'potato', 'gravy']\n",
      "2\t['dessert', 'cream', 'dish', 'menu', 'meal', 'dinner', 'restaurant', 'cake', 'appetizer', 'chocolate']\n",
      "3\t['chicken', 'sauce', 'meat', 'bbq', 'pork', 'rib', 'side', 'flavor', 'potato', 'tender']\n",
      "4\t['taco', 'street', 'fish', 'bell', 'tuesday', 'shrimp', 'shop', 'nacho', 'pastor', 'shell']\n",
      "5\t['love', 'place', 'food', 'family', 'time', 'service', 'kid', 'staff', 'year', 'owner']\n",
      "6\t['location', 'restaurant', 'phoenix', 'place', 'area', 'parking', 'lot', 'wall', 'spot', 'menu']\n",
      "7\t['steak', 'pita', 'gyro', 'chicken', 'salad', 'hummus', 'meat', 'wrap', 'plate', 'lamb']\n",
      "8\t['table', 'food', 'server', 'service', 'restaurant', 'time', 'drink', 'minute', 'waiter', 'meal']\n",
      "9\t['salsa', 'chip', 'bean', 'food', 'cheese', 'rice', 'tortilla', 'margarita', 'sauce', 'chicken']\n",
      "10\t['place', 'review', 'food', 'star', 'thing', 'people', 'make', 'way', 'something', 'day']\n",
      "11\t['order', 'time', 'food', 'customer', 'service', 'minute', 'manager', 'location', 'employee', 'people']\n",
      "12\t['burger', 'fry', 'dog', 'onion', 'cheese', 'place', 'time', 'order', 'soda', 'shake']\n",
      "13\t['chicken', 'airport', 'jungle', 'masala', 'phx', 'sample', 'jerk', 'tikka', 'flight', 'island']\n",
      "14\t['dish', 'chicken', 'rice', 'soup', 'spicy', 'noodle', 'food', 'sauce', 'beef', 'curry']\n",
      "15\t['pizza', 'wing', 'place', 'cheese', 'sauce', 'slice', 'time', 'pie', 'try', 'order']\n",
      "16\t['bar', 'hour', 'night', 'drink', 'beer', 'place', 'music', 'friday', 'atmosphere', 'fun']\n",
      "17\t['food', 'place', 'service', 'price', 'restaurant', 'lunch', 'time', 'quality', 'menu', 'staff']\n",
      "18\t['salad', 'sandwich', 'bread', 'lunch', 'cheese', 'chicken', 'pasta', 'sub', 'tomato', 'meat']\n",
      "19\t['bowl', 'pho', 'tea', 'spring', 'water', 'ice', 'cup', 'broth', 'pot', 'express']\n"
     ]
    }
   ],
   "source": [
    "print_topic_terms(ldam_all_noun_201550)"
   ]
  },
  {
   "cell_type": "code",
   "execution_count": 11,
   "metadata": {
    "scrolled": false
   },
   "outputs": [
    {
     "name": "stdout",
     "output_type": "stream",
     "text": [
      "=============================== Terms Per Topic ===============================\n",
      "0\t['food', 'service', 'price', 'place', 'quality', 'restaurant', 'portion', 'time', 'atmosphere', 'size']\n",
      "1\t['kid', 'coupon', 'tuesday', 'deal', 'dad', 'adult', 'regret', 'meal', 'def', 'b']\n",
      "2\t['burger', 'fry', 'onion', 'place', 'cheese', 'shake', 'ring', 'bacon', 'well', 'time']\n",
      "3\t['star', 'review', 'yelp', 'reason', 'read', 'rating', 'rate', 'update', 'living', 'state']\n",
      "4\t['lunch', 'day', 'today', 'time', 'work', 'week', 'dinner', 'spot', 'service', 'yesterday']\n",
      "5\t['spicy', 'curry', 'food', 'spice', 'dish', 'chicken', 'pad', 'rice', 'flavor', 'place']\n",
      "6\t['bowl', 'chicken', 'rice', 'noodle', 'egg', 'food', 'soup', 'ramen', 'sauce', 'place']\n",
      "7\t['chicken', 'strip', 'mall', 'waffle', 'piece', 'breast', 'tender', 'crispy', 'shawarma', 'meal']\n",
      "8\t['dish', 'restaurant', 'menu', 'course', 'meal', 'chef', 'well', 'cuisine', 'flavor', 'try']\n",
      "9\t['sauce', 'onion', 'pepper', 'tomato', 'flavor', 'mushroom', 'oil', 'cheese', 'taste', 'lemon']\n",
      "10\t['box', 'bomb', 'chop', 'stew', 'claim', 'alot', 'vacation', 'bento', 'earth', 'freshness']\n",
      "11\t['hand', 'daughter', 'bathroom', 'child', 'hair', 'parent', 'restroom', 'paper', 'book', 'cover']\n",
      "12\t['plate', 'lamb', 'vegetable', 'platter', 'rice', 'leaf', 'kabob', 'meat', 'sampler', 'combination']\n",
      "13\t['order', 'time', 'line', 'minute', 'food', 'drive', 'counter', 'guy', 'girl', 'store']\n",
      "14\t['salad', 'pita', 'gyro', 'hummus', 'lettuce', 'wrap', 'side', 'meat', 'bread', 'jungle']\n",
      "15\t['place', 'food', 'thing', 'time', 'make', 'something', 'way', 'taste', 'try', 'cook']\n",
      "16\t['table', 'minute', 'waiter', 'food', 'water', 'restaurant', 'waiting', 'place', 'service', 'people']\n",
      "17\t['picture', 'groupon', 'step', 'baby', 'crap', 'floor', 'foot', 'photo', 'fly', 'hell']\n",
      "18\t['night', 'dinner', 'friday', 'date', 'saturday', 'evening', 'friend', 'girlfriend', 'thursday', 'movie']\n",
      "19\t['shrimp', 'crab', 'seafood', 'lobster', 'fish', 'scallop', 'puff', 'leg', 'oyster', 'sea']\n",
      "20\t['area', 'phoenix', 'trip', 'restaurant', 'city', 'arizona', 'hotel', 'finding', 'town', 'summer']\n",
      "21\t['soup', 'pho', 'noodle', 'spring', 'broth', 'place', 'beef', 'bowl', 'restaurant', 'service']\n",
      "22\t['pie', 'joe', 'apple', 'market', 'goat', 'lasagna', 'farm', 'partner', 'bruschetta', 'pecan']\n",
      "23\t['country', 'fruit', 'refreshing', 'lemonade', 'sugar', 'cinnamon', 'juice', 'pineapple', 'air', 'temperature']\n",
      "24\t['cream', 'dog', 'ice', 'chipotle', 'chocolate', 'cookie', 'cheese', 'cooky', 'scoop', 'vanilla']\n",
      "25\t['chip', 'salsa', 'fish', 'margarita', 'food', 'guacamole', 'place', 'restaurant', 'service', 'dip']\n",
      "26\t['tea', 'drink', 'soda', 'cup', 'bag', 'tip', 'charge', 'coke', 'machine', 'container']\n",
      "27\t['server', 'drink', 'food', 'hour', 'time', 'service', 'order', 'min', 'half', 'friend']\n",
      "28\t['location', 'tempe', 'downtown', 'chandler', 'chain', 'mesa', 'drive', 'school', 'mile', 'year']\n",
      "29\t['group', 'parking', 'lot', 'party', 'people', 'door', 'reservation', 'birthday', 'sign', 'everyone']\n",
      "30\t['staff', 'food', 'family', 'year', 'time', 'visit', 'place', 'restaurant', 'service', 'son']\n",
      "31\t['breakfast', 'egg', 'coffee', 'bacon', 'place', 'morning', 'toast', 'potato', 'gravy', 'brunch']\n",
      "32\t['style', 'mouth', 'tasteless', 'word', 'suck', 'walking', 'bf', 'express', 'edamame', 'calzone']\n",
      "33\t['customer', 'service', 'manager', 'time', 'food', 'employee', 'business', 'owner', 'care', 'restaurant']\n",
      "34\t['pasta', 'bread', 'sausage', 'spaghetti', 'garden', 'olive', 'catfish', 'alfredo', 'lil', 'square']\n",
      "35\t['beef', 'bean', 'rice', 'combo', 'cheese', 'chile', 'corn', 'tamale', 'side', 'ground']\n",
      "36\t['taco', 'tortilla', 'street', 'place', 'salsa', 'quesadilla', 'bell', 'meat', 'nacho', 'food']\n",
      "37\t['love', 'place', 'food', 'owner', 'time', 'service', 'try', 'everything', 'make', 'everyone']\n",
      "38\t['pork', 'meat', 'bbq', 'rib', 'wing', 'sauce', 'side', 'place', 'flavor', 'potato']\n",
      "39\t['pizza', 'place', 'cheese', 'slice', 'wing', 'time', 'try', 'pie', 'pepperoni', 'sauce']\n",
      "40\t['bar', 'dining', 'drink', 'area', 'sit', 'room', 'seating', 'bartender', 'hour', 'beer']\n",
      "41\t['wife', 'valley', 'gem', 'west', 'sister', 'disappoint', 'crepe', 'sooo', 'coast', 'scratch']\n",
      "42\t['bland', 'money', 'salt', 'greasy', 'smell', 'waste', 'hate', 'disappointment', 'save', 'soggy']\n",
      "43\t['wall', 'boyfriend', 'dollar', 'hole', 'mark', 'crave', 'college', 'father', 'spending', 'christmas']\n",
      "44\t['beer', 'fun', 'music', 'atmosphere', 'game', 'watch', 'place', 'tv', 'folk', 'vibe']\n",
      "45\t['option', 'delivery', 'mom', 'vegan', 'gluten', 'pop', 'driver', 'app', 'eater', 'jack']\n",
      "46\t['menu', 'item', 'selection', 'buffet', 'variety', 'try', 'choice', 'everything', 'thing', 'lot']\n",
      "47\t['sandwich', 'cheese', 'bread', 'sub', 'mac', 'meat', 'place', 'shop', 'subway', 'try']\n",
      "48\t['steak', 'dessert', 'meal', 'dinner', 'cake', 'potato', 'entree', 'appetizer', 'bread', 'salad']\n",
      "49\t['sushi', 'place', 'tuna', 'chef', 'salmon', 'fish', 'hour', 'california', 'service', 'price']\n"
     ]
    }
   ],
   "source": [
    "print_topic_terms(ldam_all_noun_501030)"
   ]
  },
  {
   "cell_type": "code",
   "execution_count": 12,
   "metadata": {},
   "outputs": [
    {
     "name": "stdout",
     "output_type": "stream",
     "text": [
      "=============================== Terms Per Topic ===============================\n",
      "0\t['shrimp', 'fish', 'crab', 'seafood', 'lobster', 'fried', 'leg', 'sauce', 'clam', 'oyster']\n",
      "1\t['parking', 'door', 'lot', 'closed', 'drive', 'car', 'sign', 'street', 'find', 'mile']\n",
      "2\t['food', 'eat', 'place', 'could', 'got', 'tasted', 'would', 'go', 'eating', 'looked']\n",
      "3\t['u', 'server', 'food', 'drink', 'service', 'came', 'time', 'waiter', 'table', 'ordered']\n",
      "4\t['flavor', 'sauce', 'dish', 'spicy', 'taste', 'bland', 'spice', 'bit', 'ordered', 'would']\n",
      "5\t['ice', 'cream', 'bowl', 'soda', 'cup', 'drink', 'water', 'coke', 'machine', 'fountain']\n",
      "6\t['taco', 'mexican', 'salsa', 'burrito', 'chip', 'bean', 'food', 'cheese', 'tortilla', 'margarita']\n",
      "7\t['lunch', 'salad', 'tea', 'curry', 'today', 'pad', 'soup', 'dinner', 'lettuce', 'went']\n",
      "8\t['phoenix', 'year', 'arizona', 'know', 'lived', 'find', 'life', 'city', 'moved', 'mouth']\n",
      "9\t['star', 'place', 'review', 'give', 'would', 'try', 'say', 'yelp', 'think', 'go']\n",
      "10\t['customer', 'service', 'food', 'employee', 'owner', 'people', 'make', 'need', 'guy', 'staff']\n",
      "11\t['salad', 'dessert', 'pasta', 'wine', 'bread', 'cheese', 'chocolate', 'dish', 'cake', 'appetizer']\n",
      "12\t['place', 'get', 'time', 'go', 'love', 'food', 'ca', 'order', 'wait', 'come']\n",
      "13\t['table', 'minute', 'wait', 'u', 'food', 'order', 'waiting', 'seated', 'waited', 'people']\n",
      "14\t['order', 'said', 'asked', 'told', 'time', 'would', 'ordered', 'called', 'manager', 'got']\n",
      "15\t['pizza', 'wing', 'crust', 'cheese', 'place', 'sauce', 'topping', 'slice', 'pie', 'salad']\n",
      "16\t['burger', 'fry', 'dog', 'onion', 'cheese', 'place', 'shake', 'got', 'ring', 'bacon']\n",
      "17\t['sandwich', 'bread', 'sub', 'cheese', 'meat', 'beef', 'shop', 'subway', 'store', 'got']\n",
      "18\t['night', 'dinner', 'went', 'u', 'time', 'husband', 'friend', 'meal', 'food', 'restaurant']\n",
      "19\t['food', 'place', 'service', 'restaurant', 'love', 'staff', 'price', 'recommend', 'family', 'atmosphere']\n",
      "20\t['bbq', 'pork', 'rib', 'meat', 'side', 'mac', 'sauce', 'brisket', 'cheese', 'pulled']\n",
      "21\t['location', 'tempe', 'strip', 'mall', 'chandler', 'downtown', 'west', 'mesa', 'valley', 'corner']\n",
      "22\t['steak', 'cooked', 'potato', 'well', 'medium', 'perfection', 'side', 'fried', 'filet', 'mashed']\n",
      "23\t['chicken', 'pita', 'gyro', 'salad', 'hummus', 'meat', 'rice', 'lamb', 'plate', 'ordered']\n",
      "24\t['money', 'tip', 'price', 'pay', 'card', 'dollar', 'charge', 'buck', 'coupon', 'cost']\n",
      "25\t['chicken', 'rice', 'soup', 'fried', 'noodle', 'pho', 'beef', 'roll', 'food', 'dish']\n",
      "26\t['breakfast', 'egg', 'coffee', 'bacon', 'pancake', 'waffle', 'morning', 'toast', 'brunch', 'biscuit']\n",
      "27\t['menu', 'option', 'food', 'item', 'price', 'restaurant', 'buffet', 'portion', 'choice', 'variety']\n",
      "28\t['bar', 'beer', 'place', 'drink', 'hour', 'music', 'atmosphere', 'fun', 'night', 'area']\n",
      "29\t['sushi', 'roll', 'hour', 'place', 'tuna', 'ramen', 'chef', 'salmon', 'fish', 'spicy']\n"
     ]
    }
   ],
   "source": [
    "print_topic_terms(ldam_all_noun_verbs_301550)"
   ]
  },
  {
   "cell_type": "markdown",
   "metadata": {},
   "source": [
    "# Assigning Topic to Reviews"
   ]
  },
  {
   "cell_type": "code",
   "execution_count": 13,
   "metadata": {},
   "outputs": [],
   "source": [
    "import pandas as pd"
   ]
  },
  {
   "cell_type": "code",
   "execution_count": 14,
   "metadata": {
    "scrolled": true
   },
   "outputs": [
    {
     "name": "stderr",
     "output_type": "stream",
     "text": [
      "/Users/samgutentag/anaconda/envs/spring/lib/python3.6/site-packages/IPython/core/interactiveshell.py:2728: DtypeWarning: Columns (0,2) have mixed types. Specify dtype option on import or set low_memory=False.\n",
      "  interactivity=interactivity, compiler=compiler, result=result)\n"
     ]
    },
    {
     "data": {
      "text/html": [
       "<div>\n",
       "<style scoped>\n",
       "    .dataframe tbody tr th:only-of-type {\n",
       "        vertical-align: middle;\n",
       "    }\n",
       "\n",
       "    .dataframe tbody tr th {\n",
       "        vertical-align: top;\n",
       "    }\n",
       "\n",
       "    .dataframe thead th {\n",
       "        text-align: right;\n",
       "    }\n",
       "</style>\n",
       "<table border=\"1\" class=\"dataframe\">\n",
       "  <thead>\n",
       "    <tr style=\"text-align: right;\">\n",
       "      <th></th>\n",
       "      <th>business_id</th>\n",
       "      <th>cool</th>\n",
       "      <th>date</th>\n",
       "      <th>funny</th>\n",
       "      <th>review_id</th>\n",
       "      <th>stars</th>\n",
       "      <th>text</th>\n",
       "      <th>useful</th>\n",
       "      <th>user_id</th>\n",
       "      <th>is_fast_food</th>\n",
       "      <th>review_len</th>\n",
       "    </tr>\n",
       "  </thead>\n",
       "  <tbody>\n",
       "    <tr>\n",
       "      <th>0</th>\n",
       "      <td>JlNeaOymdVbE6_bubqjohg</td>\n",
       "      <td>0</td>\n",
       "      <td>2014-08-09</td>\n",
       "      <td>0.0</td>\n",
       "      <td>BF0ANB54sc_f-3_howQBCg</td>\n",
       "      <td>1.0</td>\n",
       "      <td>we always go to the chevo's in chandler which ...</td>\n",
       "      <td>3.0</td>\n",
       "      <td>ssuXFjkH4neiBgwv-oN4IA</td>\n",
       "      <td>0.0</td>\n",
       "      <td>422.0</td>\n",
       "    </tr>\n",
       "    <tr>\n",
       "      <th>1</th>\n",
       "      <td>0Rni7ocMC_Lg2UH0lDeKMQ</td>\n",
       "      <td>0</td>\n",
       "      <td>2014-08-09</td>\n",
       "      <td>0.0</td>\n",
       "      <td>DbLUpPT61ykLTakknCF9CQ</td>\n",
       "      <td>1.0</td>\n",
       "      <td>this place is always so dirty and grimy been t...</td>\n",
       "      <td>6.0</td>\n",
       "      <td>ssuXFjkH4neiBgwv-oN4IA</td>\n",
       "      <td>0.0</td>\n",
       "      <td>111.0</td>\n",
       "    </tr>\n",
       "    <tr>\n",
       "      <th>2</th>\n",
       "      <td>S-oLPRdhlyL5HAknBKTUcQ</td>\n",
       "      <td>0</td>\n",
       "      <td>2017-11-30</td>\n",
       "      <td>0.0</td>\n",
       "      <td>z_mVLygzPn8uHp63SSCErw</td>\n",
       "      <td>4.0</td>\n",
       "      <td>holy portion sizes! you get a lot of bang for ...</td>\n",
       "      <td>0.0</td>\n",
       "      <td>MzEnYCyZlRYQRISNMXTWIg</td>\n",
       "      <td>0.0</td>\n",
       "      <td>130.0</td>\n",
       "    </tr>\n",
       "  </tbody>\n",
       "</table>\n",
       "</div>"
      ],
      "text/plain": [
       "              business_id cool        date  funny               review_id  \\\n",
       "0  JlNeaOymdVbE6_bubqjohg    0  2014-08-09    0.0  BF0ANB54sc_f-3_howQBCg   \n",
       "1  0Rni7ocMC_Lg2UH0lDeKMQ    0  2014-08-09    0.0  DbLUpPT61ykLTakknCF9CQ   \n",
       "2  S-oLPRdhlyL5HAknBKTUcQ    0  2017-11-30    0.0  z_mVLygzPn8uHp63SSCErw   \n",
       "\n",
       "   stars                                               text  useful  \\\n",
       "0    1.0  we always go to the chevo's in chandler which ...     3.0   \n",
       "1    1.0  this place is always so dirty and grimy been t...     6.0   \n",
       "2    4.0  holy portion sizes! you get a lot of bang for ...     0.0   \n",
       "\n",
       "                  user_id  is_fast_food  review_len  \n",
       "0  ssuXFjkH4neiBgwv-oN4IA           0.0       422.0  \n",
       "1  ssuXFjkH4neiBgwv-oN4IA           0.0       111.0  \n",
       "2  MzEnYCyZlRYQRISNMXTWIg           0.0       130.0  "
      ]
     },
     "execution_count": 14,
     "metadata": {},
     "output_type": "execute_result"
    }
   ],
   "source": [
    "reviews = pd.read_csv('../clean_data/az_restaurant_reviews.csv', index_col=0)\n",
    "reviews.head(3)"
   ]
  },
  {
   "cell_type": "code",
   "execution_count": 16,
   "metadata": {
    "scrolled": true
   },
   "outputs": [
    {
     "data": {
      "text/html": [
       "<div>\n",
       "<style scoped>\n",
       "    .dataframe tbody tr th:only-of-type {\n",
       "        vertical-align: middle;\n",
       "    }\n",
       "\n",
       "    .dataframe tbody tr th {\n",
       "        vertical-align: top;\n",
       "    }\n",
       "\n",
       "    .dataframe thead th {\n",
       "        text-align: right;\n",
       "    }\n",
       "</style>\n",
       "<table border=\"1\" class=\"dataframe\">\n",
       "  <thead>\n",
       "    <tr style=\"text-align: right;\">\n",
       "      <th></th>\n",
       "      <th>address</th>\n",
       "      <th>business_id</th>\n",
       "      <th>categories</th>\n",
       "      <th>city</th>\n",
       "      <th>is_open</th>\n",
       "      <th>name</th>\n",
       "      <th>postal_code</th>\n",
       "      <th>review_count</th>\n",
       "      <th>stars</th>\n",
       "    </tr>\n",
       "  </thead>\n",
       "  <tbody>\n",
       "    <tr>\n",
       "      <th>0</th>\n",
       "      <td>777 E Thunderbird Rd, Ste 107</td>\n",
       "      <td>1WBkAuQg81kokZIPMpn9Zg</td>\n",
       "      <td>['burgers', 'restaurants']</td>\n",
       "      <td>Phoenix</td>\n",
       "      <td>1</td>\n",
       "      <td>Charr An American Burger Bar</td>\n",
       "      <td>85022.0</td>\n",
       "      <td>232</td>\n",
       "      <td>3.0</td>\n",
       "    </tr>\n",
       "    <tr>\n",
       "      <th>1</th>\n",
       "      <td>10720 E Southern Ave</td>\n",
       "      <td>kKx8iCJkomVQBdWHnmmOiA</td>\n",
       "      <td>['restaurants', 'pizza']</td>\n",
       "      <td>Mesa</td>\n",
       "      <td>1</td>\n",
       "      <td>Little Caesars Pizza</td>\n",
       "      <td>85209.0</td>\n",
       "      <td>4</td>\n",
       "      <td>2.5</td>\n",
       "    </tr>\n",
       "    <tr>\n",
       "      <th>2</th>\n",
       "      <td>8140 N Hayden Rd, Ste H115</td>\n",
       "      <td>VdlPZg2NAu8t8GkdbPLecg</td>\n",
       "      <td>['restaurants', 'gluten-free', 'indian', 'seaf...</td>\n",
       "      <td>Scottsdale</td>\n",
       "      <td>1</td>\n",
       "      <td>Tandoori Times Indian Bistro</td>\n",
       "      <td>85258.0</td>\n",
       "      <td>263</td>\n",
       "      <td>3.5</td>\n",
       "    </tr>\n",
       "  </tbody>\n",
       "</table>\n",
       "</div>"
      ],
      "text/plain": [
       "                         address             business_id  \\\n",
       "0  777 E Thunderbird Rd, Ste 107  1WBkAuQg81kokZIPMpn9Zg   \n",
       "1           10720 E Southern Ave  kKx8iCJkomVQBdWHnmmOiA   \n",
       "2     8140 N Hayden Rd, Ste H115  VdlPZg2NAu8t8GkdbPLecg   \n",
       "\n",
       "                                          categories        city  is_open  \\\n",
       "0                         ['burgers', 'restaurants']     Phoenix        1   \n",
       "1                           ['restaurants', 'pizza']        Mesa        1   \n",
       "2  ['restaurants', 'gluten-free', 'indian', 'seaf...  Scottsdale        1   \n",
       "\n",
       "                           name  postal_code  review_count  stars  \n",
       "0  Charr An American Burger Bar      85022.0           232    3.0  \n",
       "1          Little Caesars Pizza      85209.0             4    2.5  \n",
       "2  Tandoori Times Indian Bistro      85258.0           263    3.5  "
      ]
     },
     "execution_count": 16,
     "metadata": {},
     "output_type": "execute_result"
    }
   ],
   "source": [
    "biz = pd.read_csv('../clean_data/az_restaurant_business_clean.csv', index_col=0)\n",
    "biz = biz.iloc[:,:9].copy()\n",
    "biz.head(3)"
   ]
  },
  {
   "cell_type": "code",
   "execution_count": 17,
   "metadata": {},
   "outputs": [],
   "source": [
    "review_df = reviews.merge(biz[['name', 'business_id']], on='business_id', how='left')"
   ]
  },
  {
   "cell_type": "code",
   "execution_count": 18,
   "metadata": {
    "scrolled": true
   },
   "outputs": [
    {
     "data": {
      "text/html": [
       "<div>\n",
       "<style scoped>\n",
       "    .dataframe tbody tr th:only-of-type {\n",
       "        vertical-align: middle;\n",
       "    }\n",
       "\n",
       "    .dataframe tbody tr th {\n",
       "        vertical-align: top;\n",
       "    }\n",
       "\n",
       "    .dataframe thead th {\n",
       "        text-align: right;\n",
       "    }\n",
       "</style>\n",
       "<table border=\"1\" class=\"dataframe\">\n",
       "  <thead>\n",
       "    <tr style=\"text-align: right;\">\n",
       "      <th></th>\n",
       "      <th>business_id</th>\n",
       "      <th>cool</th>\n",
       "      <th>date</th>\n",
       "      <th>funny</th>\n",
       "      <th>review_id</th>\n",
       "      <th>stars</th>\n",
       "      <th>text</th>\n",
       "      <th>useful</th>\n",
       "      <th>user_id</th>\n",
       "      <th>is_fast_food</th>\n",
       "      <th>review_len</th>\n",
       "      <th>name</th>\n",
       "    </tr>\n",
       "  </thead>\n",
       "  <tbody>\n",
       "    <tr>\n",
       "      <th>0</th>\n",
       "      <td>JlNeaOymdVbE6_bubqjohg</td>\n",
       "      <td>0</td>\n",
       "      <td>2014-08-09</td>\n",
       "      <td>0.0</td>\n",
       "      <td>BF0ANB54sc_f-3_howQBCg</td>\n",
       "      <td>1.0</td>\n",
       "      <td>we always go to the chevo's in chandler which ...</td>\n",
       "      <td>3.0</td>\n",
       "      <td>ssuXFjkH4neiBgwv-oN4IA</td>\n",
       "      <td>0.0</td>\n",
       "      <td>422.0</td>\n",
       "      <td>Papa Chevo's Taco Shop</td>\n",
       "    </tr>\n",
       "    <tr>\n",
       "      <th>1</th>\n",
       "      <td>0Rni7ocMC_Lg2UH0lDeKMQ</td>\n",
       "      <td>0</td>\n",
       "      <td>2014-08-09</td>\n",
       "      <td>0.0</td>\n",
       "      <td>DbLUpPT61ykLTakknCF9CQ</td>\n",
       "      <td>1.0</td>\n",
       "      <td>this place is always so dirty and grimy been t...</td>\n",
       "      <td>6.0</td>\n",
       "      <td>ssuXFjkH4neiBgwv-oN4IA</td>\n",
       "      <td>0.0</td>\n",
       "      <td>111.0</td>\n",
       "      <td>Barro's Pizza</td>\n",
       "    </tr>\n",
       "    <tr>\n",
       "      <th>2</th>\n",
       "      <td>S-oLPRdhlyL5HAknBKTUcQ</td>\n",
       "      <td>0</td>\n",
       "      <td>2017-11-30</td>\n",
       "      <td>0.0</td>\n",
       "      <td>z_mVLygzPn8uHp63SSCErw</td>\n",
       "      <td>4.0</td>\n",
       "      <td>holy portion sizes! you get a lot of bang for ...</td>\n",
       "      <td>0.0</td>\n",
       "      <td>MzEnYCyZlRYQRISNMXTWIg</td>\n",
       "      <td>0.0</td>\n",
       "      <td>130.0</td>\n",
       "      <td>Harumi Sushi</td>\n",
       "    </tr>\n",
       "    <tr>\n",
       "      <th>3</th>\n",
       "      <td>iIjVO7cLD1UEmIO7G05Ujw</td>\n",
       "      <td>0</td>\n",
       "      <td>2016-06-11</td>\n",
       "      <td>0.0</td>\n",
       "      <td>xatycgntu_F_Ioyny3iflw</td>\n",
       "      <td>4.0</td>\n",
       "      <td>flavor was actually pretty good. not used to e...</td>\n",
       "      <td>0.0</td>\n",
       "      <td>vaXJ7-xLrnD6FAEhUqYKwQ</td>\n",
       "      <td>1.0</td>\n",
       "      <td>309.0</td>\n",
       "      <td>Rosita's Place</td>\n",
       "    </tr>\n",
       "    <tr>\n",
       "      <th>4</th>\n",
       "      <td>1JF9TbJ2d5hH8xsQvvklHg</td>\n",
       "      <td>0</td>\n",
       "      <td>2016-06-18</td>\n",
       "      <td>0.0</td>\n",
       "      <td>Z7U7MMef6Tbj_ZbSFzLRUw</td>\n",
       "      <td>5.0</td>\n",
       "      <td>this is place very great flavor. server was on...</td>\n",
       "      <td>1.0</td>\n",
       "      <td>vaXJ7-xLrnD6FAEhUqYKwQ</td>\n",
       "      <td>0.0</td>\n",
       "      <td>476.0</td>\n",
       "      <td>Irma's Kitchen</td>\n",
       "    </tr>\n",
       "  </tbody>\n",
       "</table>\n",
       "</div>"
      ],
      "text/plain": [
       "              business_id cool        date  funny               review_id  \\\n",
       "0  JlNeaOymdVbE6_bubqjohg    0  2014-08-09    0.0  BF0ANB54sc_f-3_howQBCg   \n",
       "1  0Rni7ocMC_Lg2UH0lDeKMQ    0  2014-08-09    0.0  DbLUpPT61ykLTakknCF9CQ   \n",
       "2  S-oLPRdhlyL5HAknBKTUcQ    0  2017-11-30    0.0  z_mVLygzPn8uHp63SSCErw   \n",
       "3  iIjVO7cLD1UEmIO7G05Ujw    0  2016-06-11    0.0  xatycgntu_F_Ioyny3iflw   \n",
       "4  1JF9TbJ2d5hH8xsQvvklHg    0  2016-06-18    0.0  Z7U7MMef6Tbj_ZbSFzLRUw   \n",
       "\n",
       "   stars                                               text  useful  \\\n",
       "0    1.0  we always go to the chevo's in chandler which ...     3.0   \n",
       "1    1.0  this place is always so dirty and grimy been t...     6.0   \n",
       "2    4.0  holy portion sizes! you get a lot of bang for ...     0.0   \n",
       "3    4.0  flavor was actually pretty good. not used to e...     0.0   \n",
       "4    5.0  this is place very great flavor. server was on...     1.0   \n",
       "\n",
       "                  user_id  is_fast_food  review_len                    name  \n",
       "0  ssuXFjkH4neiBgwv-oN4IA           0.0       422.0  Papa Chevo's Taco Shop  \n",
       "1  ssuXFjkH4neiBgwv-oN4IA           0.0       111.0           Barro's Pizza  \n",
       "2  MzEnYCyZlRYQRISNMXTWIg           0.0       130.0            Harumi Sushi  \n",
       "3  vaXJ7-xLrnD6FAEhUqYKwQ           1.0       309.0          Rosita's Place  \n",
       "4  vaXJ7-xLrnD6FAEhUqYKwQ           0.0       476.0          Irma's Kitchen  "
      ]
     },
     "execution_count": 18,
     "metadata": {},
     "output_type": "execute_result"
    }
   ],
   "source": [
    "review_df.head(5)"
   ]
  },
  {
   "cell_type": "code",
   "execution_count": 31,
   "metadata": {},
   "outputs": [
    {
     "data": {
      "text/html": [
       "<div>\n",
       "<style scoped>\n",
       "    .dataframe tbody tr th:only-of-type {\n",
       "        vertical-align: middle;\n",
       "    }\n",
       "\n",
       "    .dataframe tbody tr th {\n",
       "        vertical-align: top;\n",
       "    }\n",
       "\n",
       "    .dataframe thead th {\n",
       "        text-align: right;\n",
       "    }\n",
       "</style>\n",
       "<table border=\"1\" class=\"dataframe\">\n",
       "  <thead>\n",
       "    <tr style=\"text-align: right;\">\n",
       "      <th></th>\n",
       "      <th>business_id</th>\n",
       "      <th>cool</th>\n",
       "      <th>date</th>\n",
       "      <th>funny</th>\n",
       "      <th>review_id</th>\n",
       "      <th>stars</th>\n",
       "      <th>text</th>\n",
       "      <th>useful</th>\n",
       "      <th>user_id</th>\n",
       "      <th>is_fast_food</th>\n",
       "      <th>review_len</th>\n",
       "    </tr>\n",
       "  </thead>\n",
       "  <tbody>\n",
       "    <tr>\n",
       "      <th>0</th>\n",
       "      <td>JlNeaOymdVbE6_bubqjohg</td>\n",
       "      <td>0</td>\n",
       "      <td>2014-08-09</td>\n",
       "      <td>0.0</td>\n",
       "      <td>BF0ANB54sc_f-3_howQBCg</td>\n",
       "      <td>1.0</td>\n",
       "      <td>we always go to the chevo's in chandler which ...</td>\n",
       "      <td>3.0</td>\n",
       "      <td>ssuXFjkH4neiBgwv-oN4IA</td>\n",
       "      <td>0.0</td>\n",
       "      <td>422.0</td>\n",
       "    </tr>\n",
       "    <tr>\n",
       "      <th>1</th>\n",
       "      <td>0Rni7ocMC_Lg2UH0lDeKMQ</td>\n",
       "      <td>0</td>\n",
       "      <td>2014-08-09</td>\n",
       "      <td>0.0</td>\n",
       "      <td>DbLUpPT61ykLTakknCF9CQ</td>\n",
       "      <td>1.0</td>\n",
       "      <td>this place is always so dirty and grimy been t...</td>\n",
       "      <td>6.0</td>\n",
       "      <td>ssuXFjkH4neiBgwv-oN4IA</td>\n",
       "      <td>0.0</td>\n",
       "      <td>111.0</td>\n",
       "    </tr>\n",
       "    <tr>\n",
       "      <th>2</th>\n",
       "      <td>S-oLPRdhlyL5HAknBKTUcQ</td>\n",
       "      <td>0</td>\n",
       "      <td>2017-11-30</td>\n",
       "      <td>0.0</td>\n",
       "      <td>z_mVLygzPn8uHp63SSCErw</td>\n",
       "      <td>4.0</td>\n",
       "      <td>holy portion sizes! you get a lot of bang for ...</td>\n",
       "      <td>0.0</td>\n",
       "      <td>MzEnYCyZlRYQRISNMXTWIg</td>\n",
       "      <td>0.0</td>\n",
       "      <td>130.0</td>\n",
       "    </tr>\n",
       "  </tbody>\n",
       "</table>\n",
       "</div>"
      ],
      "text/plain": [
       "              business_id cool        date  funny               review_id  \\\n",
       "0  JlNeaOymdVbE6_bubqjohg    0  2014-08-09    0.0  BF0ANB54sc_f-3_howQBCg   \n",
       "1  0Rni7ocMC_Lg2UH0lDeKMQ    0  2014-08-09    0.0  DbLUpPT61ykLTakknCF9CQ   \n",
       "2  S-oLPRdhlyL5HAknBKTUcQ    0  2017-11-30    0.0  z_mVLygzPn8uHp63SSCErw   \n",
       "\n",
       "   stars                                               text  useful  \\\n",
       "0    1.0  we always go to the chevo's in chandler which ...     3.0   \n",
       "1    1.0  this place is always so dirty and grimy been t...     6.0   \n",
       "2    4.0  holy portion sizes! you get a lot of bang for ...     0.0   \n",
       "\n",
       "                  user_id  is_fast_food  review_len  \n",
       "0  ssuXFjkH4neiBgwv-oN4IA           0.0       422.0  \n",
       "1  ssuXFjkH4neiBgwv-oN4IA           0.0       111.0  \n",
       "2  MzEnYCyZlRYQRISNMXTWIg           0.0       130.0  "
      ]
     },
     "execution_count": 31,
     "metadata": {},
     "output_type": "execute_result"
    }
   ],
   "source": [
    "non_fast_food = reviews[reviews.is_fast_food == 0].copy()\n",
    "non_fast_food.head(3)"
   ]
  },
  {
   "cell_type": "code",
   "execution_count": 19,
   "metadata": {},
   "outputs": [],
   "source": [
    "chipotle_ids = biz[biz.name == 'Chipotle Mexican Grill'].business_id.values"
   ]
  },
  {
   "cell_type": "code",
   "execution_count": 20,
   "metadata": {},
   "outputs": [
    {
     "data": {
      "text/html": [
       "<div>\n",
       "<style scoped>\n",
       "    .dataframe tbody tr th:only-of-type {\n",
       "        vertical-align: middle;\n",
       "    }\n",
       "\n",
       "    .dataframe tbody tr th {\n",
       "        vertical-align: top;\n",
       "    }\n",
       "\n",
       "    .dataframe thead th {\n",
       "        text-align: right;\n",
       "    }\n",
       "</style>\n",
       "<table border=\"1\" class=\"dataframe\">\n",
       "  <thead>\n",
       "    <tr style=\"text-align: right;\">\n",
       "      <th></th>\n",
       "      <th>business_id</th>\n",
       "      <th>cool</th>\n",
       "      <th>date</th>\n",
       "      <th>funny</th>\n",
       "      <th>review_id</th>\n",
       "      <th>stars</th>\n",
       "      <th>text</th>\n",
       "      <th>useful</th>\n",
       "      <th>user_id</th>\n",
       "      <th>is_fast_food</th>\n",
       "      <th>review_len</th>\n",
       "    </tr>\n",
       "  </thead>\n",
       "  <tbody>\n",
       "    <tr>\n",
       "      <th>140</th>\n",
       "      <td>uovqgCcWIqTwUeH_A54t2A</td>\n",
       "      <td>0</td>\n",
       "      <td>2014-05-15</td>\n",
       "      <td>0.0</td>\n",
       "      <td>VSVXCLsGO_MduBX4nfE6dw</td>\n",
       "      <td>2.0</td>\n",
       "      <td>this location is not as stellar as others. the...</td>\n",
       "      <td>1.0</td>\n",
       "      <td>Jt4u7qnfrk35buainfOuGA</td>\n",
       "      <td>1.0</td>\n",
       "      <td>213.0</td>\n",
       "    </tr>\n",
       "    <tr>\n",
       "      <th>177</th>\n",
       "      <td>uovqgCcWIqTwUeH_A54t2A</td>\n",
       "      <td>1</td>\n",
       "      <td>2008-05-10</td>\n",
       "      <td>1.0</td>\n",
       "      <td>-niC6oq1n697C-dIDWaOnA</td>\n",
       "      <td>4.0</td>\n",
       "      <td>i have always been a fan of chipotle's food bu...</td>\n",
       "      <td>2.0</td>\n",
       "      <td>qYxGJKlYrqNgodzMWHaaGw</td>\n",
       "      <td>1.0</td>\n",
       "      <td>1177.0</td>\n",
       "    </tr>\n",
       "    <tr>\n",
       "      <th>213</th>\n",
       "      <td>wAXYLmHuysYTz8i4VPKmaQ</td>\n",
       "      <td>0</td>\n",
       "      <td>2011-02-02</td>\n",
       "      <td>0.0</td>\n",
       "      <td>5MAbf8n0niuIRU1P4rdhZw</td>\n",
       "      <td>4.0</td>\n",
       "      <td>everyone already knows how good chipotle is bu...</td>\n",
       "      <td>0.0</td>\n",
       "      <td>4I_woZLXCO9jaVZvDi18CA</td>\n",
       "      <td>1.0</td>\n",
       "      <td>266.0</td>\n",
       "    </tr>\n",
       "  </tbody>\n",
       "</table>\n",
       "</div>"
      ],
      "text/plain": [
       "                business_id cool        date  funny               review_id  \\\n",
       "140  uovqgCcWIqTwUeH_A54t2A    0  2014-05-15    0.0  VSVXCLsGO_MduBX4nfE6dw   \n",
       "177  uovqgCcWIqTwUeH_A54t2A    1  2008-05-10    1.0  -niC6oq1n697C-dIDWaOnA   \n",
       "213  wAXYLmHuysYTz8i4VPKmaQ    0  2011-02-02    0.0  5MAbf8n0niuIRU1P4rdhZw   \n",
       "\n",
       "     stars                                               text  useful  \\\n",
       "140    2.0  this location is not as stellar as others. the...     1.0   \n",
       "177    4.0  i have always been a fan of chipotle's food bu...     2.0   \n",
       "213    4.0  everyone already knows how good chipotle is bu...     0.0   \n",
       "\n",
       "                    user_id  is_fast_food  review_len  \n",
       "140  Jt4u7qnfrk35buainfOuGA           1.0       213.0  \n",
       "177  qYxGJKlYrqNgodzMWHaaGw           1.0      1177.0  \n",
       "213  4I_woZLXCO9jaVZvDi18CA           1.0       266.0  "
      ]
     },
     "execution_count": 20,
     "metadata": {},
     "output_type": "execute_result"
    }
   ],
   "source": [
    "chipotle_reviews = reviews[reviews.business_id.isin(chipotle_ids)].copy()\n",
    "chipotle_reviews.head(3)"
   ]
  },
  {
   "cell_type": "code",
   "execution_count": 25,
   "metadata": {},
   "outputs": [],
   "source": [
    "def print_top_n_review_topics(model, review, n_topics=5, valid_topics = []):\n",
    "    review_topic_categories = []\n",
    "    for word in review.split(' '):\n",
    "        try:\n",
    "            r = model.get_term_topics(word_id = word)\n",
    "            [review_topic_categories.append(x[0]) for x in r]\n",
    "        except:\n",
    "            pass\n",
    "    \n",
    "    print(review)\n",
    "    print()\n",
    "\n",
    "    top_n_topics = [x[0] for x in Counter(review_topic_categories).most_common(n_topics)]\n",
    "    \n",
    "    if len(valid_topics) > 0:\n",
    "        # prune to only topics we care about\n",
    "        topics = [topic for topic in top_n_topics if topic in valid_topics]\n",
    "    else:\n",
    "        topics = top_n_topics\n",
    "\n",
    "    for n in topics:\n",
    "        print('Topic {:d}'.format(n))\n",
    "        print('\\t{}\\n'.format(model.print_topic(n)))"
   ]
  },
  {
   "cell_type": "code",
   "execution_count": null,
   "metadata": {},
   "outputs": [],
   "source": [
    "# Sample Bad Review topic Assignment"
   ]
  },
  {
   "cell_type": "code",
   "execution_count": 42,
   "metadata": {},
   "outputs": [
    {
     "name": "stdout",
     "output_type": "stream",
     "text": [
      "this place is always so dirty and grimy been there twice and will not be back.  customer service is horrible!!!\n",
      "\n",
      "Topic 12\n",
      "\t0.047*\"dirty\" + 0.045*\"clean\" + 0.039*\"place\" + 0.030*\"food\" + 0.030*\"dining\" + 0.030*\"area\" + 0.030*\"kid\" + 0.026*\"room\" + 0.025*\"bathroom\" + 0.024*\"floor\"\n",
      "\n",
      "Topic 48\n",
      "\t0.089*\"great\" + 0.055*\"food\" + 0.053*\"friendly\" + 0.044*\"service\" + 0.042*\"staff\" + 0.040*\"place\" + 0.025*\"delicious\" + 0.021*\"fresh\" + 0.020*\"clean\" + 0.020*\"awesome\"\n",
      "\n",
      "Topic 35\n",
      "\t0.113*\"customer\" + 0.112*\"service\" + 0.035*\"employee\" + 0.030*\"rude\" + 0.021*\"manager\" + 0.017*\"ever\" + 0.016*\"worst\" + 0.015*\"food\" + 0.015*\"bad\" + 0.015*\"attitude\"\n",
      "\n"
     ]
    }
   ],
   "source": [
    "\n",
    "sample_review = reviews[reviews.review_id == 'DbLUpPT61ykLTakknCF9CQ'].text.values[0]\n",
    "\n",
    "print_top_n_review_topics(ldam_fast_food_501050, sample_review, n_topics=5, valid_topics = [12, 24, 27, 35, 43, 48])"
   ]
  },
  {
   "cell_type": "code",
   "execution_count": null,
   "metadata": {},
   "outputs": [],
   "source": []
  },
  {
   "cell_type": "code",
   "execution_count": null,
   "metadata": {},
   "outputs": [],
   "source": [
    "z_mVLygzPn8uHp63SSCErw"
   ]
  },
  {
   "cell_type": "code",
   "execution_count": null,
   "metadata": {},
   "outputs": [],
   "source": []
  },
  {
   "cell_type": "code",
   "execution_count": null,
   "metadata": {},
   "outputs": [],
   "source": []
  },
  {
   "cell_type": "code",
   "execution_count": null,
   "metadata": {},
   "outputs": [],
   "source": []
  },
  {
   "cell_type": "code",
   "execution_count": 30,
   "metadata": {
    "scrolled": false
   },
   "outputs": [
    {
     "name": "stdout",
     "output_type": "stream",
     "text": [
      "this location is not as stellar as others. they usually have a bit of a wait and the regular employees do not seem thrilled to be there. the food is fine but the customer service alone makes it a chore to stop by.\n",
      "\n",
      "Topic 35\n",
      "\t0.113*\"customer\" + 0.112*\"service\" + 0.035*\"employee\" + 0.030*\"rude\" + 0.021*\"manager\" + 0.017*\"ever\" + 0.016*\"worst\" + 0.015*\"food\" + 0.015*\"bad\" + 0.015*\"attitude\"\n",
      "\n",
      "Topic 43\n",
      "\t0.086*\"order\" + 0.076*\"minute\" + 0.061*\"wait\" + 0.036*\"food\" + 0.031*\"time\" + 0.027*\"line\" + 0.023*\"ready\" + 0.023*\"long\" + 0.023*\"waiting\" + 0.022*\"waited\"\n",
      "\n",
      "================================================================================\n",
      "i have always been a fan of chipotle's food but haven't really been motivated to sit my ample butt down and give them a review.  sure the tasty burritos the size of mom's meatloaf should be worth a few kind words and their delicious guacamole is some of the best at a fast food style mexican place that i have had.\n",
      "\n",
      "what changed my mind and inspired me to write this was a recent article i read in newsweek about the effort they are making to use humanely raised meat and rbgh free dairy.  i am not nearly as conscious as i should be about what i eat.   knowing there is an option to support a business that is helping even in the smallest way would definitely change my mind about where i might fulfill my fast food urges.  they are not using 100% organic and cruelty free but they are doing a whole lot more than most fast food places.  (the pork is 100% humanely raised and they contracted with tyson to get chickens raised specifically for them with a better diet and more room to move around.)  good job chipotle while you may not be perfect at least you are making an effort.\n",
      "\n",
      "if you'd like to learn more here is the newsweek article:  \n",
      "\n",
      "http://www.newsweek.com/id/135376\n",
      "\n",
      "Topic 48\n",
      "\t0.089*\"great\" + 0.055*\"food\" + 0.053*\"friendly\" + 0.044*\"service\" + 0.042*\"staff\" + 0.040*\"place\" + 0.025*\"delicious\" + 0.021*\"fresh\" + 0.020*\"clean\" + 0.020*\"awesome\"\n",
      "\n",
      "================================================================================\n",
      "everyone already knows how good chipotle is but this location has always given us good service they are pretty speedy. they screwed up on on line order we placed once and they fixed it right away and gave a free drink and extra chips really cool we weren't even mad.\n",
      "\n",
      "Topic 48\n",
      "\t0.089*\"great\" + 0.055*\"food\" + 0.053*\"friendly\" + 0.044*\"service\" + 0.042*\"staff\" + 0.040*\"place\" + 0.025*\"delicious\" + 0.021*\"fresh\" + 0.020*\"clean\" + 0.020*\"awesome\"\n",
      "\n",
      "Topic 43\n",
      "\t0.086*\"order\" + 0.076*\"minute\" + 0.061*\"wait\" + 0.036*\"food\" + 0.031*\"time\" + 0.027*\"line\" + 0.023*\"ready\" + 0.023*\"long\" + 0.023*\"waiting\" + 0.022*\"waited\"\n",
      "\n",
      "================================================================================\n",
      "this chipotle has the best customer service.  food is always super fresh and tastes delicious. best location!!\n",
      "\n",
      "Topic 48\n",
      "\t0.089*\"great\" + 0.055*\"food\" + 0.053*\"friendly\" + 0.044*\"service\" + 0.042*\"staff\" + 0.040*\"place\" + 0.025*\"delicious\" + 0.021*\"fresh\" + 0.020*\"clean\" + 0.020*\"awesome\"\n",
      "\n",
      "================================================================================\n",
      "i'm not sure how a mexican'ish place runs out of white rice when it's a main staple but they did. this location is hit or miss. if i were you i'd miss it and head down the road.\n",
      "\n",
      "Topic 12\n",
      "\t0.047*\"dirty\" + 0.045*\"clean\" + 0.039*\"place\" + 0.030*\"food\" + 0.030*\"dining\" + 0.030*\"area\" + 0.030*\"kid\" + 0.026*\"room\" + 0.025*\"bathroom\" + 0.024*\"floor\"\n",
      "\n",
      "================================================================================\n",
      "i like everything about chipotle. i prefer a bowl with easy brown rice heavy fajita veggies strained brown beans chicken two scoops of strained pico de gallo and cheese. i can usually only eat half. i chill the rest and eat it later. i can't decide it i like it better hot or cold. i guess i'll have to come back and eat more to figure it out.\n",
      "\n",
      "================================================================================\n",
      "stopped by for some \"fast food\". i'm not a patient man so i held my breath for two minutes until the fajita veggies were done cooking.  after my face regained color i was thoroughly pleased to receive the steaming hot flavorful addition to my bowl. needless to say that my masterful picks contributed to a fantastic tasting meal. all kidding aside if i could bottle the smell of this resturaunt and place it in my kitchen i'd be the happiest man alive. keep up the good work chipotle i'll be back for sure.\n",
      "\n",
      "Topic 48\n",
      "\t0.089*\"great\" + 0.055*\"food\" + 0.053*\"friendly\" + 0.044*\"service\" + 0.042*\"staff\" + 0.040*\"place\" + 0.025*\"delicious\" + 0.021*\"fresh\" + 0.020*\"clean\" + 0.020*\"awesome\"\n",
      "\n",
      "================================================================================\n",
      "why wait 20 minutes to repeat your order 3 times and then eat a lukewarm bowl of cat food?\n",
      "\n",
      "not a fan but one extra star for the hot sauce because it's actually hot.  skip the steak...\n",
      "\n",
      "Topic 43\n",
      "\t0.086*\"order\" + 0.076*\"minute\" + 0.061*\"wait\" + 0.036*\"food\" + 0.031*\"time\" + 0.027*\"line\" + 0.023*\"ready\" + 0.023*\"long\" + 0.023*\"waiting\" + 0.022*\"waited\"\n",
      "\n",
      "================================================================================\n",
      "um.  i love this joint.  seriously.  it's the vegetarian burrito for me with black beans obv with lots of that hot salsa!  mmmmm!  if i eat the whole thing i'm full for a good 8 hours....and my burrito is always so tasty that yep i'm full for a good 8 hours.  i wish i had the self control to save half for later.  \n",
      "\n",
      "i'd give this 5 stars but i'm kind of a health nut and we all know those white toritillas are def not healthy!\n",
      "\n",
      "Topic 48\n",
      "\t0.089*\"great\" + 0.055*\"food\" + 0.053*\"friendly\" + 0.044*\"service\" + 0.042*\"staff\" + 0.040*\"place\" + 0.025*\"delicious\" + 0.021*\"fresh\" + 0.020*\"clean\" + 0.020*\"awesome\"\n",
      "\n",
      "================================================================================\n",
      "*sniff* i can't believe i was made to cry (on the inside) no less on new year's eve. my hubby and i came here thinking we would split a burrito since i know how big the burritos can be at chipotle.  \n",
      "\n",
      "we waited in line. i watched the two guys in front of me each get 2 tortillas each for their burrito and the girl behind the line really piled on the rice beans and their choice of meat. i was thinking wow these burritos are even bigger than what i remembered. \n",
      "\n",
      "then when it came my turn for my burrito the girl behind the counter took one look at petite me and took out one tortilla and gave me a skimpy serving of rice beans and seriously like 5 pieces of meat. i felt so crest fallen.  i looked at the measly portion that was going to be my burrito i looked at the girl behind the counter and asked why the two guys in front of me got such massive burritos but not me. she just rolled her eyes at me and went on to the next costumer. \n",
      "\n",
      "boy was i disappointed. and i checked too with those two young guys in case they paid extra for their mega massive burritos. nope same price as what i paid. \n",
      "\n",
      "i seriously wanted to take a photo of my burrito next to theirs cause mine would look like the runt of the litter. it was so pathetically so much smaller in size. \n",
      "\n",
      "i thought maybe it was an off night but from reading the other reviews many other customers have received the same uneven service. \n",
      "\n",
      "chipotle corporate you should take note since as corporate you take such pride in providing a good product and service- that is the chipotle brand and signature. \n",
      "\n",
      "well this particular location is not making the grade. \n",
      "\n",
      "and *sniff* now i know what being an unwanted stepchild feels like. *sniff*.\n",
      "\n",
      "Topic 43\n",
      "\t0.086*\"order\" + 0.076*\"minute\" + 0.061*\"wait\" + 0.036*\"food\" + 0.031*\"time\" + 0.027*\"line\" + 0.023*\"ready\" + 0.023*\"long\" + 0.023*\"waiting\" + 0.022*\"waited\"\n",
      "\n",
      "================================================================================\n"
     ]
    }
   ],
   "source": [
    "for rev in chipotle_reviews.text[:10]:\n",
    "    print_top_n_review_topics(ldam_fast_food_501050, rev, n_topics=5, valid_topics = [12, 24, 27, 35, 43, 48])\n",
    "    print('='*80)"
   ]
  },
  {
   "cell_type": "code",
   "execution_count": null,
   "metadata": {},
   "outputs": [],
   "source": []
  }
 ],
 "metadata": {
  "kernelspec": {
   "display_name": "Python 3",
   "language": "python",
   "name": "python3"
  },
  "language_info": {
   "codemirror_mode": {
    "name": "ipython",
    "version": 3
   },
   "file_extension": ".py",
   "mimetype": "text/x-python",
   "name": "python",
   "nbconvert_exporter": "python",
   "pygments_lexer": "ipython3",
   "version": "3.6.3"
  }
 },
 "nbformat": 4,
 "nbformat_minor": 2
}
