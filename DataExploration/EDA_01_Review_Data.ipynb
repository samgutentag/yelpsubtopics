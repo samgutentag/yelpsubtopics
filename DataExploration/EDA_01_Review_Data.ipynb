{
 "cells": [
  {
   "cell_type": "markdown",
   "metadata": {},
   "source": [
    "# Review Data EDA"
   ]
  },
  {
   "cell_type": "code",
   "execution_count": 1,
   "metadata": {},
   "outputs": [],
   "source": [
    "%matplotlib inline\n",
    "import numpy as np\n",
    "import math\n",
    "import matplotlib.pyplot as plt\n",
    "import pandas as pd\n",
    "import datetime\n",
    "from glob import glob\n",
    "\n",
    "import seaborn as sns\n",
    "sns.set_style('whitegrid')\n",
    "sns.set_context(\"poster\")"
   ]
  },
  {
   "cell_type": "code",
   "execution_count": 2,
   "metadata": {},
   "outputs": [],
   "source": [
    "def time_marker(text=''):\n",
    "    print('[{}] {}'.format(datetime.datetime.now().time(), text))"
   ]
  },
  {
   "cell_type": "code",
   "execution_count": 3,
   "metadata": {},
   "outputs": [
    {
     "data": {
      "text/html": [
       "<style>.container { width:95% !important; }</style>"
      ],
      "text/plain": [
       "<IPython.core.display.HTML object>"
      ]
     },
     "metadata": {},
     "output_type": "display_data"
    }
   ],
   "source": [
    "from IPython.core.display import display, HTML\n",
    "display(HTML(\"<style>.container { width:95% !important; }</style>\"))\n",
    "\n",
    "import matplotlib\n",
    "font = {'size' : 50}\n",
    "matplotlib.rc('font', **font)\n",
    "\n",
    "TITLE_FONT_SIZE = 25\n",
    "LABEL_FONT_SIZE = 15\n",
    "TICK_FONT_SIZE  = 15\n",
    "\n",
    "FIG_SIZE = (15,6)\n",
    "FIG_SIZE_SHORT = (15,3)\n",
    "GRID_DIMS = 15\n",
    "\n",
    "DO_WRITE_CHARTS = False"
   ]
  },
  {
   "cell_type": "code",
   "execution_count": 4,
   "metadata": {},
   "outputs": [],
   "source": [
    "fname = '../clean_data/_analysis/us_restaurant_bids.txt'\n",
    "\n",
    "with open(fname) as f:\n",
    "    us_rest_bids = f.readlines()\n",
    "us_rest_bids = [x.strip() for x in us_rest_bids] "
   ]
  },
  {
   "cell_type": "markdown",
   "metadata": {},
   "source": [
    "# Load Review Data for US Restaurants"
   ]
  },
  {
   "cell_type": "code",
   "execution_count": 5,
   "metadata": {
    "scrolled": true
   },
   "outputs": [
    {
     "name": "stdout",
     "output_type": "stream",
     "text": [
      "[16:27:35.795121] Loading Review Data...\n",
      "[16:27:35.798369] Reading 1 of 64 ../clean_data/reviews/00_-_reviews_clean.csv...\n",
      "[16:27:37.223653] Reading 2 of 64 ../clean_data/reviews/01_0_reviews_clean.csv...\n",
      "[16:27:38.683625] Reading 3 of 64 ../clean_data/reviews/02_1_reviews_clean.csv...\n",
      "[16:27:39.891529] Reading 4 of 64 ../clean_data/reviews/03_2_reviews_clean.csv...\n",
      "[16:27:41.434985] Reading 5 of 64 ../clean_data/reviews/04_3_reviews_clean.csv...\n",
      "[16:27:42.964969] Reading 6 of 64 ../clean_data/reviews/05_4_reviews_clean.csv...\n",
      "[16:27:44.371412] Reading 7 of 64 ../clean_data/reviews/06_5_reviews_clean.csv...\n",
      "[16:27:46.049393] Reading 8 of 64 ../clean_data/reviews/07_6_reviews_clean.csv...\n",
      "[16:27:47.453601] Reading 9 of 64 ../clean_data/reviews/08_7_reviews_clean.csv...\n",
      "[16:27:48.800691] Reading 10 of 64 ../clean_data/reviews/09_8_reviews_clean.csv...\n",
      "[16:27:49.983931] Reading 11 of 64 ../clean_data/reviews/10_9_reviews_clean.csv...\n",
      "[16:27:51.304089] Reading 12 of 64 ../clean_data/reviews/11_A_reviews_clean.csv...\n",
      "[16:27:53.081984] Reading 13 of 64 ../clean_data/reviews/12_B_reviews_clean.csv...\n",
      "[16:27:54.530516] Reading 14 of 64 ../clean_data/reviews/13_C_reviews_clean.csv...\n",
      "[16:27:55.837682] Reading 15 of 64 ../clean_data/reviews/14_D_reviews_clean.csv...\n",
      "[16:27:57.221813] Reading 16 of 64 ../clean_data/reviews/15_E_reviews_clean.csv...\n",
      "[16:27:58.683623] Reading 17 of 64 ../clean_data/reviews/16_F_reviews_clean.csv...\n",
      "[16:27:59.952919] Reading 18 of 64 ../clean_data/reviews/17_G_reviews_clean.csv...\n",
      "[16:28:01.190133] Reading 19 of 64 ../clean_data/reviews/18_H_reviews_clean.csv...\n",
      "[16:28:02.468719] Reading 20 of 64 ../clean_data/reviews/19_I_reviews_clean.csv...\n",
      "[16:28:03.913806] Reading 21 of 64 ../clean_data/reviews/20_J_reviews_clean.csv...\n",
      "[16:28:06.738156] Reading 22 of 64 ../clean_data/reviews/21_K_reviews_clean.csv...\n",
      "[16:28:08.262278] Reading 23 of 64 ../clean_data/reviews/22_L_reviews_clean.csv...\n",
      "[16:28:09.811582] Reading 24 of 64 ../clean_data/reviews/23_M_reviews_clean.csv...\n",
      "[16:28:11.102185] Reading 25 of 64 ../clean_data/reviews/24_N_reviews_clean.csv...\n",
      "[16:28:12.487398] Reading 26 of 64 ../clean_data/reviews/25_O_reviews_clean.csv...\n",
      "[16:28:14.013962] Reading 27 of 64 ../clean_data/reviews/26_P_reviews_clean.csv...\n",
      "[16:28:15.393292] Reading 28 of 64 ../clean_data/reviews/27_Q_reviews_clean.csv...\n",
      "[16:28:16.859082] Reading 29 of 64 ../clean_data/reviews/28_R_reviews_clean.csv...\n",
      "[16:28:18.336203] Reading 30 of 64 ../clean_data/reviews/29_S_reviews_clean.csv...\n",
      "[16:28:19.711388] Reading 31 of 64 ../clean_data/reviews/30_T_reviews_clean.csv...\n",
      "[16:28:20.938226] Reading 32 of 64 ../clean_data/reviews/31_U_reviews_clean.csv...\n",
      "[16:28:22.330632] Reading 33 of 64 ../clean_data/reviews/32_V_reviews_clean.csv...\n",
      "[16:28:23.700367] Reading 34 of 64 ../clean_data/reviews/33_W_reviews_clean.csv...\n",
      "[16:28:25.058119] Reading 35 of 64 ../clean_data/reviews/34_X_reviews_clean.csv...\n",
      "[16:28:26.457493] Reading 36 of 64 ../clean_data/reviews/35_Y_reviews_clean.csv...\n",
      "[16:28:27.789413] Reading 37 of 64 ../clean_data/reviews/36_Z_reviews_clean.csv...\n",
      "[16:28:29.767784] Reading 38 of 64 ../clean_data/reviews/37___reviews_clean.csv...\n",
      "[16:28:30.963712] Reading 39 of 64 ../clean_data/reviews/38_a_reviews_clean.csv...\n",
      "[16:28:32.407314] Reading 40 of 64 ../clean_data/reviews/39_b_reviews_clean.csv...\n",
      "[16:28:33.644531] Reading 41 of 64 ../clean_data/reviews/40_c_reviews_clean.csv...\n",
      "[16:28:35.025521] Reading 42 of 64 ../clean_data/reviews/41_d_reviews_clean.csv...\n",
      "[16:28:36.406402] Reading 43 of 64 ../clean_data/reviews/42_e_reviews_clean.csv...\n",
      "[16:28:38.312826] Reading 44 of 64 ../clean_data/reviews/43_f_reviews_clean.csv...\n",
      "[16:28:39.874888] Reading 45 of 64 ../clean_data/reviews/44_g_reviews_clean.csv...\n",
      "[16:28:42.195586] Reading 46 of 64 ../clean_data/reviews/45_h_reviews_clean.csv...\n",
      "[16:28:43.623232] Reading 47 of 64 ../clean_data/reviews/46_i_reviews_clean.csv...\n",
      "[16:28:45.106526] Reading 48 of 64 ../clean_data/reviews/47_j_reviews_clean.csv...\n",
      "[16:28:46.324349] Reading 49 of 64 ../clean_data/reviews/48_k_reviews_clean.csv...\n",
      "[16:28:47.501635] Reading 50 of 64 ../clean_data/reviews/49_l_reviews_clean.csv...\n",
      "[16:28:48.690161] Reading 51 of 64 ../clean_data/reviews/50_m_reviews_clean.csv...\n",
      "[16:28:50.019768] Reading 52 of 64 ../clean_data/reviews/51_n_reviews_clean.csv...\n",
      "[16:28:51.322492] Reading 53 of 64 ../clean_data/reviews/52_o_reviews_clean.csv...\n",
      "[16:28:52.730574] Reading 54 of 64 ../clean_data/reviews/53_p_reviews_clean.csv...\n",
      "[16:28:54.223990] Reading 55 of 64 ../clean_data/reviews/54_q_reviews_clean.csv...\n",
      "[16:28:55.738396] Reading 56 of 64 ../clean_data/reviews/55_r_reviews_clean.csv...\n",
      "[16:28:57.115711] Reading 57 of 64 ../clean_data/reviews/56_s_reviews_clean.csv...\n",
      "[16:28:58.517942] Reading 58 of 64 ../clean_data/reviews/57_t_reviews_clean.csv...\n",
      "[16:28:59.883516] Reading 59 of 64 ../clean_data/reviews/58_u_reviews_clean.csv...\n",
      "[16:29:01.838647] Reading 60 of 64 ../clean_data/reviews/59_v_reviews_clean.csv...\n",
      "[16:29:03.133818] Reading 61 of 64 ../clean_data/reviews/60_w_reviews_clean.csv...\n",
      "[16:29:04.636336] Reading 62 of 64 ../clean_data/reviews/61_x_reviews_clean.csv...\n",
      "[16:29:05.832966] Reading 63 of 64 ../clean_data/reviews/62_y_reviews_clean.csv...\n",
      "[16:29:08.075683] Reading 64 of 64 ../clean_data/reviews/63_z_reviews_clean.csv...\n",
      "[16:29:09.725415] merging to dataframe...\n",
      "[16:29:12.956546] reseting index...\n",
      "[16:29:12.978854] Complete!\n"
     ]
    }
   ],
   "source": [
    "time_marker(text='Loading Review Data...')\n",
    "\n",
    "reviews = pd.DataFrame()\n",
    "file_path_slug = '../clean_data/reviews/*.csv'\n",
    "file_list = glob(file_path_slug)\n",
    "\n",
    "# Chunk Settings\n",
    "chunks = list()\n",
    "chunksize = 10000\n",
    "for ii, file in enumerate(sorted(file_list)):\n",
    "    time_marker('Reading {} of {} {}...'.format(ii+1, len(file_list), file))\n",
    "    num_chunks = math.ceil(sum(1 for row in open(file, 'r'))/chunksize)\n",
    "    format_width = len(str(num_chunks))\n",
    "\n",
    "    # import file in chunks\n",
    "    for jj, chunk in enumerate(pd.read_csv(file, chunksize=chunksize, iterator=True, index_col=0, parse_dates=['date'])):\n",
    "\n",
    "        # only consider reviews for businesses that are US Restaurants\n",
    "        chunk = chunk[chunk.business_id.isin(us_rest_bids)].copy()\n",
    "        \n",
    "        # drop reviews with missing review text\n",
    "        chunk = chunk[(~chunk.text.isnull()) & (~chunk.user_id.isnull())].copy()\n",
    "        \n",
    "        # append chunk to chunks list\n",
    "        chunks.append(chunk)\n",
    "        \n",
    "time_marker(text='merging to dataframe...')\n",
    "reviews = pd.concat(chunks)\n",
    "\n",
    "time_marker('reseting index...')\n",
    "reviews.reset_index(inplace=True, drop=True)\n",
    "time_marker(text='Complete!')\n"
   ]
  },
  {
   "cell_type": "code",
   "execution_count": 6,
   "metadata": {},
   "outputs": [],
   "source": [
    "reviews['date'] = pd.to_datetime(reviews['date'])\n",
    "\n",
    "reviews['cool']             = reviews['cool'].astype(int)\n",
    "reviews['funny']            = reviews['funny'].astype(int)\n",
    "reviews['stars']            = reviews['stars'].astype(int)\n",
    "\n",
    "reviews['useful'].fillna(0, inplace=True)\n",
    "reviews['useful']           = reviews['useful'].astype(int)\n",
    "\n",
    "reviews['review_length']    = reviews['review_length'].astype(int)"
   ]
  },
  {
   "cell_type": "code",
   "execution_count": 7,
   "metadata": {
    "scrolled": true
   },
   "outputs": [
    {
     "data": {
      "text/html": [
       "<div>\n",
       "<style scoped>\n",
       "    .dataframe tbody tr th:only-of-type {\n",
       "        vertical-align: middle;\n",
       "    }\n",
       "\n",
       "    .dataframe tbody tr th {\n",
       "        vertical-align: top;\n",
       "    }\n",
       "\n",
       "    .dataframe thead th {\n",
       "        text-align: right;\n",
       "    }\n",
       "</style>\n",
       "<table border=\"1\" class=\"dataframe\">\n",
       "  <thead>\n",
       "    <tr style=\"text-align: right;\">\n",
       "      <th></th>\n",
       "      <th>business_id</th>\n",
       "      <th>cool</th>\n",
       "      <th>date</th>\n",
       "      <th>funny</th>\n",
       "      <th>review_id</th>\n",
       "      <th>stars</th>\n",
       "      <th>text</th>\n",
       "      <th>useful</th>\n",
       "      <th>user_id</th>\n",
       "      <th>review_length</th>\n",
       "    </tr>\n",
       "  </thead>\n",
       "  <tbody>\n",
       "    <tr>\n",
       "      <th>0</th>\n",
       "      <td>-gTX7XKGOntF2FQ1EDxHpA</td>\n",
       "      <td>0</td>\n",
       "      <td>2016-07-21</td>\n",
       "      <td>0</td>\n",
       "      <td>8BJUlXtGvVpkNq663suBUw</td>\n",
       "      <td>1</td>\n",
       "      <td>went thru the drive thru and could hardly unde...</td>\n",
       "      <td>0</td>\n",
       "      <td>AKtCpeBdst-OFYNmsfJgiw</td>\n",
       "      <td>336</td>\n",
       "    </tr>\n",
       "    <tr>\n",
       "      <th>1</th>\n",
       "      <td>-gTX7XKGOntF2FQ1EDxHpA</td>\n",
       "      <td>1</td>\n",
       "      <td>2017-07-25</td>\n",
       "      <td>0</td>\n",
       "      <td>umGwYIfHbKjj5Tvi2o4Oog</td>\n",
       "      <td>1</td>\n",
       "      <td>everytime i come here something is wrong a few...</td>\n",
       "      <td>1</td>\n",
       "      <td>5vTqiawndUhSPAqDMhPr5Q</td>\n",
       "      <td>293</td>\n",
       "    </tr>\n",
       "    <tr>\n",
       "      <th>2</th>\n",
       "      <td>-gTX7XKGOntF2FQ1EDxHpA</td>\n",
       "      <td>1</td>\n",
       "      <td>2015-10-18</td>\n",
       "      <td>1</td>\n",
       "      <td>mjiQ2bNWFTbuzdQN0IVcJw</td>\n",
       "      <td>1</td>\n",
       "      <td>bad decision  extra crispy was not rollsbiscui...</td>\n",
       "      <td>3</td>\n",
       "      <td>7-nbzoSmoMzwo2fbetoycQ</td>\n",
       "      <td>228</td>\n",
       "    </tr>\n",
       "    <tr>\n",
       "      <th>3</th>\n",
       "      <td>-gTX7XKGOntF2FQ1EDxHpA</td>\n",
       "      <td>0</td>\n",
       "      <td>2017-03-15</td>\n",
       "      <td>0</td>\n",
       "      <td>pH-8G3AXXqQ6FyTAMEYRmQ</td>\n",
       "      <td>1</td>\n",
       "      <td>walked in staff chateering since there was no ...</td>\n",
       "      <td>0</td>\n",
       "      <td>zy96ykN5Djp8-HoXTBtzJg</td>\n",
       "      <td>378</td>\n",
       "    </tr>\n",
       "    <tr>\n",
       "      <th>4</th>\n",
       "      <td>-luHD_D1L22l0rYvNWyWFQ</td>\n",
       "      <td>0</td>\n",
       "      <td>2014-12-19</td>\n",
       "      <td>0</td>\n",
       "      <td>IUENqKWGxon41TpqKq1DXw</td>\n",
       "      <td>5</td>\n",
       "      <td>the eggplant parmesan is fabulous   my friend ...</td>\n",
       "      <td>0</td>\n",
       "      <td>DmUSvFMmj0ja8iz7xgPeqQ</td>\n",
       "      <td>191</td>\n",
       "    </tr>\n",
       "  </tbody>\n",
       "</table>\n",
       "</div>"
      ],
      "text/plain": [
       "              business_id  cool       date  funny               review_id  \\\n",
       "0  -gTX7XKGOntF2FQ1EDxHpA     0 2016-07-21      0  8BJUlXtGvVpkNq663suBUw   \n",
       "1  -gTX7XKGOntF2FQ1EDxHpA     1 2017-07-25      0  umGwYIfHbKjj5Tvi2o4Oog   \n",
       "2  -gTX7XKGOntF2FQ1EDxHpA     1 2015-10-18      1  mjiQ2bNWFTbuzdQN0IVcJw   \n",
       "3  -gTX7XKGOntF2FQ1EDxHpA     0 2017-03-15      0  pH-8G3AXXqQ6FyTAMEYRmQ   \n",
       "4  -luHD_D1L22l0rYvNWyWFQ     0 2014-12-19      0  IUENqKWGxon41TpqKq1DXw   \n",
       "\n",
       "   stars                                               text  useful  \\\n",
       "0      1  went thru the drive thru and could hardly unde...       0   \n",
       "1      1  everytime i come here something is wrong a few...       1   \n",
       "2      1  bad decision  extra crispy was not rollsbiscui...       3   \n",
       "3      1  walked in staff chateering since there was no ...       0   \n",
       "4      5  the eggplant parmesan is fabulous   my friend ...       0   \n",
       "\n",
       "                  user_id  review_length  \n",
       "0  AKtCpeBdst-OFYNmsfJgiw            336  \n",
       "1  5vTqiawndUhSPAqDMhPr5Q            293  \n",
       "2  7-nbzoSmoMzwo2fbetoycQ            228  \n",
       "3  zy96ykN5Djp8-HoXTBtzJg            378  \n",
       "4  DmUSvFMmj0ja8iz7xgPeqQ            191  "
      ]
     },
     "execution_count": 7,
     "metadata": {},
     "output_type": "execute_result"
    }
   ],
   "source": [
    "reviews.head()"
   ]
  },
  {
   "cell_type": "code",
   "execution_count": 8,
   "metadata": {
    "scrolled": false
   },
   "outputs": [
    {
     "name": "stdout",
     "output_type": "stream",
     "text": [
      "<class 'pandas.core.frame.DataFrame'>\n",
      "RangeIndex: 1323672 entries, 0 to 1323671\n",
      "Data columns (total 10 columns):\n",
      "business_id      1323672 non-null object\n",
      "cool             1323672 non-null int64\n",
      "date             1323672 non-null datetime64[ns]\n",
      "funny            1323672 non-null int64\n",
      "review_id        1323672 non-null object\n",
      "stars            1323672 non-null int64\n",
      "text             1323672 non-null object\n",
      "useful           1323672 non-null int64\n",
      "user_id          1323672 non-null object\n",
      "review_length    1323672 non-null int64\n",
      "dtypes: datetime64[ns](1), int64(5), object(4)\n",
      "memory usage: 101.0+ MB\n"
     ]
    }
   ],
   "source": [
    "reviews.info()"
   ]
  },
  {
   "cell_type": "code",
   "execution_count": 9,
   "metadata": {},
   "outputs": [
    {
     "name": "stdout",
     "output_type": "stream",
     "text": [
      "     19976 unique business_id     values\n",
      "       118 unique cool            values\n",
      "      4305 unique date            values\n",
      "       102 unique funny           values\n",
      "   1323672 unique review_id       values\n",
      "         5 unique stars           values\n",
      "   1323232 unique text            values\n",
      "       127 unique useful          values\n",
      "    496209 unique user_id         values\n",
      "      4819 unique review_length   values\n"
     ]
    }
   ],
   "source": [
    "for col in reviews.columns:\n",
    "    print('{} unique {} values'.format(str(len(reviews[col].unique())).rjust(10), col.ljust(15)))"
   ]
  },
  {
   "cell_type": "markdown",
   "metadata": {},
   "source": [
    "# Exploratory Data Analysis"
   ]
  },
  {
   "cell_type": "code",
   "execution_count": 10,
   "metadata": {},
   "outputs": [
    {
     "data": {
      "image/png": "[encoded data removed]",
      "text/plain": [
       "<matplotlib.figure.Figure at 0x1a24340978>"
      ]
     },
     "metadata": {},
     "output_type": "display_data"
    }
   ],
   "source": [
    "ax = plt.figure(figsize=FIG_SIZE)\n",
    "ax = sns.countplot(x=\"stars\", data=reviews, palette=\"Reds\")\n",
    "\n",
    "ax.set_xlabel('Review Stars', size=LABEL_FONT_SIZE)\n",
    "ax.set_ylabel('Number of Reviews', size=LABEL_FONT_SIZE)\n",
    "ax.set_title('Review Star Distribution', size=TITLE_FONT_SIZE)\n",
    "\n",
    "plt.show()\n",
    "plt.close()\n"
   ]
  },
  {
   "cell_type": "code",
   "execution_count": 11,
   "metadata": {},
   "outputs": [
    {
     "data": {
      "image/png": "[encoded data removed]",
      "text/plain": [
       "<matplotlib.figure.Figure at 0x1a242f8ac8>"
      ]
     },
     "metadata": {},
     "output_type": "display_data"
    }
   ],
   "source": [
    "ax = plt.figure(figsize=FIG_SIZE)\n",
    "ax = sns.boxplot(x=\"stars\", y=\"review_length\", data=reviews, palette=\"Reds\")\n",
    "\n",
    "ax.set_xlabel('Review Stars', size=LABEL_FONT_SIZE)\n",
    "ax.set_ylabel('Reviews Length', size=LABEL_FONT_SIZE)\n",
    "ax.set_title('Review Length vs Stars', size=TITLE_FONT_SIZE)\n",
    "\n",
    "ax.set_ylim([0,2000])\n",
    "\n",
    "plt.show()\n",
    "plt.close()"
   ]
  },
  {
   "cell_type": "code",
   "execution_count": 12,
   "metadata": {},
   "outputs": [
    {
     "name": "stdout",
     "output_type": "stream",
     "text": [
      "Total number of reviews\t\t\t1323672\n",
      "Number of reviews tagged as 'cool'\t 309855\t23.4087\n",
      "Number of reviews tagged as 'funny'\t 248310\t18.7592\n",
      "Number of reviews tagged as 'useful'\t 526026\t39.7399\n"
     ]
    }
   ],
   "source": [
    "print('Total number of reviews\\t\\t\\t{:d}'.format(reviews.shape[0]))\n",
    "print('Number of reviews tagged as \\'cool\\'\\t {:d}\\t{:2.4f}'.format(reviews[reviews.cool > 0].shape[0], (reviews[reviews.cool > 0].shape[0]/reviews.shape[0]*100.)))\n",
    "print('Number of reviews tagged as \\'funny\\'\\t {:d}\\t{:2.4f}'.format(reviews[reviews.funny > 0].shape[0], (reviews[reviews.funny > 0].shape[0]/reviews.shape[0]*100.)))\n",
    "print('Number of reviews tagged as \\'useful\\'\\t {:d}\\t{:2.4f}'.format(reviews[reviews.useful > 0].shape[0], (reviews[reviews.useful > 0].shape[0]/reviews.shape[0]*100.)))"
   ]
  },
  {
   "cell_type": "code",
   "execution_count": null,
   "metadata": {},
   "outputs": [],
   "source": []
  }
 ],
 "metadata": {
  "kernelspec": {
   "display_name": "Python 3",
   "language": "python",
   "name": "python3"
  },
  "language_info": {
   "codemirror_mode": {
    "name": "ipython",
    "version": 3
   },
   "file_extension": ".py",
   "mimetype": "text/x-python",
   "name": "python",
   "nbconvert_exporter": "python",
   "pygments_lexer": "ipython3",
   "version": "3.6.3"
  }
 },
 "nbformat": 4,
 "nbformat_minor": 2
}
