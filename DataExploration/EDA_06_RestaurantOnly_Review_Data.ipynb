{
 "cells": [
  {
   "cell_type": "markdown",
   "metadata": {},
   "source": [
    "# Review Data EDA"
   ]
  },
  {
   "cell_type": "code",
   "execution_count": 1,
   "metadata": {},
   "outputs": [],
   "source": [
    "%matplotlib inline\n",
    "import numpy as np\n",
    "import math\n",
    "import matplotlib.pyplot as plt\n",
    "import pandas as pd\n",
    "import datetime\n",
    "from glob import glob\n",
    "\n",
    "import seaborn as sns\n",
    "sns.set_style('whitegrid')\n",
    "sns.set_context(\"poster\")"
   ]
  },
  {
   "cell_type": "code",
   "execution_count": 2,
   "metadata": {},
   "outputs": [],
   "source": [
    "def time_marker(text=''):\n",
    "    print('[{}] {}'.format(datetime.datetime.now().time(), text))"
   ]
  },
  {
   "cell_type": "code",
   "execution_count": 3,
   "metadata": {},
   "outputs": [],
   "source": [
    "from IPython.core.display import display, HTML\n",
    "display(HTML(\"<style>.container { width:95% !important; }</style>\"))\n",
    "\n",
    "import matplotlib\n",
    "font = {'size' : 50}\n",
    "matplotlib.rc('font', **font)\n",
    "\n",
    "TITLE_FONT_SIZE = 25\n",
    "LABEL_FONT_SIZE = 15\n",
    "TICK_FONT_SIZE  = 15\n",
    "\n",
    "FIG_SIZE = (15,6)\n",
    "FIG_SIZE_SHORT = (15,3)\n",
    "GRID_DIMS = 15\n",
    "\n",
    "DO_WRITE_CHARTS = False\n",
    "DRY_RUN = False"
   ]
  },
  {
   "cell_type": "markdown",
   "metadata": {},
   "source": [
    "# Load Restaurant Business Data"
   ]
  },
  {
   "cell_type": "code",
   "execution_count": 4,
   "metadata": {},
   "outputs": [],
   "source": [
    "restaurants = pd.read_csv('../clean_data/_analysis/restaurants.csv', index_col=0)\n",
    "\n",
    "restaurant_ids = list(restaurants.business_id)\n",
    "print('Collected {:d} restaurant business_ids'.format(len(restaurant_ids)))"
   ]
  },
  {
   "cell_type": "markdown",
   "metadata": {},
   "source": [
    "# Load Review Data"
   ]
  },
  {
   "cell_type": "code",
   "execution_count": 5,
   "metadata": {
    "scrolled": true
   },
   "outputs": [
    {
     "name": "stdout",
     "output_type": "stream",
     "text": [
      "[15:27:51.807244] Reading 17 of 64 ../clean_data/reviews/16_F_reviews_clean.csv...\n",
      "[15:27:53.089856] Reading 18 of 64 ../clean_data/reviews/17_G_reviews_clean.csv...\n",
      "[15:27:54.358701] Reading 19 of 64 ../clean_data/reviews/18_H_reviews_clean.csv...\n",
      "[15:27:55.656524] Reading 20 of 64 ../clean_data/reviews/19_I_reviews_clean.csv...\n",
      "[15:27:56.987722] Reading 21 of 64 ../clean_data/reviews/20_J_reviews_clean.csv...\n",
      "[15:27:59.409851] Reading 22 of 64 ../clean_data/reviews/21_K_reviews_clean.csv...\n",
      "[15:28:01.142831] Reading 23 of 64 ../clean_data/reviews/22_L_reviews_clean.csv...\n",
      "[15:28:02.750377] Reading 24 of 64 ../clean_data/reviews/23_M_reviews_clean.csv...\n",
      "[15:28:04.140480] Reading 25 of 64 ../clean_data/reviews/24_N_reviews_clean.csv...\n",
      "[15:28:05.595194] Reading 26 of 64 ../clean_data/reviews/25_O_reviews_clean.csv...\n",
      "[15:28:07.119103] Reading 27 of 64 ../clean_data/reviews/26_P_reviews_clean.csv...\n",
      "[15:28:08.434325] Reading 28 of 64 ../clean_data/reviews/27_Q_reviews_clean.csv...\n",
      "[15:28:09.712060] Reading 29 of 64 ../clean_data/reviews/28_R_reviews_clean.csv...\n",
      "[15:28:11.178797] Reading 30 of 64 ../clean_data/reviews/29_S_reviews_clean.csv...\n",
      "[15:28:12.626468] Reading 31 of 64 ../clean_data/reviews/30_T_reviews_clean.csv...\n",
      "[15:28:13.882726] Reading 32 of 64 ../clean_data/reviews/31_U_reviews_clean.csv...\n",
      "[15:28:15.234491] Reading 33 of 64 ../clean_data/reviews/32_V_reviews_clean.csv...\n",
      "[15:28:16.560222] Reading 34 of 64 ../clean_data/reviews/33_W_reviews_clean.csv...\n",
      "[15:28:17.877461] Reading 35 of 64 ../clean_data/reviews/34_X_reviews_clean.csv...\n",
      "[15:28:19.283219] Reading 36 of 64 ../clean_data/reviews/35_Y_reviews_clean.csv...\n",
      "[15:28:20.690587] Reading 37 of 64 ../clean_data/reviews/36_Z_reviews_clean.csv...\n",
      "[15:28:22.657320] Reading 38 of 64 ../clean_data/reviews/37___reviews_clean.csv...\n",
      "[15:28:23.892582] Reading 39 of 64 ../clean_data/reviews/38_a_reviews_clean.csv...\n",
      "[15:28:25.310863] Reading 40 of 64 ../clean_data/reviews/39_b_reviews_clean.csv...\n",
      "[15:28:26.579080] Reading 41 of 64 ../clean_data/reviews/40_c_reviews_clean.csv...\n",
      "[15:28:27.887531] Reading 42 of 64 ../clean_data/reviews/41_d_reviews_clean.csv...\n",
      "[15:28:29.173651] Reading 43 of 64 ../clean_data/reviews/42_e_reviews_clean.csv...\n",
      "[15:28:31.128624] Reading 44 of 64 ../clean_data/reviews/43_f_reviews_clean.csv...\n",
      "[15:28:32.624183] Reading 45 of 64 ../clean_data/reviews/44_g_reviews_clean.csv...\n",
      "[15:28:34.847391] Reading 46 of 64 ../clean_data/reviews/45_h_reviews_clean.csv...\n",
      "[15:28:36.139259] Reading 47 of 64 ../clean_data/reviews/46_i_reviews_clean.csv...\n",
      "[15:28:37.412896] Reading 48 of 64 ../clean_data/reviews/47_j_reviews_clean.csv...\n",
      "[15:28:38.646848] Reading 49 of 64 ../clean_data/reviews/48_k_reviews_clean.csv...\n",
      "[15:28:39.897780] Reading 50 of 64 ../clean_data/reviews/49_l_reviews_clean.csv...\n",
      "[15:28:41.002642] Reading 51 of 64 ../clean_data/reviews/50_m_reviews_clean.csv...\n",
      "[15:28:42.299048] Reading 52 of 64 ../clean_data/reviews/51_n_reviews_clean.csv...\n",
      "[15:28:43.531944] Reading 53 of 64 ../clean_data/reviews/52_o_reviews_clean.csv...\n",
      "[15:28:44.831152] Reading 54 of 64 ../clean_data/reviews/53_p_reviews_clean.csv...\n",
      "[15:28:46.227028] Reading 55 of 64 ../clean_data/reviews/54_q_reviews_clean.csv...\n",
      "[15:28:47.513288] Reading 56 of 64 ../clean_data/reviews/55_r_reviews_clean.csv...\n",
      "[15:28:48.725728] Reading 57 of 64 ../clean_data/reviews/56_s_reviews_clean.csv...\n",
      "[15:28:49.995418] Reading 58 of 64 ../clean_data/reviews/57_t_reviews_clean.csv...\n",
      "[15:28:51.223606] Reading 59 of 64 ../clean_data/reviews/58_u_reviews_clean.csv...\n",
      "[15:28:53.107119] Reading 60 of 64 ../clean_data/reviews/59_v_reviews_clean.csv...\n",
      "[15:28:54.316784] Reading 61 of 64 ../clean_data/reviews/60_w_reviews_clean.csv...\n",
      "[15:28:55.702516] Reading 62 of 64 ../clean_data/reviews/61_x_reviews_clean.csv...\n",
      "[15:28:56.966577] Reading 63 of 64 ../clean_data/reviews/62_y_reviews_clean.csv...\n",
      "[15:28:59.018819] Reading 64 of 64 ../clean_data/reviews/63_z_reviews_clean.csv...\n",
      "[15:29:00.361597] merging to dataframe...\n",
      "[15:29:04.044651] reseting index...\n",
      "[15:29:04.074970] Complete!\n"
     ]
    }
   ],
   "source": [
    "time_marker(text='Loading Review Data...')\n",
    "\n",
    "reviews = pd.DataFrame()\n",
    "file_path_slug = '../clean_data/reviews/*.csv'\n",
    "file_list = glob(file_path_slug)\n",
    "\n",
    "\n",
    "# Chunk Settings\n",
    "chunks = list()\n",
    "chunksize = 10000\n",
    "for ii, file in enumerate(sorted(file_list)):\n",
    "    time_marker('Reading {} of {} {}...'.format(ii+1, len(file_list), file))\n",
    "    num_chunks = math.ceil(sum(1 for row in open(file, 'r'))/chunksize)\n",
    "    format_width = len(str(num_chunks))\n",
    "\n",
    "    # import file in chunks\n",
    "    for jj, chunk in enumerate(pd.read_csv(file, chunksize=chunksize, iterator=True, index_col=0, parse_dates=['date'])):\n",
    "\n",
    "        # drop reviews with missing review text\n",
    "        chunk = chunk[(~chunk.text.isnull()) & (~chunk.user_id.isnull())].copy()\n",
    "        \n",
    "        # drop reviews for businesses not in restarunt business_id list\n",
    "        chunk = chunk[chunk.business_id.isin(restaurant_ids)].copy()\n",
    "        \n",
    "        # append chunk to chunks list\n",
    "        chunks.append(chunk)\n",
    "        \n",
    "time_marker(text='merging to dataframe...')\n",
    "reviews = pd.concat(chunks)\n",
    "\n",
    "time_marker('reseting index...')\n",
    "reviews.reset_index(inplace=True, drop=True)\n",
    "time_marker(text='Complete!')\n"
   ]
  },
  {
   "cell_type": "code",
   "execution_count": 6,
   "metadata": {},
   "outputs": [],
   "source": [
    "reviews['date'] = pd.to_datetime(reviews['date'])\n",
    "\n",
    "reviews['cool']             = reviews['cool'].astype(int)\n",
    "reviews['funny']            = reviews['funny'].astype(int)\n",
    "reviews['stars']            = reviews['stars'].astype(int)\n",
    "\n",
    "reviews['useful'].fillna(0, inplace=True)\n",
    "reviews['useful']           = reviews['useful'].astype(int)\n",
    "\n",
    "reviews['review_length']    = reviews['review_length'].astype(int)"
   ]
  },
  {
   "cell_type": "code",
   "execution_count": 7,
   "metadata": {
    "scrolled": false
   },
   "outputs": [
    {
     "data": {
      "text/html": [
       "<div>\n",
       "<style scoped>\n",
       "    .dataframe tbody tr th:only-of-type {\n",
       "        vertical-align: middle;\n",
       "    }\n",
       "\n",
       "    .dataframe tbody tr th {\n",
       "        vertical-align: top;\n",
       "    }\n",
       "\n",
       "    .dataframe thead th {\n",
       "        text-align: right;\n",
       "    }\n",
       "</style>\n",
       "<table border=\"1\" class=\"dataframe\">\n",
       "  <thead>\n",
       "    <tr style=\"text-align: right;\">\n",
       "      <th></th>\n",
       "      <th>business_id</th>\n",
       "      <th>cool</th>\n",
       "      <th>date</th>\n",
       "      <th>funny</th>\n",
       "      <th>review_id</th>\n",
       "      <th>stars</th>\n",
       "      <th>text</th>\n",
       "      <th>useful</th>\n",
       "      <th>user_id</th>\n",
       "      <th>review_length</th>\n",
       "    </tr>\n",
       "  </thead>\n",
       "  <tbody>\n",
       "    <tr>\n",
       "      <th>0</th>\n",
       "      <td>-QOz-2NrDkXjgKYEGBQZhA</td>\n",
       "      <td>0</td>\n",
       "      <td>2011-10-04</td>\n",
       "      <td>0</td>\n",
       "      <td>FERZQal0cYWKf8rVceC24w</td>\n",
       "      <td>3</td>\n",
       "      <td>thought we were coming in to dozo but instead ...</td>\n",
       "      <td>0</td>\n",
       "      <td>P2E31XC7SP4v_3hXC2o0Xw</td>\n",
       "      <td>815</td>\n",
       "    </tr>\n",
       "    <tr>\n",
       "      <th>1</th>\n",
       "      <td>-QOz-2NrDkXjgKYEGBQZhA</td>\n",
       "      <td>0</td>\n",
       "      <td>2012-02-07</td>\n",
       "      <td>1</td>\n",
       "      <td>itCQYxlnjfnQPKQBU0K_dw</td>\n",
       "      <td>1</td>\n",
       "      <td>the atmosphere is great but saw the waitress p...</td>\n",
       "      <td>0</td>\n",
       "      <td>1P2GTkfjzlkJHZ4AQJYKbw</td>\n",
       "      <td>103</td>\n",
       "    </tr>\n",
       "    <tr>\n",
       "      <th>2</th>\n",
       "      <td>-QOz-2NrDkXjgKYEGBQZhA</td>\n",
       "      <td>0</td>\n",
       "      <td>2012-10-04</td>\n",
       "      <td>0</td>\n",
       "      <td>T4JbEoTfq9O2f9Gzdd5Siw</td>\n",
       "      <td>3</td>\n",
       "      <td>had dinner here and it wasnt bad at all all yo...</td>\n",
       "      <td>1</td>\n",
       "      <td>GAf5JaZu2kNiFzrWjaWssw</td>\n",
       "      <td>244</td>\n",
       "    </tr>\n",
       "    <tr>\n",
       "      <th>3</th>\n",
       "      <td>-QOz-2NrDkXjgKYEGBQZhA</td>\n",
       "      <td>0</td>\n",
       "      <td>2012-06-05</td>\n",
       "      <td>0</td>\n",
       "      <td>z7rXEvMWBZotEbxM6qABQQ</td>\n",
       "      <td>3</td>\n",
       "      <td>tried this place for the first time today asid...</td>\n",
       "      <td>0</td>\n",
       "      <td>eG09GDBWdQeWtSJdsP_pCw</td>\n",
       "      <td>1263</td>\n",
       "    </tr>\n",
       "    <tr>\n",
       "      <th>4</th>\n",
       "      <td>-QOz-2NrDkXjgKYEGBQZhA</td>\n",
       "      <td>0</td>\n",
       "      <td>2012-11-07</td>\n",
       "      <td>0</td>\n",
       "      <td>tVkibM9wZgaxHi-TuxGrXA</td>\n",
       "      <td>2</td>\n",
       "      <td>in a word bland everything about this place is...</td>\n",
       "      <td>0</td>\n",
       "      <td>MVDtvZZgxSji8NxmCeg50w</td>\n",
       "      <td>451</td>\n",
       "    </tr>\n",
       "  </tbody>\n",
       "</table>\n",
       "</div>"
      ],
      "text/plain": [
       "              business_id  cool       date  funny               review_id  \\\n",
       "0  -QOz-2NrDkXjgKYEGBQZhA     0 2011-10-04      0  FERZQal0cYWKf8rVceC24w   \n",
       "1  -QOz-2NrDkXjgKYEGBQZhA     0 2012-02-07      1  itCQYxlnjfnQPKQBU0K_dw   \n",
       "2  -QOz-2NrDkXjgKYEGBQZhA     0 2012-10-04      0  T4JbEoTfq9O2f9Gzdd5Siw   \n",
       "3  -QOz-2NrDkXjgKYEGBQZhA     0 2012-06-05      0  z7rXEvMWBZotEbxM6qABQQ   \n",
       "4  -QOz-2NrDkXjgKYEGBQZhA     0 2012-11-07      0  tVkibM9wZgaxHi-TuxGrXA   \n",
       "\n",
       "   stars                                               text  useful  \\\n",
       "0      3  thought we were coming in to dozo but instead ...       0   \n",
       "1      1  the atmosphere is great but saw the waitress p...       0   \n",
       "2      3  had dinner here and it wasnt bad at all all yo...       1   \n",
       "3      3  tried this place for the first time today asid...       0   \n",
       "4      2  in a word bland everything about this place is...       0   \n",
       "\n",
       "                  user_id  review_length  \n",
       "0  P2E31XC7SP4v_3hXC2o0Xw            815  \n",
       "1  1P2GTkfjzlkJHZ4AQJYKbw            103  \n",
       "2  GAf5JaZu2kNiFzrWjaWssw            244  \n",
       "3  eG09GDBWdQeWtSJdsP_pCw           1263  \n",
       "4  MVDtvZZgxSji8NxmCeg50w            451  "
      ]
     },
     "execution_count": 7,
     "metadata": {},
     "output_type": "execute_result"
    }
   ],
   "source": [
    "reviews.head()"
   ]
  },
  {
   "cell_type": "code",
   "execution_count": 8,
   "metadata": {},
   "outputs": [
    {
     "name": "stdout",
     "output_type": "stream",
     "text": [
      "     33497 unique business_id  values\n",
      "       119 unique cool         values\n",
      "      4313 unique date         values\n",
      "       102 unique funny        values\n",
      "   1676904 unique review_id    values\n",
      "         5 unique stars        values\n",
      "   1676354 unique text         values\n",
      "       127 unique useful       values\n",
      "    589677 unique user_id      values\n",
      "      4871 unique review_length values\n"
     ]
    }
   ],
   "source": [
    "for col in reviews.columns:\n",
    "    print('{} unique {} values'.format(str(len(reviews[col].unique())).rjust(10), col.ljust(12)))"
   ]
  },
  {
   "cell_type": "markdown",
   "metadata": {},
   "source": [
    "# Exploratory Data Analysis"
   ]
  },
  {
   "cell_type": "markdown",
   "metadata": {},
   "source": [
    "## Distribution of Star Ratings"
   ]
  },
  {
   "cell_type": "code",
   "execution_count": 9,
   "metadata": {},
   "outputs": [
    {
     "data": {
      "image/png": "[encoded data removed]",
      "text/plain": [
       "<matplotlib.figure.Figure at 0x1045c0128>"
      ]
     },
     "metadata": {},
     "output_type": "display_data"
    }
   ],
   "source": [
    "ax = reviews.groupby('stars').count()['review_id'].plot(kind='bar', figsize=(12,6), color='b', alpha=0.5)\n",
    "\n",
    "ax.set_xticklabels(['{:d} stars'.format(i+1) for i in range(0,5)], rotation=0)\n",
    "ax.set_xlabel('')\n",
    "\n",
    "ax.set_title('Review Rating Distribution')\n",
    "ax.grid('off')\n",
    "\n",
    "plt.show()\n",
    "plt.close()"
   ]
  },
  {
   "cell_type": "markdown",
   "metadata": {},
   "source": [
    "## Distribution of Review Count per User"
   ]
  },
  {
   "cell_type": "code",
   "execution_count": 10,
   "metadata": {},
   "outputs": [],
   "source": [
    "def plot_rating_distributions(df=None, title=''):\n",
    "    user_review_count = df.groupby('user_id').count()['review_id']\n",
    "    \n",
    "#     time_marker('collecting single_reviewers...')\n",
    "    one_review_users = user_review_count[user_review_count > 1.0].index\n",
    "    single_reviewers = df[df.user_id.isin(one_review_users)].copy()\n",
    "\n",
    "#     time_marker('collecting multi_reviewers...')\n",
    "    multi_reviewers = df[~df.user_id.isin(one_review_users)].copy()\n",
    "    \n",
    "    # group reviews by star count\n",
    "    all_reviews    = df.groupby('stars').count()['review_id']\n",
    "    all_reviews = all_reviews.reindex(pd.RangeIndex(1,6)).fillna(0)\n",
    "        \n",
    "    single_reviews = single_reviewers.groupby('stars').count()['review_id']\n",
    "    single_reviews = single_reviews.reindex(pd.RangeIndex(1,6)).fillna(0)\n",
    "    \n",
    "    multi_reviews  = multi_reviewers.groupby('stars').count()['review_id']\n",
    "    multi_reviews = multi_reviews.reindex(pd.RangeIndex(1,6)).fillna(0)\n",
    "    \n",
    "    max_review_count = max([all_reviews.max(), single_reviews.max(), multi_reviews.max()])\n",
    "       \n",
    "    fig = plt.figure(figsize=(15,15))\n",
    "    ax0 = fig.add_subplot(311)\n",
    "    ax1 = fig.add_subplot(312)\n",
    "    ax2 = fig.add_subplot(313)\n",
    "    \n",
    "    sns.barplot(x=all_reviews.index, y=all_reviews, ax=ax0, data=all_reviews, color='b', alpha=0.35)\n",
    "    sns.barplot(x=single_reviews.index, y=single_reviews, ax=ax1, data=single_reviews, color='r', alpha=0.35)\n",
    "    sns.barplot(x=multi_reviews.index, y=multi_reviews, ax=ax2, data=multi_reviews, color='g', alpha=0.35)\n",
    "\n",
    "    ax0.set_xticks([i for i in range(0,5)])\n",
    "    ax0.set_xticklabels(['{:d} stars'.format(i+1) for i in range(0,5)], rotation=0)\n",
    "    ax0.set_xlabel('Star Rating')\n",
    "    ax0.set_ylabel('Number of Reviews')\n",
    "    \n",
    "    ax_title = 'Reviews from All Users'\n",
    "    if title != '':\n",
    "        ax_title = '{} - {}'.format(ax_title, title)\n",
    "    ax0.set_title(ax_title)\n",
    "    ax0.grid('off')\n",
    "\n",
    "    \n",
    "    ax1.set_xticks([i for i in range(0,5)])\n",
    "    ax1.set_xticklabels(['{:d} stars'.format(i+1) for i in range(0,5)], rotation=0)\n",
    "    ax1.set_xlabel('Star Rating')\n",
    "    ax1.set_ylabel('Number of Reviews')\n",
    "    \n",
    "    ax_title = 'Reviews from Users with a Single Review'\n",
    "    if title != '':\n",
    "        ax_title = '{} - {}'.format(ax_title, title)\n",
    "    ax1.set_title(ax_title)\n",
    "    ax1.grid('off')\n",
    "\n",
    "    \n",
    "    ax2.set_xticks([i for i in range(0,5)])\n",
    "    ax2.set_xticklabels(['{:d} stars'.format(i+1) for i in range(0,5)], rotation=0)\n",
    "    ax2.set_xlabel('Star Rating')\n",
    "    ax2.set_ylabel('Number of Reviews')\n",
    "    \n",
    "    ax_title = 'Reviews from Users with Multiple Reviews'\n",
    "    if title != '':\n",
    "        ax_title ='{} - {}'.format(ax_title, title)\n",
    "    ax2.set_title(ax_title)\n",
    "    ax2.grid('off')\n",
    "\n",
    "    plt.tight_layout()\n",
    "#     plt.show()\n",
    "    filename = '../charts/reviews_{}.png'.format(title.lower().replace(' ','_').replace('_-_', '_'))\n",
    "    print(filename)\n",
    "    plt.savefig(filename)\n",
    "    plt.close()\n",
    "    "
   ]
  },
  {
   "cell_type": "code",
   "execution_count": 11,
   "metadata": {},
   "outputs": [
    {
     "name": "stdout",
     "output_type": "stream",
     "text": [
      "../charts/reviews_all_countries.png\n"
     ]
    }
   ],
   "source": [
    "plot_rating_distributions(df=reviews, title='All Countries')"
   ]
  },
  {
   "cell_type": "markdown",
   "metadata": {},
   "source": [
    "# Write Restaurant Reviews to File"
   ]
  },
  {
   "cell_type": "code",
   "execution_count": 12,
   "metadata": {},
   "outputs": [
    {
     "name": "stdout",
     "output_type": "stream",
     "text": [
      "[15:29:23.530315] writing to file...\n",
      "[15:30:19.969746] done\n"
     ]
    }
   ],
   "source": [
    "time_marker('writing to file...')\n",
    "reviews.to_csv('../clean_data/_analysis/restaurant_reviews_all.csv', encoding=('utf-8'))\n",
    "time_marker('done')"
   ]
  },
  {
   "cell_type": "markdown",
   "metadata": {},
   "source": [
    "# Append country to review"
   ]
  },
  {
   "cell_type": "code",
   "execution_count": 13,
   "metadata": {},
   "outputs": [],
   "source": [
    "import googlemaps\n",
    "from time import sleep\n",
    "import urllib.request\n",
    "import os\n",
    "GOOGLE_MAPS_KEY = os.environ.get('GOOGLE_MAPS_KEY')"
   ]
  },
  {
   "cell_type": "code",
   "execution_count": 14,
   "metadata": {},
   "outputs": [],
   "source": [
    "gmaps = googlemaps.Client(key=GOOGLE_MAPS_KEY)\n",
    "\n",
    "def get_country(lat, long):\n",
    "    geocode_result = gmaps.reverse_geocode((lat,long))\n",
    "    return geocode_result[0]['address_components'][-2]['long_name']"
   ]
  },
  {
   "cell_type": "code",
   "execution_count": 15,
   "metadata": {},
   "outputs": [
    {
     "name": "stdout",
     "output_type": "stream",
     "text": [
      "[15:30:20.394148] merging location information...\n",
      "[15:30:22.103008] lookup country with Google Geocode API...\n",
      "[15:30:34.637119] correcting missing country names...\n",
      "[15:30:34.648869] merge country to review...\n",
      "[15:30:35.724990] done!\n"
     ]
    }
   ],
   "source": [
    "time_marker('merging location information...')\n",
    "reviews_loc = reviews.merge(restaurants[['business_id', 'state', 'city']], left_on='business_id', right_on='business_id')\n",
    "\n",
    "time_marker('lookup country with Google Geocode API...')\n",
    "country_lookup = restaurants.groupby('state').mean()[['latitude', 'longitude']]\n",
    "country_lookup['country'] = country_lookup.apply(lambda row: get_country(row.latitude, row.longitude), axis=1)\n",
    "\n",
    "time_marker('correcting missing country names...')\n",
    "country_lookup.reset_index(inplace=True, drop=False)\n",
    "country_lookup.sort_values(['country', 'state'], inplace=True)\n",
    "country_lookup.iloc[0,3] = 'United States'\n",
    "country_lookup.iloc[1,3] = 'United States'\n",
    "country_lookup.iloc[3,3] = 'Argentina'\n",
    "\n",
    "country_lookup.sort_values(['country', 'state'], inplace=True)\n",
    "country_lookup.reset_index(inplace=True, drop=True)\n",
    "\n",
    "time_marker('merge country to review...')\n",
    "reviews_loc = reviews_loc.merge(country_lookup[['state', 'country']], left_on='state', right_on='state')\n",
    "time_marker('done!')"
   ]
  },
  {
   "cell_type": "markdown",
   "metadata": {},
   "source": [
    "# Select Only Reviews in Countries with more than 100 reviews"
   ]
  },
  {
   "cell_type": "code",
   "execution_count": 16,
   "metadata": {
    "scrolled": true
   },
   "outputs": [
    {
     "data": {
      "text/plain": [
       "country\n",
       "Argentina              88\n",
       "Austria                 5\n",
       "Belgium                 4\n",
       "Canada             327956\n",
       "Germany             13261\n",
       "Italy                   4\n",
       "Norway                 19\n",
       "Scotland               70\n",
       "United Kingdom      11825\n",
       "United States     1323672\n",
       "Name: review_id, dtype: int64"
      ]
     },
     "execution_count": 16,
     "metadata": {},
     "output_type": "execute_result"
    }
   ],
   "source": [
    "reviews_loc.groupby('country').count()['review_id']"
   ]
  },
  {
   "cell_type": "code",
   "execution_count": 17,
   "metadata": {},
   "outputs": [],
   "source": [
    "reviews_loc = reviews_loc[reviews_loc.country.isin(['Canada','Germany','United Kingdom','United States'])].copy()"
   ]
  },
  {
   "cell_type": "code",
   "execution_count": 18,
   "metadata": {},
   "outputs": [],
   "source": [
    "file_name = '../clean_data/_analysis/restaurant_reviews_top_countries.csv'\n",
    "reviews_loc.to_csv(file_name, encoding='utf-8')"
   ]
  },
  {
   "cell_type": "code",
   "execution_count": 19,
   "metadata": {
    "scrolled": false
   },
   "outputs": [
    {
     "name": "stdout",
     "output_type": "stream",
     "text": [
      "../charts/reviews_canada.png\n",
      "../charts/reviews_united_states.png\n",
      "../charts/reviews_germany.png\n",
      "../charts/reviews_united_kingdom.png\n"
     ]
    }
   ],
   "source": [
    "for country in reviews_loc.country.unique():\n",
    "    df = reviews_loc[reviews_loc.country == country].copy()\n",
    "    plot_rating_distributions(df=df, title='{}'.format(country))"
   ]
  },
  {
   "cell_type": "markdown",
   "metadata": {},
   "source": [
    "# Write to file for each Country"
   ]
  },
  {
   "cell_type": "code",
   "execution_count": 20,
   "metadata": {},
   "outputs": [
    {
     "name": "stdout",
     "output_type": "stream",
     "text": [
      "[15:31:49.254156] Writing to file...\n",
      "[15:31:49.662498] Writing 327956 records to file ../clean_data/_analysis/restaurant_reviews_canada.csv\n",
      "[15:32:01.824572] Writing 13261 records to file ../clean_data/_analysis/restaurant_reviews_germany.csv\n",
      "[15:32:02.567925] Writing 11825 records to file ../clean_data/_analysis/restaurant_reviews_united_kingdom.csv\n",
      "[15:32:03.962968] Writing 1323672 records to file ../clean_data/_analysis/restaurant_reviews_united_states.csv\n",
      "[15:32:49.612547] Done!\n"
     ]
    }
   ],
   "source": [
    "time_marker(text='Writing to file...')\n",
    "for i, prefix in enumerate(sorted(reviews_loc.country.unique())):\n",
    "\n",
    "    # take subset of busineses and trim business_id_refix column\n",
    "    df = reviews_loc[reviews_loc.country == prefix].iloc[:,:-1].copy()\n",
    "\n",
    "    df.reset_index(inplace=True, drop=True)\n",
    "    file_name = '../clean_data/_analysis/restaurant_reviews_{}.csv'.format(prefix.lower().replace(' ','_'))\n",
    "    \n",
    "    time_marker(text='Writing {:d} records to file {}'.format(df.shape[0], file_name))\n",
    "    if DRY_RUN:\n",
    "        pass\n",
    "    else:\n",
    "        df.to_csv(file_name, encoding='utf-8')\n",
    "time_marker(text='Done!')"
   ]
  },
  {
   "cell_type": "code",
   "execution_count": null,
   "metadata": {},
   "outputs": [],
   "source": []
  }
 ],
 "metadata": {
  "kernelspec": {
   "display_name": "Python 3",
   "language": "python",
   "name": "python3"
  },
  "language_info": {
   "codemirror_mode": {
    "name": "ipython",
    "version": 3
   },
   "file_extension": ".py",
   "mimetype": "text/x-python",
   "name": "python",
   "nbconvert_exporter": "python",
   "pygments_lexer": "ipython3",
   "version": "3.6.3"
  }
 },
 "nbformat": 4,
 "nbformat_minor": 2
}
