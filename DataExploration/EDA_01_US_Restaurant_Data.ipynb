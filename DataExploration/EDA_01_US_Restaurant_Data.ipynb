{
 "cells": [
  {
   "cell_type": "markdown",
   "metadata": {},
   "source": [
    "# Restaurant Data EDA"
   ]
  },
  {
   "cell_type": "code",
   "execution_count": 1,
   "metadata": {},
   "outputs": [],
   "source": [
    "%matplotlib inline\n",
    "import numpy as np\n",
    "import math\n",
    "import matplotlib.pyplot as plt\n",
    "import pandas as pd\n",
    "import datetime\n",
    "from glob import glob\n",
    "\n",
    "import seaborn as sns\n",
    "sns.set_style('whitegrid')\n",
    "sns.set_context(\"poster\")"
   ]
  },
  {
   "cell_type": "code",
   "execution_count": 2,
   "metadata": {},
   "outputs": [],
   "source": [
    "def time_marker(text=''):\n",
    "    print('[{}] {}'.format(datetime.datetime.now().time(), text))"
   ]
  },
  {
   "cell_type": "code",
   "execution_count": 3,
   "metadata": {},
   "outputs": [
    {
     "data": {
      "text/html": [
       "<style>.container { width:95% !important; }</style>"
      ],
      "text/plain": [
       "<IPython.core.display.HTML object>"
      ]
     },
     "metadata": {},
     "output_type": "display_data"
    }
   ],
   "source": [
    "from IPython.core.display import display, HTML\n",
    "display(HTML(\"<style>.container { width:95% !important; }</style>\"))\n",
    "\n",
    "import matplotlib\n",
    "font = {'size' : 50}\n",
    "matplotlib.rc('font', **font)\n",
    "\n",
    "TITLE_FONT_SIZE = 25\n",
    "LABEL_FONT_SIZE = 15\n",
    "TICK_FONT_SIZE  = 15\n",
    "\n",
    "FIG_SIZE = (15,6)\n",
    "DO_WRITE_CHARTS = True"
   ]
  },
  {
   "cell_type": "code",
   "execution_count": 4,
   "metadata": {},
   "outputs": [],
   "source": [
    "fname = '../clean_data/_analysis/us_restaurant_bids.txt'\n",
    "\n",
    "with open(fname) as f:\n",
    "    us_rest_bids = f.readlines()\n",
    "us_rest_bids = [x.strip() for x in us_rest_bids] "
   ]
  },
  {
   "cell_type": "markdown",
   "metadata": {},
   "source": [
    "# Load Review Data for US Restaurants"
   ]
  },
  {
   "cell_type": "code",
   "execution_count": 5,
   "metadata": {
    "scrolled": true
   },
   "outputs": [
    {
     "name": "stdout",
     "output_type": "stream",
     "text": [
      "[22:46:47.645032] Loading Review Data...\n",
      "[22:46:47.662043] Reading 1 of 64 ../clean_data/business/00_-_business_clean.csv...\n"
     ]
    },
    {
     "name": "stderr",
     "output_type": "stream",
     "text": [
      "/Users/samgutentag/anaconda/envs/spring/lib/python3.6/site-packages/IPython/core/interactiveshell.py:2728: DtypeWarning: Columns (60,61,62,63,64,65,66) have mixed types. Specify dtype option on import or set low_memory=False.\n",
      "  interactivity=interactivity, compiler=compiler, result=result)\n"
     ]
    },
    {
     "name": "stdout",
     "output_type": "stream",
     "text": [
      "[22:46:48.832709] Reading 2 of 64 ../clean_data/business/01_0_business_clean.csv...\n"
     ]
    },
    {
     "name": "stderr",
     "output_type": "stream",
     "text": [
      "/Users/samgutentag/anaconda/envs/spring/lib/python3.6/site-packages/IPython/core/interactiveshell.py:2728: DtypeWarning: Columns (28,60,61,62,63,64,65,66) have mixed types. Specify dtype option on import or set low_memory=False.\n",
      "  interactivity=interactivity, compiler=compiler, result=result)\n"
     ]
    },
    {
     "name": "stdout",
     "output_type": "stream",
     "text": [
      "[22:46:49.801777] Reading 3 of 64 ../clean_data/business/02_1_business_clean.csv...\n"
     ]
    },
    {
     "name": "stderr",
     "output_type": "stream",
     "text": [
      "/Users/samgutentag/anaconda/envs/spring/lib/python3.6/site-packages/IPython/core/interactiveshell.py:2728: DtypeWarning: Columns (28,60,61,62,63,64,65,66,77,78,84) have mixed types. Specify dtype option on import or set low_memory=False.\n",
      "  interactivity=interactivity, compiler=compiler, result=result)\n"
     ]
    },
    {
     "name": "stdout",
     "output_type": "stream",
     "text": [
      "[22:46:50.619863] Reading 4 of 64 ../clean_data/business/03_2_business_clean.csv...\n"
     ]
    },
    {
     "name": "stderr",
     "output_type": "stream",
     "text": [
      "/Users/samgutentag/anaconda/envs/spring/lib/python3.6/site-packages/IPython/core/interactiveshell.py:2728: DtypeWarning: Columns (28,40,60,61,62,63,64,65,66) have mixed types. Specify dtype option on import or set low_memory=False.\n",
      "  interactivity=interactivity, compiler=compiler, result=result)\n"
     ]
    },
    {
     "name": "stdout",
     "output_type": "stream",
     "text": [
      "[22:46:51.409904] Reading 5 of 64 ../clean_data/business/04_3_business_clean.csv...\n",
      "[22:46:52.310148] Reading 6 of 64 ../clean_data/business/05_4_business_clean.csv...\n",
      "[22:46:53.209935] Reading 7 of 64 ../clean_data/business/06_5_business_clean.csv...\n"
     ]
    },
    {
     "name": "stderr",
     "output_type": "stream",
     "text": [
      "/Users/samgutentag/anaconda/envs/spring/lib/python3.6/site-packages/IPython/core/interactiveshell.py:2728: DtypeWarning: Columns (28,60,61,62,63,64,65,66,77,78,79,80,81,82,83,84) have mixed types. Specify dtype option on import or set low_memory=False.\n",
      "  interactivity=interactivity, compiler=compiler, result=result)\n"
     ]
    },
    {
     "name": "stdout",
     "output_type": "stream",
     "text": [
      "[22:46:54.034484] Reading 8 of 64 ../clean_data/business/07_6_business_clean.csv...\n",
      "[22:46:54.878258] Reading 9 of 64 ../clean_data/business/08_7_business_clean.csv...\n",
      "[22:46:55.702336] Reading 10 of 64 ../clean_data/business/09_8_business_clean.csv...\n",
      "[22:46:56.514657] Reading 11 of 64 ../clean_data/business/10_9_business_clean.csv...\n",
      "[22:46:57.342626] Reading 12 of 64 ../clean_data/business/11_A_business_clean.csv...\n",
      "[22:46:58.167197] Reading 13 of 64 ../clean_data/business/12_B_business_clean.csv...\n",
      "[22:46:58.972490] Reading 14 of 64 ../clean_data/business/13_C_business_clean.csv...\n",
      "[22:46:59.835793] Reading 15 of 64 ../clean_data/business/14_D_business_clean.csv...\n",
      "[22:47:00.669577] Reading 16 of 64 ../clean_data/business/15_E_business_clean.csv...\n",
      "[22:47:01.499353] Reading 17 of 64 ../clean_data/business/16_F_business_clean.csv...\n",
      "[22:47:02.363307] Reading 18 of 64 ../clean_data/business/17_G_business_clean.csv...\n",
      "[22:47:03.217250] Reading 19 of 64 ../clean_data/business/18_H_business_clean.csv...\n",
      "[22:47:04.040228] Reading 20 of 64 ../clean_data/business/19_I_business_clean.csv...\n",
      "[22:47:04.864564] Reading 21 of 64 ../clean_data/business/20_J_business_clean.csv...\n",
      "[22:47:05.714040] Reading 22 of 64 ../clean_data/business/21_K_business_clean.csv...\n",
      "[22:47:06.559390] Reading 23 of 64 ../clean_data/business/22_L_business_clean.csv...\n",
      "[22:47:07.393995] Reading 24 of 64 ../clean_data/business/23_M_business_clean.csv...\n"
     ]
    },
    {
     "name": "stderr",
     "output_type": "stream",
     "text": [
      "/Users/samgutentag/anaconda/envs/spring/lib/python3.6/site-packages/IPython/core/interactiveshell.py:2728: DtypeWarning: Columns (28) have mixed types. Specify dtype option on import or set low_memory=False.\n",
      "  interactivity=interactivity, compiler=compiler, result=result)\n"
     ]
    },
    {
     "name": "stdout",
     "output_type": "stream",
     "text": [
      "[22:47:08.214494] Reading 25 of 64 ../clean_data/business/24_N_business_clean.csv...\n",
      "[22:47:09.007396] Reading 26 of 64 ../clean_data/business/25_O_business_clean.csv...\n",
      "[22:47:09.836074] Reading 27 of 64 ../clean_data/business/26_P_business_clean.csv...\n",
      "[22:47:10.636345] Reading 28 of 64 ../clean_data/business/27_Q_business_clean.csv...\n",
      "[22:47:11.467992] Reading 29 of 64 ../clean_data/business/28_R_business_clean.csv...\n",
      "[22:47:12.267126] Reading 30 of 64 ../clean_data/business/29_S_business_clean.csv...\n",
      "[22:47:13.150776] Reading 31 of 64 ../clean_data/business/30_T_business_clean.csv...\n",
      "[22:47:13.985500] Reading 32 of 64 ../clean_data/business/31_U_business_clean.csv...\n",
      "[22:47:14.809192] Reading 33 of 64 ../clean_data/business/32_V_business_clean.csv...\n",
      "[22:47:15.680123] Reading 34 of 64 ../clean_data/business/33_W_business_clean.csv...\n",
      "[22:47:16.604750] Reading 35 of 64 ../clean_data/business/34_X_business_clean.csv...\n",
      "[22:47:17.934368] Reading 36 of 64 ../clean_data/business/35_Y_business_clean.csv...\n",
      "[22:47:18.897362] Reading 37 of 64 ../clean_data/business/36_Z_business_clean.csv...\n",
      "[22:47:19.745675] Reading 38 of 64 ../clean_data/business/37___business_clean.csv...\n",
      "[22:47:20.538258] Reading 39 of 64 ../clean_data/business/38_a_business_clean.csv...\n",
      "[22:47:21.404472] Reading 40 of 64 ../clean_data/business/39_b_business_clean.csv...\n",
      "[22:47:22.225727] Reading 41 of 64 ../clean_data/business/40_c_business_clean.csv...\n",
      "[22:47:23.061860] Reading 42 of 64 ../clean_data/business/41_d_business_clean.csv...\n",
      "[22:47:23.878868] Reading 43 of 64 ../clean_data/business/42_e_business_clean.csv...\n",
      "[22:47:24.717087] Reading 44 of 64 ../clean_data/business/43_f_business_clean.csv...\n",
      "[22:47:25.544805] Reading 45 of 64 ../clean_data/business/44_g_business_clean.csv...\n",
      "[22:47:26.352246] Reading 46 of 64 ../clean_data/business/45_h_business_clean.csv...\n",
      "[22:47:27.157349] Reading 47 of 64 ../clean_data/business/46_i_business_clean.csv...\n",
      "[22:47:27.964011] Reading 48 of 64 ../clean_data/business/47_j_business_clean.csv...\n",
      "[22:47:28.766825] Reading 49 of 64 ../clean_data/business/48_k_business_clean.csv...\n",
      "[22:47:29.592303] Reading 50 of 64 ../clean_data/business/49_l_business_clean.csv...\n",
      "[22:47:30.401814] Reading 51 of 64 ../clean_data/business/50_m_business_clean.csv...\n",
      "[22:47:31.225546] Reading 52 of 64 ../clean_data/business/51_n_business_clean.csv...\n"
     ]
    },
    {
     "name": "stderr",
     "output_type": "stream",
     "text": [
      "/Users/samgutentag/anaconda/envs/spring/lib/python3.6/site-packages/IPython/core/interactiveshell.py:2728: DtypeWarning: Columns (60,61,62,63,64,65,66,77,78,84) have mixed types. Specify dtype option on import or set low_memory=False.\n",
      "  interactivity=interactivity, compiler=compiler, result=result)\n"
     ]
    },
    {
     "name": "stdout",
     "output_type": "stream",
     "text": [
      "[22:47:32.044792] Reading 53 of 64 ../clean_data/business/52_o_business_clean.csv...\n",
      "[22:47:32.862684] Reading 54 of 64 ../clean_data/business/53_p_business_clean.csv...\n",
      "[22:47:33.706145] Reading 55 of 64 ../clean_data/business/54_q_business_clean.csv...\n",
      "[22:47:34.532954] Reading 56 of 64 ../clean_data/business/55_r_business_clean.csv...\n",
      "[22:47:35.327852] Reading 57 of 64 ../clean_data/business/56_s_business_clean.csv...\n",
      "[22:47:36.170472] Reading 58 of 64 ../clean_data/business/57_t_business_clean.csv...\n",
      "[22:47:36.983356] Reading 59 of 64 ../clean_data/business/58_u_business_clean.csv...\n",
      "[22:47:37.833284] Reading 60 of 64 ../clean_data/business/59_v_business_clean.csv...\n",
      "[22:47:38.660228] Reading 61 of 64 ../clean_data/business/60_w_business_clean.csv...\n",
      "[22:47:39.482203] Reading 62 of 64 ../clean_data/business/61_x_business_clean.csv...\n",
      "[22:47:40.308123] Reading 63 of 64 ../clean_data/business/62_y_business_clean.csv...\n",
      "[22:47:41.154827] Reading 64 of 64 ../clean_data/business/63_z_business_clean.csv...\n",
      "[22:47:41.945330] merging to dataframe...\n",
      "[22:47:43.248099] reseting index...\n",
      "[22:47:43.249265] Complete!\n"
     ]
    }
   ],
   "source": [
    "time_marker(text='Loading Review Data...')\n",
    "\n",
    "restaurants = pd.DataFrame()\n",
    "file_path_slug = '../clean_data/business/*.csv'\n",
    "file_list = glob(file_path_slug)\n",
    "\n",
    "# Chunk Settings\n",
    "chunks = list()\n",
    "chunksize = 10000\n",
    "for ii, file in enumerate(sorted(file_list)):\n",
    "    time_marker('Reading {} of {} {}...'.format(ii+1, len(file_list), file))\n",
    "    num_chunks = math.ceil(sum(1 for row in open(file, 'r'))/chunksize)\n",
    "    format_width = len(str(num_chunks))\n",
    "\n",
    "    # import file in chunks\n",
    "    for jj, chunk in enumerate(pd.read_csv(file, chunksize=chunksize, iterator=True, index_col=0)):\n",
    "\n",
    "        # only consider reviews for businesses that are US Restaurants\n",
    "        chunk = chunk[chunk.business_id.isin(us_rest_bids)].copy()\n",
    "        \n",
    "        # append chunk to chunks list\n",
    "        chunks.append(chunk)\n",
    "        \n",
    "time_marker(text='merging to dataframe...')\n",
    "restaurants = pd.concat(chunks)\n",
    "\n",
    "time_marker('reseting index...')\n",
    "restaurants.reset_index(inplace=True, drop=True)\n",
    "time_marker(text='Complete!')\n",
    "\n"
   ]
  },
  {
   "cell_type": "code",
   "execution_count": 6,
   "metadata": {},
   "outputs": [],
   "source": [
    "# drop columns of all zeros\n",
    "restaurants = restaurants.loc[:, (restaurants != 0).any(axis=0)]"
   ]
  },
  {
   "cell_type": "code",
   "execution_count": 7,
   "metadata": {},
   "outputs": [
    {
     "name": "stdout",
     "output_type": "stream",
     "text": [
      "<class 'pandas.core.frame.DataFrame'>\n",
      "RangeIndex: 19976 entries, 0 to 19975\n",
      "Columns: 235 entries, business_id to wraps\n",
      "dtypes: float64(28), int64(130), object(77)\n",
      "memory usage: 35.8+ MB\n"
     ]
    }
   ],
   "source": [
    "restaurants.info()"
   ]
  },
  {
   "cell_type": "code",
   "execution_count": 8,
   "metadata": {
    "scrolled": true
   },
   "outputs": [
    {
     "data": {
      "text/html": [
       "<div>\n",
       "<style scoped>\n",
       "    .dataframe tbody tr th:only-of-type {\n",
       "        vertical-align: middle;\n",
       "    }\n",
       "\n",
       "    .dataframe tbody tr th {\n",
       "        vertical-align: top;\n",
       "    }\n",
       "\n",
       "    .dataframe thead th {\n",
       "        text-align: right;\n",
       "    }\n",
       "</style>\n",
       "<table border=\"1\" class=\"dataframe\">\n",
       "  <thead>\n",
       "    <tr style=\"text-align: right;\">\n",
       "      <th></th>\n",
       "      <th>business_id</th>\n",
       "      <th>address</th>\n",
       "      <th>city</th>\n",
       "      <th>is_open</th>\n",
       "      <th>latitude</th>\n",
       "      <th>longitude</th>\n",
       "      <th>name</th>\n",
       "      <th>neighborhood</th>\n",
       "      <th>postal_code</th>\n",
       "      <th>review_count</th>\n",
       "      <th>...</th>\n",
       "      <th>thai</th>\n",
       "      <th>turkish</th>\n",
       "      <th>ukrainian</th>\n",
       "      <th>uzbek</th>\n",
       "      <th>vegan</th>\n",
       "      <th>vegetarian</th>\n",
       "      <th>venezuelan</th>\n",
       "      <th>vietnamese</th>\n",
       "      <th>waffles</th>\n",
       "      <th>wraps</th>\n",
       "    </tr>\n",
       "  </thead>\n",
       "  <tbody>\n",
       "    <tr>\n",
       "      <th>0</th>\n",
       "      <td>-2q4dnUw0gGJniGW2aPamQ</td>\n",
       "      <td>1805 S Neil St</td>\n",
       "      <td>Champaign</td>\n",
       "      <td>0</td>\n",
       "      <td>40.094068</td>\n",
       "      <td>-88.245785</td>\n",
       "      <td>Fiesta Ranchera</td>\n",
       "      <td>NaN</td>\n",
       "      <td>61820</td>\n",
       "      <td>4</td>\n",
       "      <td>...</td>\n",
       "      <td>0</td>\n",
       "      <td>0</td>\n",
       "      <td>0</td>\n",
       "      <td>0</td>\n",
       "      <td>0</td>\n",
       "      <td>0</td>\n",
       "      <td>0</td>\n",
       "      <td>0</td>\n",
       "      <td>0</td>\n",
       "      <td>0</td>\n",
       "    </tr>\n",
       "    <tr>\n",
       "      <th>1</th>\n",
       "      <td>-49WY_TEa9ZEcRk_GnuLog</td>\n",
       "      <td>5205 Detroit Rd</td>\n",
       "      <td>Sheffield Village</td>\n",
       "      <td>1</td>\n",
       "      <td>41.425861</td>\n",
       "      <td>-82.080963</td>\n",
       "      <td>Cracker Barrel Old Country Store</td>\n",
       "      <td>NaN</td>\n",
       "      <td>44054</td>\n",
       "      <td>27</td>\n",
       "      <td>...</td>\n",
       "      <td>0</td>\n",
       "      <td>0</td>\n",
       "      <td>0</td>\n",
       "      <td>0</td>\n",
       "      <td>0</td>\n",
       "      <td>0</td>\n",
       "      <td>0</td>\n",
       "      <td>0</td>\n",
       "      <td>0</td>\n",
       "      <td>0</td>\n",
       "    </tr>\n",
       "    <tr>\n",
       "      <th>2</th>\n",
       "      <td>--9e1ONYQuAa-CB_Rrw7Tw</td>\n",
       "      <td>3355 Las Vegas Blvd S</td>\n",
       "      <td>Las Vegas</td>\n",
       "      <td>1</td>\n",
       "      <td>36.123183</td>\n",
       "      <td>-115.169190</td>\n",
       "      <td>Delmonico Steakhouse</td>\n",
       "      <td>The Strip</td>\n",
       "      <td>89109</td>\n",
       "      <td>1389</td>\n",
       "      <td>...</td>\n",
       "      <td>0</td>\n",
       "      <td>0</td>\n",
       "      <td>0</td>\n",
       "      <td>0</td>\n",
       "      <td>0</td>\n",
       "      <td>0</td>\n",
       "      <td>0</td>\n",
       "      <td>0</td>\n",
       "      <td>0</td>\n",
       "      <td>0</td>\n",
       "    </tr>\n",
       "  </tbody>\n",
       "</table>\n",
       "<p>3 rows × 235 columns</p>\n",
       "</div>"
      ],
      "text/plain": [
       "              business_id                address               city  is_open  \\\n",
       "0  -2q4dnUw0gGJniGW2aPamQ         1805 S Neil St          Champaign        0   \n",
       "1  -49WY_TEa9ZEcRk_GnuLog        5205 Detroit Rd  Sheffield Village        1   \n",
       "2  --9e1ONYQuAa-CB_Rrw7Tw  3355 Las Vegas Blvd S          Las Vegas        1   \n",
       "\n",
       "    latitude   longitude                              name neighborhood  \\\n",
       "0  40.094068  -88.245785                   Fiesta Ranchera          NaN   \n",
       "1  41.425861  -82.080963  Cracker Barrel Old Country Store          NaN   \n",
       "2  36.123183 -115.169190              Delmonico Steakhouse    The Strip   \n",
       "\n",
       "  postal_code  review_count  ...   thai turkish ukrainian uzbek vegan  \\\n",
       "0       61820             4  ...      0       0         0     0     0   \n",
       "1       44054            27  ...      0       0         0     0     0   \n",
       "2       89109          1389  ...      0       0         0     0     0   \n",
       "\n",
       "  vegetarian venezuelan vietnamese waffles wraps  \n",
       "0          0          0          0       0     0  \n",
       "1          0          0          0       0     0  \n",
       "2          0          0          0       0     0  \n",
       "\n",
       "[3 rows x 235 columns]"
      ]
     },
     "execution_count": 8,
     "metadata": {},
     "output_type": "execute_result"
    }
   ],
   "source": [
    "restaurants.head(3)"
   ]
  },
  {
   "cell_type": "code",
   "execution_count": 9,
   "metadata": {},
   "outputs": [],
   "source": [
    "category_columns = restaurants.columns[-128:]\n",
    "cols_of_interest = ['business_id', 'name', 'review_count', 'stars', 'state']\n",
    "\n",
    "for c in category_columns :\n",
    "    cols_of_interest.append(c)\n"
   ]
  },
  {
   "cell_type": "code",
   "execution_count": 10,
   "metadata": {
    "scrolled": true
   },
   "outputs": [
    {
     "name": "stdout",
     "output_type": "stream",
     "text": [
      "           american_(new) 1551\n",
      "   american_(traditional) 2283\n",
      "       breakfast_&_brunch 1204\n",
      "                  burgers 2091\n",
      "            chicken_wings 1013\n",
      "                  chinese 1807\n",
      "                fast_food 3658\n",
      "                  italian 1729\n",
      "                  mexican 2647\n",
      "                    pizza 3082\n",
      "              restaurants 19931\n",
      "               sandwiches 2712\n"
     ]
    }
   ],
   "source": [
    "for c in category_columns:\n",
    "    if restaurants[category_columns][c].sum() > 1000:\n",
    "        print('{} {:d}'.format(str(c).rjust(25), restaurants[category_columns][c].sum()))\n",
    "    "
   ]
  },
  {
   "cell_type": "code",
   "execution_count": 11,
   "metadata": {},
   "outputs": [],
   "source": [
    "# limit to only businesses in these categories\n",
    "\n",
    "categories_of_interest = ['chicken_wings','breakfast_&_brunch',\n",
    "                          'american_(new)','italian','chinese',\n",
    "                          'burgers','american_(traditional)',\n",
    "                          'mexican','sandwiches','pizza','fast_food']\n",
    "\n",
    "restaurants_of_interest = pd.DataFrame()\n",
    "chunks = []\n",
    "for cat in categories_of_interest:\n",
    "    chunk = restaurants[restaurants[cat] == 1].copy()\n",
    "    \n",
    "    chunks.append(chunk)\n",
    "\n",
    "restaurants_of_interest = pd.concat(chunks)\n",
    "\n",
    "\n",
    "# drop columns we dont care about    \n",
    "for col in restaurants_of_interest.columns:\n",
    "    if col not in cols_of_interest:\n",
    "        restaurants_of_interest.drop(col, axis=1, inplace=True)\n",
    "    \n",
    "# drop columns of all zeros\n",
    "restaurants_of_interest = restaurants_of_interest.loc[:, (restaurants_of_interest != 0).any(axis=0)]   \n",
    "\n",
    "\n"
   ]
  },
  {
   "cell_type": "code",
   "execution_count": 12,
   "metadata": {},
   "outputs": [
    {
     "data": {
      "text/html": [
       "<div>\n",
       "<style scoped>\n",
       "    .dataframe tbody tr th:only-of-type {\n",
       "        vertical-align: middle;\n",
       "    }\n",
       "\n",
       "    .dataframe tbody tr th {\n",
       "        vertical-align: top;\n",
       "    }\n",
       "\n",
       "    .dataframe thead th {\n",
       "        text-align: right;\n",
       "    }\n",
       "</style>\n",
       "<table border=\"1\" class=\"dataframe\">\n",
       "  <thead>\n",
       "    <tr style=\"text-align: right;\">\n",
       "      <th></th>\n",
       "      <th>business_id</th>\n",
       "      <th>name</th>\n",
       "      <th>review_count</th>\n",
       "      <th>stars</th>\n",
       "      <th>state</th>\n",
       "      <th>afghan</th>\n",
       "      <th>african</th>\n",
       "      <th>american_(new)</th>\n",
       "      <th>american_(traditional)</th>\n",
       "      <th>arabian</th>\n",
       "      <th>...</th>\n",
       "      <th>thai</th>\n",
       "      <th>turkish</th>\n",
       "      <th>ukrainian</th>\n",
       "      <th>uzbek</th>\n",
       "      <th>vegan</th>\n",
       "      <th>vegetarian</th>\n",
       "      <th>venezuelan</th>\n",
       "      <th>vietnamese</th>\n",
       "      <th>waffles</th>\n",
       "      <th>wraps</th>\n",
       "    </tr>\n",
       "  </thead>\n",
       "  <tbody>\n",
       "    <tr>\n",
       "      <th>8</th>\n",
       "      <td>-sCaUNqEfFOYwtu8WCw5Wg</td>\n",
       "      <td>Anthony's Coal Fired Pizza</td>\n",
       "      <td>50</td>\n",
       "      <td>3.5</td>\n",
       "      <td>PA</td>\n",
       "      <td>0</td>\n",
       "      <td>0</td>\n",
       "      <td>0</td>\n",
       "      <td>0</td>\n",
       "      <td>0</td>\n",
       "      <td>...</td>\n",
       "      <td>0</td>\n",
       "      <td>0</td>\n",
       "      <td>0</td>\n",
       "      <td>0</td>\n",
       "      <td>0</td>\n",
       "      <td>0</td>\n",
       "      <td>0</td>\n",
       "      <td>0</td>\n",
       "      <td>0</td>\n",
       "      <td>0</td>\n",
       "    </tr>\n",
       "    <tr>\n",
       "      <th>19</th>\n",
       "      <td>--GM_ORV2cYS-h38DSaCLw</td>\n",
       "      <td>Mm Mm Pizza</td>\n",
       "      <td>7</td>\n",
       "      <td>4.0</td>\n",
       "      <td>PA</td>\n",
       "      <td>0</td>\n",
       "      <td>0</td>\n",
       "      <td>0</td>\n",
       "      <td>0</td>\n",
       "      <td>0</td>\n",
       "      <td>...</td>\n",
       "      <td>0</td>\n",
       "      <td>0</td>\n",
       "      <td>0</td>\n",
       "      <td>0</td>\n",
       "      <td>0</td>\n",
       "      <td>0</td>\n",
       "      <td>0</td>\n",
       "      <td>0</td>\n",
       "      <td>0</td>\n",
       "      <td>0</td>\n",
       "    </tr>\n",
       "    <tr>\n",
       "      <th>52</th>\n",
       "      <td>-fbpSXmv2RhFc-h6JyC0aw</td>\n",
       "      <td>Pangea Tapas Bar &amp; Grill</td>\n",
       "      <td>4</td>\n",
       "      <td>4.0</td>\n",
       "      <td>NC</td>\n",
       "      <td>0</td>\n",
       "      <td>0</td>\n",
       "      <td>0</td>\n",
       "      <td>1</td>\n",
       "      <td>0</td>\n",
       "      <td>...</td>\n",
       "      <td>0</td>\n",
       "      <td>0</td>\n",
       "      <td>0</td>\n",
       "      <td>0</td>\n",
       "      <td>0</td>\n",
       "      <td>0</td>\n",
       "      <td>0</td>\n",
       "      <td>0</td>\n",
       "      <td>0</td>\n",
       "      <td>0</td>\n",
       "    </tr>\n",
       "    <tr>\n",
       "      <th>58</th>\n",
       "      <td>-CZwX0Fy14DGCY_2aFkhKg</td>\n",
       "      <td>K Jun Chicken</td>\n",
       "      <td>5</td>\n",
       "      <td>3.5</td>\n",
       "      <td>NV</td>\n",
       "      <td>0</td>\n",
       "      <td>0</td>\n",
       "      <td>0</td>\n",
       "      <td>0</td>\n",
       "      <td>0</td>\n",
       "      <td>...</td>\n",
       "      <td>0</td>\n",
       "      <td>0</td>\n",
       "      <td>0</td>\n",
       "      <td>0</td>\n",
       "      <td>0</td>\n",
       "      <td>0</td>\n",
       "      <td>0</td>\n",
       "      <td>0</td>\n",
       "      <td>0</td>\n",
       "      <td>0</td>\n",
       "    </tr>\n",
       "    <tr>\n",
       "      <th>59</th>\n",
       "      <td>-qqMAXJh3CIlfUr7DO0yHQ</td>\n",
       "      <td>KFC</td>\n",
       "      <td>4</td>\n",
       "      <td>1.0</td>\n",
       "      <td>OH</td>\n",
       "      <td>0</td>\n",
       "      <td>0</td>\n",
       "      <td>0</td>\n",
       "      <td>0</td>\n",
       "      <td>0</td>\n",
       "      <td>...</td>\n",
       "      <td>0</td>\n",
       "      <td>0</td>\n",
       "      <td>0</td>\n",
       "      <td>0</td>\n",
       "      <td>0</td>\n",
       "      <td>0</td>\n",
       "      <td>0</td>\n",
       "      <td>0</td>\n",
       "      <td>0</td>\n",
       "      <td>0</td>\n",
       "    </tr>\n",
       "  </tbody>\n",
       "</table>\n",
       "<p>5 rows × 125 columns</p>\n",
       "</div>"
      ],
      "text/plain": [
       "               business_id                        name  review_count  stars  \\\n",
       "8   -sCaUNqEfFOYwtu8WCw5Wg  Anthony's Coal Fired Pizza            50    3.5   \n",
       "19  --GM_ORV2cYS-h38DSaCLw                 Mm Mm Pizza             7    4.0   \n",
       "52  -fbpSXmv2RhFc-h6JyC0aw    Pangea Tapas Bar & Grill             4    4.0   \n",
       "58  -CZwX0Fy14DGCY_2aFkhKg               K Jun Chicken             5    3.5   \n",
       "59  -qqMAXJh3CIlfUr7DO0yHQ                         KFC             4    1.0   \n",
       "\n",
       "   state  afghan  african  american_(new)  american_(traditional)  arabian  \\\n",
       "8     PA       0        0               0                       0        0   \n",
       "19    PA       0        0               0                       0        0   \n",
       "52    NC       0        0               0                       1        0   \n",
       "58    NV       0        0               0                       0        0   \n",
       "59    OH       0        0               0                       0        0   \n",
       "\n",
       "    ...    thai  turkish  ukrainian  uzbek  vegan  vegetarian  venezuelan  \\\n",
       "8   ...       0        0          0      0      0           0           0   \n",
       "19  ...       0        0          0      0      0           0           0   \n",
       "52  ...       0        0          0      0      0           0           0   \n",
       "58  ...       0        0          0      0      0           0           0   \n",
       "59  ...       0        0          0      0      0           0           0   \n",
       "\n",
       "    vietnamese  waffles  wraps  \n",
       "8            0        0      0  \n",
       "19           0        0      0  \n",
       "52           0        0      0  \n",
       "58           0        0      0  \n",
       "59           0        0      0  \n",
       "\n",
       "[5 rows x 125 columns]"
      ]
     },
     "execution_count": 12,
     "metadata": {},
     "output_type": "execute_result"
    }
   ],
   "source": [
    "restaurants_of_interest.head()"
   ]
  },
  {
   "cell_type": "code",
   "execution_count": 13,
   "metadata": {
    "scrolled": true
   },
   "outputs": [
    {
     "name": "stdout",
     "output_type": "stream",
     "text": [
      "<class 'pandas.core.frame.DataFrame'>\n",
      "Int64Index: 23777 entries, 8 to 19969\n",
      "Columns: 125 entries, business_id to wraps\n",
      "dtypes: float64(1), int64(121), object(3)\n",
      "memory usage: 22.9+ MB\n"
     ]
    }
   ],
   "source": [
    "restaurants_of_interest.info()"
   ]
  },
  {
   "cell_type": "code",
   "execution_count": 14,
   "metadata": {
    "scrolled": false
   },
   "outputs": [
    {
     "name": "stdout",
     "output_type": "stream",
     "text": [
      "            chicken_wings\t2562\n",
      "       breakfast_&_brunch\t2572\n",
      "           american_(new)\t2876\n",
      "                  italian\t3442\n",
      "                  chinese\t2055\n",
      "                  burgers\t4491\n",
      "   american_(traditional)\t4364\n",
      "                  mexican\t3542\n",
      "               sandwiches\t5511\n",
      "                    pizza\t5499\n",
      "                fast_food\t7441\n",
      "44355\n"
     ]
    }
   ],
   "source": [
    "total = 0\n",
    "for cat in categories_of_interest:\n",
    "    print('{}\\t{:d}'.format(cat.rjust(25), restaurants_of_interest[restaurants_of_interest[cat] == 1].shape[0]))\n",
    "    total+= restaurants_of_interest[restaurants_of_interest[cat] == 1].shape[0]\n",
    "print(total)\n",
    "    "
   ]
  },
  {
   "cell_type": "code",
   "execution_count": 15,
   "metadata": {},
   "outputs": [],
   "source": [
    "restaurants_of_interest.to_csv('../clean_data/_analysis/us_restaurants_business.csv', encoding='utf=8')"
   ]
  },
  {
   "cell_type": "code",
   "execution_count": 16,
   "metadata": {},
   "outputs": [
    {
     "name": "stdout",
     "output_type": "stream",
     "text": [
      "[22:47:58.382357] Finished writing to file at ../clean_data/_analysis/us_restaurant_bids_alt.txt\n"
     ]
    }
   ],
   "source": [
    "business_ids = sorted(restaurants_of_interest.business_id.unique())\n",
    "\n",
    "destination_file = '../clean_data/_analysis/us_restaurant_bids_alt.txt'\n",
    "for bid in business_ids:\n",
    "    with open(destination_file, 'a') as text_file:\n",
    "        print('{}'.format(bid), file=text_file)\n",
    "time_marker('Finished writing to file at {}'.format(destination_file))"
   ]
  },
  {
   "cell_type": "markdown",
   "metadata": {},
   "source": [
    "# Exploratory Data Analysis"
   ]
  },
  {
   "cell_type": "code",
   "execution_count": 17,
   "metadata": {},
   "outputs": [
    {
     "data": {
      "image/png": "[encoded data removed]",
      "text/plain": [
       "<matplotlib.figure.Figure at 0x1a2738a588>"
      ]
     },
     "metadata": {},
     "output_type": "display_data"
    }
   ],
   "source": [
    "ax = plt.figure(figsize=FIG_SIZE)\n",
    "ax = sns.countplot(x=\"stars\", data=restaurants, palette=\"Reds\")\n",
    "\n",
    "ax.set_xlabel('Star Rating', size=LABEL_FONT_SIZE)\n",
    "ax.set_ylabel('Number of Reviews', size=LABEL_FONT_SIZE)\n",
    "\n",
    "title = 'Restaurant Review Star Distribution'\n",
    "ax.set_title(title, size=TITLE_FONT_SIZE)\n",
    "\n",
    "if DO_WRITE_CHARTS:\n",
    "    plt.savefig('../charts/{}.png'.format(title.lower().replace(' ', '_')))\n",
    "else:\n",
    "    plt.show()\n",
    "    plt.close()"
   ]
  },
  {
   "cell_type": "code",
   "execution_count": 18,
   "metadata": {},
   "outputs": [
    {
     "data": {
      "image/png": "[encoded data removed]",
      "text/plain": [
       "<matplotlib.figure.Figure at 0x10fc5b588>"
      ]
     },
     "metadata": {},
     "output_type": "display_data"
    }
   ],
   "source": [
    "ax = plt.figure(figsize=FIG_SIZE)\n",
    "ax = sns.countplot(x=\"stars\", data=restaurants_of_interest, palette=\"Greens\")\n",
    "\n",
    "ax.set_xlabel('Star Rating', size=LABEL_FONT_SIZE)\n",
    "ax.set_ylabel('Number of Reviews', size=LABEL_FONT_SIZE)\n",
    "\n",
    "title = 'Top Category Restaurant Review Star Distribution'\n",
    "ax.set_title('Top Category Restaurant Star Distribution', size=TITLE_FONT_SIZE)\n",
    "\n",
    "if DO_WRITE_CHARTS:\n",
    "    plt.savefig('../charts/{}.png'.format(title.lower().replace(' ', '_')))\n",
    "else:\n",
    "    plt.show()\n",
    "    plt.close()"
   ]
  },
  {
   "cell_type": "code",
   "execution_count": null,
   "metadata": {},
   "outputs": [],
   "source": []
  },
  {
   "cell_type": "code",
   "execution_count": null,
   "metadata": {},
   "outputs": [],
   "source": []
  }
 ],
 "metadata": {
  "kernelspec": {
   "display_name": "Python 3",
   "language": "python",
   "name": "python3"
  },
  "language_info": {
   "codemirror_mode": {
    "name": "ipython",
    "version": 3
   },
   "file_extension": ".py",
   "mimetype": "text/x-python",
   "name": "python",
   "nbconvert_exporter": "python",
   "pygments_lexer": "ipython3",
   "version": "3.6.3"
  }
 },
 "nbformat": 4,
 "nbformat_minor": 2
}
