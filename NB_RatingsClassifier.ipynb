{
 "cells": [
  {
   "cell_type": "markdown",
   "metadata": {},
   "source": [
    "# Predicting Ratings from Review Text"
   ]
  },
  {
   "cell_type": "code",
   "execution_count": 1,
   "metadata": {},
   "outputs": [],
   "source": [
    "%matplotlib inline\n",
    "import numpy as np\n",
    "import math\n",
    "import matplotlib.pyplot as plt\n",
    "import pandas as pd\n",
    "import datetime\n",
    "from glob import glob\n",
    "\n",
    "import seaborn as sns\n",
    "sns.set_style('whitegrid')\n",
    "sns.set_context(\"poster\")"
   ]
  },
  {
   "cell_type": "code",
   "execution_count": 2,
   "metadata": {},
   "outputs": [],
   "source": [
    "def time_marker(text=''):\n",
    "    print('[{}] {}'.format(datetime.datetime.now().time(), text))"
   ]
  },
  {
   "cell_type": "code",
   "execution_count": 4,
   "metadata": {},
   "outputs": [
    {
     "data": {
      "text/html": [
       "<style>.container { width:95% !important; }</style>"
      ],
      "text/plain": [
       "<IPython.core.display.HTML object>"
      ]
     },
     "metadata": {},
     "output_type": "display_data"
    }
   ],
   "source": [
    "from IPython.core.display import display, HTML\n",
    "display(HTML(\"<style>.container { width:95% !important; }</style>\"))\n",
    "\n",
    "import matplotlib\n",
    "font = {'size' : 50}\n",
    "matplotlib.rc('font', **font)\n",
    "\n",
    "TITLE_FONT_SIZE = 25\n",
    "LABEL_FONT_SIZE = 15\n",
    "TICK_FONT_SIZE  = 15\n",
    "\n",
    "FIG_SIZE = (15,6)\n",
    "FIG_SIZE_SHORT = (15,3)"
   ]
  },
  {
   "cell_type": "markdown",
   "metadata": {},
   "source": [
    "# Load Reviews"
   ]
  },
  {
   "cell_type": "markdown",
   "metadata": {},
   "source": [
    "## All Reviews"
   ]
  },
  {
   "cell_type": "code",
   "execution_count": 11,
   "metadata": {},
   "outputs": [
    {
     "name": "stdout",
     "output_type": "stream",
     "text": [
      "[21:44:12.255519] loading all reviews...\n"
     ]
    },
    {
     "name": "stderr",
     "output_type": "stream",
     "text": [
      "/Users/samgutentag/anaconda/envs/spring/lib/python3.6/site-packages/numpy/lib/arraysetops.py:463: FutureWarning: elementwise comparison failed; returning scalar instead, but in the future will perform elementwise comparison\n",
      "  mask |= (ar1 == a)\n"
     ]
    },
    {
     "name": "stdout",
     "output_type": "stream",
     "text": [
      "[21:44:41.018561] done\n"
     ]
    }
   ],
   "source": [
    "time_marker('loading all reviews...')\n",
    "reviews = pd.read_csv('./clean_data/_analysis/restaurant_reviews_top_countries.csv', index_col=0, parse_dates=['date'])\n",
    "time_marker('done')"
   ]
  },
  {
   "cell_type": "code",
   "execution_count": 36,
   "metadata": {},
   "outputs": [
    {
     "name": "stdout",
     "output_type": "stream",
     "text": [
      "<class 'pandas.core.frame.DataFrame'>\n",
      "Int64Index: 1676714 entries, 0 to 1676903\n",
      "Data columns (total 13 columns):\n",
      "business_id      1676714 non-null object\n",
      "cool             1676714 non-null int64\n",
      "date             1676714 non-null datetime64[ns]\n",
      "funny            1676714 non-null int64\n",
      "review_id        1676714 non-null object\n",
      "stars            1676714 non-null int64\n",
      "text             1676714 non-null object\n",
      "useful           1676714 non-null int64\n",
      "user_id          1676714 non-null object\n",
      "review_length    1676714 non-null int64\n",
      "state            1676714 non-null object\n",
      "city             1676710 non-null object\n",
      "country          1676714 non-null object\n",
      "dtypes: datetime64[ns](1), int64(5), object(7)\n",
      "memory usage: 179.1+ MB\n"
     ]
    }
   ],
   "source": [
    "reviews.info()"
   ]
  },
  {
   "cell_type": "code",
   "execution_count": 12,
   "metadata": {
    "scrolled": true
   },
   "outputs": [
    {
     "data": {
      "text/html": [
       "<div>\n",
       "<style scoped>\n",
       "    .dataframe tbody tr th:only-of-type {\n",
       "        vertical-align: middle;\n",
       "    }\n",
       "\n",
       "    .dataframe tbody tr th {\n",
       "        vertical-align: top;\n",
       "    }\n",
       "\n",
       "    .dataframe thead th {\n",
       "        text-align: right;\n",
       "    }\n",
       "</style>\n",
       "<table border=\"1\" class=\"dataframe\">\n",
       "  <thead>\n",
       "    <tr style=\"text-align: right;\">\n",
       "      <th></th>\n",
       "      <th>business_id</th>\n",
       "      <th>cool</th>\n",
       "      <th>date</th>\n",
       "      <th>funny</th>\n",
       "      <th>review_id</th>\n",
       "      <th>stars</th>\n",
       "      <th>text</th>\n",
       "      <th>useful</th>\n",
       "      <th>user_id</th>\n",
       "      <th>review_length</th>\n",
       "      <th>state</th>\n",
       "      <th>city</th>\n",
       "      <th>country</th>\n",
       "    </tr>\n",
       "  </thead>\n",
       "  <tbody>\n",
       "    <tr>\n",
       "      <th>0</th>\n",
       "      <td>-QOz-2NrDkXjgKYEGBQZhA</td>\n",
       "      <td>0</td>\n",
       "      <td>2011-10-04</td>\n",
       "      <td>0</td>\n",
       "      <td>FERZQal0cYWKf8rVceC24w</td>\n",
       "      <td>3</td>\n",
       "      <td>thought we were coming in to dozo but instead ...</td>\n",
       "      <td>0</td>\n",
       "      <td>P2E31XC7SP4v_3hXC2o0Xw</td>\n",
       "      <td>815</td>\n",
       "      <td>ON</td>\n",
       "      <td>Markham</td>\n",
       "      <td>Canada</td>\n",
       "    </tr>\n",
       "    <tr>\n",
       "      <th>1</th>\n",
       "      <td>-QOz-2NrDkXjgKYEGBQZhA</td>\n",
       "      <td>0</td>\n",
       "      <td>2012-02-07</td>\n",
       "      <td>1</td>\n",
       "      <td>itCQYxlnjfnQPKQBU0K_dw</td>\n",
       "      <td>1</td>\n",
       "      <td>the atmosphere is great but saw the waitress p...</td>\n",
       "      <td>0</td>\n",
       "      <td>1P2GTkfjzlkJHZ4AQJYKbw</td>\n",
       "      <td>103</td>\n",
       "      <td>ON</td>\n",
       "      <td>Markham</td>\n",
       "      <td>Canada</td>\n",
       "    </tr>\n",
       "    <tr>\n",
       "      <th>2</th>\n",
       "      <td>-QOz-2NrDkXjgKYEGBQZhA</td>\n",
       "      <td>0</td>\n",
       "      <td>2012-10-04</td>\n",
       "      <td>0</td>\n",
       "      <td>T4JbEoTfq9O2f9Gzdd5Siw</td>\n",
       "      <td>3</td>\n",
       "      <td>had dinner here and it wasnt bad at all all yo...</td>\n",
       "      <td>1</td>\n",
       "      <td>GAf5JaZu2kNiFzrWjaWssw</td>\n",
       "      <td>244</td>\n",
       "      <td>ON</td>\n",
       "      <td>Markham</td>\n",
       "      <td>Canada</td>\n",
       "    </tr>\n",
       "    <tr>\n",
       "      <th>3</th>\n",
       "      <td>-QOz-2NrDkXjgKYEGBQZhA</td>\n",
       "      <td>0</td>\n",
       "      <td>2012-06-05</td>\n",
       "      <td>0</td>\n",
       "      <td>z7rXEvMWBZotEbxM6qABQQ</td>\n",
       "      <td>3</td>\n",
       "      <td>tried this place for the first time today asid...</td>\n",
       "      <td>0</td>\n",
       "      <td>eG09GDBWdQeWtSJdsP_pCw</td>\n",
       "      <td>1263</td>\n",
       "      <td>ON</td>\n",
       "      <td>Markham</td>\n",
       "      <td>Canada</td>\n",
       "    </tr>\n",
       "    <tr>\n",
       "      <th>4</th>\n",
       "      <td>-QOz-2NrDkXjgKYEGBQZhA</td>\n",
       "      <td>0</td>\n",
       "      <td>2012-11-07</td>\n",
       "      <td>0</td>\n",
       "      <td>tVkibM9wZgaxHi-TuxGrXA</td>\n",
       "      <td>2</td>\n",
       "      <td>in a word bland everything about this place is...</td>\n",
       "      <td>0</td>\n",
       "      <td>MVDtvZZgxSji8NxmCeg50w</td>\n",
       "      <td>451</td>\n",
       "      <td>ON</td>\n",
       "      <td>Markham</td>\n",
       "      <td>Canada</td>\n",
       "    </tr>\n",
       "  </tbody>\n",
       "</table>\n",
       "</div>"
      ],
      "text/plain": [
       "              business_id  cool       date  funny               review_id  \\\n",
       "0  -QOz-2NrDkXjgKYEGBQZhA     0 2011-10-04      0  FERZQal0cYWKf8rVceC24w   \n",
       "1  -QOz-2NrDkXjgKYEGBQZhA     0 2012-02-07      1  itCQYxlnjfnQPKQBU0K_dw   \n",
       "2  -QOz-2NrDkXjgKYEGBQZhA     0 2012-10-04      0  T4JbEoTfq9O2f9Gzdd5Siw   \n",
       "3  -QOz-2NrDkXjgKYEGBQZhA     0 2012-06-05      0  z7rXEvMWBZotEbxM6qABQQ   \n",
       "4  -QOz-2NrDkXjgKYEGBQZhA     0 2012-11-07      0  tVkibM9wZgaxHi-TuxGrXA   \n",
       "\n",
       "   stars                                               text  useful  \\\n",
       "0      3  thought we were coming in to dozo but instead ...       0   \n",
       "1      1  the atmosphere is great but saw the waitress p...       0   \n",
       "2      3  had dinner here and it wasnt bad at all all yo...       1   \n",
       "3      3  tried this place for the first time today asid...       0   \n",
       "4      2  in a word bland everything about this place is...       0   \n",
       "\n",
       "                  user_id  review_length state     city country  \n",
       "0  P2E31XC7SP4v_3hXC2o0Xw            815    ON  Markham  Canada  \n",
       "1  1P2GTkfjzlkJHZ4AQJYKbw            103    ON  Markham  Canada  \n",
       "2  GAf5JaZu2kNiFzrWjaWssw            244    ON  Markham  Canada  \n",
       "3  eG09GDBWdQeWtSJdsP_pCw           1263    ON  Markham  Canada  \n",
       "4  MVDtvZZgxSji8NxmCeg50w            451    ON  Markham  Canada  "
      ]
     },
     "execution_count": 12,
     "metadata": {},
     "output_type": "execute_result"
    }
   ],
   "source": [
    "reviews.head()"
   ]
  },
  {
   "cell_type": "markdown",
   "metadata": {},
   "source": [
    "## Average Rating Per User"
   ]
  },
  {
   "cell_type": "code",
   "execution_count": 13,
   "metadata": {},
   "outputs": [],
   "source": [
    "df = reviews.copy()\n",
    "\n",
    "grp = df.groupby('user_id')\n",
    "counts = grp.user_id.count()\n",
    "means = grp.stars.mean()"
   ]
  },
  {
   "cell_type": "code",
   "execution_count": 19,
   "metadata": {},
   "outputs": [
    {
     "data": {
      "image/png": "[encoded data removed]",
      "text/plain": [
       "<matplotlib.figure.Figure at 0x1a98b87630>"
      ]
     },
     "metadata": {},
     "output_type": "display_data"
    }
   ],
   "source": [
    "plt.rcParams['figure.figsize'] = (15,10)\n",
    "fig, axes = plt.subplots(nrows=2, ncols=2)\n",
    "width = 0.3\n",
    "ax0, ax1, ax2, ax3 = axes.flatten()\n",
    "\n",
    "\n",
    "ax0.hist(means, bins=10, edgecolor='w', lw=1, width=width)\n",
    "ax0.set_title('All Users')\n",
    "ax0.set_xlabel('Average Star Rating')\n",
    "ax0.set_ylabel('Number of Users')\n",
    "\n",
    "ax1.hist(means[counts > 1], bins=10, edgecolor='w', lw=1, width=width)\n",
    "ax1.set_title('Users with More than 1 Review')\n",
    "ax1.set_xlabel('Average Star Rating')\n",
    "ax1.set_ylabel('Number of Users')\n",
    "\n",
    "ax3.hist(means[counts == 1], bins=10, edgecolor='w', lw=1, width=width)\n",
    "ax3.set_title('Users with Exactly 1 Review')\n",
    "ax3.set_xlabel('Average Star Rating')\n",
    "ax3.set_ylabel('Number of Users')\n",
    "\n",
    "ax2.hist(means[counts >= 15], bins=10, edgecolor='w', lw=1, width=width)\n",
    "ax2.set_title('Users with at Least 15 Reviews')\n",
    "ax2.set_xlabel('Average Star Rating')\n",
    "ax2.set_ylabel('Number of Users')\n",
    "\n",
    "plt.tight_layout()\n",
    "plt.show()\n",
    "plt.close()\n"
   ]
  },
  {
   "cell_type": "markdown",
   "metadata": {},
   "source": [
    "# Vector Space Model"
   ]
  },
  {
   "cell_type": "code",
   "execution_count": 20,
   "metadata": {},
   "outputs": [],
   "source": [
    "from sklearn.feature_extraction.text import CountVectorizer"
   ]
  },
  {
   "cell_type": "code",
   "execution_count": 141,
   "metadata": {},
   "outputs": [],
   "source": [
    "def make_xy(df, vectorizer=None):\n",
    "    #Your code here    \n",
    "    if vectorizer is None:\n",
    "        vectorizer = CountVectorizer()\n",
    "    X = vectorizer.fit_transform(df.text)\n",
    "    X = X.tocsc()  # some versions of sklearn return COO format\n",
    "    y = df.stars.values.astype(np.int)\n",
    "    return X, y"
   ]
  },
  {
   "cell_type": "code",
   "execution_count": 226,
   "metadata": {},
   "outputs": [
    {
     "data": {
      "text/plain": [
       "1676714"
      ]
     },
     "execution_count": 226,
     "metadata": {},
     "output_type": "execute_result"
    }
   ],
   "source": [
    "# reviews_subset = reviews[:math.floor(reviews.shape[0]*0.1)].copy()\n",
    "reviews_subset = reviews.copy()\n",
    "reviews_subset.shape[0]"
   ]
  },
  {
   "cell_type": "code",
   "execution_count": 227,
   "metadata": {
    "scrolled": true
   },
   "outputs": [
    {
     "name": "stdout",
     "output_type": "stream",
     "text": [
      "[00:27:46.998096] vectorizing reviews...\n",
      "[00:32:30.330842] done!\n"
     ]
    }
   ],
   "source": [
    "time_marker('vectorizing reviews...')\n",
    "X, y = make_xy(reviews_subset)\n",
    "time_marker('done!')"
   ]
  },
  {
   "cell_type": "markdown",
   "metadata": {},
   "source": [
    "## test and train split"
   ]
  },
  {
   "cell_type": "code",
   "execution_count": 228,
   "metadata": {},
   "outputs": [],
   "source": [
    "from sklearn.model_selection import train_test_split\n",
    "X_train, X_test, y_train, y_test = train_test_split(X, y, test_size=0.3, random_state=42)"
   ]
  },
  {
   "cell_type": "markdown",
   "metadata": {},
   "source": [
    "## Multinomial Classifier"
   ]
  },
  {
   "cell_type": "code",
   "execution_count": 229,
   "metadata": {},
   "outputs": [],
   "source": [
    "from sklearn.naive_bayes import MultinomialNB\n",
    "nb_clf = MultinomialNB()"
   ]
  },
  {
   "cell_type": "code",
   "execution_count": 230,
   "metadata": {},
   "outputs": [
    {
     "name": "stdout",
     "output_type": "stream",
     "text": [
      "[01:34:44.594709] fitting classifier...\n",
      "[01:34:49.595193] done!\n"
     ]
    }
   ],
   "source": [
    "time_marker('fitting classifier...')\n",
    "nb_clf.fit(X_train, y_train)\n",
    "time_marker('done!')"
   ]
  },
  {
   "cell_type": "code",
   "execution_count": 231,
   "metadata": {},
   "outputs": [
    {
     "name": "stdout",
     "output_type": "stream",
     "text": [
      "Accuracy on Training Set: 63.4038\n",
      "Accuracy on Testing Set:  59.1126\n"
     ]
    }
   ],
   "source": [
    "# print the accuracy scores for both the training and the test sets\n",
    "print(\"Accuracy on Training Set: {:2.4f}\".format(100. * nb_clf.score(X_train, y_train)))\n",
    "print(\"Accuracy on Testing Set:  {:2.4f}\".format(100. * nb_clf.score(X_test, y_test)))"
   ]
  },
  {
   "cell_type": "code",
   "execution_count": 232,
   "metadata": {},
   "outputs": [
    {
     "name": "stdout",
     "output_type": "stream",
     "text": [
      "             precision    recall  f1-score   support\n",
      "\n",
      "          1       0.61      0.71      0.66     58829\n",
      "          2       0.41      0.30      0.34     50136\n",
      "          3       0.45      0.38      0.41     72693\n",
      "          4       0.53      0.51      0.52    140874\n",
      "          5       0.70      0.78      0.74    180483\n",
      "\n",
      "avg / total       0.58      0.59      0.58    503015\n",
      "\n"
     ]
    }
   ],
   "source": [
    "y_pred = nb_clf.predict(X_test)\n",
    "from sklearn.metrics import classification_report\n",
    "print(classification_report(y_test, y_pred))"
   ]
  },
  {
   "cell_type": "markdown",
   "metadata": {},
   "source": [
    "# Tuning HyperParameters"
   ]
  },
  {
   "cell_type": "code",
   "execution_count": 233,
   "metadata": {},
   "outputs": [],
   "source": [
    "reviews_df = reviews_subset.copy()\n",
    "\n",
    "X, y = make_xy(reviews_df)"
   ]
  },
  {
   "cell_type": "code",
   "execution_count": 234,
   "metadata": {
    "scrolled": true
   },
   "outputs": [
    {
     "data": {
      "text/html": [
       "<div>\n",
       "<style scoped>\n",
       "    .dataframe tbody tr th:only-of-type {\n",
       "        vertical-align: middle;\n",
       "    }\n",
       "\n",
       "    .dataframe tbody tr th {\n",
       "        vertical-align: top;\n",
       "    }\n",
       "\n",
       "    .dataframe thead th {\n",
       "        text-align: right;\n",
       "    }\n",
       "</style>\n",
       "<table border=\"1\" class=\"dataframe\">\n",
       "  <thead>\n",
       "    <tr style=\"text-align: right;\">\n",
       "      <th></th>\n",
       "      <th>freq</th>\n",
       "    </tr>\n",
       "  </thead>\n",
       "  <tbody>\n",
       "    <tr>\n",
       "      <th>0</th>\n",
       "      <td>90</td>\n",
       "    </tr>\n",
       "    <tr>\n",
       "      <th>1</th>\n",
       "      <td>51</td>\n",
       "    </tr>\n",
       "    <tr>\n",
       "      <th>2</th>\n",
       "      <td>8</td>\n",
       "    </tr>\n",
       "    <tr>\n",
       "      <th>3</th>\n",
       "      <td>2</td>\n",
       "    </tr>\n",
       "    <tr>\n",
       "      <th>4</th>\n",
       "      <td>3</td>\n",
       "    </tr>\n",
       "  </tbody>\n",
       "</table>\n",
       "</div>"
      ],
      "text/plain": [
       "   freq\n",
       "0    90\n",
       "1    51\n",
       "2     8\n",
       "3     2\n",
       "4     3"
      ]
     },
     "execution_count": 234,
     "metadata": {},
     "output_type": "execute_result"
    }
   ],
   "source": [
    "word_freq = pd.DataFrame(X.sum(axis=0).transpose())\n",
    "word_freq.columns = ['freq']\n",
    "word_freq.head(5)"
   ]
  },
  {
   "cell_type": "code",
   "execution_count": 235,
   "metadata": {},
   "outputs": [
    {
     "data": {
      "image/png": "[encoded data removed]",
      "text/plain": [
       "<matplotlib.figure.Figure at 0x1a1735a9b0>"
      ]
     },
     "metadata": {},
     "output_type": "display_data"
    }
   ],
   "source": [
    "# plot cummulative histogram of word frequencies\n",
    "plt.hist(word_freq.groupby('freq').size(), \n",
    "         bins = word_freq.groupby(['freq']).size().index[-1],\n",
    "         histtype='step', cumulative=1, linewidth=3\n",
    "        )\n",
    "\n",
    "plt.hist(word_freq.groupby('freq').size(), \n",
    "         bins = 500,\n",
    "         histtype='step', cumulative=1, linewidth=3, color ='r', alpha=0.3\n",
    "        )\n",
    "\n",
    "plt.xlim(-1, 500)\n",
    "# plt.ylim(-1, 350)\n",
    "plt.xlabel('Number of Documents')\n",
    "plt.ylabel('Cummulative Word Frequency')\n",
    "plt.title('Cummulative Word Frequencies vs Min Number of Documents')\n",
    "plt.show()"
   ]
  },
  {
   "cell_type": "code",
   "execution_count": 236,
   "metadata": {},
   "outputs": [
    {
     "data": {
      "image/png": "[encoded data removed]",
      "text/plain": [
       "<matplotlib.figure.Figure at 0x1a1735a780>"
      ]
     },
     "metadata": {},
     "output_type": "display_data"
    }
   ],
   "source": [
    "# plot cummulative histogram of word frequencies\n",
    "plt.hist(word_freq.groupby('freq').size(), \n",
    "         bins = word_freq.groupby(['freq']).size().index[-1],\n",
    "         histtype='step', cumulative=1, normed=1, linewidth=3\n",
    "        )\n",
    "\n",
    "plt.hist(word_freq.groupby('freq').size(), \n",
    "         bins = 500,\n",
    "         histtype='step', cumulative=1, normed=1, linewidth=3, color ='r', alpha=0.3\n",
    "        )\n",
    "\n",
    "plt.xlim(-1, 500)\n",
    "plt.ylim(-0.01, 1.01)\n",
    "plt.xlabel('Number of Documents')\n",
    "plt.ylabel('Cummulative Word Frequency')\n",
    "plt.title('Cummulative Word Frequencies vs Min Number of Documents - Normalized')\n",
    "plt.show()"
   ]
  },
  {
   "cell_type": "markdown",
   "metadata": {},
   "source": [
    "# K Fold"
   ]
  },
  {
   "cell_type": "code",
   "execution_count": 237,
   "metadata": {},
   "outputs": [],
   "source": [
    "from sklearn.model_selection import KFold\n",
    "def cv_score(clf, X, y, scorefunc):\n",
    "    result = 0.\n",
    "    nfold = 5\n",
    "    for train, test in KFold(nfold).split(X): # split data into train/test groups, 5 times\n",
    "        clf.fit(X[train], y[train]) # fit the classifier, passed is as clf.\n",
    "        result += scorefunc(clf, X[test], y[test]) # evaluate score function on held-out data\n",
    "    return result / nfold # average"
   ]
  },
  {
   "cell_type": "code",
   "execution_count": 238,
   "metadata": {},
   "outputs": [],
   "source": [
    "def log_likelihood(clf, x, y):\n",
    "    prob = clf.predict_log_proba(x)\n",
    "    \n",
    "    star01 = y == 1\n",
    "    star02 = y == 2\n",
    "    star03 = y == 3\n",
    "    star04 = y == 4\n",
    "    star05 = y == 5\n",
    "    \n",
    "    score = prob[star01, 0].sum() + prob[star02, 1].sum() + prob[star03, 2].sum() + prob[star04, 3].sum() + prob[star05, 4].sum()\n",
    "    return score\n",
    "    "
   ]
  },
  {
   "cell_type": "code",
   "execution_count": 239,
   "metadata": {},
   "outputs": [],
   "source": [
    "_, itest = train_test_split(range(reviews_subset.shape[0]), test_size=0.3, random_state=42)\n",
    "mask = np.zeros(reviews_subset.shape[0], dtype=np.bool)\n",
    "mask[itest] = True"
   ]
  },
  {
   "cell_type": "code",
   "execution_count": 249,
   "metadata": {
    "scrolled": false
   },
   "outputs": [
    {
     "name": "stdout",
     "output_type": "stream",
     "text": [
      "[22:25:24.745162] grid search started...\n",
      "alpha:\t6500.0\tmin_df:\t0.1250\tscore:\t-137858.2871\t\n",
      "alpha:\t6500.0\tmin_df:\t0.1500\tscore:\t-136854.0491\t\n",
      "alpha:\t6500.0\tmin_df:\t0.1750\tscore:\t-141435.3941\t\n",
      "\n",
      "alpha:\t6750.0\tmin_df:\t0.1250\tscore:\t-137825.7927\t\n",
      "alpha:\t6750.0\tmin_df:\t0.1500\tscore:\t-136832.8974\t\n",
      "alpha:\t6750.0\tmin_df:\t0.1750\tscore:\t-141358.3380\t\n",
      "\n",
      "alpha:\t7000.0\tmin_df:\t0.1250\tscore:\t-137809.4192\t\n",
      "alpha:\t7000.0\tmin_df:\t0.1500\tscore:\t-136823.2517\t\n",
      "alpha:\t7000.0\tmin_df:\t0.1750\tscore:\t-141289.9250\t\n",
      "\n",
      "alpha:\t7250.0\tmin_df:\t0.1250\tscore:\t-137809.4430\t\n",
      "alpha:\t7250.0\tmin_df:\t0.1500\tscore:\t-136825.2835\t\n",
      "alpha:\t7250.0\tmin_df:\t0.1750\tscore:\t-141230.1887\t\n",
      "\n",
      "alpha:\t7500.0\tmin_df:\t0.1250\tscore:\t-137826.0956\t\n",
      "alpha:\t7500.0\tmin_df:\t0.1500\tscore:\t-136839.1386\t\n",
      "alpha:\t7500.0\tmin_df:\t0.1750\tscore:\t-141179.1550\t\n",
      "\n",
      "[23:58:16.143044] done!\n"
     ]
    }
   ],
   "source": [
    "time_marker('grid search started...')\n",
    "#the grid of parameters to search over\n",
    "alphas = [6500, 6750, 7000, 7250, 7500]\n",
    "min_dfs = [0.125, 0.15, 0.175]#, 0.2, 0.225, 0.25]\n",
    "\n",
    "#Find the best value for alpha and min_df, and the best classifier\n",
    "best_alpha = -np.inf\n",
    "best_min_df = -np.inf\n",
    "best_score = -np.inf\n",
    "\n",
    "for alpha in alphas:\n",
    "    for mindf in min_dfs:      \n",
    "        vectorizer = CountVectorizer(min_df=mindf)       \n",
    "        X, y = make_xy(reviews_subset, vectorizer)\n",
    "        X_train = X[mask]\n",
    "        y_train = y[mask]\n",
    "        \n",
    "        # instantiate classifier\n",
    "        clf = MultinomialNB(alpha=alpha)\n",
    "        \n",
    "        # score the classifier\n",
    "        score = cv_score(clf, X_train, y_train, log_likelihood)\n",
    "\n",
    "        print('alpha:\\t%0.1f\\tmin_df:\\t%0.4f\\tscore:\\t%0.4f\\t' % (alpha, mindf, score))\n",
    "\n",
    "        if score > best_score:\n",
    "            best_score = score\n",
    "            best_alpha = alpha\n",
    "            best_min_df = mindf\n",
    "    print(\"\")\n",
    "time_marker('done!')"
   ]
  },
  {
   "cell_type": "code",
   "execution_count": 250,
   "metadata": {},
   "outputs": [
    {
     "name": "stdout",
     "output_type": "stream",
     "text": [
      "Best alpha:  7000\n",
      "Best min_df: 0.15\n",
      "Best score: -136823.2516982342\n"
     ]
    }
   ],
   "source": [
    "print(\"Best alpha:  {}\".format(best_alpha))\n",
    "print(\"Best min_df: {}\".format(best_min_df))\n",
    "print(\"Best score: {}\".format(best_score))"
   ]
  },
  {
   "cell_type": "markdown",
   "metadata": {},
   "source": [
    "THIS IS BEST SETTINGS!\n",
    "\n",
    "alpha = 7000\n",
    "min_df = 0.15"
   ]
  },
  {
   "cell_type": "code",
   "execution_count": null,
   "metadata": {},
   "outputs": [],
   "source": []
  }
 ],
 "metadata": {
  "kernelspec": {
   "display_name": "Python 3",
   "language": "python",
   "name": "python3"
  },
  "language_info": {
   "codemirror_mode": {
    "name": "ipython",
    "version": 3
   },
   "file_extension": ".py",
   "mimetype": "text/x-python",
   "name": "python",
   "nbconvert_exporter": "python",
   "pygments_lexer": "ipython3",
   "version": "3.6.3"
  }
 },
 "nbformat": 4,
 "nbformat_minor": 2
}
