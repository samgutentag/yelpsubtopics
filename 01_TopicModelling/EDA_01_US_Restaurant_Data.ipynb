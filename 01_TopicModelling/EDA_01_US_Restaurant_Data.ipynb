{
 "cells": [
  {
   "cell_type": "markdown",
   "metadata": {},
   "source": [
    "# Restaurant Data EDA\n",
    "<p>Now that we have wrangled business and review data, we can move forward to inspecting the data so far.</p>"
   ]
  },
  {
   "cell_type": "markdown",
   "metadata": {},
   "source": [
    "## Step 0: Import packages and establish chart output standards"
   ]
  },
  {
   "cell_type": "code",
   "execution_count": null,
   "metadata": {},
   "outputs": [],
   "source": [
    "import numpy as np\n",
    "import pandas as pd\n",
    "import datetime\n",
    "import json\n",
    "import itertools\n",
    "from collections import Counter\n",
    "\n",
    "import seaborn as sns\n",
    "sns.set()\n",
    "\n",
    "import matplotlib.pyplot as plt\n",
    "%matplotlib inline"
   ]
  },
  {
   "cell_type": "code",
   "execution_count": null,
   "metadata": {},
   "outputs": [],
   "source": [
    "TITLE_FONT_SIZE = 25\n",
    "LABEL_FONT_SIZE = 15\n",
    "TICK_FONT_SIZE  = 15\n",
    "\n",
    "FIG_SIZE = (15,6)\n",
    "\n",
    "DO_WRITE_CHARTS = False\n",
    "\n",
    "from IPython.core.display import display, HTML\n",
    "display(HTML(\"<style>.container { width:95% !important; }</style>\"))\n",
    "\n",
    "def time_marker(text=''):\n",
    "    print('[{}] {}'.format(datetime.datetime.now().time(), text.lower()))"
   ]
  },
  {
   "cell_type": "markdown",
   "metadata": {},
   "source": [
    "# Step 1: Load Cleaned Restaurant Data\n",
    "<p>Load cleaned Arizona Restaurant Data from csv file and extract `business_id` values.  Load reviews and keep only those given to these Arizona Restaurants</p>"
   ]
  },
  {
   "cell_type": "code",
   "execution_count": null,
   "metadata": {},
   "outputs": [],
   "source": [
    "time_marker(text='Loading Non Fast Food Data...')\n",
    "restaurants = pd.read_csv('../clean_data/az_restaurant_business_clean.csv', index_col=0)\n",
    "restaurants.reset_index(inplace=True, drop=True)\n",
    "time_marker(text='Complete!')"
   ]
  },
  {
   "cell_type": "code",
   "execution_count": null,
   "metadata": {},
   "outputs": [],
   "source": [
    "# encode open and \n",
    "restaurants['is_open'] = restaurants['is_open'].apply(lambda x: 'True' if x == 1 else 'False')\n",
    "restaurants['is_fast_food'] = restaurants['is_fast_food'].apply(lambda x: 'True' if x == 1 else 'False')"
   ]
  },
  {
   "cell_type": "code",
   "execution_count": null,
   "metadata": {},
   "outputs": [],
   "source": [
    "restaurants.head()"
   ]
  },
  {
   "cell_type": "markdown",
   "metadata": {},
   "source": [
    "## Split into `Fast Food` and `Non Fast Food` DataFrames"
   ]
  },
  {
   "cell_type": "code",
   "execution_count": null,
   "metadata": {
    "scrolled": true
   },
   "outputs": [],
   "source": [
    "time_marker(text='Loading Non Fast Food Data...')\n",
    "nff_restaurants = restaurants[restaurants.is_fast_food == 'False'].copy()\n",
    "nff_restaurants.reset_index(inplace=True, drop=True)\n",
    "\n",
    "time_marker(text='Loading Fast Food Data...')\n",
    "ff_restaurants = restaurants[restaurants.is_fast_food == 'True'].copy()\n",
    "ff_restaurants.reset_index(inplace=True, drop=True)\n",
    "\n",
    "time_marker(text='Complete!')"
   ]
  },
  {
   "cell_type": "code",
   "execution_count": null,
   "metadata": {
    "scrolled": false
   },
   "outputs": [],
   "source": [
    "restaurants.head(3).transpose()"
   ]
  },
  {
   "cell_type": "markdown",
   "metadata": {},
   "source": [
    "# Exploratory Data Analysis"
   ]
  },
  {
   "cell_type": "code",
   "execution_count": null,
   "metadata": {},
   "outputs": [],
   "source": [
    "def plot_ratings(df, title, cp):\n",
    "    ax = plt.figure(figsize=FIG_SIZE)\n",
    "    ax = sns.countplot(x=\"stars\", data=df, palette=cp.title())\n",
    "\n",
    "    ax.set_xlabel('Star Rating', size=LABEL_FONT_SIZE)\n",
    "    ax.set_ylabel('Number of Restaurants', size=LABEL_FONT_SIZE)\n",
    "\n",
    "    title = title\n",
    "    ax.set_title(title, size=TITLE_FONT_SIZE)\n",
    "\n",
    "    if DO_WRITE_CHARTS:\n",
    "        plt.savefig('../charts/{}_bar.png'.format(title.lower().replace(' ', '_')))\n",
    "    plt.show()\n",
    "    plt.close()"
   ]
  },
  {
   "cell_type": "code",
   "execution_count": null,
   "metadata": {
    "scrolled": true
   },
   "outputs": [],
   "source": [
    "restaurants.head()"
   ]
  },
  {
   "cell_type": "code",
   "execution_count": null,
   "metadata": {},
   "outputs": [],
   "source": [
    "title = 'Arizona Restaurant Star Distribution'\n",
    "plot_ratings(restaurants, title, 'Reds')"
   ]
  },
  {
   "cell_type": "code",
   "execution_count": null,
   "metadata": {},
   "outputs": [],
   "source": [
    "ff_restaurants.head()"
   ]
  },
  {
   "cell_type": "code",
   "execution_count": null,
   "metadata": {},
   "outputs": [],
   "source": [
    "title = 'Arizona Fast Food Restaurant Star Distribution'\n",
    "plot_ratings(ff_restaurants, title, 'Greens')"
   ]
  },
  {
   "cell_type": "code",
   "execution_count": null,
   "metadata": {},
   "outputs": [],
   "source": [
    "nff_restaurants.head()"
   ]
  },
  {
   "cell_type": "code",
   "execution_count": null,
   "metadata": {},
   "outputs": [],
   "source": [
    "title = 'Arizona Non Fast Food Restaurant Star Distribution'\n",
    "plot_ratings(nff_restaurants, title, 'Blues')"
   ]
  },
  {
   "cell_type": "markdown",
   "metadata": {},
   "source": [
    "# Inspect Restaurants by Category"
   ]
  },
  {
   "cell_type": "code",
   "execution_count": null,
   "metadata": {},
   "outputs": [],
   "source": [
    "# get all unique categories\n",
    "\n",
    "all_category_list = []\n",
    "for sublist in [cat for cat in list(restaurants['categories'].values)]:\n",
    "    sublist_parts = sublist.split(\"', '\")\n",
    "    \n",
    "    for part in sublist_parts:\n",
    "        part = part.strip(\"[]\").strip(\"'\")\n",
    "        if len(part) > 1:\n",
    "            all_category_list.append(part)\n",
    "            \n",
    "all_category_list = sorted(list(set(all_category_list)))"
   ]
  },
  {
   "cell_type": "code",
   "execution_count": null,
   "metadata": {
    "scrolled": false
   },
   "outputs": [],
   "source": [
    "def plot_category_closures(df, category, category_label):\n",
    "    \n",
    "    data = df[df.categories.apply(lambda x: category in x)].copy()\n",
    "    data.sort_values(['is_open', 'is_fast_food'], inplace=True, ascending=False)\n",
    "    \n",
    "    # prune tailing 's' from category label\n",
    "    if category_label.endswith('s'):\n",
    "        category_label = category_label[:-1]\n",
    "    \n",
    "    if category_label == 'fast_food':\n",
    "        category_label = 'All Fast Food'\n",
    "    if category_label == 'restaurant':\n",
    "        category_label = 'All '\n",
    "    \n",
    "    if data.shape[0] > 100:\n",
    "        \n",
    "        category_label = category_label.replace('(', '').replace(')', '').replace('_', ' ')\n",
    "\n",
    "        g = sns.factorplot(x=\"stars\", y=\"review_count\", hue=\"is_open\", col=\"is_fast_food\", data=data, kind=\"swarm\", size=6, aspect=1, palette=['#78C850', '#C03028'])\n",
    "\n",
    "        g.fig.suptitle('{} Resturants'.format(category_label.title()), size=TITLE_FONT_SIZE)\n",
    "\n",
    "        plt.show()\n",
    "        plt.close()"
   ]
  },
  {
   "cell_type": "code",
   "execution_count": null,
   "metadata": {
    "scrolled": false
   },
   "outputs": [],
   "source": [
    "for cat in all_category_list:\n",
    "    time_marker('Plotting {} Locations...'.format(cat))\n",
    "    plot_category_closures(restaurants, cat, cat)"
   ]
  },
  {
   "cell_type": "code",
   "execution_count": null,
   "metadata": {},
   "outputs": [],
   "source": []
  }
 ],
 "metadata": {
  "kernelspec": {
   "display_name": "Python 3",
   "language": "python",
   "name": "python3"
  },
  "language_info": {
   "codemirror_mode": {
    "name": "ipython",
    "version": 3
   },
   "file_extension": ".py",
   "mimetype": "text/x-python",
   "name": "python",
   "nbconvert_exporter": "python",
   "pygments_lexer": "ipython3",
   "version": "3.6.3"
  }
 },
 "nbformat": 4,
 "nbformat_minor": 2
}
