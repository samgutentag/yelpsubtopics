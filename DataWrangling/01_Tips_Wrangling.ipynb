{
 "cells": [
  {
   "cell_type": "markdown",
   "metadata": {},
   "source": [
    "# Wrangle Review Data"
   ]
  },
  {
   "cell_type": "code",
   "execution_count": 1,
   "metadata": {},
   "outputs": [],
   "source": [
    "import numpy as np\n",
    "import pandas as pd\n",
    "import datetime\n",
    "import json"
   ]
  },
  {
   "cell_type": "code",
   "execution_count": 2,
   "metadata": {},
   "outputs": [
    {
     "data": {
      "text/html": [
       "<style>.container { width:95% !important; }</style>"
      ],
      "text/plain": [
       "<IPython.core.display.HTML object>"
      ]
     },
     "metadata": {},
     "output_type": "display_data"
    }
   ],
   "source": [
    "import matplotlib.pyplot as plt\n",
    "%matplotlib inline\n",
    "\n",
    "TITLE_FONT_SIZE = 25\n",
    "LABEL_FONT_SIZE = 15\n",
    "TICK_FONT_SIZE  = 15\n",
    "\n",
    "from IPython.core.display import display, HTML\n",
    "display(HTML(\"<style>.container { width:95% !important; }</style>\"))\n",
    "\n",
    "def time_marker(text=''):\n",
    "    print('[{}] {}'.format(datetime.datetime.now().time(), text.lower()))"
   ]
  },
  {
   "cell_type": "markdown",
   "metadata": {},
   "source": [
    "# Load Cleaned Business Data"
   ]
  },
  {
   "cell_type": "code",
   "execution_count": 3,
   "metadata": {},
   "outputs": [],
   "source": [
    "business_data = pd.read_csv('../clean_data/business_clean.csv', index_col=0)\n",
    "restaurant_bids = list(business_data.business_id.values)"
   ]
  },
  {
   "cell_type": "markdown",
   "metadata": {},
   "source": [
    "## Load the Data"
   ]
  },
  {
   "cell_type": "code",
   "execution_count": 4,
   "metadata": {},
   "outputs": [
    {
     "name": "stdout",
     "output_type": "stream",
     "text": [
      "[23:02:38.654685] loading source data file...\n",
      "[23:02:49.261062] creating dataframe...\n"
     ]
    }
   ],
   "source": [
    "data = pd.DataFrame()\n",
    "source_data_file = '../source_data/tip.json'\n",
    "\n",
    "time_marker('loading source data file...')\n",
    "biz_list = []\n",
    "for line in open(source_data_file, 'r'):\n",
    "    biz_list.append(json.loads(line))\n",
    "\n",
    "time_marker('creating dataframe...')\n",
    "data = pd.DataFrame(biz_list)"
   ]
  },
  {
   "cell_type": "code",
   "execution_count": 5,
   "metadata": {},
   "outputs": [
    {
     "name": "stdout",
     "output_type": "stream",
     "text": [
      "<class 'pandas.core.frame.DataFrame'>\n",
      "RangeIndex: 1098325 entries, 0 to 1098324\n",
      "Data columns (total 5 columns):\n",
      "business_id    1098325 non-null object\n",
      "date           1098325 non-null object\n",
      "likes          1098325 non-null int64\n",
      "text           1098325 non-null object\n",
      "user_id        1098325 non-null object\n",
      "dtypes: int64(1), object(4)\n",
      "memory usage: 41.9+ MB\n"
     ]
    }
   ],
   "source": [
    "data.info()"
   ]
  },
  {
   "cell_type": "markdown",
   "metadata": {},
   "source": [
    "## Prune tips to only those for our restaurant subset"
   ]
  },
  {
   "cell_type": "code",
   "execution_count": 6,
   "metadata": {},
   "outputs": [],
   "source": [
    "data = data[data.business_id.isin(restaurant_bids)].copy()\n",
    "data.reset_index(inplace=True, drop=True)"
   ]
  },
  {
   "cell_type": "code",
   "execution_count": 7,
   "metadata": {},
   "outputs": [
    {
     "name": "stdout",
     "output_type": "stream",
     "text": [
      "[23:02:52.910064] set index to business_id...\n"
     ]
    }
   ],
   "source": [
    "time_marker(text='set index to business_id...')\n",
    "data.set_index('business_id', inplace=True, drop=True)"
   ]
  },
  {
   "cell_type": "markdown",
   "metadata": {},
   "source": [
    "## Prune tips that are less than less than 4 characters long, these rarely provide useful information"
   ]
  },
  {
   "cell_type": "code",
   "execution_count": 8,
   "metadata": {},
   "outputs": [],
   "source": [
    "data = data[data.text.str.len() >= 4].copy()"
   ]
  },
  {
   "cell_type": "markdown",
   "metadata": {},
   "source": [
    "## Sanitize tip text"
   ]
  },
  {
   "cell_type": "code",
   "execution_count": 9,
   "metadata": {},
   "outputs": [],
   "source": [
    "import string\n",
    "translator = str.maketrans('','', string.punctuation)"
   ]
  },
  {
   "cell_type": "code",
   "execution_count": 10,
   "metadata": {},
   "outputs": [],
   "source": [
    "data['text'] = data['text'].apply(lambda text: text.translate(translator).lower())"
   ]
  },
  {
   "cell_type": "markdown",
   "metadata": {},
   "source": [
    "## Cleanup columns and reset index"
   ]
  },
  {
   "cell_type": "code",
   "execution_count": 11,
   "metadata": {},
   "outputs": [
    {
     "name": "stdout",
     "output_type": "stream",
     "text": [
      "[23:02:54.562225] cleaning up and reset index...\n"
     ]
    }
   ],
   "source": [
    "time_marker(text='cleaning up and reset index...')\n",
    "data.columns = [str(x).lower().replace(' ', '_') for x in data.columns]\n",
    "data.reset_index(inplace=True)"
   ]
  },
  {
   "cell_type": "markdown",
   "metadata": {},
   "source": [
    "## EDA Tip Text Length Distribution"
   ]
  },
  {
   "cell_type": "code",
   "execution_count": 12,
   "metadata": {},
   "outputs": [
    {
     "data": {
      "image/png": "[encoded data removed]",
      "text/plain": [
       "<matplotlib.figure.Figure at 0x14bae6780>"
      ]
     },
     "metadata": {},
     "output_type": "display_data"
    }
   ],
   "source": [
    "ax = data.text.str.len().plot(kind='hist', bins=200, figsize=(15,6))\n",
    "\n",
    "ax.axvline(data.text.str.len().quantile(0.05), color='k')\n",
    "ax.axvline(data.text.str.len().quantile(0.25), color='k', alpha=0.5, linestyle=':')\n",
    "ax.axvline(data.text.str.len().quantile(0.55), color='k', alpha=0.5, linestyle=':')\n",
    "ax.axvline(data.text.str.len().quantile(0.75), color='k', alpha=0.5, linestyle=':')\n",
    "ax.axvline(data.text.str.len().quantile(0.95), color='k')\n",
    "\n",
    "plt.show()\n",
    "plt.close()"
   ]
  },
  {
   "cell_type": "markdown",
   "metadata": {},
   "source": [
    "## Tokenize Tip Text, remove stop words"
   ]
  },
  {
   "cell_type": "code",
   "execution_count": 13,
   "metadata": {},
   "outputs": [],
   "source": [
    "from nltk.tokenize import word_tokenize\n",
    "from nltk.corpus import stopwords"
   ]
  },
  {
   "cell_type": "code",
   "execution_count": 14,
   "metadata": {},
   "outputs": [],
   "source": [
    "def tokenize_tip(text):\n",
    "    tokens = [t for t in word_tokenize(text) if t.isalpha()]\n",
    "    no_stops = [t for t in tokens if t not in stopwords.words('english')]\n",
    "    return no_stops"
   ]
  },
  {
   "cell_type": "code",
   "execution_count": 15,
   "metadata": {},
   "outputs": [],
   "source": [
    "data['tokenize_text'] = data.text.apply(lambda x: tokenize_tip(x))"
   ]
  },
  {
   "cell_type": "code",
   "execution_count": 16,
   "metadata": {},
   "outputs": [],
   "source": [
    "data['word_count'] = data.tokenize_text.str.len()"
   ]
  },
  {
   "cell_type": "markdown",
   "metadata": {},
   "source": [
    "## EDA Tip Word Count Distribution"
   ]
  },
  {
   "cell_type": "code",
   "execution_count": 19,
   "metadata": {},
   "outputs": [
    {
     "data": {
      "image/png": "[encoded data removed]",
      "text/plain": [
       "<matplotlib.figure.Figure at 0x1a619cfb00>"
      ]
     },
     "metadata": {},
     "output_type": "display_data"
    }
   ],
   "source": [
    "ax = data.word_count.plot(kind='hist', bins=100, figsize=(15,6))\n",
    "\n",
    "ax.axvline(data.word_count.quantile(0.05), color='k')\n",
    "ax.axvline(data.word_count.quantile(0.25), color='k', alpha=0.5, linestyle=':')\n",
    "ax.axvline(data.word_count.quantile(0.55), color='k', alpha=0.5, linestyle=':')\n",
    "ax.axvline(data.word_count.quantile(0.75), color='k', alpha=0.5, linestyle=':')\n",
    "ax.axvline(data.word_count.quantile(0.95), color='k')\n",
    "\n",
    "plt.show()\n",
    "plt.close()"
   ]
  },
  {
   "cell_type": "code",
   "execution_count": null,
   "metadata": {},
   "outputs": [],
   "source": []
  },
  {
   "cell_type": "code",
   "execution_count": null,
   "metadata": {},
   "outputs": [],
   "source": []
  },
  {
   "cell_type": "code",
   "execution_count": null,
   "metadata": {},
   "outputs": [],
   "source": []
  },
  {
   "cell_type": "code",
   "execution_count": null,
   "metadata": {},
   "outputs": [],
   "source": []
  },
  {
   "cell_type": "markdown",
   "metadata": {},
   "source": [
    "# Write to File"
   ]
  },
  {
   "cell_type": "code",
   "execution_count": 18,
   "metadata": {},
   "outputs": [],
   "source": [
    "# file_name = '../clean_data/business_clean.csv'\n",
    "# time_marker(text='Writing {:d} records to file {}'.format(data_pass3.shape[0], file_name))\n",
    "# data_pass3.to_csv(file_name, encoding='utf-8')"
   ]
  }
 ],
 "metadata": {
  "kernelspec": {
   "display_name": "Python 3",
   "language": "python",
   "name": "python3"
  },
  "language_info": {
   "codemirror_mode": {
    "name": "ipython",
    "version": 3
   },
   "file_extension": ".py",
   "mimetype": "text/x-python",
   "name": "python",
   "nbconvert_exporter": "python",
   "pygments_lexer": "ipython3",
   "version": "3.6.3"
  }
 },
 "nbformat": 4,
 "nbformat_minor": 2
}
