{
 "cells": [
  {
   "cell_type": "markdown",
   "metadata": {},
   "source": [
    "# Wrangle Tip Data\n",
    "<p>Wrangling Tips is pretty simple, we are only concerned with tips given to businesses that are Arizona Restaurants so the first step is to only keep tips from the source tip.json file that are for businesses that we cleaned in the Business Data Wrangling Notebook.</p>\n",
    "    \n",
    "<p>Next we are trying to preserve as much information as possible when cleaning tip text so we are only removing commas.  Finally, after inspecting the length of tips, we are keeping only tips with 5 or more characters.  This 5 character limit reduces the 119274 tips to a subset of 118301 tips.</p>\n",
    "\n",
    "<p>The 5 Character cut off is used after an inspection into length of the shortest 5% quantile tip text length year over year.  The 5% quantile rarely drops below 10 characters in any subset of tips by date, restaurant, or fast_food type</p>"
   ]
  },
  {
   "cell_type": "markdown",
   "metadata": {},
   "source": [
    "## Step 0: Import packages and establish chart output standards"
   ]
  },
  {
   "cell_type": "code",
   "execution_count": 1,
   "metadata": {},
   "outputs": [],
   "source": [
    "import numpy as np\n",
    "import pandas as pd\n",
    "import datetime\n",
    "import json\n",
    "\n",
    "import seaborn as sns\n",
    "sns.set()\n",
    "\n",
    "import matplotlib.pyplot as plt\n",
    "%matplotlib inline"
   ]
  },
  {
   "cell_type": "code",
   "execution_count": 2,
   "metadata": {},
   "outputs": [
    {
     "data": {
      "text/html": [
       "<style>.container { width:95% !important; }</style>"
      ],
      "text/plain": [
       "<IPython.core.display.HTML object>"
      ]
     },
     "metadata": {},
     "output_type": "display_data"
    }
   ],
   "source": [
    "TITLE_FONT_SIZE = 25\n",
    "LABEL_FONT_SIZE = 15\n",
    "TICK_FONT_SIZE  = 15\n",
    "\n",
    "FIG_SIZE = (15,6)\n",
    "\n",
    "DO_WRITE_CHARTS = True\n",
    "\n",
    "from IPython.core.display import display, HTML\n",
    "display(HTML(\"<style>.container { width:95% !important; }</style>\"))\n",
    "\n",
    "def time_marker(text=''):\n",
    "    print('[{}] {}'.format(datetime.datetime.now().time(), text.lower()))"
   ]
  },
  {
   "cell_type": "markdown",
   "metadata": {},
   "source": [
    "# Step 1: Load Cleaned Business Data\n",
    "<p>Load cleaned Arizona Restaurant Data from csv file and extract `business_id` values.  Load tips and keep only those given to these Arizona Restaurants</p>"
   ]
  },
  {
   "cell_type": "code",
   "execution_count": 3,
   "metadata": {},
   "outputs": [
    {
     "name": "stdout",
     "output_type": "stream",
     "text": [
      "[00:54:59.058621] 7066 restaurant business_id values\n"
     ]
    }
   ],
   "source": [
    "restaurant_data = pd.read_csv('../clean_data/az_restaurant_business_clean.csv', index_col=0)\n",
    "restaurant_bids = restaurant_data.business_id.values\n",
    "time_marker('{:d} Restaurant business_id values'.format(len(restaurant_bids)))"
   ]
  },
  {
   "cell_type": "code",
   "execution_count": 4,
   "metadata": {},
   "outputs": [
    {
     "data": {
      "text/html": [
       "<div>\n",
       "<style scoped>\n",
       "    .dataframe tbody tr th:only-of-type {\n",
       "        vertical-align: middle;\n",
       "    }\n",
       "\n",
       "    .dataframe tbody tr th {\n",
       "        vertical-align: top;\n",
       "    }\n",
       "\n",
       "    .dataframe thead th {\n",
       "        text-align: right;\n",
       "    }\n",
       "</style>\n",
       "<table border=\"1\" class=\"dataframe\">\n",
       "  <thead>\n",
       "    <tr style=\"text-align: right;\">\n",
       "      <th></th>\n",
       "      <th>business_id</th>\n",
       "      <th>categories</th>\n",
       "      <th>city</th>\n",
       "      <th>is_open</th>\n",
       "      <th>name</th>\n",
       "      <th>postal_code</th>\n",
       "      <th>review_count</th>\n",
       "      <th>stars</th>\n",
       "      <th>is_fast_food</th>\n",
       "    </tr>\n",
       "  </thead>\n",
       "  <tbody>\n",
       "    <tr>\n",
       "      <th>0</th>\n",
       "      <td>1WBkAuQg81kokZIPMpn9Zg</td>\n",
       "      <td>['burgers', 'restaurants']</td>\n",
       "      <td>Phoenix</td>\n",
       "      <td>1</td>\n",
       "      <td>Charr An American Burger Bar</td>\n",
       "      <td>85022.0</td>\n",
       "      <td>232</td>\n",
       "      <td>3.0</td>\n",
       "      <td>0</td>\n",
       "    </tr>\n",
       "    <tr>\n",
       "      <th>1</th>\n",
       "      <td>kKx8iCJkomVQBdWHnmmOiA</td>\n",
       "      <td>['restaurants', 'pizza']</td>\n",
       "      <td>Mesa</td>\n",
       "      <td>1</td>\n",
       "      <td>Little Caesars Pizza</td>\n",
       "      <td>85209.0</td>\n",
       "      <td>4</td>\n",
       "      <td>2.5</td>\n",
       "      <td>0</td>\n",
       "    </tr>\n",
       "    <tr>\n",
       "      <th>2</th>\n",
       "      <td>VdlPZg2NAu8t8GkdbPLecg</td>\n",
       "      <td>['restaurants', 'gluten-free', 'indian', 'seaf...</td>\n",
       "      <td>Scottsdale</td>\n",
       "      <td>1</td>\n",
       "      <td>Tandoori Times Indian Bistro</td>\n",
       "      <td>85258.0</td>\n",
       "      <td>263</td>\n",
       "      <td>3.5</td>\n",
       "      <td>0</td>\n",
       "    </tr>\n",
       "  </tbody>\n",
       "</table>\n",
       "</div>"
      ],
      "text/plain": [
       "              business_id                                         categories  \\\n",
       "0  1WBkAuQg81kokZIPMpn9Zg                         ['burgers', 'restaurants']   \n",
       "1  kKx8iCJkomVQBdWHnmmOiA                           ['restaurants', 'pizza']   \n",
       "2  VdlPZg2NAu8t8GkdbPLecg  ['restaurants', 'gluten-free', 'indian', 'seaf...   \n",
       "\n",
       "         city  is_open                          name  postal_code  \\\n",
       "0     Phoenix        1  Charr An American Burger Bar      85022.0   \n",
       "1        Mesa        1          Little Caesars Pizza      85209.0   \n",
       "2  Scottsdale        1  Tandoori Times Indian Bistro      85258.0   \n",
       "\n",
       "   review_count  stars  is_fast_food  \n",
       "0           232    3.0             0  \n",
       "1             4    2.5             0  \n",
       "2           263    3.5             0  "
      ]
     },
     "execution_count": 4,
     "metadata": {},
     "output_type": "execute_result"
    }
   ],
   "source": [
    "restaurant_data.head(3)"
   ]
  },
  {
   "cell_type": "markdown",
   "metadata": {},
   "source": [
    "# Step 2: Load Tip Data for All Arizona Restaurants\n",
    "<p><b>WARNING: Loading Tips takes roughly 7 minutes</b></p>"
   ]
  },
  {
   "cell_type": "code",
   "execution_count": 5,
   "metadata": {
    "scrolled": true
   },
   "outputs": [
    {
     "name": "stdout",
     "output_type": "stream",
     "text": [
      "[00:55:33.267604] \tfound    1419/ 100000 tips so far 1.4190 \n",
      "[00:56:09.696969] \tfound   27057/ 200000 tips so far 13.5284 \n",
      "[00:56:49.588343] \tfound   56452/ 300000 tips so far 18.8173 \n",
      "[00:57:31.608900] \tfound   77230/ 400000 tips so far 19.3075 \n",
      "[00:58:08.335371] \tfound   77358/ 500000 tips so far 15.4716 \n",
      "[00:58:42.238586] \tfound   77675/ 600000 tips so far 12.9458 \n",
      "[00:59:17.689771] \tfound   89079/ 700000 tips so far 12.7256 \n",
      "[00:59:54.261493] \tfound   99787/ 800000 tips so far 12.4734 \n",
      "[01:00:28.384729] \tfound  101028/ 900000 tips so far 11.2253 \n",
      "[01:00:58.457960] \tfound  110263/1000000 tips so far 11.0263 \n",
      "Selected 119274 Arizona Restaurant tips from 1098324 total tips\n"
     ]
    }
   ],
   "source": [
    "all_restaurant_tips = []\n",
    "\n",
    "source_data_file = '../source_data/tip.json'\n",
    "\n",
    "# read the file line by line and save only lines we need\n",
    "with open(source_data_file, 'r') as tip_file:\n",
    "    for i, tip_json in enumerate(tip_file):\n",
    "        tip = json.loads(tip_json)\n",
    "\n",
    "        # append to restaurant tips\n",
    "        if tip['business_id'] in restaurant_bids:\n",
    "            all_restaurant_tips.append(tip)\n",
    "            \n",
    "        if i % 100000 == 0 and i != 0:\n",
    "            time_marker('\\tfound {:>7}/{:>7} Tips so far {:2.4f} '.format(str(len(all_restaurant_tips)),str(i),\n",
    "                                                                                 len(all_restaurant_tips)/(i+1)*100.))\n",
    "        \n",
    "print('Selected {:d} Arizona Restaurant tips from {:d} total tips'.format(len(all_restaurant_tips), i))\n",
    "tips_df = pd.DataFrame(all_restaurant_tips)"
   ]
  },
  {
   "cell_type": "code",
   "execution_count": 6,
   "metadata": {},
   "outputs": [
    {
     "data": {
      "text/html": [
       "<div>\n",
       "<style scoped>\n",
       "    .dataframe tbody tr th:only-of-type {\n",
       "        vertical-align: middle;\n",
       "    }\n",
       "\n",
       "    .dataframe tbody tr th {\n",
       "        vertical-align: top;\n",
       "    }\n",
       "\n",
       "    .dataframe thead th {\n",
       "        text-align: right;\n",
       "    }\n",
       "</style>\n",
       "<table border=\"1\" class=\"dataframe\">\n",
       "  <thead>\n",
       "    <tr style=\"text-align: right;\">\n",
       "      <th></th>\n",
       "      <th>business_id</th>\n",
       "      <th>date</th>\n",
       "      <th>likes</th>\n",
       "      <th>text</th>\n",
       "      <th>user_id</th>\n",
       "    </tr>\n",
       "  </thead>\n",
       "  <tbody>\n",
       "    <tr>\n",
       "      <th>0</th>\n",
       "      <td>xFN8mRubo3G0oIzJwc8XBA</td>\n",
       "      <td>2012-03-28</td>\n",
       "      <td>0</td>\n",
       "      <td>Finally, found some churros. Four types here. ...</td>\n",
       "      <td>TvkqJ8YEIsTb16RnnrNyfQ</td>\n",
       "    </tr>\n",
       "    <tr>\n",
       "      <th>1</th>\n",
       "      <td>Xmndl6GoZg8taEUlwQMYxg</td>\n",
       "      <td>2012-03-28</td>\n",
       "      <td>0</td>\n",
       "      <td>closed closed closed closed closed closed clos...</td>\n",
       "      <td>TvkqJ8YEIsTb16RnnrNyfQ</td>\n",
       "    </tr>\n",
       "    <tr>\n",
       "      <th>2</th>\n",
       "      <td>1CqDdPrrb0xvQpgu7fhI5w</td>\n",
       "      <td>2012-03-27</td>\n",
       "      <td>0</td>\n",
       "      <td>Great weather for eating outdoors. Good service.</td>\n",
       "      <td>TvkqJ8YEIsTb16RnnrNyfQ</td>\n",
       "    </tr>\n",
       "  </tbody>\n",
       "</table>\n",
       "</div>"
      ],
      "text/plain": [
       "              business_id        date  likes  \\\n",
       "0  xFN8mRubo3G0oIzJwc8XBA  2012-03-28      0   \n",
       "1  Xmndl6GoZg8taEUlwQMYxg  2012-03-28      0   \n",
       "2  1CqDdPrrb0xvQpgu7fhI5w  2012-03-27      0   \n",
       "\n",
       "                                                text                 user_id  \n",
       "0  Finally, found some churros. Four types here. ...  TvkqJ8YEIsTb16RnnrNyfQ  \n",
       "1  closed closed closed closed closed closed clos...  TvkqJ8YEIsTb16RnnrNyfQ  \n",
       "2   Great weather for eating outdoors. Good service.  TvkqJ8YEIsTb16RnnrNyfQ  "
      ]
     },
     "execution_count": 6,
     "metadata": {},
     "output_type": "execute_result"
    }
   ],
   "source": [
    "tips_df.head(3)"
   ]
  },
  {
   "cell_type": "markdown",
   "metadata": {},
   "source": [
    "# Step 3: Merge `fast_food_indicator` to tip records"
   ]
  },
  {
   "cell_type": "code",
   "execution_count": 7,
   "metadata": {},
   "outputs": [],
   "source": [
    "# extract business ids for fast food locations\n",
    "fast_food_indicator = restaurant_data[['business_id', 'is_fast_food']].copy()\n",
    "\n",
    "# append is_fast_food to tips\n",
    "tips_df = tips_df.merge(fast_food_indicator, on='business_id', how='left')"
   ]
  },
  {
   "cell_type": "markdown",
   "metadata": {},
   "source": [
    "# Step 4: Sanitize Tip Text for CSV\n",
    "<p>For now, to retain as much information as possible, just remove commas from tip text.</p>"
   ]
  },
  {
   "cell_type": "code",
   "execution_count": 8,
   "metadata": {},
   "outputs": [],
   "source": [
    "tips_df['text'] = tips_df.text.apply(lambda x: x.replace(',', '').lower())\n",
    "tips_df['tip_len'] = tips_df.text.str.len()"
   ]
  },
  {
   "cell_type": "code",
   "execution_count": 9,
   "metadata": {},
   "outputs": [
    {
     "data": {
      "text/html": [
       "<div>\n",
       "<style scoped>\n",
       "    .dataframe tbody tr th:only-of-type {\n",
       "        vertical-align: middle;\n",
       "    }\n",
       "\n",
       "    .dataframe tbody tr th {\n",
       "        vertical-align: top;\n",
       "    }\n",
       "\n",
       "    .dataframe thead th {\n",
       "        text-align: right;\n",
       "    }\n",
       "</style>\n",
       "<table border=\"1\" class=\"dataframe\">\n",
       "  <thead>\n",
       "    <tr style=\"text-align: right;\">\n",
       "      <th></th>\n",
       "      <th>business_id</th>\n",
       "      <th>date</th>\n",
       "      <th>likes</th>\n",
       "      <th>text</th>\n",
       "      <th>user_id</th>\n",
       "      <th>is_fast_food</th>\n",
       "      <th>tip_len</th>\n",
       "    </tr>\n",
       "  </thead>\n",
       "  <tbody>\n",
       "    <tr>\n",
       "      <th>0</th>\n",
       "      <td>xFN8mRubo3G0oIzJwc8XBA</td>\n",
       "      <td>2012-03-28</td>\n",
       "      <td>0</td>\n",
       "      <td>finally found some churros. four types here. i...</td>\n",
       "      <td>TvkqJ8YEIsTb16RnnrNyfQ</td>\n",
       "      <td>0</td>\n",
       "      <td>64</td>\n",
       "    </tr>\n",
       "    <tr>\n",
       "      <th>1</th>\n",
       "      <td>Xmndl6GoZg8taEUlwQMYxg</td>\n",
       "      <td>2012-03-28</td>\n",
       "      <td>0</td>\n",
       "      <td>closed closed closed closed closed closed clos...</td>\n",
       "      <td>TvkqJ8YEIsTb16RnnrNyfQ</td>\n",
       "      <td>0</td>\n",
       "      <td>139</td>\n",
       "    </tr>\n",
       "    <tr>\n",
       "      <th>2</th>\n",
       "      <td>1CqDdPrrb0xvQpgu7fhI5w</td>\n",
       "      <td>2012-03-27</td>\n",
       "      <td>0</td>\n",
       "      <td>great weather for eating outdoors. good service.</td>\n",
       "      <td>TvkqJ8YEIsTb16RnnrNyfQ</td>\n",
       "      <td>0</td>\n",
       "      <td>48</td>\n",
       "    </tr>\n",
       "  </tbody>\n",
       "</table>\n",
       "</div>"
      ],
      "text/plain": [
       "              business_id        date  likes  \\\n",
       "0  xFN8mRubo3G0oIzJwc8XBA  2012-03-28      0   \n",
       "1  Xmndl6GoZg8taEUlwQMYxg  2012-03-28      0   \n",
       "2  1CqDdPrrb0xvQpgu7fhI5w  2012-03-27      0   \n",
       "\n",
       "                                                text                 user_id  \\\n",
       "0  finally found some churros. four types here. i...  TvkqJ8YEIsTb16RnnrNyfQ   \n",
       "1  closed closed closed closed closed closed clos...  TvkqJ8YEIsTb16RnnrNyfQ   \n",
       "2   great weather for eating outdoors. good service.  TvkqJ8YEIsTb16RnnrNyfQ   \n",
       "\n",
       "   is_fast_food  tip_len  \n",
       "0             0       64  \n",
       "1             0      139  \n",
       "2             0       48  "
      ]
     },
     "execution_count": 9,
     "metadata": {},
     "output_type": "execute_result"
    }
   ],
   "source": [
    "tips_df.head(3)"
   ]
  },
  {
   "cell_type": "markdown",
   "metadata": {},
   "source": [
    "# Step 5: Set Column data types"
   ]
  },
  {
   "cell_type": "code",
   "execution_count": 10,
   "metadata": {},
   "outputs": [],
   "source": [
    "tips_df['date'] = pd.to_datetime(tips_df['date'])\n",
    "\n",
    "tips_df['business_id'] = tips_df['business_id'].astype('str')\n",
    "tips_df['text'] = tips_df['text'].astype('str')\n",
    "tips_df['user_id'] = tips_df['user_id'].astype('str')\n",
    "\n",
    "tips_df['likes'] = tips_df['likes'].astype('int')\n",
    "tips_df['tip_len'] = tips_df['tip_len'].astype('int')\n",
    "tips_df['is_fast_food'] = tips_df['is_fast_food'].astype('int')"
   ]
  },
  {
   "cell_type": "code",
   "execution_count": 11,
   "metadata": {
    "scrolled": true
   },
   "outputs": [
    {
     "name": "stdout",
     "output_type": "stream",
     "text": [
      "<class 'pandas.core.frame.DataFrame'>\n",
      "Int64Index: 119274 entries, 0 to 119273\n",
      "Data columns (total 7 columns):\n",
      "business_id     119274 non-null object\n",
      "date            119274 non-null datetime64[ns]\n",
      "likes           119274 non-null int64\n",
      "text            119274 non-null object\n",
      "user_id         119274 non-null object\n",
      "is_fast_food    119274 non-null int64\n",
      "tip_len         119274 non-null int64\n",
      "dtypes: datetime64[ns](1), int64(3), object(3)\n",
      "memory usage: 7.3+ MB\n"
     ]
    }
   ],
   "source": [
    "tips_df.info()"
   ]
  },
  {
   "cell_type": "markdown",
   "metadata": {},
   "source": [
    "# Step 6: Pruning Short Tips\n",
    "<p>The 5 Character cut off is used after an inspection into length of the shortest 5% quantile tip text length year over year.  The 5% quantile rarely drops below 10 charcters in any subset of tips by date, restaurant, or fast_food type</p>"
   ]
  },
  {
   "cell_type": "code",
   "execution_count": 12,
   "metadata": {},
   "outputs": [
    {
     "data": {
      "image/png": "[encoded data removed]",
      "text/plain": [
       "<matplotlib.figure.Figure at 0x1a184d5c88>"
      ]
     },
     "metadata": {},
     "output_type": "display_data"
    }
   ],
   "source": [
    "nff_tips_df = tips_df[tips_df.is_fast_food == 0].copy()\n",
    "ff_tips_df = tips_df[tips_df.is_fast_food == 1].copy()\n",
    "\n",
    "quant = 0.05\n",
    "\n",
    "ax = tips_df.groupby([tips_df.date.dt.year]).quantile(quant)['tip_len'].plot(figsize=FIG_SIZE, color='r')\n",
    "nff_tips_df.groupby([nff_tips_df.date.dt.year]).quantile(quant)['tip_len'].plot(ax=ax, color='b')\n",
    "ff_tips_df.groupby([ff_tips_df.date.dt.year]).quantile(quant)['tip_len'].plot(ax=ax, color='g')\n",
    "\n",
    "ax.set_title('5% Quantile Tip Length Year to Year', size=TITLE_FONT_SIZE)\n",
    "ax.set_xlabel('Year', size=LABEL_FONT_SIZE)\n",
    "ax.set_ylabel('Tip Text Length', size=LABEL_FONT_SIZE)\n",
    "\n",
    "ax.axhline(5, linestyle=':', color='k')\n",
    "ax.axhline(10, linestyle='-.', color='k')\n",
    "\n",
    "ax.set_ylim([0, 40])\n",
    "\n",
    "ax.legend(['All Restaurants', 'Non Fast Food Restaurants', 'Fast Food Restaurants'], loc=1, frameon=True)\n",
    "\n",
    "if DO_WRITE_CHARTS:\n",
    "        plt.savefig('../charts/tip_length_Q05_yearly.png')\n",
    "plt.show()\n",
    "plt.close()"
   ]
  },
  {
   "cell_type": "code",
   "execution_count": 13,
   "metadata": {},
   "outputs": [
    {
     "name": "stdout",
     "output_type": "stream",
     "text": [
      "Reduced 119274 tips to a subset of 118301 tips 99.1842 [tips_df]\n"
     ]
    }
   ],
   "source": [
    "min_tip_len = 5\n",
    "tips_df_count = tips_df.shape[0]\n",
    "tips_df = tips_df[tips_df.tip_len >= min_tip_len].copy()\n",
    "tips_df.reset_index(inplace=True, drop=True)\n",
    "print('Reduced {:d} tips to a subset of {:d} tips {:2.4f} [tips_df]'.format(tips_df_count,\n",
    "                                                                               tips_df.shape[0], \n",
    "                                                                               (100.*tips_df.shape[0]/tips_df_count)))"
   ]
  },
  {
   "cell_type": "code",
   "execution_count": 14,
   "metadata": {
    "scrolled": true
   },
   "outputs": [
    {
     "name": "stdout",
     "output_type": "stream",
     "text": [
      "<class 'pandas.core.frame.DataFrame'>\n",
      "RangeIndex: 118301 entries, 0 to 118300\n",
      "Data columns (total 7 columns):\n",
      "business_id     118301 non-null object\n",
      "date            118301 non-null datetime64[ns]\n",
      "likes           118301 non-null int64\n",
      "text            118301 non-null object\n",
      "user_id         118301 non-null object\n",
      "is_fast_food    118301 non-null int64\n",
      "tip_len         118301 non-null int64\n",
      "dtypes: datetime64[ns](1), int64(3), object(3)\n",
      "memory usage: 6.3+ MB\n"
     ]
    }
   ],
   "source": [
    "tips_df.info()"
   ]
  },
  {
   "cell_type": "markdown",
   "metadata": {},
   "source": [
    "# Step 7: Write Cleaned Data to File\n",
    "<p>Write data frame of only Arizona Restaurant tips to file</p>"
   ]
  },
  {
   "cell_type": "code",
   "execution_count": 15,
   "metadata": {},
   "outputs": [
    {
     "name": "stdout",
     "output_type": "stream",
     "text": [
      "[01:01:28.580919] writing 118301 records to file ../clean_data/az_restaurant_tips.csv\n",
      "[01:01:31.179060] complete!\n"
     ]
    }
   ],
   "source": [
    "file_name = '../clean_data/az_restaurant_tips.csv'\n",
    "time_marker(text='Writing {:d} records to file {}'.format(tips_df.shape[0], file_name))\n",
    "tips_df.to_csv(file_name, encoding='utf-8')\n",
    "\n",
    "time_marker('complete!')"
   ]
  },
  {
   "cell_type": "code",
   "execution_count": 16,
   "metadata": {},
   "outputs": [
    {
     "data": {
      "text/html": [
       "<div>\n",
       "<style scoped>\n",
       "    .dataframe tbody tr th:only-of-type {\n",
       "        vertical-align: middle;\n",
       "    }\n",
       "\n",
       "    .dataframe tbody tr th {\n",
       "        vertical-align: top;\n",
       "    }\n",
       "\n",
       "    .dataframe thead th {\n",
       "        text-align: right;\n",
       "    }\n",
       "</style>\n",
       "<table border=\"1\" class=\"dataframe\">\n",
       "  <thead>\n",
       "    <tr style=\"text-align: right;\">\n",
       "      <th></th>\n",
       "      <th>business_id</th>\n",
       "      <th>date</th>\n",
       "      <th>likes</th>\n",
       "      <th>text</th>\n",
       "      <th>user_id</th>\n",
       "      <th>is_fast_food</th>\n",
       "      <th>tip_len</th>\n",
       "    </tr>\n",
       "  </thead>\n",
       "  <tbody>\n",
       "    <tr>\n",
       "      <th>0</th>\n",
       "      <td>xFN8mRubo3G0oIzJwc8XBA</td>\n",
       "      <td>2012-03-28</td>\n",
       "      <td>0</td>\n",
       "      <td>finally found some churros. four types here. i...</td>\n",
       "      <td>TvkqJ8YEIsTb16RnnrNyfQ</td>\n",
       "      <td>0</td>\n",
       "      <td>64</td>\n",
       "    </tr>\n",
       "    <tr>\n",
       "      <th>1</th>\n",
       "      <td>Xmndl6GoZg8taEUlwQMYxg</td>\n",
       "      <td>2012-03-28</td>\n",
       "      <td>0</td>\n",
       "      <td>closed closed closed closed closed closed clos...</td>\n",
       "      <td>TvkqJ8YEIsTb16RnnrNyfQ</td>\n",
       "      <td>0</td>\n",
       "      <td>139</td>\n",
       "    </tr>\n",
       "    <tr>\n",
       "      <th>2</th>\n",
       "      <td>1CqDdPrrb0xvQpgu7fhI5w</td>\n",
       "      <td>2012-03-27</td>\n",
       "      <td>0</td>\n",
       "      <td>great weather for eating outdoors. good service.</td>\n",
       "      <td>TvkqJ8YEIsTb16RnnrNyfQ</td>\n",
       "      <td>0</td>\n",
       "      <td>48</td>\n",
       "    </tr>\n",
       "  </tbody>\n",
       "</table>\n",
       "</div>"
      ],
      "text/plain": [
       "              business_id       date  likes  \\\n",
       "0  xFN8mRubo3G0oIzJwc8XBA 2012-03-28      0   \n",
       "1  Xmndl6GoZg8taEUlwQMYxg 2012-03-28      0   \n",
       "2  1CqDdPrrb0xvQpgu7fhI5w 2012-03-27      0   \n",
       "\n",
       "                                                text                 user_id  \\\n",
       "0  finally found some churros. four types here. i...  TvkqJ8YEIsTb16RnnrNyfQ   \n",
       "1  closed closed closed closed closed closed clos...  TvkqJ8YEIsTb16RnnrNyfQ   \n",
       "2   great weather for eating outdoors. good service.  TvkqJ8YEIsTb16RnnrNyfQ   \n",
       "\n",
       "   is_fast_food  tip_len  \n",
       "0             0       64  \n",
       "1             0      139  \n",
       "2             0       48  "
      ]
     },
     "execution_count": 16,
     "metadata": {},
     "output_type": "execute_result"
    }
   ],
   "source": [
    "tips_df.head(3)"
   ]
  },
  {
   "cell_type": "code",
   "execution_count": 17,
   "metadata": {},
   "outputs": [
    {
     "name": "stdout",
     "output_type": "stream",
     "text": [
      "<class 'pandas.core.frame.DataFrame'>\n",
      "RangeIndex: 118301 entries, 0 to 118300\n",
      "Data columns (total 7 columns):\n",
      "business_id     118301 non-null object\n",
      "date            118301 non-null datetime64[ns]\n",
      "likes           118301 non-null int64\n",
      "text            118301 non-null object\n",
      "user_id         118301 non-null object\n",
      "is_fast_food    118301 non-null int64\n",
      "tip_len         118301 non-null int64\n",
      "dtypes: datetime64[ns](1), int64(3), object(3)\n",
      "memory usage: 6.3+ MB\n"
     ]
    }
   ],
   "source": [
    "tips_df.info()"
   ]
  },
  {
   "cell_type": "code",
   "execution_count": null,
   "metadata": {},
   "outputs": [],
   "source": []
  }
 ],
 "metadata": {
  "kernelspec": {
   "display_name": "Python 3",
   "language": "python",
   "name": "python3"
  },
  "language_info": {
   "codemirror_mode": {
    "name": "ipython",
    "version": 3
   },
   "file_extension": ".py",
   "mimetype": "text/x-python",
   "name": "python",
   "nbconvert_exporter": "python",
   "pygments_lexer": "ipython3",
   "version": "3.6.3"
  }
 },
 "nbformat": 4,
 "nbformat_minor": 2
}
