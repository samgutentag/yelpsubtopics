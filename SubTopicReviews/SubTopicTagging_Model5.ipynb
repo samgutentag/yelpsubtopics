{
 "cells": [
  {
   "cell_type": "markdown",
   "metadata": {},
   "source": [
    "# LDA Model Results\n",
    "<p>Here we will review teh results of the various ldam models that were generated. The goal is to idenity a model that has enough topics of interest while still providing significant deliniation between the topics.  Models are numbered Model 1 through Model 5, and descriptionsof each are included below.</p>\n",
    "\n",
    "# Results\n",
    "<p><b>Model 5</b> provides the best results and includes all reviews and will thus be used to identify subtopics in review texts.</p>"
   ]
  },
  {
   "cell_type": "markdown",
   "metadata": {},
   "source": [
    "## Step 0: Import packages"
   ]
  },
  {
   "cell_type": "code",
   "execution_count": 1,
   "metadata": {},
   "outputs": [
    {
     "data": {
      "text/html": [
       "<style>.container { width:95% !important; }</style>"
      ],
      "text/plain": [
       "<IPython.core.display.HTML object>"
      ]
     },
     "metadata": {},
     "output_type": "display_data"
    }
   ],
   "source": [
    "from IPython.core.display import display, HTML\n",
    "display(HTML(\"<style>.container { width:95% !important; }</style>\"))"
   ]
  },
  {
   "cell_type": "code",
   "execution_count": 2,
   "metadata": {},
   "outputs": [],
   "source": [
    "from gensim.models.ldamulticore import LdaMulticore\n",
    "import itertools\n",
    "from collections import Counter\n",
    "\n",
    "import pandas as pd\n",
    "import numpy as np\n",
    "import datetime\n",
    "\n",
    "def time_marker(text=''):\n",
    "    print('[{}] {}'.format(datetime.datetime.now().time(), text.lower()))"
   ]
  },
  {
   "cell_type": "markdown",
   "metadata": {},
   "source": [
    "___"
   ]
  },
  {
   "cell_type": "markdown",
   "metadata": {},
   "source": [
    "### Pretty Printer Function"
   ]
  },
  {
   "cell_type": "code",
   "execution_count": 3,
   "metadata": {},
   "outputs": [],
   "source": [
    "def print_topic_terms(model, num_topics=-1, num_words=10, unique=False, topics_of_interest={}):\n",
    "    results = model.print_topics(num_topics=num_topics, num_words=num_words)\n",
    "    if not unique:\n",
    "        print('=============================== Terms Per Topic ===============================')\n",
    "        for r in results:\n",
    "            topic = r[0]\n",
    "            term_list = r[1]\n",
    "\n",
    "            term_list = term_list.split('\"')[1::2]\n",
    "            topic_terms = [term for term in term_list]\n",
    "            \n",
    "            if len(topics_of_interest) > 0:\n",
    "                if topic in list(topics_of_interest.values()):\n",
    "                    \n",
    "                    print('{}\\t{}'.format(topic, topic_terms))\n",
    "            else:\n",
    "                print('{:>2}\\t{}'.format(topic, topic_terms))\n",
    "    else:\n",
    "        terms = [x[1] for x in results]\n",
    "        term_lists = [x.split('\"')[1::2] for x in terms]\n",
    "\n",
    "        flatList = itertools.chain.from_iterable(term_lists)\n",
    "        term_counts = Counter(flatList)\n",
    "\n",
    "        # non_unique_terms = term_counts\n",
    "        test = dict(term_counts)\n",
    "\n",
    "        # extract terms that appear more than once\n",
    "        non_unique_terms = [key for key, value in test.items() if value > 1]\n",
    "        \n",
    "        \n",
    "        print('============================ Unique Terms Per Topic ===========================')\n",
    "        for r in results:\n",
    "            topic = r[0]\n",
    "            term_list = r[1]\n",
    "\n",
    "            term_list = term_list.split('\"')[1::2]\n",
    "            topic_terms = [term for term in term_list if term not in non_unique_terms]\n",
    "            if len(topics_of_interest) > 0:\n",
    "                if topic in list(topics_of_interest.values()):\n",
    "                    \n",
    "                    print('{}\\t{}'.format(topic, topic_terms))\n",
    "            else:\n",
    "                print('{:>2}\\t{}'.format(topic, topic_terms))\n",
    "            "
   ]
  },
  {
   "cell_type": "markdown",
   "metadata": {},
   "source": [
    "___"
   ]
  },
  {
   "cell_type": "markdown",
   "metadata": {},
   "source": [
    "## Step 1: Review Model 5 - All Reviews, All Tokens\n",
    "<p>Looking at all Reviews, and limiting tokens to only nouns and verb tokens more common than the 10,000th most common noun or verb token.</p>\n",
    "\n",
    "<ul>\n",
    "    <li>Num Topics: 50</li>\n",
    "    <li>Num Terms: 10</li>\n",
    "    <li>Num Passes: 50</li>\n",
    "    <li>Key Topics Identified: 1:Loyalty, 7:Wait Time, 8:Atmosphere, 9:Ordering, 13:Cleanliness, 15:Food Quality, 17:Customer Service, 26:Lunch Parking, 35:Price Value</li>\n",
    "</ul>"
   ]
  },
  {
   "cell_type": "code",
   "execution_count": 4,
   "metadata": {
    "scrolled": false
   },
   "outputs": [],
   "source": [
    "model_05 = LdaMulticore.load('../models/ldam_all_restaurants_50_topics_10_terms_50_passes.model')"
   ]
  },
  {
   "cell_type": "code",
   "execution_count": 5,
   "metadata": {
    "scrolled": false
   },
   "outputs": [
    {
     "name": "stdout",
     "output_type": "stream",
     "text": [
      "=============================== Terms Per Topic ===============================\n",
      " 0\t['dessert', 'wine', 'ice', 'cream', 'cake', 'entree', 'meal', 'chocolate', 'course', 'appetizer']\n",
      " 1\t['time', 'back', 'first', 'try', 'place', 'went', 'definitely', 'go', 'next', 'great']\n",
      " 2\t['u', 'table', 'came', 'server', 'food', 'drink', 'waitress', 'asked', 'ordered', 'minute']\n",
      " 3\t['dish', 'flavor', 'sauce', 'like', 'taste', 'menu', 'one', 'would', 'bit', 'meat']\n",
      " 4\t['pizza', 'crust', 'slice', 'topping', 'cheese', 'pie', 'thin', 'good', 'sauce', 'pepperoni']\n",
      " 5\t['crab', 'leg', 'shell', 'pound', 'coworker', 'saving', 'panini', 'hub', 'e', 'angry']\n",
      " 6\t['chicken', 'rice', 'chinese', 'fried', 'food', 'beef', 'soup', 'egg', 'orange', 'sour']\n",
      " 7\t['wait', 'minute', 'time', 'food', 'get', 'order', 'long', 'line', 'hour', 'waiting']\n",
      " 8\t['great', 'nice', 'patio', 'atmosphere', 'outside', 'place', 'cool', 'fun', 'inside', 'food']\n",
      " 9\t['order', 'ordered', 'called', 'delivery', 'extra', 'got', 'time', 'get', 'card', 'call']\n",
      "10\t['tempe', 'school', 'opening', 'mill', 'w', 'college', 'b', 'asu', 'high', 'grand']\n",
      "11\t['fresh', 'ingredient', 'olive', 'tomato', 'salad', 'oil', 'made', 'bianco', 'mozzarella', 'basil']\n",
      "12\t['best', 'year', 'place', 'restaurant', 'phoenix', 'one', 'ever', 'food', 'valley', 'family']\n",
      "13\t['table', 'dirty', 'clean', 'bathroom', 'floor', 'plate', 'hand', 'cup', 'paper', 'chair']\n",
      "14\t['chicken', 'fried', 'waffle', 'deep', 'breast', 'piece', 'cajun', 'tender', 'catfish', 'crispy']\n",
      "15\t['mouth', 'smell', 'taste', 'word', 'world', 'heaven', 'bud', 'holy', 'win', 'watering']\n",
      "16\t['always', 'love', 'place', 'get', 'time', 'food', 'go', 'favorite', 'great', 'never']\n",
      "17\t['food', 'experience', 'service', 'great', 'server', 'u', 'staff', 'friendly', 'restaurant', 'made']\n",
      "18\t['sushi', 'roll', 'tuna', 'fresh', 'chef', 'salmon', 'japanese', 'spicy', 'tempura', 'fish']\n",
      "19\t['option', 'menu', 'free', 'gyro', 'meat', 'vegetarian', 'veggie', 'choose', 'vegan', 'choice']\n",
      "20\t['food', 'like', 'place', 'ordered', 'tasted', 'bad', 'even', 'back', 'cold', 'taste']\n",
      "21\t['good', 'food', 'place', 'price', 'pretty', 'service', 'better', 'like', 'would', 'really']\n",
      "22\t['burger', 'fry', 'onion', 'bun', 'shake', 'ring', 'cheese', 'french', 'bacon', 'patty']\n",
      "23\t['bowl', 'pho', 'soup', 'noodle', 'roll', 'spring', 'broth', 'vietnamese', 'beef', 'rice']\n",
      "24\t['star', 'review', 'give', 'yelp', 'five', 'reason', 'rating', 'giving', 'based', 'shot']\n",
      "25\t['location', 'drive', 'employee', 'thru', 'window', 'car', 'fast', 'chipotle', 'dont', 'im']\n",
      "26\t['restaurant', 'parking', 'menu', 'lunch', 'small', 'lot', 'area', 'find', 'little', 'place']\n",
      "27\t['great', 'food', 'service', 'place', 'friendly', 'good', 'recommend', 'staff', 'delicious', 'price']\n",
      "28\t['wing', 'pasta', 'sauce', 'italian', 'garlic', 'bread', 'meatball', 'spaghetti', 'dish', 'ranch']\n",
      "29\t['steak', 'cooked', 'potato', 'perfectly', 'well', 'medium', 'rare', 'filet', 'mashed', 'perfection']\n",
      "30\t['bar', 'room', 'dining', 'bartender', 'area', 'sit', 'drink', 'airport', 'sat', 'table']\n",
      "31\t['breakfast', 'egg', 'coffee', 'pancake', 'bacon', 'morning', 'toast', 'brunch', 'biscuit', 'gravy']\n",
      "32\t['fish', 'shrimp', 'ramen', 'chip', 'fried', 'sea', 'ceviche', 'ahi', 'sauce', 'mahi']\n",
      "33\t['hot', 'dog', 'chicago', 'beef', 'chili', 'piping', 'italian', 'slider', 'wendy', 'pepper']\n",
      "34\t['place', 'like', 'get', 'know', 'go', 'one', 'say', 'want', 'make', 'really']\n",
      "35\t['good', 'really', 'got', 'ordered', 'little', 'nice', 'pretty', 'came', 'portion', 'also']\n",
      "36\t['sandwich', 'bread', 'sub', 'cheese', 'turkey', 'meat', 'subway', 'shop', 'lunch', 'philly']\n",
      "37\t['seafood', 'lobster', 'shrimp', 'pot', 'calamari', 'chop', 'sum', 'duck', 'dim', 'clam']\n",
      "38\t['taco', 'mexican', 'salsa', 'burrito', 'chip', 'bean', 'tortilla', 'food', 'carne', 'asada']\n",
      "39\t['bbq', 'pork', 'rib', 'meat', 'brisket', 'sauce', 'pulled', 'side', 'good', 'corn']\n",
      "40\t['salad', 'chicken', 'pita', 'dressing', 'greek', 'hummus', 'lettuce', 'wrap', 'fresh', 'lunch']\n",
      "41\t['kid', 'music', 'loud', 'wall', 'game', 'child', 'hole', 'playing', 'play', 'family']\n",
      "42\t['cheese', 'sweet', 'delicious', 'sauce', 'perfect', 'mac', 'onion', 'green', 'potato', 'pepper']\n",
      "43\t['happy', 'hour', 'beer', 'drink', 'selection', 'great', 'menu', 'special', 'price', 'deal']\n",
      "44\t['customer', 'manager', 'service', 'back', 'food', 'said', 'time', 'asked', 'one', 'would']\n",
      "45\t['buffet', 'indian', 'food', 'lamb', 'chicken', 'dish', 'naan', 'rice', 'masala', 'restaurant']\n",
      "46\t['son', 'sister', 'mother', 'brother', 'http', 'father', 'c', 'buck', 'law', 'wallet']\n",
      "47\t['night', 'dinner', 'last', 'party', 'friday', 'went', 'reservation', 'birthday', 'group', 'saturday']\n",
      "48\t['thai', 'tea', 'spicy', 'curry', 'pad', 'tofu', 'iced', 'dish', 'spice', 'rice']\n",
      "49\t['grill', 'cookie', 'hawaiian', 'cooky', 'mini', 'macaroni', 'island', 'paradise', 'scoop', 'nugget']\n"
     ]
    }
   ],
   "source": [
    "print_topic_terms(model_05, num_topics=-1, num_words=10, unique=False)"
   ]
  },
  {
   "cell_type": "markdown",
   "metadata": {},
   "source": [
    "## Step 2: Assign labels to interesting topics\n",
    "<p>The goal here is to inspect qualities and attribures about the restaurant, not what is on the menu.  Many topics identified contain highly specific menu categories.  This information is useful to set asidde from other sub topics.</p>\n",
    "<p>In another pass, these topics could be used to double check the assigned cuisine categories to each restaurant.</p>"
   ]
  },
  {
   "cell_type": "code",
   "execution_count": 6,
   "metadata": {},
   "outputs": [],
   "source": [
    "topics_of_interest = {'retention_1': 1,\n",
    "                      'food_quality_3': 3,\n",
    "                      'wait_time_7': 7,\n",
    "                      'atmosphere_8': 8,\n",
    "                      'ordering_9': 9,\n",
    "                      'cleanliness_13' : 13,\n",
    "                      'menu_options_19' : 19,\n",
    "                      'food_quality_20': 20,\n",
    "                      'food_quality_21': 21,\n",
    "                      'customer_service_27' : 27,\n",
    "                      'customer_Service_44': 44,\n",
    "                      'value_35': 35}"
   ]
  },
  {
   "cell_type": "code",
   "execution_count": 7,
   "metadata": {},
   "outputs": [],
   "source": [
    "subtopic_labels = list(set([' '.join(x.split('_')[:-1]).replace(' ', '_').lower() for x in topics_of_interest.keys()]))"
   ]
  },
  {
   "cell_type": "markdown",
   "metadata": {},
   "source": [
    "## Step 3: Inspect Topics of Interest"
   ]
  },
  {
   "cell_type": "code",
   "execution_count": 8,
   "metadata": {},
   "outputs": [
    {
     "name": "stdout",
     "output_type": "stream",
     "text": [
      "=============================== Terms Per Topic ===============================\n",
      "1\t['time', 'back', 'first', 'try', 'place', 'went', 'definitely', 'go', 'next', 'great']\n",
      "3\t['dish', 'flavor', 'sauce', 'like', 'taste', 'menu', 'one', 'would', 'bit', 'meat']\n",
      "7\t['wait', 'minute', 'time', 'food', 'get', 'order', 'long', 'line', 'hour', 'waiting']\n",
      "8\t['great', 'nice', 'patio', 'atmosphere', 'outside', 'place', 'cool', 'fun', 'inside', 'food']\n",
      "9\t['order', 'ordered', 'called', 'delivery', 'extra', 'got', 'time', 'get', 'card', 'call']\n",
      "13\t['table', 'dirty', 'clean', 'bathroom', 'floor', 'plate', 'hand', 'cup', 'paper', 'chair']\n",
      "19\t['option', 'menu', 'free', 'gyro', 'meat', 'vegetarian', 'veggie', 'choose', 'vegan', 'choice']\n",
      "20\t['food', 'like', 'place', 'ordered', 'tasted', 'bad', 'even', 'back', 'cold', 'taste']\n",
      "21\t['good', 'food', 'place', 'price', 'pretty', 'service', 'better', 'like', 'would', 'really']\n",
      "27\t['great', 'food', 'service', 'place', 'friendly', 'good', 'recommend', 'staff', 'delicious', 'price']\n",
      "35\t['good', 'really', 'got', 'ordered', 'little', 'nice', 'pretty', 'came', 'portion', 'also']\n",
      "44\t['customer', 'manager', 'service', 'back', 'food', 'said', 'time', 'asked', 'one', 'would']\n"
     ]
    }
   ],
   "source": [
    "print_topic_terms(model_05, num_topics=-1, num_words=10, unique=False, topics_of_interest=topics_of_interest)"
   ]
  },
  {
   "cell_type": "markdown",
   "metadata": {},
   "source": [
    "## Step 4: Assigning Topic to Reviews"
   ]
  },
  {
   "cell_type": "markdown",
   "metadata": {},
   "source": [
    "### Step 4a: Load Review Data and Restaurant Business Data"
   ]
  },
  {
   "cell_type": "code",
   "execution_count": 9,
   "metadata": {},
   "outputs": [
    {
     "name": "stdout",
     "output_type": "stream",
     "text": [
      "[22:01:21.965839] loading restaurant review data...\n",
      "[22:02:21.280660] loading restaurant business data...\n",
      "[22:02:21.331491] done\n"
     ]
    }
   ],
   "source": [
    "time_marker('Loading Restaurant Review data...')\n",
    "reviews = pd.read_csv('../clean_data/az_restaurant_reviews.csv', index_col=0, parse_dates=['date'], low_memory=False)\n",
    "\n",
    "reviews.dropna(how='any', inplace=True)\n",
    "reviews.reset_index(inplace=True, drop=True)\n",
    "\n",
    "time_marker('Loading Restaurant Business data...')\n",
    "biz = pd.read_csv('../clean_data/az_restaurant_business_clean.csv', index_col=0)\n",
    "biz = biz.iloc[:,:9].copy()\n",
    "\n",
    "time_marker('done')"
   ]
  },
  {
   "cell_type": "markdown",
   "metadata": {},
   "source": [
    "### Step 4b: Merge Restaurant Name to Reviews"
   ]
  },
  {
   "cell_type": "code",
   "execution_count": 10,
   "metadata": {},
   "outputs": [],
   "source": [
    "review_df = reviews.merge(biz[['name', 'business_id']], on='business_id', how='left')"
   ]
  },
  {
   "cell_type": "code",
   "execution_count": 11,
   "metadata": {},
   "outputs": [],
   "source": [
    "review_df['business_id']  = review_df['business_id'].astype('str')\n",
    "review_df['cool']         = review_df['cool'].astype('int')\n",
    "review_df['date']         = pd.to_datetime(review_df['date'])\n",
    "review_df['funny']        = review_df['funny'].astype('int')\n",
    "review_df['review_id']    = review_df['review_id'].astype('str')\n",
    "review_df['stars']        = review_df['stars'].astype('int')\n",
    "review_df['text']         = review_df['text'].astype('str')\n",
    "review_df['useful']       = review_df['useful'].astype('int')\n",
    "review_df['user_id']      = review_df['user_id'].astype('str')\n",
    "review_df['is_fast_food'] = review_df['is_fast_food'].astype('bool')\n",
    "review_df['review_len']   = review_df['review_len'].astype('int')\n",
    "review_df['name']         = review_df['name'].astype('str')"
   ]
  },
  {
   "cell_type": "code",
   "execution_count": 12,
   "metadata": {
    "scrolled": true
   },
   "outputs": [
    {
     "data": {
      "text/html": [
       "<div>\n",
       "<style scoped>\n",
       "    .dataframe tbody tr th:only-of-type {\n",
       "        vertical-align: middle;\n",
       "    }\n",
       "\n",
       "    .dataframe tbody tr th {\n",
       "        vertical-align: top;\n",
       "    }\n",
       "\n",
       "    .dataframe thead th {\n",
       "        text-align: right;\n",
       "    }\n",
       "</style>\n",
       "<table border=\"1\" class=\"dataframe\">\n",
       "  <thead>\n",
       "    <tr style=\"text-align: right;\">\n",
       "      <th></th>\n",
       "      <th>business_id</th>\n",
       "      <th>cool</th>\n",
       "      <th>date</th>\n",
       "      <th>funny</th>\n",
       "      <th>review_id</th>\n",
       "      <th>stars</th>\n",
       "      <th>text</th>\n",
       "      <th>useful</th>\n",
       "      <th>user_id</th>\n",
       "      <th>is_fast_food</th>\n",
       "      <th>review_len</th>\n",
       "      <th>name</th>\n",
       "    </tr>\n",
       "  </thead>\n",
       "  <tbody>\n",
       "    <tr>\n",
       "      <th>0</th>\n",
       "      <td>JlNeaOymdVbE6_bubqjohg</td>\n",
       "      <td>0</td>\n",
       "      <td>2014-08-09</td>\n",
       "      <td>0</td>\n",
       "      <td>BF0ANB54sc_f-3_howQBCg</td>\n",
       "      <td>1</td>\n",
       "      <td>we always go to the chevo's in chandler which ...</td>\n",
       "      <td>3</td>\n",
       "      <td>ssuXFjkH4neiBgwv-oN4IA</td>\n",
       "      <td>False</td>\n",
       "      <td>422</td>\n",
       "      <td>Papa Chevo's Taco Shop</td>\n",
       "    </tr>\n",
       "    <tr>\n",
       "      <th>1</th>\n",
       "      <td>0Rni7ocMC_Lg2UH0lDeKMQ</td>\n",
       "      <td>0</td>\n",
       "      <td>2014-08-09</td>\n",
       "      <td>0</td>\n",
       "      <td>DbLUpPT61ykLTakknCF9CQ</td>\n",
       "      <td>1</td>\n",
       "      <td>this place is always so dirty and grimy been t...</td>\n",
       "      <td>6</td>\n",
       "      <td>ssuXFjkH4neiBgwv-oN4IA</td>\n",
       "      <td>False</td>\n",
       "      <td>111</td>\n",
       "      <td>Barro's Pizza</td>\n",
       "    </tr>\n",
       "    <tr>\n",
       "      <th>2</th>\n",
       "      <td>S-oLPRdhlyL5HAknBKTUcQ</td>\n",
       "      <td>0</td>\n",
       "      <td>2017-11-30</td>\n",
       "      <td>0</td>\n",
       "      <td>z_mVLygzPn8uHp63SSCErw</td>\n",
       "      <td>4</td>\n",
       "      <td>holy portion sizes! you get a lot of bang for ...</td>\n",
       "      <td>0</td>\n",
       "      <td>MzEnYCyZlRYQRISNMXTWIg</td>\n",
       "      <td>False</td>\n",
       "      <td>130</td>\n",
       "      <td>Harumi Sushi</td>\n",
       "    </tr>\n",
       "  </tbody>\n",
       "</table>\n",
       "</div>"
      ],
      "text/plain": [
       "              business_id  cool       date  funny               review_id  \\\n",
       "0  JlNeaOymdVbE6_bubqjohg     0 2014-08-09      0  BF0ANB54sc_f-3_howQBCg   \n",
       "1  0Rni7ocMC_Lg2UH0lDeKMQ     0 2014-08-09      0  DbLUpPT61ykLTakknCF9CQ   \n",
       "2  S-oLPRdhlyL5HAknBKTUcQ     0 2017-11-30      0  z_mVLygzPn8uHp63SSCErw   \n",
       "\n",
       "   stars                                               text  useful  \\\n",
       "0      1  we always go to the chevo's in chandler which ...       3   \n",
       "1      1  this place is always so dirty and grimy been t...       6   \n",
       "2      4  holy portion sizes! you get a lot of bang for ...       0   \n",
       "\n",
       "                  user_id  is_fast_food  review_len                    name  \n",
       "0  ssuXFjkH4neiBgwv-oN4IA         False         422  Papa Chevo's Taco Shop  \n",
       "1  ssuXFjkH4neiBgwv-oN4IA         False         111           Barro's Pizza  \n",
       "2  MzEnYCyZlRYQRISNMXTWIg         False         130            Harumi Sushi  "
      ]
     },
     "execution_count": 12,
     "metadata": {},
     "output_type": "execute_result"
    }
   ],
   "source": [
    "review_df.head(3)"
   ]
  },
  {
   "cell_type": "code",
   "execution_count": 13,
   "metadata": {},
   "outputs": [
    {
     "name": "stdout",
     "output_type": "stream",
     "text": [
      "<class 'pandas.core.frame.DataFrame'>\n",
      "Int64Index: 495893 entries, 0 to 495892\n",
      "Data columns (total 12 columns):\n",
      "business_id     495893 non-null object\n",
      "cool            495893 non-null int64\n",
      "date            495893 non-null datetime64[ns]\n",
      "funny           495893 non-null int64\n",
      "review_id       495893 non-null object\n",
      "stars           495893 non-null int64\n",
      "text            495893 non-null object\n",
      "useful          495893 non-null int64\n",
      "user_id         495893 non-null object\n",
      "is_fast_food    495893 non-null bool\n",
      "review_len      495893 non-null int64\n",
      "name            495893 non-null object\n",
      "dtypes: bool(1), datetime64[ns](1), int64(5), object(5)\n",
      "memory usage: 45.9+ MB\n"
     ]
    }
   ],
   "source": [
    "review_df.info()"
   ]
  },
  {
   "cell_type": "markdown",
   "metadata": {},
   "source": [
    "## Step 5: Examples - Extract Reviews From Most Reviewed Fast Food and Non Fast Food Rstaurants"
   ]
  },
  {
   "cell_type": "code",
   "execution_count": 14,
   "metadata": {},
   "outputs": [
    {
     "name": "stdout",
     "output_type": "stream",
     "text": [
      "Name: Pizzeria Bianco\tBusiness ID: pSQFynH1VxkfSmehRXlZWw\n",
      "2004\n"
     ]
    }
   ],
   "source": [
    "nff_review_counter = Counter(review_df[review_df.is_fast_food == 0].business_id.values).most_common(5)\n",
    "nff_most_reviewed_bid = nff_review_counter[0][0]\n",
    "nff_most_reviewed = review_df[review_df.business_id == nff_most_reviewed_bid].name.unique()[0]\n",
    "print('Name: {}\\tBusiness ID: {}'.format(nff_most_reviewed, nff_most_reviewed_bid))\n",
    "\n",
    "\n",
    "most_nff_reviews = review_df[review_df.business_id == nff_most_reviewed_bid].copy()\n",
    "print(most_nff_reviews.shape[0])"
   ]
  },
  {
   "cell_type": "code",
   "execution_count": 15,
   "metadata": {},
   "outputs": [
    {
     "name": "stdout",
     "output_type": "stream",
     "text": [
      "Name: Portillo's Hot Dogs\tBusiness ID: 0W_pPAiTXgazY2mtX6o0_w\n",
      "633\n"
     ]
    }
   ],
   "source": [
    "ff_review_counter = Counter(review_df[review_df.is_fast_food == 1].business_id.values).most_common(5)\n",
    "ff_most_reviewed_bid = ff_review_counter[0][0]\n",
    "ff_most_reviewed = review_df[review_df.business_id == ff_most_reviewed_bid].name.unique()[0]\n",
    "print('Name: {}\\tBusiness ID: {}'.format(ff_most_reviewed, ff_most_reviewed_bid))\n",
    "\n",
    "\n",
    "most_ff_reviews = review_df[review_df.business_id == ff_most_reviewed_bid].copy()\n",
    "print(most_ff_reviews.shape[0])"
   ]
  },
  {
   "cell_type": "markdown",
   "metadata": {},
   "source": [
    "## Step 6: Print Most Frequent Subtopics identified in Given Review"
   ]
  },
  {
   "cell_type": "code",
   "execution_count": 16,
   "metadata": {},
   "outputs": [],
   "source": [
    "def print_top_n_review_topics(model, review, n_topics=5, valid_topics = {}):\n",
    "    \n",
    "    \n",
    "    \n",
    "    review_topic_categories = []\n",
    "    for word in review.split(' '):\n",
    "        try:\n",
    "            r = model.get_term_topics(word_id = word)\n",
    "            [review_topic_categories.append(x[0]) for x in r]\n",
    "        except:\n",
    "            pass\n",
    "    \n",
    "    # count occurances of each identified topic\n",
    "    topic_counter = Counter(review_topic_categories) \n",
    "    top_n_topics = [x[0] for x in topic_counter.most_common(n_topics)]\n",
    "    \n",
    "    if len(valid_topics) > 0:\n",
    "        \n",
    "        valid_topic_ids = list(topics_of_interest.values())\n",
    "        \n",
    "        # prune to only topics we care about\n",
    "        topics = [topic for topic in top_n_topics if topic in valid_topic_ids]\n",
    "    else:\n",
    "        topics = top_n_topics\n",
    "\n",
    "    print('Review Text:\\n\\t{}'.format(review.replace('\\n', ' ')))\n",
    "    print('Topics Identified:')\n",
    "\n",
    "    for n in topics:\n",
    "        topic_label = list(topics_of_interest.keys())[list(topics_of_interest.values()).index(n)]\n",
    "        print('\\t{}'.format(topic_label))\n",
    "    print(topics)"
   ]
  },
  {
   "cell_type": "markdown",
   "metadata": {},
   "source": [
    "### Step 6a: Non Fast Food Sample Bad Reviews"
   ]
  },
  {
   "cell_type": "code",
   "execution_count": 17,
   "metadata": {},
   "outputs": [],
   "source": [
    "nff_bad_reviews = most_nff_reviews[most_nff_reviews.stars < 3].iloc[1:5,6]\n",
    "nff_good_reviews = most_nff_reviews[most_nff_reviews.stars > 3].iloc[1:5,6]"
   ]
  },
  {
   "cell_type": "code",
   "execution_count": 18,
   "metadata": {
    "scrolled": true
   },
   "outputs": [
    {
     "name": "stdout",
     "output_type": "stream",
     "text": [
      "Review Text:\n",
      "\tthis place is over-rated and expensive for what you get.  apparently from some glowing reviews this place either gives a wide range of experiences or is living off of some great past reputation.  the food was actually pretty tasty but the cost the wait the aging center it is located in and the small portions definitely do not give a value to customers. i won't be going back\n",
      "Topics Identified:\n",
      "\tretention_1\n",
      "\tcustomer_service_27\n",
      "\tvalue_35\n",
      "\tatmosphere_8\n",
      "[1, 27, 35, 8]\n",
      "================================================================================\n",
      "Review Text:\n",
      "\tok so i've gone a few times now.  first time great experience but now this is what i think.  1. over priced ..the green salad..greens and 3 green olives...bland dressing..$6..pizzas good but really not worth the wait nor cost.  2. requesting parmesan will cost you $2 and they will not let  you take it unless you request it. 3. customer service i've had really better service other places. this past week i was in there for a lunch meeting and this group of 25 came in complaining they couldn't sit together giving our small table dirty looks and sarcastic comments geared towards our table.  the waitress was staring us down  the entire time on and it was a really uncomfortable feeling especially when you are paying a high menu price for the food .  i will be taking my business somewhere else bianco is just not worth it nor the wait time.\n",
      "Topics Identified:\n",
      "\twait_time_7\n",
      "\tfood_quality_21\n",
      "\tcustomer_Service_44\n",
      "\tcustomer_service_27\n",
      "[7, 21, 44, 27]\n",
      "================================================================================\n",
      "Review Text:\n",
      "\tthe 2-star description of \"meh. i've experienced better\" couldn't be any more dead on for this place *especially* in light how many best.pizza.ever reviews i've seen on here and from noted chefs and celebrities. for all of you who think that i'm sorry but maybe you've never been to new york. hell maybe you've never even been to new jersey b/c this wasn't any better than my local neighborhood joint. based on what i read coming into the meal i expected the light of god to shine down on me as i took my first bite. what i got instead was yes an ok pizza but nothing more than and a ridiculously overcharged one at that (and now an awful case of heartburn but that's beside the point).  we got the margherita pizza and added wood-roasted mushrooms and sicilian anchovies. sauce was pretty good but the house made mozzarella was nothing to write home about. crust was thin and soft in the middle crispy around the edges...and burnt. luckily my wife and i don't mind a well-done crust but it certainly did not exhibit the perfection that i was expecting going in. the pizza was cut into 6 slices and was so small that i could have easily eaten the thing on my own. couldn't have been more than 10-12\" in diameter as each slice was able to *easily* fit on the same appetizer-sized plates that we used for our pre-pizza bread (which we had to request was not offered to us by the waiter yet another knock against the entire experience).  the total bill for one little pizza and a $5 draft beer was $28. that's right one pizza no more than a personal-sized one at that with 2 toppings was $23. in terms of accompaniments to the pizza the menu was so limited and when i saw the table next to us get their antipasto plate there was no way we were paying $15 for it.  i cannot believe that anyone in their right mind would wait one hour let alone up to 4 as some of you have written for this pizza. maybe zagat should stick to fine dining reviews b/c they clearly missed the mark here. if any of my friends or relatives were to visit phoenix my advice would be \"don't believe the hype\". personally i can't wait to get back to new jersey and get a bigger cheaper and most importantly better pizza.\n",
      "Topics Identified:\n",
      "\tfood_quality_20\n",
      "[20]\n",
      "================================================================================\n",
      "Review Text:\n",
      "\ti just don't get it. we had the margarita pizza and the wise guy pizza and it really just wasn't that good. i don't get why everyone likes this place so much. we will definitely not be going back.\n",
      "Topics Identified:\n",
      "\tfood_quality_21\n",
      "\tvalue_35\n",
      "\tretention_1\n",
      "[21, 35, 1]\n",
      "================================================================================\n"
     ]
    }
   ],
   "source": [
    "for rev in nff_bad_reviews:\n",
    "    print_top_n_review_topics(model_05, rev, n_topics=5, valid_topics = topics_of_interest)\n",
    "    print('='*80)"
   ]
  },
  {
   "cell_type": "code",
   "execution_count": 19,
   "metadata": {
    "scrolled": true
   },
   "outputs": [
    {
     "name": "stdout",
     "output_type": "stream",
     "text": [
      "Review Text:\n",
      "\tfamily and i waited close to an hour for a table. by the time we were seated all i could think of was \"this frick'n pizza better be worth the wait!!\" well if you have the patience of a saint - it is worth every minute and bite! my family and i are from california and do not believe in lines. we are passing through phoenix. the pizza is so good we are going to stop by phoenix on the way back just for the pizza - again! we ordered the wiseguy marguerita and one with salami (i forget the name) - all delicious! i would recommend all of them! did i mention there is a bar next door? while you wait you can slam down a few drinks...that should take off the edge for the impatient  ones.\n",
      "Topics Identified:\n",
      "\twait_time_7\n",
      "\tretention_1\n",
      "[7, 1]\n",
      "================================================================================\n",
      "Review Text:\n",
      "\tyou are missing out if you haven't been here yet. the bartender was knowledgeable and obviously good pie!!\n",
      "Topics Identified:\n",
      "\tretention_1\n",
      "[1]\n",
      "================================================================================\n",
      "Review Text:\n",
      "\tit's all been said before so i'll keep this short.  ----------this is the best pizza i have ever had. ---------  i've been to italy and the pizzas over there aren't even close.  if it wasn't for the really long wait i would be here all the time.\n",
      "Topics Identified:\n",
      "\tcustomer_Service_44\n",
      "\tcustomer_service_27\n",
      "\tfood_quality_20\n",
      "\tfood_quality_21\n",
      "[44, 27, 20, 21]\n",
      "================================================================================\n",
      "Review Text:\n",
      "\tchef bianco is a hardworking ambitious and kind man who has done wonderfully with pizzeria bianco bar bianco and his other restaurants.  took my parents to pizzeria bianco when they got in for a visit from d.c. and it was the perfect place to decompress and enjoy a delicious truly napolitano style pizza.  the servers are extremely friendly and you can tell that the staff enjoy what they do(staff turnover at this restaurant is low).  the pizzeria is known for having long lines especially thurs-sat so i would recommend going on the off days.  if you're ok with going on a busy night you can start off at the bar next door which is equally wonderful and serves some small bites.\n",
      "Topics Identified:\n",
      "\tretention_1\n",
      "\tcustomer_service_27\n",
      "\tvalue_35\n",
      "[1, 27, 35]\n",
      "================================================================================\n"
     ]
    }
   ],
   "source": [
    "for rev in nff_good_reviews:\n",
    "    print_top_n_review_topics(model_05, rev, n_topics=5, valid_topics = topics_of_interest)\n",
    "    print('='*80)"
   ]
  },
  {
   "cell_type": "markdown",
   "metadata": {},
   "source": [
    "### Step 6b: Fast Food Sample Reviews"
   ]
  },
  {
   "cell_type": "code",
   "execution_count": 20,
   "metadata": {},
   "outputs": [],
   "source": [
    "ff_bad_reviews = most_ff_reviews[most_ff_reviews.stars < 3].iloc[1:5,6]\n",
    "ff_good_reviews = most_ff_reviews[most_ff_reviews.stars > 3].iloc[1:5,6]"
   ]
  },
  {
   "cell_type": "code",
   "execution_count": 21,
   "metadata": {
    "scrolled": true
   },
   "outputs": [
    {
     "name": "stdout",
     "output_type": "stream",
     "text": [
      "Review Text:\n",
      "\ti was expecting more out of the food really bland. the service was like a fast food restraint. long lines for such marginal product\n",
      "Topics Identified:\n",
      "\tfood_quality_21\n",
      "\tcustomer_service_27\n",
      "\twait_time_7\n",
      "[21, 27, 7]\n",
      "================================================================================\n",
      "Review Text:\n",
      "\tthis place is overhyped.  the food is ok the portions a bit small for the price.  it's not the oregano's of hot dogs like most of the reviews would lead you to believe.\n",
      "Topics Identified:\n",
      "\tfood_quality_21\n",
      "\tfood_quality_20\n",
      "\tvalue_35\n",
      "\tcustomer_service_27\n",
      "[21, 20, 35, 27]\n",
      "================================================================================\n",
      "Review Text:\n",
      "\ti love portillos but every time i come to this location the hotdogs taste rubbery.  i dont know what they're doing wrong  but to me it seems like they're cooking them too long....\n",
      "Topics Identified:\n",
      "\tfood_quality_3\n",
      "\tfood_quality_20\n",
      "[3, 20]\n",
      "================================================================================\n",
      "Review Text:\n",
      "\twent here today for the first time. my wife had been here before and did nothing but talk it up. so i gave in and tried it. the food was too greasy and when we ordered the fries i opened the bag and went to grab them out but instead i grabbed a line of staples. i brought it up to the manager's attention. i didn't care too much about it but that could've been dangerous if a child had gotten that bag of fries. but i've had better food than here. i don't think i'll ever go back.\n",
      "Topics Identified:\n",
      "\tretention_1\n",
      "\tfood_quality_20\n",
      "\twait_time_7\n",
      "\tfood_quality_21\n",
      "[1, 20, 7, 21]\n",
      "================================================================================\n"
     ]
    }
   ],
   "source": [
    "for rev in ff_bad_reviews:\n",
    "    print_top_n_review_topics(model_05, rev, n_topics=5, valid_topics = topics_of_interest)\n",
    "    print('='*80)"
   ]
  },
  {
   "cell_type": "code",
   "execution_count": 22,
   "metadata": {
    "scrolled": true
   },
   "outputs": [
    {
     "name": "stdout",
     "output_type": "stream",
     "text": [
      "Review Text:\n",
      "\tthis place is really good. we got the cheese fries italian beefand a chocolate cake shake and they were the business. we made the trip from peoria and it was worth it.\n",
      "Topics Identified:\n",
      "\tvalue_35\n",
      "\tretention_1\n",
      "\tfood_quality_20\n",
      "\tfood_quality_21\n",
      "[35, 1, 20, 21]\n",
      "================================================================================\n",
      "Review Text:\n",
      "\twent here and got a hot dog and cheeseburger. also fries and a sprite. bun was very moist for the hotdog so you must like it that way. unlike some reviews on here refills are free it just seems they are not advertised. all you have to do is go up to the counter where you got your food take off your lid and straw and request a refill and its done!  downfall: it always seems to be busy and is hard to find a table. get there when they open to avoid chaos! i'm also a chicago native and can atest to the food being no different compared to the locations back home.  enjoy! i highly recommend their cheeseburgers!\n",
      "Topics Identified:\n",
      "\tfood_quality_20\n",
      "\tvalue_35\n",
      "\twait_time_7\n",
      "\tretention_1\n",
      "[20, 35, 7, 1]\n",
      "================================================================================\n",
      "Review Text:\n",
      "\ti did not know what to expect going to a hot dog resturant but this place was a nice surprise. the dogs were great and the hamburger was moist and flavorful. hope the make it to austin tx soon.\n",
      "Topics Identified:\n",
      "\tretention_1\n",
      "\tatmosphere_8\n",
      "\tcustomer_service_27\n",
      "[1, 8, 27]\n",
      "================================================================================\n",
      "Review Text:\n",
      "\tawesome food at excellent prices service that is amazing. restaurant experience without having to deal with and tip a waiter. almost everything on the menu is above average and the quality is easy to taste and appreciate. hotdogs are great and the best strawberry milkshake i've ever had!\n",
      "Topics Identified:\n",
      "\tcustomer_service_27\n",
      "\tfood_quality_21\n",
      "\tatmosphere_8\n",
      "[27, 21, 8]\n",
      "================================================================================\n"
     ]
    }
   ],
   "source": [
    "for rev in ff_good_reviews:\n",
    "    print_top_n_review_topics(model_05, rev, n_topics=5, valid_topics = topics_of_interest)\n",
    "    print('='*80)"
   ]
  },
  {
   "cell_type": "markdown",
   "metadata": {},
   "source": [
    "### Step 7: Assign Identified topics to review records"
   ]
  },
  {
   "cell_type": "code",
   "execution_count": 27,
   "metadata": {},
   "outputs": [],
   "source": [
    "review_df['subtopics'] = np.nan"
   ]
  },
  {
   "cell_type": "code",
   "execution_count": 28,
   "metadata": {},
   "outputs": [
    {
     "data": {
      "text/html": [
       "<div>\n",
       "<style scoped>\n",
       "    .dataframe tbody tr th:only-of-type {\n",
       "        vertical-align: middle;\n",
       "    }\n",
       "\n",
       "    .dataframe tbody tr th {\n",
       "        vertical-align: top;\n",
       "    }\n",
       "\n",
       "    .dataframe thead th {\n",
       "        text-align: right;\n",
       "    }\n",
       "</style>\n",
       "<table border=\"1\" class=\"dataframe\">\n",
       "  <thead>\n",
       "    <tr style=\"text-align: right;\">\n",
       "      <th></th>\n",
       "      <th>business_id</th>\n",
       "      <th>cool</th>\n",
       "      <th>date</th>\n",
       "      <th>funny</th>\n",
       "      <th>review_id</th>\n",
       "      <th>stars</th>\n",
       "      <th>text</th>\n",
       "      <th>useful</th>\n",
       "      <th>user_id</th>\n",
       "      <th>is_fast_food</th>\n",
       "      <th>review_len</th>\n",
       "      <th>name</th>\n",
       "      <th>subtopics</th>\n",
       "    </tr>\n",
       "  </thead>\n",
       "  <tbody>\n",
       "    <tr>\n",
       "      <th>0</th>\n",
       "      <td>JlNeaOymdVbE6_bubqjohg</td>\n",
       "      <td>0</td>\n",
       "      <td>2014-08-09</td>\n",
       "      <td>0</td>\n",
       "      <td>BF0ANB54sc_f-3_howQBCg</td>\n",
       "      <td>1</td>\n",
       "      <td>we always go to the chevo's in chandler which ...</td>\n",
       "      <td>3</td>\n",
       "      <td>ssuXFjkH4neiBgwv-oN4IA</td>\n",
       "      <td>False</td>\n",
       "      <td>422</td>\n",
       "      <td>Papa Chevo's Taco Shop</td>\n",
       "      <td>NaN</td>\n",
       "    </tr>\n",
       "    <tr>\n",
       "      <th>1</th>\n",
       "      <td>0Rni7ocMC_Lg2UH0lDeKMQ</td>\n",
       "      <td>0</td>\n",
       "      <td>2014-08-09</td>\n",
       "      <td>0</td>\n",
       "      <td>DbLUpPT61ykLTakknCF9CQ</td>\n",
       "      <td>1</td>\n",
       "      <td>this place is always so dirty and grimy been t...</td>\n",
       "      <td>6</td>\n",
       "      <td>ssuXFjkH4neiBgwv-oN4IA</td>\n",
       "      <td>False</td>\n",
       "      <td>111</td>\n",
       "      <td>Barro's Pizza</td>\n",
       "      <td>NaN</td>\n",
       "    </tr>\n",
       "    <tr>\n",
       "      <th>2</th>\n",
       "      <td>S-oLPRdhlyL5HAknBKTUcQ</td>\n",
       "      <td>0</td>\n",
       "      <td>2017-11-30</td>\n",
       "      <td>0</td>\n",
       "      <td>z_mVLygzPn8uHp63SSCErw</td>\n",
       "      <td>4</td>\n",
       "      <td>holy portion sizes! you get a lot of bang for ...</td>\n",
       "      <td>0</td>\n",
       "      <td>MzEnYCyZlRYQRISNMXTWIg</td>\n",
       "      <td>False</td>\n",
       "      <td>130</td>\n",
       "      <td>Harumi Sushi</td>\n",
       "      <td>NaN</td>\n",
       "    </tr>\n",
       "  </tbody>\n",
       "</table>\n",
       "</div>"
      ],
      "text/plain": [
       "              business_id  cool       date  funny               review_id  \\\n",
       "0  JlNeaOymdVbE6_bubqjohg     0 2014-08-09      0  BF0ANB54sc_f-3_howQBCg   \n",
       "1  0Rni7ocMC_Lg2UH0lDeKMQ     0 2014-08-09      0  DbLUpPT61ykLTakknCF9CQ   \n",
       "2  S-oLPRdhlyL5HAknBKTUcQ     0 2017-11-30      0  z_mVLygzPn8uHp63SSCErw   \n",
       "\n",
       "   stars                                               text  useful  \\\n",
       "0      1  we always go to the chevo's in chandler which ...       3   \n",
       "1      1  this place is always so dirty and grimy been t...       6   \n",
       "2      4  holy portion sizes! you get a lot of bang for ...       0   \n",
       "\n",
       "                  user_id  is_fast_food  review_len                    name  \\\n",
       "0  ssuXFjkH4neiBgwv-oN4IA         False         422  Papa Chevo's Taco Shop   \n",
       "1  ssuXFjkH4neiBgwv-oN4IA         False         111           Barro's Pizza   \n",
       "2  MzEnYCyZlRYQRISNMXTWIg         False         130            Harumi Sushi   \n",
       "\n",
       "   subtopics  \n",
       "0        NaN  \n",
       "1        NaN  \n",
       "2        NaN  "
      ]
     },
     "execution_count": 28,
     "metadata": {},
     "output_type": "execute_result"
    }
   ],
   "source": [
    "review_df.head(3)"
   ]
  },
  {
   "cell_type": "code",
   "execution_count": 29,
   "metadata": {},
   "outputs": [],
   "source": [
    "def get_subtopics(review_record, model=model_05, n_topics=5, valid_topics = {}):\n",
    "    \n",
    "    review_topic_categories = []\n",
    "    for word in review_record.text.split(' '):\n",
    "        try:\n",
    "            word_topic = model.get_term_topics(word_id = word)\n",
    "            [review_topic_categories.append(x[0]) for x in word_topic]\n",
    "        except:\n",
    "            pass\n",
    "    \n",
    "    # count occurances of each identified topic\n",
    "    topic_counter = Counter(review_topic_categories) \n",
    "    top_n_topics = [x[0] for x in topic_counter.most_common(n_topics)]\n",
    "    \n",
    "    if len(valid_topics) > 0:\n",
    "        \n",
    "        valid_topic_ids = list(valid_topics.values())\n",
    "        \n",
    "        # prune to only topics we care about\n",
    "        topics = [topic for topic in top_n_topics if topic in valid_topic_ids]\n",
    "    else:\n",
    "        topics = top_n_topics\n",
    "\n",
    "    subtopic_dict = dict(zip(subtopic_labels, [np.nan for x in range(0, len(subtopic_labels))]))\n",
    "\n",
    "    for t in topics:\n",
    "        if t in [35]:\n",
    "            subtopic_dict['value']            = review_record.stars\n",
    "        if t in [19]:\n",
    "            subtopic_dict['menu_options']     = review_record.stars\n",
    "        if t in [8]:\n",
    "            subtopic_dict['atmosphere']       = review_record.stars\n",
    "        if t in [1]:\n",
    "            subtopic_dict['retention']        = review_record.stars\n",
    "        if t in [13]:\n",
    "            subtopic_dict['cleanliness']      = review_record.stars\n",
    "        if t in [7]:\n",
    "            subtopic_dict['wait_time']        = review_record.stars\n",
    "        if t in [9]:\n",
    "            subtopic_dict['ordering']         = review_record.stars\n",
    "        if t in [44, 27]:\n",
    "            subtopic_dict['customer_service'] = review_record.stars\n",
    "        if t in [3, 20, 21]:\n",
    "            subtopic_dict['food_quality']     = review_record.stars\n",
    "                  \n",
    "    return [list(subtopic_dict.values())]"
   ]
  },
  {
   "cell_type": "code",
   "execution_count": 30,
   "metadata": {
    "scrolled": false
   },
   "outputs": [
    {
     "name": "stdout",
     "output_type": "stream",
     "text": [
      "[22:41:30.795339] getting subtopics for each review\n"
     ]
    }
   ],
   "source": [
    "time_marker('getting subtopics for each review')\n",
    "# get list of subtopic star ratings\n",
    "review_df['subtopics'] = review_df.apply(lambda row: get_subtopics(row, valid_topics=topics_of_interest), axis=1)"
   ]
  },
  {
   "cell_type": "code",
   "execution_count": 31,
   "metadata": {},
   "outputs": [
    {
     "name": "stdout",
     "output_type": "stream",
     "text": [
      "[22:58:59.140285] splitting subtopic label lists into columns\n"
     ]
    }
   ],
   "source": [
    "time_marker('splitting subtopic label lists into columns')\n",
    "# split list into separate columns\n",
    "review_df[subtopic_labels] = pd.DataFrame(review_df.subtopics.values.tolist(), index= review_df.index)"
   ]
  },
  {
   "cell_type": "code",
   "execution_count": 32,
   "metadata": {},
   "outputs": [
    {
     "name": "stdout",
     "output_type": "stream",
     "text": [
      "[22:58:59.794379] cleaning up...\n"
     ]
    }
   ],
   "source": [
    "time_marker('Cleaning up...')\n",
    "# drop dummy column\n",
    "review_df.drop(['subtopics'], inplace=True, axis=1)"
   ]
  },
  {
   "cell_type": "code",
   "execution_count": 33,
   "metadata": {},
   "outputs": [
    {
     "data": {
      "text/html": [
       "<div>\n",
       "<style scoped>\n",
       "    .dataframe tbody tr th:only-of-type {\n",
       "        vertical-align: middle;\n",
       "    }\n",
       "\n",
       "    .dataframe tbody tr th {\n",
       "        vertical-align: top;\n",
       "    }\n",
       "\n",
       "    .dataframe thead th {\n",
       "        text-align: right;\n",
       "    }\n",
       "</style>\n",
       "<table border=\"1\" class=\"dataframe\">\n",
       "  <thead>\n",
       "    <tr style=\"text-align: right;\">\n",
       "      <th></th>\n",
       "      <th>0</th>\n",
       "      <th>1</th>\n",
       "      <th>2</th>\n",
       "    </tr>\n",
       "  </thead>\n",
       "  <tbody>\n",
       "    <tr>\n",
       "      <th>business_id</th>\n",
       "      <td>JlNeaOymdVbE6_bubqjohg</td>\n",
       "      <td>0Rni7ocMC_Lg2UH0lDeKMQ</td>\n",
       "      <td>S-oLPRdhlyL5HAknBKTUcQ</td>\n",
       "    </tr>\n",
       "    <tr>\n",
       "      <th>cool</th>\n",
       "      <td>0</td>\n",
       "      <td>0</td>\n",
       "      <td>0</td>\n",
       "    </tr>\n",
       "    <tr>\n",
       "      <th>date</th>\n",
       "      <td>2014-08-09 00:00:00</td>\n",
       "      <td>2014-08-09 00:00:00</td>\n",
       "      <td>2017-11-30 00:00:00</td>\n",
       "    </tr>\n",
       "    <tr>\n",
       "      <th>funny</th>\n",
       "      <td>0</td>\n",
       "      <td>0</td>\n",
       "      <td>0</td>\n",
       "    </tr>\n",
       "    <tr>\n",
       "      <th>review_id</th>\n",
       "      <td>BF0ANB54sc_f-3_howQBCg</td>\n",
       "      <td>DbLUpPT61ykLTakknCF9CQ</td>\n",
       "      <td>z_mVLygzPn8uHp63SSCErw</td>\n",
       "    </tr>\n",
       "    <tr>\n",
       "      <th>stars</th>\n",
       "      <td>1</td>\n",
       "      <td>1</td>\n",
       "      <td>4</td>\n",
       "    </tr>\n",
       "    <tr>\n",
       "      <th>text</th>\n",
       "      <td>we always go to the chevo's in chandler which ...</td>\n",
       "      <td>this place is always so dirty and grimy been t...</td>\n",
       "      <td>holy portion sizes! you get a lot of bang for ...</td>\n",
       "    </tr>\n",
       "    <tr>\n",
       "      <th>useful</th>\n",
       "      <td>3</td>\n",
       "      <td>6</td>\n",
       "      <td>0</td>\n",
       "    </tr>\n",
       "    <tr>\n",
       "      <th>user_id</th>\n",
       "      <td>ssuXFjkH4neiBgwv-oN4IA</td>\n",
       "      <td>ssuXFjkH4neiBgwv-oN4IA</td>\n",
       "      <td>MzEnYCyZlRYQRISNMXTWIg</td>\n",
       "    </tr>\n",
       "    <tr>\n",
       "      <th>is_fast_food</th>\n",
       "      <td>False</td>\n",
       "      <td>False</td>\n",
       "      <td>False</td>\n",
       "    </tr>\n",
       "    <tr>\n",
       "      <th>review_len</th>\n",
       "      <td>422</td>\n",
       "      <td>111</td>\n",
       "      <td>130</td>\n",
       "    </tr>\n",
       "    <tr>\n",
       "      <th>name</th>\n",
       "      <td>Papa Chevo's Taco Shop</td>\n",
       "      <td>Barro's Pizza</td>\n",
       "      <td>Harumi Sushi</td>\n",
       "    </tr>\n",
       "    <tr>\n",
       "      <th>atmosphere</th>\n",
       "      <td>NaN</td>\n",
       "      <td>NaN</td>\n",
       "      <td>NaN</td>\n",
       "    </tr>\n",
       "    <tr>\n",
       "      <th>value</th>\n",
       "      <td>NaN</td>\n",
       "      <td>NaN</td>\n",
       "      <td>NaN</td>\n",
       "    </tr>\n",
       "    <tr>\n",
       "      <th>retention</th>\n",
       "      <td>1</td>\n",
       "      <td>1</td>\n",
       "      <td>NaN</td>\n",
       "    </tr>\n",
       "    <tr>\n",
       "      <th>cleanliness</th>\n",
       "      <td>NaN</td>\n",
       "      <td>NaN</td>\n",
       "      <td>NaN</td>\n",
       "    </tr>\n",
       "    <tr>\n",
       "      <th>ordering</th>\n",
       "      <td>NaN</td>\n",
       "      <td>NaN</td>\n",
       "      <td>NaN</td>\n",
       "    </tr>\n",
       "    <tr>\n",
       "      <th>customer_service</th>\n",
       "      <td>NaN</td>\n",
       "      <td>1</td>\n",
       "      <td>4</td>\n",
       "    </tr>\n",
       "    <tr>\n",
       "      <th>wait_time</th>\n",
       "      <td>NaN</td>\n",
       "      <td>NaN</td>\n",
       "      <td>NaN</td>\n",
       "    </tr>\n",
       "    <tr>\n",
       "      <th>menu_options</th>\n",
       "      <td>NaN</td>\n",
       "      <td>NaN</td>\n",
       "      <td>NaN</td>\n",
       "    </tr>\n",
       "    <tr>\n",
       "      <th>food_quality</th>\n",
       "      <td>1</td>\n",
       "      <td>1</td>\n",
       "      <td>4</td>\n",
       "    </tr>\n",
       "  </tbody>\n",
       "</table>\n",
       "</div>"
      ],
      "text/plain": [
       "                                                                  0  \\\n",
       "business_id                                  JlNeaOymdVbE6_bubqjohg   \n",
       "cool                                                              0   \n",
       "date                                            2014-08-09 00:00:00   \n",
       "funny                                                             0   \n",
       "review_id                                    BF0ANB54sc_f-3_howQBCg   \n",
       "stars                                                             1   \n",
       "text              we always go to the chevo's in chandler which ...   \n",
       "useful                                                            3   \n",
       "user_id                                      ssuXFjkH4neiBgwv-oN4IA   \n",
       "is_fast_food                                                  False   \n",
       "review_len                                                      422   \n",
       "name                                         Papa Chevo's Taco Shop   \n",
       "atmosphere                                                      NaN   \n",
       "value                                                           NaN   \n",
       "retention                                                         1   \n",
       "cleanliness                                                     NaN   \n",
       "ordering                                                        NaN   \n",
       "customer_service                                                NaN   \n",
       "wait_time                                                       NaN   \n",
       "menu_options                                                    NaN   \n",
       "food_quality                                                      1   \n",
       "\n",
       "                                                                  1  \\\n",
       "business_id                                  0Rni7ocMC_Lg2UH0lDeKMQ   \n",
       "cool                                                              0   \n",
       "date                                            2014-08-09 00:00:00   \n",
       "funny                                                             0   \n",
       "review_id                                    DbLUpPT61ykLTakknCF9CQ   \n",
       "stars                                                             1   \n",
       "text              this place is always so dirty and grimy been t...   \n",
       "useful                                                            6   \n",
       "user_id                                      ssuXFjkH4neiBgwv-oN4IA   \n",
       "is_fast_food                                                  False   \n",
       "review_len                                                      111   \n",
       "name                                                  Barro's Pizza   \n",
       "atmosphere                                                      NaN   \n",
       "value                                                           NaN   \n",
       "retention                                                         1   \n",
       "cleanliness                                                     NaN   \n",
       "ordering                                                        NaN   \n",
       "customer_service                                                  1   \n",
       "wait_time                                                       NaN   \n",
       "menu_options                                                    NaN   \n",
       "food_quality                                                      1   \n",
       "\n",
       "                                                                  2  \n",
       "business_id                                  S-oLPRdhlyL5HAknBKTUcQ  \n",
       "cool                                                              0  \n",
       "date                                            2017-11-30 00:00:00  \n",
       "funny                                                             0  \n",
       "review_id                                    z_mVLygzPn8uHp63SSCErw  \n",
       "stars                                                             4  \n",
       "text              holy portion sizes! you get a lot of bang for ...  \n",
       "useful                                                            0  \n",
       "user_id                                      MzEnYCyZlRYQRISNMXTWIg  \n",
       "is_fast_food                                                  False  \n",
       "review_len                                                      130  \n",
       "name                                                   Harumi Sushi  \n",
       "atmosphere                                                      NaN  \n",
       "value                                                           NaN  \n",
       "retention                                                       NaN  \n",
       "cleanliness                                                     NaN  \n",
       "ordering                                                        NaN  \n",
       "customer_service                                                  4  \n",
       "wait_time                                                       NaN  \n",
       "menu_options                                                    NaN  \n",
       "food_quality                                                      4  "
      ]
     },
     "execution_count": 33,
     "metadata": {},
     "output_type": "execute_result"
    }
   ],
   "source": [
    "review_df.head(3).transpose()"
   ]
  },
  {
   "cell_type": "code",
   "execution_count": 34,
   "metadata": {},
   "outputs": [],
   "source": [
    "review_df.to_csv('../clean_data/az_restaurant_reviews_with_subtopics.csv')"
   ]
  },
  {
   "cell_type": "code",
   "execution_count": 35,
   "metadata": {},
   "outputs": [
    {
     "data": {
      "text/html": [
       "<div>\n",
       "<style scoped>\n",
       "    .dataframe tbody tr th:only-of-type {\n",
       "        vertical-align: middle;\n",
       "    }\n",
       "\n",
       "    .dataframe tbody tr th {\n",
       "        vertical-align: top;\n",
       "    }\n",
       "\n",
       "    .dataframe thead th {\n",
       "        text-align: right;\n",
       "    }\n",
       "</style>\n",
       "<table border=\"1\" class=\"dataframe\">\n",
       "  <thead>\n",
       "    <tr style=\"text-align: right;\">\n",
       "      <th></th>\n",
       "      <th>cool</th>\n",
       "      <th>funny</th>\n",
       "      <th>stars</th>\n",
       "      <th>useful</th>\n",
       "      <th>review_len</th>\n",
       "      <th>atmosphere</th>\n",
       "      <th>value</th>\n",
       "      <th>retention</th>\n",
       "      <th>cleanliness</th>\n",
       "      <th>ordering</th>\n",
       "      <th>customer_service</th>\n",
       "      <th>wait_time</th>\n",
       "      <th>menu_options</th>\n",
       "      <th>food_quality</th>\n",
       "    </tr>\n",
       "  </thead>\n",
       "  <tbody>\n",
       "    <tr>\n",
       "      <th>count</th>\n",
       "      <td>495893.000000</td>\n",
       "      <td>495893.000000</td>\n",
       "      <td>495893.000000</td>\n",
       "      <td>495893.000000</td>\n",
       "      <td>495893.000000</td>\n",
       "      <td>94385.000000</td>\n",
       "      <td>159932.000000</td>\n",
       "      <td>225063.000000</td>\n",
       "      <td>1795.000000</td>\n",
       "      <td>36124.000000</td>\n",
       "      <td>285977.000000</td>\n",
       "      <td>89636.000000</td>\n",
       "      <td>12243.000000</td>\n",
       "      <td>299715.000000</td>\n",
       "    </tr>\n",
       "    <tr>\n",
       "      <th>mean</th>\n",
       "      <td>0.550042</td>\n",
       "      <td>0.465808</td>\n",
       "      <td>3.689457</td>\n",
       "      <td>1.127642</td>\n",
       "      <td>546.456032</td>\n",
       "      <td>4.238841</td>\n",
       "      <td>3.620145</td>\n",
       "      <td>3.853637</td>\n",
       "      <td>2.854596</td>\n",
       "      <td>2.762014</td>\n",
       "      <td>3.943460</td>\n",
       "      <td>3.220737</td>\n",
       "      <td>3.879686</td>\n",
       "      <td>3.448269</td>\n",
       "    </tr>\n",
       "    <tr>\n",
       "      <th>std</th>\n",
       "      <td>2.035899</td>\n",
       "      <td>1.708676</td>\n",
       "      <td>1.415221</td>\n",
       "      <td>2.561864</td>\n",
       "      <td>511.313496</td>\n",
       "      <td>1.108483</td>\n",
       "      <td>1.293034</td>\n",
       "      <td>1.339301</td>\n",
       "      <td>1.637603</td>\n",
       "      <td>1.616081</td>\n",
       "      <td>1.317797</td>\n",
       "      <td>1.573312</td>\n",
       "      <td>1.350567</td>\n",
       "      <td>1.439882</td>\n",
       "    </tr>\n",
       "    <tr>\n",
       "      <th>min</th>\n",
       "      <td>-1.000000</td>\n",
       "      <td>0.000000</td>\n",
       "      <td>1.000000</td>\n",
       "      <td>-1.000000</td>\n",
       "      <td>80.000000</td>\n",
       "      <td>1.000000</td>\n",
       "      <td>1.000000</td>\n",
       "      <td>1.000000</td>\n",
       "      <td>1.000000</td>\n",
       "      <td>1.000000</td>\n",
       "      <td>1.000000</td>\n",
       "      <td>1.000000</td>\n",
       "      <td>1.000000</td>\n",
       "      <td>1.000000</td>\n",
       "    </tr>\n",
       "    <tr>\n",
       "      <th>25%</th>\n",
       "      <td>0.000000</td>\n",
       "      <td>0.000000</td>\n",
       "      <td>3.000000</td>\n",
       "      <td>0.000000</td>\n",
       "      <td>220.000000</td>\n",
       "      <td>4.000000</td>\n",
       "      <td>3.000000</td>\n",
       "      <td>3.000000</td>\n",
       "      <td>1.000000</td>\n",
       "      <td>1.000000</td>\n",
       "      <td>3.000000</td>\n",
       "      <td>2.000000</td>\n",
       "      <td>3.000000</td>\n",
       "      <td>2.000000</td>\n",
       "    </tr>\n",
       "    <tr>\n",
       "      <th>50%</th>\n",
       "      <td>0.000000</td>\n",
       "      <td>0.000000</td>\n",
       "      <td>4.000000</td>\n",
       "      <td>0.000000</td>\n",
       "      <td>383.000000</td>\n",
       "      <td>5.000000</td>\n",
       "      <td>4.000000</td>\n",
       "      <td>4.000000</td>\n",
       "      <td>3.000000</td>\n",
       "      <td>2.000000</td>\n",
       "      <td>4.000000</td>\n",
       "      <td>4.000000</td>\n",
       "      <td>4.000000</td>\n",
       "      <td>4.000000</td>\n",
       "    </tr>\n",
       "    <tr>\n",
       "      <th>75%</th>\n",
       "      <td>1.000000</td>\n",
       "      <td>0.000000</td>\n",
       "      <td>5.000000</td>\n",
       "      <td>1.000000</td>\n",
       "      <td>688.000000</td>\n",
       "      <td>5.000000</td>\n",
       "      <td>5.000000</td>\n",
       "      <td>5.000000</td>\n",
       "      <td>5.000000</td>\n",
       "      <td>4.000000</td>\n",
       "      <td>5.000000</td>\n",
       "      <td>5.000000</td>\n",
       "      <td>5.000000</td>\n",
       "      <td>5.000000</td>\n",
       "    </tr>\n",
       "    <tr>\n",
       "      <th>max</th>\n",
       "      <td>221.000000</td>\n",
       "      <td>161.000000</td>\n",
       "      <td>5.000000</td>\n",
       "      <td>216.000000</td>\n",
       "      <td>4989.000000</td>\n",
       "      <td>5.000000</td>\n",
       "      <td>5.000000</td>\n",
       "      <td>5.000000</td>\n",
       "      <td>5.000000</td>\n",
       "      <td>5.000000</td>\n",
       "      <td>5.000000</td>\n",
       "      <td>5.000000</td>\n",
       "      <td>5.000000</td>\n",
       "      <td>5.000000</td>\n",
       "    </tr>\n",
       "  </tbody>\n",
       "</table>\n",
       "</div>"
      ],
      "text/plain": [
       "                cool          funny          stars         useful  \\\n",
       "count  495893.000000  495893.000000  495893.000000  495893.000000   \n",
       "mean        0.550042       0.465808       3.689457       1.127642   \n",
       "std         2.035899       1.708676       1.415221       2.561864   \n",
       "min        -1.000000       0.000000       1.000000      -1.000000   \n",
       "25%         0.000000       0.000000       3.000000       0.000000   \n",
       "50%         0.000000       0.000000       4.000000       0.000000   \n",
       "75%         1.000000       0.000000       5.000000       1.000000   \n",
       "max       221.000000     161.000000       5.000000     216.000000   \n",
       "\n",
       "          review_len    atmosphere          value      retention  cleanliness  \\\n",
       "count  495893.000000  94385.000000  159932.000000  225063.000000  1795.000000   \n",
       "mean      546.456032      4.238841       3.620145       3.853637     2.854596   \n",
       "std       511.313496      1.108483       1.293034       1.339301     1.637603   \n",
       "min        80.000000      1.000000       1.000000       1.000000     1.000000   \n",
       "25%       220.000000      4.000000       3.000000       3.000000     1.000000   \n",
       "50%       383.000000      5.000000       4.000000       4.000000     3.000000   \n",
       "75%       688.000000      5.000000       5.000000       5.000000     5.000000   \n",
       "max      4989.000000      5.000000       5.000000       5.000000     5.000000   \n",
       "\n",
       "           ordering  customer_service     wait_time  menu_options  \\\n",
       "count  36124.000000     285977.000000  89636.000000  12243.000000   \n",
       "mean       2.762014          3.943460      3.220737      3.879686   \n",
       "std        1.616081          1.317797      1.573312      1.350567   \n",
       "min        1.000000          1.000000      1.000000      1.000000   \n",
       "25%        1.000000          3.000000      2.000000      3.000000   \n",
       "50%        2.000000          4.000000      4.000000      4.000000   \n",
       "75%        4.000000          5.000000      5.000000      5.000000   \n",
       "max        5.000000          5.000000      5.000000      5.000000   \n",
       "\n",
       "        food_quality  \n",
       "count  299715.000000  \n",
       "mean        3.448269  \n",
       "std         1.439882  \n",
       "min         1.000000  \n",
       "25%         2.000000  \n",
       "50%         4.000000  \n",
       "75%         5.000000  \n",
       "max         5.000000  "
      ]
     },
     "execution_count": 35,
     "metadata": {},
     "output_type": "execute_result"
    }
   ],
   "source": [
    "review_df.describe()"
   ]
  },
  {
   "cell_type": "code",
   "execution_count": 37,
   "metadata": {},
   "outputs": [
    {
     "name": "stdout",
     "output_type": "stream",
     "text": [
      "<class 'pandas.core.frame.DataFrame'>\n",
      "Int64Index: 495893 entries, 0 to 495892\n",
      "Data columns (total 21 columns):\n",
      "business_id         495893 non-null object\n",
      "cool                495893 non-null int64\n",
      "date                495893 non-null datetime64[ns]\n",
      "funny               495893 non-null int64\n",
      "review_id           495893 non-null object\n",
      "stars               495893 non-null int64\n",
      "text                495893 non-null object\n",
      "useful              495893 non-null int64\n",
      "user_id             495893 non-null object\n",
      "is_fast_food        495893 non-null bool\n",
      "review_len          495893 non-null int64\n",
      "name                495893 non-null object\n",
      "atmosphere          94385 non-null float64\n",
      "value               159932 non-null float64\n",
      "retention           225063 non-null float64\n",
      "cleanliness         1795 non-null float64\n",
      "ordering            36124 non-null float64\n",
      "customer_service    285977 non-null float64\n",
      "wait_time           89636 non-null float64\n",
      "menu_options        12243 non-null float64\n",
      "food_quality        299715 non-null float64\n",
      "dtypes: bool(1), datetime64[ns](1), float64(9), int64(5), object(5)\n",
      "memory usage: 79.9+ MB\n"
     ]
    }
   ],
   "source": [
    "review_df.info()"
   ]
  },
  {
   "cell_type": "code",
   "execution_count": null,
   "metadata": {},
   "outputs": [],
   "source": []
  },
  {
   "cell_type": "code",
   "execution_count": null,
   "metadata": {},
   "outputs": [],
   "source": []
  },
  {
   "cell_type": "code",
   "execution_count": null,
   "metadata": {},
   "outputs": [],
   "source": []
  },
  {
   "cell_type": "code",
   "execution_count": null,
   "metadata": {},
   "outputs": [],
   "source": []
  },
  {
   "cell_type": "code",
   "execution_count": null,
   "metadata": {},
   "outputs": [],
   "source": []
  },
  {
   "cell_type": "code",
   "execution_count": null,
   "metadata": {},
   "outputs": [],
   "source": []
  },
  {
   "cell_type": "code",
   "execution_count": null,
   "metadata": {},
   "outputs": [],
   "source": []
  },
  {
   "cell_type": "code",
   "execution_count": null,
   "metadata": {},
   "outputs": [],
   "source": []
  },
  {
   "cell_type": "code",
   "execution_count": null,
   "metadata": {},
   "outputs": [],
   "source": []
  },
  {
   "cell_type": "code",
   "execution_count": null,
   "metadata": {},
   "outputs": [],
   "source": []
  },
  {
   "cell_type": "code",
   "execution_count": null,
   "metadata": {},
   "outputs": [],
   "source": []
  },
  {
   "cell_type": "code",
   "execution_count": null,
   "metadata": {},
   "outputs": [],
   "source": []
  },
  {
   "cell_type": "code",
   "execution_count": null,
   "metadata": {},
   "outputs": [],
   "source": []
  },
  {
   "cell_type": "code",
   "execution_count": null,
   "metadata": {},
   "outputs": [],
   "source": []
  },
  {
   "cell_type": "code",
   "execution_count": null,
   "metadata": {},
   "outputs": [],
   "source": []
  },
  {
   "cell_type": "code",
   "execution_count": null,
   "metadata": {},
   "outputs": [],
   "source": []
  }
 ],
 "metadata": {
  "kernelspec": {
   "display_name": "Python 3",
   "language": "python",
   "name": "python3"
  },
  "language_info": {
   "codemirror_mode": {
    "name": "ipython",
    "version": 3
   },
   "file_extension": ".py",
   "mimetype": "text/x-python",
   "name": "python",
   "nbconvert_exporter": "python",
   "pygments_lexer": "ipython3",
   "version": "3.6.3"
  }
 },
 "nbformat": 4,
 "nbformat_minor": 2
}
