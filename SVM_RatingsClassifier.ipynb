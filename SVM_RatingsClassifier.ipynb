{
 "cells": [
  {
   "cell_type": "markdown",
   "metadata": {},
   "source": [
    "# Predicting Ratings from Review Text"
   ]
  },
  {
   "cell_type": "code",
   "execution_count": 1,
   "metadata": {},
   "outputs": [],
   "source": [
    "%matplotlib inline\n",
    "import numpy as np\n",
    "import math\n",
    "import matplotlib.pyplot as plt\n",
    "import pandas as pd\n",
    "import datetime\n",
    "from glob import glob\n",
    "\n",
    "import seaborn as sns\n",
    "sns.set_style('whitegrid')\n",
    "sns.set_context(\"poster\")"
   ]
  },
  {
   "cell_type": "code",
   "execution_count": 2,
   "metadata": {},
   "outputs": [],
   "source": [
    "def time_marker(text=''):\n",
    "    print('[{}] {}'.format(datetime.datetime.now().time(), text))"
   ]
  },
  {
   "cell_type": "code",
   "execution_count": 3,
   "metadata": {},
   "outputs": [
    {
     "data": {
      "text/html": [
       "<style>.container { width:95% !important; }</style>"
      ],
      "text/plain": [
       "<IPython.core.display.HTML object>"
      ]
     },
     "metadata": {},
     "output_type": "display_data"
    }
   ],
   "source": [
    "from IPython.core.display import display, HTML\n",
    "display(HTML(\"<style>.container { width:95% !important; }</style>\"))\n",
    "\n",
    "import matplotlib\n",
    "font = {'size' : 50}\n",
    "matplotlib.rc('font', **font)\n",
    "\n",
    "TITLE_FONT_SIZE = 25\n",
    "LABEL_FONT_SIZE = 15\n",
    "TICK_FONT_SIZE  = 15\n",
    "\n",
    "FIG_SIZE = (15,6)\n",
    "FIG_SIZE_SHORT = (15,3)"
   ]
  },
  {
   "cell_type": "markdown",
   "metadata": {},
   "source": [
    "# Load Reviews"
   ]
  },
  {
   "cell_type": "markdown",
   "metadata": {},
   "source": [
    "## All Reviews"
   ]
  },
  {
   "cell_type": "code",
   "execution_count": 4,
   "metadata": {},
   "outputs": [
    {
     "name": "stdout",
     "output_type": "stream",
     "text": [
      "[17:28:25.968409] loading all reviews...\n"
     ]
    },
    {
     "name": "stderr",
     "output_type": "stream",
     "text": [
      "/Users/samgutentag/anaconda/envs/spring/lib/python3.6/site-packages/numpy/lib/arraysetops.py:463: FutureWarning: elementwise comparison failed; returning scalar instead, but in the future will perform elementwise comparison\n",
      "  mask |= (ar1 == a)\n"
     ]
    },
    {
     "name": "stdout",
     "output_type": "stream",
     "text": [
      "[17:28:50.371656] done\n"
     ]
    }
   ],
   "source": [
    "time_marker('loading all reviews...')\n",
    "reviews = pd.read_csv('./clean_data/_analysis/restaurant_reviews_top_countries.csv', index_col=0, parse_dates=['date'])\n",
    "time_marker('done')"
   ]
  },
  {
   "cell_type": "markdown",
   "metadata": {},
   "source": [
    "## Reviews by Country"
   ]
  },
  {
   "cell_type": "code",
   "execution_count": 5,
   "metadata": {},
   "outputs": [
    {
     "name": "stdout",
     "output_type": "stream",
     "text": [
      "[17:28:50.402741] subsetting United States Reviews.. \n",
      "[17:28:51.066582] subsetting Canada Reviews.. \n",
      "[17:28:51.331676] subsetting Germany Reviews.. \n",
      "[17:28:51.478187] subsetting United Kingdom Reviews.. \n",
      "[17:28:51.629948] done!\n"
     ]
    }
   ],
   "source": [
    "time_marker('subsetting United States Reviews.. ')\n",
    "us_reviews = reviews[reviews.country == 'United States'].copy()\n",
    "us_reviews.reset_index(inplace=True, drop=True)\n",
    "\n",
    "time_marker('subsetting Canada Reviews.. ')\n",
    "can_reviews = reviews[reviews.country == 'Canada'].copy()\n",
    "can_reviews.reset_index(inplace=True, drop=True)\n",
    "\n",
    "time_marker('subsetting Germany Reviews.. ')\n",
    "ger_reviews = reviews[reviews.country == 'Germany'].copy()\n",
    "ger_reviews.reset_index(inplace=True, drop=True)\n",
    "\n",
    "time_marker('subsetting United Kingdom Reviews.. ')\n",
    "uk_reviews = reviews[reviews.country == 'United Kingdom'].copy()\n",
    "uk_reviews.reset_index(inplace=True, drop=True)\n",
    "\n",
    "time_marker('done!')"
   ]
  },
  {
   "cell_type": "code",
   "execution_count": 6,
   "metadata": {},
   "outputs": [
    {
     "name": "stdout",
     "output_type": "stream",
     "text": [
      "  1676714 100.0000 reviews from All Countries\n",
      "  1323672  78.9444 reviews from United States\n",
      "   327956  19.5594 reviews from Canada\n",
      "    13261   0.7909 reviews from Germany\n",
      "    11825   0.7052 reviews from United Kingdom\n"
     ]
    }
   ],
   "source": [
    "print('{} {:2.4f} reviews from All Countries'.format( str(reviews.shape[0]).rjust(9),     reviews.shape[0]/reviews.shape[0]*100.))\n",
    "print('{}  {:2.4f} reviews from United States'.format( str(us_reviews.shape[0]).rjust(9),  us_reviews.shape[0]/reviews.shape[0]*100.))\n",
    "print('{}  {:2.4f} reviews from Canada'.format(        str(can_reviews.shape[0]).rjust(9), can_reviews.shape[0]/reviews.shape[0]*100.))\n",
    "print('{}   {:2.4f} reviews from Germany'.format(       str(ger_reviews.shape[0]).rjust(9), ger_reviews.shape[0]/reviews.shape[0]*100.))\n",
    "print('{}   {:2.4f} reviews from United Kingdom'.format(str(uk_reviews.shape[0]).rjust(9),  uk_reviews.shape[0]/reviews.shape[0]*100.))"
   ]
  },
  {
   "cell_type": "markdown",
   "metadata": {},
   "source": [
    "# Labels and Features"
   ]
  },
  {
   "cell_type": "code",
   "execution_count": 7,
   "metadata": {},
   "outputs": [],
   "source": [
    "# features - the text of the review\n",
    "texts_all = list(reviews['text'])\n",
    "texts_us = list(us_reviews['text'])\n",
    "texts_can = list(can_reviews['text'])\n",
    "texts_ger = list(ger_reviews['text'])\n",
    "texts_uk = list(uk_reviews['text'])\n",
    "\n",
    "# labels - the star rating for each review\n",
    "stars_all = list(reviews['stars'])\n",
    "stars_us = list(us_reviews['stars'])\n",
    "stars_can = list(can_reviews['stars'])\n",
    "stars_ger = list(ger_reviews['stars'])\n",
    "stars_uk = list(uk_reviews['stars'])\n"
   ]
  },
  {
   "cell_type": "markdown",
   "metadata": {},
   "source": [
    "# Balance Data\n",
    "<p>take equal number of reviews form each star rating, helps avoid bias towards ratings with more reviews</p>"
   ]
  },
  {
   "cell_type": "code",
   "execution_count": 8,
   "metadata": {},
   "outputs": [],
   "source": [
    "from collections import Counter\n",
    " \n",
    "def balance_classes(xs, ys):\n",
    "    \"\"\"Undersample xs, ys to balance classes.\"\"\"\n",
    "    freqs = Counter(ys)\n",
    "\n",
    "    # the least common class is the maximum number we want for all classes\n",
    "    max_allowable = freqs.most_common()[-1][1]\n",
    "    num_added = {clss: 0 for clss in freqs.keys()}\n",
    "    new_ys = []\n",
    "    new_xs = []\n",
    "    for i, y in enumerate(ys):\n",
    "        if num_added[y] < max_allowable:\n",
    "            new_ys.append(y)\n",
    "            new_xs.append(xs[i])\n",
    "            num_added[y] += 1\n",
    "    return new_xs, new_ys"
   ]
  },
  {
   "cell_type": "code",
   "execution_count": 9,
   "metadata": {},
   "outputs": [
    {
     "name": "stdout",
     "output_type": "stream",
     "text": [
      "[17:28:52.376209] All Reviews\n",
      "[17:28:52.512527] Counter({5: 603049, 4: 469453, 3: 241338, 1: 195444, 2: 167430})\n",
      "[17:28:53.287151] Counter({3: 167430, 1: 167430, 2: 167430, 4: 167430, 5: 167430})\n",
      "\n",
      "[17:28:53.287443] United States Reviews\n",
      "[17:28:53.385059] Counter({5: 503328, 4: 353557, 3: 177083, 1: 159700, 2: 130004})\n",
      "[17:28:54.006007] Counter({1: 130004, 4: 130004, 2: 130004, 3: 130004, 5: 130004})\n",
      "\n",
      "[17:28:54.006300] Canada Reviews\n",
      "[17:28:54.031086] Counter({4: 107626, 5: 91133, 3: 60086, 2: 35184, 1: 33927})\n",
      "[17:28:54.192971] Counter({3: 33927, 1: 33927, 2: 33927, 4: 33927, 5: 33927})\n",
      "\n",
      "[17:28:54.193317] Germany Reviews\n",
      "[17:28:54.194313] Counter({5: 4499, 4: 4061, 3: 2138, 2: 1409, 1: 1154})\n",
      "[17:28:54.199817] Counter({5: 1154, 4: 1154, 2: 1154, 3: 1154, 1: 1154})\n",
      "\n",
      "[17:28:54.200093] United Kingdom Reviews\n",
      "[17:28:54.201069] Counter({4: 4209, 5: 4089, 3: 2031, 2: 833, 1: 663})\n",
      "[17:28:54.204840] Counter({4: 663, 5: 663, 1: 663, 2: 663, 3: 663})\n"
     ]
    }
   ],
   "source": [
    "time_marker('All Reviews')\n",
    "time_marker(Counter(stars_all))\n",
    "bal_texts_all, bal_stars_all = balance_classes(texts_all, stars_all)\n",
    "time_marker(Counter(bal_stars_all))\n",
    "\n",
    "print('')\n",
    "time_marker('United States Reviews')\n",
    "time_marker(Counter(stars_us))\n",
    "bal_texts_us, bal_stars_us = balance_classes(texts_us, stars_us)\n",
    "time_marker(Counter(bal_stars_us))\n",
    "\n",
    "print('')\n",
    "time_marker('Canada Reviews')\n",
    "time_marker(Counter(stars_can))\n",
    "bal_texts_can, bal_stars_can = balance_classes(texts_can, stars_can)\n",
    "time_marker(Counter(bal_stars_can))\n",
    "\n",
    "print('')\n",
    "time_marker('Germany Reviews')\n",
    "time_marker(Counter(stars_ger))\n",
    "bal_texts_ger, bal_stars_ger = balance_classes(texts_ger, stars_ger)\n",
    "time_marker(Counter(bal_stars_ger))\n",
    "\n",
    "print('')\n",
    "time_marker('United Kingdom Reviews')\n",
    "time_marker(Counter(stars_uk))\n",
    "bal_texts_uk, bal_stars_uk = balance_classes(texts_uk, stars_uk)\n",
    "time_marker(Counter(bal_stars_uk))"
   ]
  },
  {
   "cell_type": "markdown",
   "metadata": {},
   "source": [
    "# Vectorize Text"
   ]
  },
  {
   "cell_type": "code",
   "execution_count": 10,
   "metadata": {},
   "outputs": [],
   "source": [
    "from sklearn.feature_extraction.text import TfidfVectorizer"
   ]
  },
  {
   "cell_type": "code",
   "execution_count": 11,
   "metadata": {},
   "outputs": [],
   "source": [
    "# instantiate vectorizer, single words and bi-grams\n",
    "vectorizer = TfidfVectorizer(ngram_range=(1,2))"
   ]
  },
  {
   "cell_type": "code",
   "execution_count": 12,
   "metadata": {},
   "outputs": [
    {
     "name": "stdout",
     "output_type": "stream",
     "text": [
      "[17:28:54.488505] vectorizing 837150 review texts...\n",
      "[17:37:18.148617] done\n"
     ]
    }
   ],
   "source": [
    "time_marker('vectorizing {:d} review texts...'.format(len(bal_texts_all)))\n",
    "vectors_all = vectorizer.fit_transform(bal_texts_all)\n",
    "time_marker('done')"
   ]
  },
  {
   "cell_type": "code",
   "execution_count": 13,
   "metadata": {},
   "outputs": [
    {
     "name": "stdout",
     "output_type": "stream",
     "text": [
      "[17:37:18.288498] vectorizing 650020 united states review texts...\n",
      "[17:43:51.024587] done\n"
     ]
    }
   ],
   "source": [
    "time_marker('vectorizing {:d} united states review texts...'.format(len(bal_texts_us)))\n",
    "vectors_us = vectorizer.fit_transform(bal_texts_us)\n",
    "time_marker('done')"
   ]
  },
  {
   "cell_type": "code",
   "execution_count": 14,
   "metadata": {},
   "outputs": [
    {
     "name": "stdout",
     "output_type": "stream",
     "text": [
      "[17:43:51.088224] vectorizing 169635 canada review texts...\n",
      "[17:45:39.199268] done\n"
     ]
    }
   ],
   "source": [
    "time_marker('vectorizing {:d} canada review texts...'.format(len(bal_texts_can)))\n",
    "vectors_can = vectorizer.fit_transform(bal_texts_can)\n",
    "time_marker('done')"
   ]
  },
  {
   "cell_type": "code",
   "execution_count": 15,
   "metadata": {},
   "outputs": [
    {
     "name": "stdout",
     "output_type": "stream",
     "text": [
      "[17:45:39.225239] vectorizing 5770 germany review texts...\n",
      "[17:45:43.444540] done\n"
     ]
    }
   ],
   "source": [
    "time_marker('vectorizing {:d} germany review texts...'.format(len(bal_texts_ger)))\n",
    "vectors_ger = vectorizer.fit_transform(bal_texts_ger)\n",
    "time_marker('done')"
   ]
  },
  {
   "cell_type": "code",
   "execution_count": 16,
   "metadata": {},
   "outputs": [
    {
     "name": "stdout",
     "output_type": "stream",
     "text": [
      "[17:45:43.469205] vectorizing 3315 united kingdom review texts...\n",
      "[17:45:45.548397] done\n"
     ]
    }
   ],
   "source": [
    "time_marker('vectorizing {:d} united kingdom review texts...'.format(len(bal_texts_uk)))\n",
    "vectors_uk = vectorizer.fit_transform(bal_texts_uk)\n",
    "time_marker('done')"
   ]
  },
  {
   "cell_type": "markdown",
   "metadata": {},
   "source": [
    "# Train and Test Splits"
   ]
  },
  {
   "cell_type": "code",
   "execution_count": 17,
   "metadata": {},
   "outputs": [],
   "source": [
    "from sklearn.model_selection import train_test_split"
   ]
  },
  {
   "cell_type": "code",
   "execution_count": 18,
   "metadata": {},
   "outputs": [
    {
     "name": "stdout",
     "output_type": "stream",
     "text": [
      "[17:45:45.754249] splitting all reviews into train and test sets...\n",
      "[17:46:19.384215] done!\n"
     ]
    }
   ],
   "source": [
    "time_marker('splitting all reviews into train and test sets...')\n",
    "balanced_X_train_all, balanced_X_test_all, balanced_y_train_all, balanced_y_test_all = train_test_split(vectors_all, bal_stars_all, \n",
    "                                                                                        test_size=0.3, random_state=42)\n",
    "time_marker('done!')"
   ]
  },
  {
   "cell_type": "code",
   "execution_count": 19,
   "metadata": {},
   "outputs": [
    {
     "name": "stdout",
     "output_type": "stream",
     "text": [
      "[17:46:19.425526] splitting united states reviews into train and test sets...\n",
      "[17:46:45.491609] done!\n"
     ]
    }
   ],
   "source": [
    "time_marker('splitting united states reviews into train and test sets...')\n",
    "balanced_X_train_us, balanced_X_test_us, balanced_y_train_us, balanced_y_test_us = train_test_split(vectors_us, bal_stars_us, \n",
    "                                                                                        test_size=0.3, random_state=42)\n",
    "time_marker('done!')"
   ]
  },
  {
   "cell_type": "code",
   "execution_count": 20,
   "metadata": {},
   "outputs": [
    {
     "name": "stdout",
     "output_type": "stream",
     "text": [
      "[17:46:45.537308] splitting canada reviews into train and test sets...\n",
      "[17:46:51.526957] done!\n"
     ]
    }
   ],
   "source": [
    "time_marker('splitting canada reviews into train and test sets...')\n",
    "balanced_X_train_can, balanced_X_test_can, balanced_y_train_can, balanced_y_test_can = train_test_split(vectors_can, bal_stars_can, \n",
    "                                                                                        test_size=0.3, random_state=42)\n",
    "time_marker('done!')"
   ]
  },
  {
   "cell_type": "code",
   "execution_count": 21,
   "metadata": {},
   "outputs": [
    {
     "name": "stdout",
     "output_type": "stream",
     "text": [
      "[17:46:51.547341] splitting germany reviews into train and test sets...\n",
      "[17:46:51.714236] done!\n"
     ]
    }
   ],
   "source": [
    "time_marker('splitting germany reviews into train and test sets...')\n",
    "balanced_X_train_ger, balanced_X_test_ger, balanced_y_train_ger, balanced_y_test_ger = train_test_split(vectors_ger, bal_stars_ger, \n",
    "                                                                                        test_size=0.3, random_state=42)\n",
    "time_marker('done!')"
   ]
  },
  {
   "cell_type": "code",
   "execution_count": 22,
   "metadata": {},
   "outputs": [
    {
     "name": "stdout",
     "output_type": "stream",
     "text": [
      "[17:46:51.735937] splitting united kingdom reviews into train and test sets...\n",
      "[17:46:51.839769] done!\n"
     ]
    }
   ],
   "source": [
    "time_marker('splitting united kingdom reviews into train and test sets...')\n",
    "balanced_X_train_uk, balanced_X_test_uk, balanced_y_train_uk, balanced_y_test_uk = train_test_split(vectors_uk, bal_stars_uk, \n",
    "                                                                                        test_size=0.3, random_state=42)\n",
    "time_marker('done!')"
   ]
  },
  {
   "cell_type": "markdown",
   "metadata": {},
   "source": [
    "# SVM Classifier"
   ]
  },
  {
   "cell_type": "code",
   "execution_count": 23,
   "metadata": {},
   "outputs": [],
   "source": [
    "from sklearn.svm import LinearSVC"
   ]
  },
  {
   "cell_type": "code",
   "execution_count": 24,
   "metadata": {},
   "outputs": [
    {
     "name": "stdout",
     "output_type": "stream",
     "text": [
      "[17:46:52.360639] training all reviews classifier...\n",
      "[17:51:33.768474] done!\n"
     ]
    }
   ],
   "source": [
    "# train classifier\n",
    "clf_all = LinearSVC()\n",
    "time_marker('training all reviews classifier...')\n",
    "clf_all.fit(balanced_X_train_all, balanced_y_train_all)\n",
    "time_marker('done!')"
   ]
  },
  {
   "cell_type": "code",
   "execution_count": 25,
   "metadata": {},
   "outputs": [
    {
     "name": "stdout",
     "output_type": "stream",
     "text": [
      "[17:51:33.821869] training united states reviews classifier...\n",
      "[17:54:44.629736] done!\n"
     ]
    }
   ],
   "source": [
    "clf_us  = LinearSVC()\n",
    "time_marker('training united states reviews classifier...')\n",
    "clf_us.fit(balanced_X_train_us, balanced_y_train_us)\n",
    "time_marker('done!')"
   ]
  },
  {
   "cell_type": "code",
   "execution_count": 26,
   "metadata": {},
   "outputs": [
    {
     "name": "stdout",
     "output_type": "stream",
     "text": [
      "[17:54:44.647175] training canada reviews classifier...\n",
      "[17:55:28.239121] done!\n"
     ]
    }
   ],
   "source": [
    "clf_can = LinearSVC()\n",
    "time_marker('training canada reviews classifier...')\n",
    "clf_can.fit(balanced_X_train_can, balanced_y_train_can)\n",
    "time_marker('done!')"
   ]
  },
  {
   "cell_type": "code",
   "execution_count": 27,
   "metadata": {},
   "outputs": [
    {
     "name": "stdout",
     "output_type": "stream",
     "text": [
      "[17:55:28.252262] training germany reviews classifier...\n",
      "[17:55:29.235877] done!\n"
     ]
    }
   ],
   "source": [
    "clf_ger = LinearSVC()\n",
    "time_marker('training germany reviews classifier...')\n",
    "clf_ger.fit(balanced_X_train_ger, balanced_y_train_ger)\n",
    "time_marker('done!')"
   ]
  },
  {
   "cell_type": "code",
   "execution_count": 28,
   "metadata": {},
   "outputs": [
    {
     "name": "stdout",
     "output_type": "stream",
     "text": [
      "[17:55:29.249164] training united kingdom reviews classifier...\n",
      "[17:55:29.749845] done!\n"
     ]
    }
   ],
   "source": [
    "clf_uk  = LinearSVC()\n",
    "time_marker('training united kingdom reviews classifier...')\n",
    "clf_uk.fit(balanced_X_train_uk, balanced_y_train_uk)\n",
    "time_marker('done!')"
   ]
  },
  {
   "cell_type": "markdown",
   "metadata": {},
   "source": [
    "# Make Predictions"
   ]
  },
  {
   "cell_type": "code",
   "execution_count": 29,
   "metadata": {},
   "outputs": [
    {
     "name": "stdout",
     "output_type": "stream",
     "text": [
      "predictions [4, 1, 5, 5, 1, 2, 2, 4, 1, 3]\n",
      "actual      [4, 1, 5, 5, 1, 2, 2, 4, 1, 3]\n"
     ]
    }
   ],
   "source": [
    "# make predictions\n",
    "balanced_pred_y_all = clf_all.predict(balanced_X_test_all)\n",
    "print('predictions {}'.format(list(balanced_pred_y_all)[:10]))\n",
    "print('actual      {}'.format(balanced_y_test_all[:10]))"
   ]
  },
  {
   "cell_type": "code",
   "execution_count": 30,
   "metadata": {},
   "outputs": [
    {
     "name": "stdout",
     "output_type": "stream",
     "text": [
      "predictions [3, 1, 1, 1, 5, 3, 5, 5, 5, 1]\n",
      "actual      [3, 1, 1, 1, 5, 3, 5, 5, 5, 1]\n"
     ]
    }
   ],
   "source": [
    "balanced_pred_y_us = clf_us.predict(balanced_X_test_us)\n",
    "print('predictions {}'.format(list(balanced_pred_y_us)[:10]))\n",
    "print('actual      {}'.format(balanced_y_test_us[:10]))"
   ]
  },
  {
   "cell_type": "code",
   "execution_count": 31,
   "metadata": {},
   "outputs": [
    {
     "name": "stdout",
     "output_type": "stream",
     "text": [
      "predictions [1, 4, 4, 2, 5, 1, 1, 5, 1, 4]\n",
      "actual      [2, 4, 5, 2, 4, 1, 3, 5, 1, 4]\n"
     ]
    }
   ],
   "source": [
    "balanced_pred_y_can = clf_can.predict(balanced_X_test_can)\n",
    "print('predictions {}'.format(list(balanced_pred_y_can)[:10]))\n",
    "print('actual      {}'.format(balanced_y_test_can[:10]))"
   ]
  },
  {
   "cell_type": "code",
   "execution_count": 32,
   "metadata": {},
   "outputs": [
    {
     "name": "stdout",
     "output_type": "stream",
     "text": [
      "predictions [3, 2, 2, 2, 5, 2, 1, 1, 3, 5]\n",
      "actual      [4, 2, 3, 3, 3, 3, 4, 1, 3, 4]\n"
     ]
    }
   ],
   "source": [
    "balanced_pred_y_ger = clf_ger.predict(balanced_X_test_ger)\n",
    "print('predictions {}'.format(list(balanced_pred_y_ger)[:10]))\n",
    "print('actual      {}'.format(balanced_y_test_ger[:10]))"
   ]
  },
  {
   "cell_type": "code",
   "execution_count": 33,
   "metadata": {},
   "outputs": [
    {
     "name": "stdout",
     "output_type": "stream",
     "text": [
      "predictions [3, 5, 4, 2, 4, 5, 1, 3, 1, 1]\n",
      "actual      [3, 5, 5, 2, 5, 3, 1, 4, 1, 1]\n"
     ]
    }
   ],
   "source": [
    "balanced_pred_y_uk = clf_uk.predict(balanced_X_test_uk)\n",
    "print('predictions {}'.format(list(balanced_pred_y_uk)[:10]))\n",
    "print('actual      {}'.format(balanced_y_test_uk[:10]))"
   ]
  },
  {
   "cell_type": "markdown",
   "metadata": {},
   "source": [
    "# Evaluation of the Model"
   ]
  },
  {
   "cell_type": "code",
   "execution_count": 34,
   "metadata": {},
   "outputs": [],
   "source": [
    "from sklearn.metrics import accuracy_score"
   ]
  },
  {
   "cell_type": "code",
   "execution_count": 35,
   "metadata": {},
   "outputs": [
    {
     "name": "stdout",
     "output_type": "stream",
     "text": [
      "All Reviews Accuracy Score:    0.6193\n",
      "United States Accuracy Score:  0.6245\n",
      "Canada Accuracy Score:         0.6000\n",
      "Germany Accuracy Score:        0.4864\n",
      "United Kingdom Accuracy Score: 0.5387\n"
     ]
    }
   ],
   "source": [
    "print('All Reviews Accuracy Score:    {:2.4f}'.format(accuracy_score(balanced_y_test_all, balanced_pred_y_all)))\n",
    "print('United States Accuracy Score:  {:2.4f}'.format(accuracy_score(balanced_y_test_us, balanced_pred_y_us)))\n",
    "print('Canada Accuracy Score:         {:2.4f}'.format(accuracy_score(balanced_y_test_can, balanced_pred_y_can)))\n",
    "print('Germany Accuracy Score:        {:2.4f}'.format(accuracy_score(balanced_y_test_ger, balanced_pred_y_ger)))\n",
    "print('United Kingdom Accuracy Score: {:2.4f}'.format(accuracy_score(balanced_y_test_uk, balanced_pred_y_uk)))"
   ]
  },
  {
   "cell_type": "markdown",
   "metadata": {},
   "source": [
    "# Evaluation Report"
   ]
  },
  {
   "cell_type": "code",
   "execution_count": 36,
   "metadata": {},
   "outputs": [],
   "source": [
    "from sklearn.metrics import classification_report"
   ]
  },
  {
   "cell_type": "code",
   "execution_count": 37,
   "metadata": {},
   "outputs": [
    {
     "name": "stdout",
     "output_type": "stream",
     "text": [
      "             precision    recall  f1-score   support\n",
      "\n",
      "          1       0.71      0.77      0.74     50066\n",
      "          2       0.57      0.52      0.54     50489\n",
      "          3       0.57      0.54      0.56     50450\n",
      "          4       0.54      0.52      0.53     49862\n",
      "          5       0.68      0.74      0.71     50278\n",
      "\n",
      "avg / total       0.61      0.62      0.62    251145\n",
      "\n"
     ]
    }
   ],
   "source": [
    "print(classification_report(balanced_y_test_all, balanced_pred_y_all))"
   ]
  },
  {
   "cell_type": "code",
   "execution_count": 38,
   "metadata": {},
   "outputs": [
    {
     "name": "stdout",
     "output_type": "stream",
     "text": [
      "             precision    recall  f1-score   support\n",
      "\n",
      "          1       0.70      0.77      0.74     39001\n",
      "          2       0.56      0.51      0.53     39212\n",
      "          3       0.57      0.55      0.56     38727\n",
      "          4       0.57      0.54      0.55     39194\n",
      "          5       0.70      0.75      0.72     38872\n",
      "\n",
      "avg / total       0.62      0.62      0.62    195006\n",
      "\n"
     ]
    }
   ],
   "source": [
    "print(classification_report(balanced_y_test_us, balanced_pred_y_us))"
   ]
  },
  {
   "cell_type": "code",
   "execution_count": 39,
   "metadata": {},
   "outputs": [
    {
     "name": "stdout",
     "output_type": "stream",
     "text": [
      "             precision    recall  f1-score   support\n",
      "\n",
      "          1       0.71      0.78      0.75     10348\n",
      "          2       0.55      0.52      0.54     10258\n",
      "          3       0.54      0.51      0.53     10188\n",
      "          4       0.51      0.47      0.49     10142\n",
      "          5       0.65      0.72      0.68      9955\n",
      "\n",
      "avg / total       0.59      0.60      0.60     50891\n",
      "\n"
     ]
    }
   ],
   "source": [
    "print(classification_report(balanced_y_test_can, balanced_pred_y_can))"
   ]
  },
  {
   "cell_type": "code",
   "execution_count": 40,
   "metadata": {},
   "outputs": [
    {
     "name": "stdout",
     "output_type": "stream",
     "text": [
      "             precision    recall  f1-score   support\n",
      "\n",
      "          1       0.50      0.69      0.58       318\n",
      "          2       0.42      0.35      0.38       360\n",
      "          3       0.46      0.37      0.41       356\n",
      "          4       0.46      0.37      0.41       359\n",
      "          5       0.55      0.68      0.61       338\n",
      "\n",
      "avg / total       0.48      0.49      0.48      1731\n",
      "\n"
     ]
    }
   ],
   "source": [
    "print(classification_report(balanced_y_test_ger, balanced_pred_y_ger))"
   ]
  },
  {
   "cell_type": "code",
   "execution_count": 41,
   "metadata": {},
   "outputs": [
    {
     "name": "stdout",
     "output_type": "stream",
     "text": [
      "             precision    recall  f1-score   support\n",
      "\n",
      "          1       0.60      0.80      0.69       193\n",
      "          2       0.45      0.39      0.42       194\n",
      "          3       0.51      0.40      0.44       202\n",
      "          4       0.46      0.45      0.46       207\n",
      "          5       0.63      0.66      0.64       199\n",
      "\n",
      "avg / total       0.53      0.54      0.53       995\n",
      "\n"
     ]
    }
   ],
   "source": [
    "print(classification_report(balanced_y_test_uk, balanced_pred_y_uk))"
   ]
  },
  {
   "cell_type": "code",
   "execution_count": null,
   "metadata": {},
   "outputs": [],
   "source": []
  }
 ],
 "metadata": {
  "kernelspec": {
   "display_name": "Python 3",
   "language": "python",
   "name": "python3"
  },
  "language_info": {
   "codemirror_mode": {
    "name": "ipython",
    "version": 3
   },
   "file_extension": ".py",
   "mimetype": "text/x-python",
   "name": "python",
   "nbconvert_exporter": "python",
   "pygments_lexer": "ipython3",
   "version": "3.6.3"
  }
 },
 "nbformat": 4,
 "nbformat_minor": 2
}
