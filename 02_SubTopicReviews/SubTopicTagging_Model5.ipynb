{
 "cells": [
  {
   "cell_type": "markdown",
   "metadata": {},
   "source": [
    "# LDA Model Results\n",
    "<p>Here we will review teh results of the various ldam models that were generated. The goal is to idenity a model that has enough topics of interest while still providing significant deliniation between the topics.  Models are numbered Model 1 through Model 5, and descriptionsof each are included below.</p>\n",
    "\n",
    "# Results\n",
    "<p><b>Model 5</b> provides the best results and includes all reviews and will thus be used to identify subtopics in review texts.</p>"
   ]
  },
  {
   "cell_type": "markdown",
   "metadata": {},
   "source": [
    "## Step 0: Import packages"
   ]
  },
  {
   "cell_type": "code",
   "execution_count": 1,
   "metadata": {},
   "outputs": [
    {
     "data": {
      "text/html": [
       "<style>.container { width:95% !important; }</style>"
      ],
      "text/plain": [
       "<IPython.core.display.HTML object>"
      ]
     },
     "metadata": {},
     "output_type": "display_data"
    }
   ],
   "source": [
    "from IPython.core.display import display, HTML\n",
    "display(HTML(\"<style>.container { width:95% !important; }</style>\"))"
   ]
  },
  {
   "cell_type": "code",
   "execution_count": 2,
   "metadata": {},
   "outputs": [],
   "source": [
    "from gensim.models.ldamulticore import LdaMulticore\n",
    "import itertools\n",
    "from collections import Counter\n",
    "\n",
    "import pandas as pd\n",
    "import numpy as np"
   ]
  },
  {
   "cell_type": "markdown",
   "metadata": {},
   "source": [
    "___"
   ]
  },
  {
   "cell_type": "markdown",
   "metadata": {},
   "source": [
    "### Pretty Printer Function"
   ]
  },
  {
   "cell_type": "code",
   "execution_count": 3,
   "metadata": {},
   "outputs": [],
   "source": [
    "def print_topic_terms(model, num_topics=-1, num_words=10, unique=False, topics_of_interest=[]):\n",
    "    results = model.print_topics(num_topics=num_topics, num_words=num_words)\n",
    "    if not unique:\n",
    "        print('=============================== Terms Per Topic ===============================')\n",
    "        for r in results:\n",
    "            topic = r[0]\n",
    "            term_list = r[1]\n",
    "\n",
    "            term_list = term_list.split('\"')[1::2]\n",
    "            topic_terms = [term for term in term_list]\n",
    "            \n",
    "            if len(topics_of_interest) > 0:\n",
    "                if topic in list(topics_of_interest.values()):\n",
    "                    \n",
    "                    print('{}\\t{}'.format(topic, topic_terms))\n",
    "            else:\n",
    "                print('{:>2}\\t{}'.format(topic, topic_terms))\n",
    "    else:\n",
    "        terms = [x[1] for x in results]\n",
    "        term_lists = [x.split('\"')[1::2] for x in terms]\n",
    "\n",
    "        flatList = itertools.chain.from_iterable(term_lists)\n",
    "        term_counts = Counter(flatList)\n",
    "\n",
    "        # non_unique_terms = term_counts\n",
    "        test = dict(term_counts)\n",
    "\n",
    "        # extract terms that appear more than once\n",
    "        non_unique_terms = [key for key, value in test.items() if value > 1]\n",
    "        \n",
    "        \n",
    "        print('============================ Unique Terms Per Topic ===========================')\n",
    "        for r in results:\n",
    "            topic = r[0]\n",
    "            term_list = r[1]\n",
    "\n",
    "            term_list = term_list.split('\"')[1::2]\n",
    "            topic_terms = [term for term in term_list if term not in non_unique_terms]\n",
    "            if len(topics_of_interest) > 0:\n",
    "                if topic in list(topics_of_interest.values()):\n",
    "                    \n",
    "                    print('{}\\t{}'.format(topic, topic_terms))\n",
    "            else:\n",
    "                print('{:>2}\\t{}'.format(topic, topic_terms))\n",
    "            "
   ]
  },
  {
   "cell_type": "markdown",
   "metadata": {},
   "source": [
    "___"
   ]
  },
  {
   "cell_type": "markdown",
   "metadata": {},
   "source": [
    "## Step 1: Review Model 5 - All Reviews, All Tokens\n",
    "<p>Looking at all Reviews, and limiting tokens to only nouns and verb tokens more common than the 10,000th most common noun or verb token.</p>\n",
    "\n",
    "<ul>\n",
    "    <li>Num Topics: 50</li>\n",
    "    <li>Num Terms: 10</li>\n",
    "    <li>Num Passes: 50</li>\n",
    "    <li>Key Topics Identified: 1:Loyalty, 7:Wait Time, 8:Atmosphere, 9:Ordering, 13:Cleanliness, 15:Food Quality, 17:Customer Service, 26:Lunch Parking, 35:Price Value</li>\n",
    "</ul>"
   ]
  },
  {
   "cell_type": "code",
   "execution_count": 4,
   "metadata": {
    "scrolled": false
   },
   "outputs": [],
   "source": [
    "model_05 = LdaMulticore.load('../models/ldam_all_restaurants_50_topics_10_terms_50_passes.model')"
   ]
  },
  {
   "cell_type": "code",
   "execution_count": 5,
   "metadata": {
    "scrolled": false
   },
   "outputs": [
    {
     "name": "stdout",
     "output_type": "stream",
     "text": [
      "=============================== Terms Per Topic ===============================\n",
      " 0\t['dessert', 'wine', 'ice', 'cream', 'cake', 'entree', 'meal', 'chocolate', 'course', 'appetizer']\n",
      " 1\t['time', 'back', 'first', 'try', 'place', 'went', 'definitely', 'go', 'next', 'great']\n",
      " 2\t['u', 'table', 'came', 'server', 'food', 'drink', 'waitress', 'asked', 'ordered', 'minute']\n",
      " 3\t['dish', 'flavor', 'sauce', 'like', 'taste', 'menu', 'one', 'would', 'bit', 'meat']\n",
      " 4\t['pizza', 'crust', 'slice', 'topping', 'cheese', 'pie', 'thin', 'good', 'sauce', 'pepperoni']\n",
      " 5\t['crab', 'leg', 'shell', 'pound', 'coworker', 'saving', 'panini', 'hub', 'e', 'angry']\n",
      " 6\t['chicken', 'rice', 'chinese', 'fried', 'food', 'beef', 'soup', 'egg', 'orange', 'sour']\n",
      " 7\t['wait', 'minute', 'time', 'food', 'get', 'order', 'long', 'line', 'hour', 'waiting']\n",
      " 8\t['great', 'nice', 'patio', 'atmosphere', 'outside', 'place', 'cool', 'fun', 'inside', 'food']\n",
      " 9\t['order', 'ordered', 'called', 'delivery', 'extra', 'got', 'time', 'get', 'card', 'call']\n",
      "10\t['tempe', 'school', 'opening', 'mill', 'w', 'college', 'b', 'asu', 'high', 'grand']\n",
      "11\t['fresh', 'ingredient', 'olive', 'tomato', 'salad', 'oil', 'made', 'bianco', 'mozzarella', 'basil']\n",
      "12\t['best', 'year', 'place', 'restaurant', 'phoenix', 'one', 'ever', 'food', 'valley', 'family']\n",
      "13\t['table', 'dirty', 'clean', 'bathroom', 'floor', 'plate', 'hand', 'cup', 'paper', 'chair']\n",
      "14\t['chicken', 'fried', 'waffle', 'deep', 'breast', 'piece', 'cajun', 'tender', 'catfish', 'crispy']\n",
      "15\t['mouth', 'smell', 'taste', 'word', 'world', 'heaven', 'bud', 'holy', 'win', 'watering']\n",
      "16\t['always', 'love', 'place', 'get', 'time', 'food', 'go', 'favorite', 'great', 'never']\n",
      "17\t['food', 'experience', 'service', 'great', 'server', 'u', 'staff', 'friendly', 'restaurant', 'made']\n",
      "18\t['sushi', 'roll', 'tuna', 'fresh', 'chef', 'salmon', 'japanese', 'spicy', 'tempura', 'fish']\n",
      "19\t['option', 'menu', 'free', 'gyro', 'meat', 'vegetarian', 'veggie', 'choose', 'vegan', 'choice']\n",
      "20\t['food', 'like', 'place', 'ordered', 'tasted', 'bad', 'even', 'back', 'cold', 'taste']\n",
      "21\t['good', 'food', 'place', 'price', 'pretty', 'service', 'better', 'like', 'would', 'really']\n",
      "22\t['burger', 'fry', 'onion', 'bun', 'shake', 'ring', 'cheese', 'french', 'bacon', 'patty']\n",
      "23\t['bowl', 'pho', 'soup', 'noodle', 'roll', 'spring', 'broth', 'vietnamese', 'beef', 'rice']\n",
      "24\t['star', 'review', 'give', 'yelp', 'five', 'reason', 'rating', 'giving', 'based', 'shot']\n",
      "25\t['location', 'drive', 'employee', 'thru', 'window', 'car', 'fast', 'chipotle', 'dont', 'im']\n",
      "26\t['restaurant', 'parking', 'menu', 'lunch', 'small', 'lot', 'area', 'find', 'little', 'place']\n",
      "27\t['great', 'food', 'service', 'place', 'friendly', 'good', 'recommend', 'staff', 'delicious', 'price']\n",
      "28\t['wing', 'pasta', 'sauce', 'italian', 'garlic', 'bread', 'meatball', 'spaghetti', 'dish', 'ranch']\n",
      "29\t['steak', 'cooked', 'potato', 'perfectly', 'well', 'medium', 'rare', 'filet', 'mashed', 'perfection']\n",
      "30\t['bar', 'room', 'dining', 'bartender', 'area', 'sit', 'drink', 'airport', 'sat', 'table']\n",
      "31\t['breakfast', 'egg', 'coffee', 'pancake', 'bacon', 'morning', 'toast', 'brunch', 'biscuit', 'gravy']\n",
      "32\t['fish', 'shrimp', 'ramen', 'chip', 'fried', 'sea', 'ceviche', 'ahi', 'sauce', 'mahi']\n",
      "33\t['hot', 'dog', 'chicago', 'beef', 'chili', 'piping', 'italian', 'slider', 'wendy', 'pepper']\n",
      "34\t['place', 'like', 'get', 'know', 'go', 'one', 'say', 'want', 'make', 'really']\n",
      "35\t['good', 'really', 'got', 'ordered', 'little', 'nice', 'pretty', 'came', 'portion', 'also']\n",
      "36\t['sandwich', 'bread', 'sub', 'cheese', 'turkey', 'meat', 'subway', 'shop', 'lunch', 'philly']\n",
      "37\t['seafood', 'lobster', 'shrimp', 'pot', 'calamari', 'chop', 'sum', 'duck', 'dim', 'clam']\n",
      "38\t['taco', 'mexican', 'salsa', 'burrito', 'chip', 'bean', 'tortilla', 'food', 'carne', 'asada']\n",
      "39\t['bbq', 'pork', 'rib', 'meat', 'brisket', 'sauce', 'pulled', 'side', 'good', 'corn']\n",
      "40\t['salad', 'chicken', 'pita', 'dressing', 'greek', 'hummus', 'lettuce', 'wrap', 'fresh', 'lunch']\n",
      "41\t['kid', 'music', 'loud', 'wall', 'game', 'child', 'hole', 'playing', 'play', 'family']\n",
      "42\t['cheese', 'sweet', 'delicious', 'sauce', 'perfect', 'mac', 'onion', 'green', 'potato', 'pepper']\n",
      "43\t['happy', 'hour', 'beer', 'drink', 'selection', 'great', 'menu', 'special', 'price', 'deal']\n",
      "44\t['customer', 'manager', 'service', 'back', 'food', 'said', 'time', 'asked', 'one', 'would']\n",
      "45\t['buffet', 'indian', 'food', 'lamb', 'chicken', 'dish', 'naan', 'rice', 'masala', 'restaurant']\n",
      "46\t['son', 'sister', 'mother', 'brother', 'http', 'father', 'c', 'buck', 'law', 'wallet']\n",
      "47\t['night', 'dinner', 'last', 'party', 'friday', 'went', 'reservation', 'birthday', 'group', 'saturday']\n",
      "48\t['thai', 'tea', 'spicy', 'curry', 'pad', 'tofu', 'iced', 'dish', 'spice', 'rice']\n",
      "49\t['grill', 'cookie', 'hawaiian', 'cooky', 'mini', 'macaroni', 'island', 'paradise', 'scoop', 'nugget']\n"
     ]
    }
   ],
   "source": [
    "print_topic_terms(model_05, num_topics=-1, num_words=10, unique=False)"
   ]
  },
  {
   "cell_type": "markdown",
   "metadata": {},
   "source": [
    "## Step 2: Assign labels to interesting topics\n",
    "<p>The goal here is to inspect qualities and attribures about the restaurant, not what is on the menu.  Many topics identified contain highly specific menu categories.  This information is useful to set asidde from other sub topics.</p>\n",
    "<p>In another pass, these topics could be used to double check the assigned cuisine categories to each restaurant.</p>"
   ]
  },
  {
   "cell_type": "code",
   "execution_count": 6,
   "metadata": {},
   "outputs": [],
   "source": [
    "topics_of_interest = {'retention_1': 1,\n",
    "                      'food_quality_3': 3,\n",
    "                      'wait_time_7': 7,\n",
    "                      'atmosphere_8': 8,\n",
    "                      'ordering_9': 9,\n",
    "                      'cleanliness_13' : 13,\n",
    "                      'menu_options_19' : 19,\n",
    "                      'food_quality_20': 20,\n",
    "                      'food_quality_21': 21,\n",
    "                      'customer_service_27' : 27,\n",
    "                      'customer_Service_44': 44,\n",
    "                      'value_35': 35}\n",
    "topic_ids = list(topics_of_interest.values())"
   ]
  },
  {
   "cell_type": "markdown",
   "metadata": {},
   "source": [
    "## Step 3: Inspect Topics of Interest"
   ]
  },
  {
   "cell_type": "code",
   "execution_count": 7,
   "metadata": {},
   "outputs": [
    {
     "name": "stdout",
     "output_type": "stream",
     "text": [
      "=============================== Terms Per Topic ===============================\n",
      "1\t['time', 'back', 'first', 'try', 'place', 'went', 'definitely', 'go', 'next', 'great']\n",
      "3\t['dish', 'flavor', 'sauce', 'like', 'taste', 'menu', 'one', 'would', 'bit', 'meat']\n",
      "7\t['wait', 'minute', 'time', 'food', 'get', 'order', 'long', 'line', 'hour', 'waiting']\n",
      "8\t['great', 'nice', 'patio', 'atmosphere', 'outside', 'place', 'cool', 'fun', 'inside', 'food']\n",
      "9\t['order', 'ordered', 'called', 'delivery', 'extra', 'got', 'time', 'get', 'card', 'call']\n",
      "13\t['table', 'dirty', 'clean', 'bathroom', 'floor', 'plate', 'hand', 'cup', 'paper', 'chair']\n",
      "19\t['option', 'menu', 'free', 'gyro', 'meat', 'vegetarian', 'veggie', 'choose', 'vegan', 'choice']\n",
      "20\t['food', 'like', 'place', 'ordered', 'tasted', 'bad', 'even', 'back', 'cold', 'taste']\n",
      "21\t['good', 'food', 'place', 'price', 'pretty', 'service', 'better', 'like', 'would', 'really']\n",
      "27\t['great', 'food', 'service', 'place', 'friendly', 'good', 'recommend', 'staff', 'delicious', 'price']\n",
      "35\t['good', 'really', 'got', 'ordered', 'little', 'nice', 'pretty', 'came', 'portion', 'also']\n",
      "44\t['customer', 'manager', 'service', 'back', 'food', 'said', 'time', 'asked', 'one', 'would']\n"
     ]
    }
   ],
   "source": [
    "print_topic_terms(model_05, num_topics=-1, num_words=10, unique=False, topics_of_interest=topics_of_interest)"
   ]
  },
  {
   "cell_type": "markdown",
   "metadata": {},
   "source": [
    "## Step 4: Assigning Topic to Reviews"
   ]
  },
  {
   "cell_type": "markdown",
   "metadata": {},
   "source": [
    "### Step 4a: Load Review Data and Restaurant Business Data"
   ]
  },
  {
   "cell_type": "code",
   "execution_count": 8,
   "metadata": {},
   "outputs": [
    {
     "name": "stderr",
     "output_type": "stream",
     "text": [
      "/Users/samgutentag/anaconda/envs/spring/lib/python3.6/site-packages/IPython/core/interactiveshell.py:2728: DtypeWarning: Columns (0,2) have mixed types. Specify dtype option on import or set low_memory=False.\n",
      "  interactivity=interactivity, compiler=compiler, result=result)\n"
     ]
    }
   ],
   "source": [
    "reviews = pd.read_csv('../clean_data/az_restaurant_reviews.csv', index_col=0, parse_dates=['date'])\n",
    "\n",
    "biz = pd.read_csv('../clean_data/az_restaurant_business_clean.csv', index_col=0)\n",
    "biz = biz.iloc[:,:9].copy()"
   ]
  },
  {
   "cell_type": "markdown",
   "metadata": {},
   "source": [
    "### Step 4b: Merge Restaurant Name to Reviews"
   ]
  },
  {
   "cell_type": "code",
   "execution_count": 9,
   "metadata": {},
   "outputs": [],
   "source": [
    "review_df = reviews.merge(biz[['name', 'business_id']], on='business_id', how='left')"
   ]
  },
  {
   "cell_type": "code",
   "execution_count": 10,
   "metadata": {},
   "outputs": [
    {
     "data": {
      "text/html": [
       "<div>\n",
       "<style scoped>\n",
       "    .dataframe tbody tr th:only-of-type {\n",
       "        vertical-align: middle;\n",
       "    }\n",
       "\n",
       "    .dataframe tbody tr th {\n",
       "        vertical-align: top;\n",
       "    }\n",
       "\n",
       "    .dataframe thead th {\n",
       "        text-align: right;\n",
       "    }\n",
       "</style>\n",
       "<table border=\"1\" class=\"dataframe\">\n",
       "  <thead>\n",
       "    <tr style=\"text-align: right;\">\n",
       "      <th></th>\n",
       "      <th>business_id</th>\n",
       "      <th>cool</th>\n",
       "      <th>date</th>\n",
       "      <th>funny</th>\n",
       "      <th>review_id</th>\n",
       "      <th>stars</th>\n",
       "      <th>text</th>\n",
       "      <th>useful</th>\n",
       "      <th>user_id</th>\n",
       "      <th>is_fast_food</th>\n",
       "      <th>review_len</th>\n",
       "      <th>name</th>\n",
       "    </tr>\n",
       "  </thead>\n",
       "  <tbody>\n",
       "    <tr>\n",
       "      <th>0</th>\n",
       "      <td>JlNeaOymdVbE6_bubqjohg</td>\n",
       "      <td>0</td>\n",
       "      <td>2014-08-09</td>\n",
       "      <td>0.0</td>\n",
       "      <td>BF0ANB54sc_f-3_howQBCg</td>\n",
       "      <td>1.0</td>\n",
       "      <td>we always go to the chevo's in chandler which ...</td>\n",
       "      <td>3.0</td>\n",
       "      <td>ssuXFjkH4neiBgwv-oN4IA</td>\n",
       "      <td>0.0</td>\n",
       "      <td>422.0</td>\n",
       "      <td>Papa Chevo's Taco Shop</td>\n",
       "    </tr>\n",
       "    <tr>\n",
       "      <th>1</th>\n",
       "      <td>0Rni7ocMC_Lg2UH0lDeKMQ</td>\n",
       "      <td>0</td>\n",
       "      <td>2014-08-09</td>\n",
       "      <td>0.0</td>\n",
       "      <td>DbLUpPT61ykLTakknCF9CQ</td>\n",
       "      <td>1.0</td>\n",
       "      <td>this place is always so dirty and grimy been t...</td>\n",
       "      <td>6.0</td>\n",
       "      <td>ssuXFjkH4neiBgwv-oN4IA</td>\n",
       "      <td>0.0</td>\n",
       "      <td>111.0</td>\n",
       "      <td>Barro's Pizza</td>\n",
       "    </tr>\n",
       "    <tr>\n",
       "      <th>2</th>\n",
       "      <td>S-oLPRdhlyL5HAknBKTUcQ</td>\n",
       "      <td>0</td>\n",
       "      <td>2017-11-30</td>\n",
       "      <td>0.0</td>\n",
       "      <td>z_mVLygzPn8uHp63SSCErw</td>\n",
       "      <td>4.0</td>\n",
       "      <td>holy portion sizes! you get a lot of bang for ...</td>\n",
       "      <td>0.0</td>\n",
       "      <td>MzEnYCyZlRYQRISNMXTWIg</td>\n",
       "      <td>0.0</td>\n",
       "      <td>130.0</td>\n",
       "      <td>Harumi Sushi</td>\n",
       "    </tr>\n",
       "  </tbody>\n",
       "</table>\n",
       "</div>"
      ],
      "text/plain": [
       "              business_id cool        date  funny               review_id  \\\n",
       "0  JlNeaOymdVbE6_bubqjohg    0  2014-08-09    0.0  BF0ANB54sc_f-3_howQBCg   \n",
       "1  0Rni7ocMC_Lg2UH0lDeKMQ    0  2014-08-09    0.0  DbLUpPT61ykLTakknCF9CQ   \n",
       "2  S-oLPRdhlyL5HAknBKTUcQ    0  2017-11-30    0.0  z_mVLygzPn8uHp63SSCErw   \n",
       "\n",
       "   stars                                               text  useful  \\\n",
       "0    1.0  we always go to the chevo's in chandler which ...     3.0   \n",
       "1    1.0  this place is always so dirty and grimy been t...     6.0   \n",
       "2    4.0  holy portion sizes! you get a lot of bang for ...     0.0   \n",
       "\n",
       "                  user_id  is_fast_food  review_len                    name  \n",
       "0  ssuXFjkH4neiBgwv-oN4IA           0.0       422.0  Papa Chevo's Taco Shop  \n",
       "1  ssuXFjkH4neiBgwv-oN4IA           0.0       111.0           Barro's Pizza  \n",
       "2  MzEnYCyZlRYQRISNMXTWIg           0.0       130.0            Harumi Sushi  "
      ]
     },
     "execution_count": 10,
     "metadata": {},
     "output_type": "execute_result"
    }
   ],
   "source": [
    "review_df.head(3)"
   ]
  },
  {
   "cell_type": "markdown",
   "metadata": {},
   "source": [
    "## Step 5: Examples - Extract Reviews From Most Reviewed Fast Food and Non Fast Food Rstaurants"
   ]
  },
  {
   "cell_type": "code",
   "execution_count": 11,
   "metadata": {},
   "outputs": [
    {
     "name": "stdout",
     "output_type": "stream",
     "text": [
      "[('Pita Jungle', 4266), (\"Oregano's Pizza Bistro\", 3926), (\"Lo-Lo's Chicken & Waffles\", 2730), ('Pizzeria Bianco', 2499), (\"Matt's Big Breakfast\", 2416)]\n"
     ]
    }
   ],
   "source": [
    "nff_review_counter = Counter(review_df[review_df.is_fast_food == 0].name.values).most_common(5)\n",
    "nff_most_reviewed = nff_review_counter[0][0]\n",
    "print(nff_review_counter)"
   ]
  },
  {
   "cell_type": "code",
   "execution_count": 12,
   "metadata": {},
   "outputs": [
    {
     "data": {
      "text/html": [
       "<div>\n",
       "<style scoped>\n",
       "    .dataframe tbody tr th:only-of-type {\n",
       "        vertical-align: middle;\n",
       "    }\n",
       "\n",
       "    .dataframe tbody tr th {\n",
       "        vertical-align: top;\n",
       "    }\n",
       "\n",
       "    .dataframe thead th {\n",
       "        text-align: right;\n",
       "    }\n",
       "</style>\n",
       "<table border=\"1\" class=\"dataframe\">\n",
       "  <thead>\n",
       "    <tr style=\"text-align: right;\">\n",
       "      <th></th>\n",
       "      <th>business_id</th>\n",
       "      <th>cool</th>\n",
       "      <th>date</th>\n",
       "      <th>funny</th>\n",
       "      <th>review_id</th>\n",
       "      <th>stars</th>\n",
       "      <th>text</th>\n",
       "      <th>useful</th>\n",
       "      <th>user_id</th>\n",
       "      <th>is_fast_food</th>\n",
       "      <th>review_len</th>\n",
       "      <th>name</th>\n",
       "    </tr>\n",
       "  </thead>\n",
       "  <tbody>\n",
       "    <tr>\n",
       "      <th>32</th>\n",
       "      <td>XvTBQotmJpVPjPNaMM7qLA</td>\n",
       "      <td>5</td>\n",
       "      <td>2007-09-26</td>\n",
       "      <td>6.0</td>\n",
       "      <td>P5T_vC327RVB3m8V405Oeg</td>\n",
       "      <td>3.0</td>\n",
       "      <td>i enjoy the juicy succulent taste of murder bu...</td>\n",
       "      <td>5.0</td>\n",
       "      <td>dyhTHLIf6eWBvU78Y3T06A</td>\n",
       "      <td>0.0</td>\n",
       "      <td>3788.0</td>\n",
       "      <td>Pita Jungle</td>\n",
       "    </tr>\n",
       "    <tr>\n",
       "      <th>72</th>\n",
       "      <td>ept9mIlqGIsemr6w0RczaA</td>\n",
       "      <td>1</td>\n",
       "      <td>2011-04-29</td>\n",
       "      <td>0.0</td>\n",
       "      <td>ojC-NdzaX_sOxn6znQIEAA</td>\n",
       "      <td>3.0</td>\n",
       "      <td>first rule of brunch club is that if you're go...</td>\n",
       "      <td>1.0</td>\n",
       "      <td>5V8eXkTJb6IejJkMDaj_Bw</td>\n",
       "      <td>0.0</td>\n",
       "      <td>722.0</td>\n",
       "      <td>Pita Jungle</td>\n",
       "    </tr>\n",
       "    <tr>\n",
       "      <th>182</th>\n",
       "      <td>XvTBQotmJpVPjPNaMM7qLA</td>\n",
       "      <td>1</td>\n",
       "      <td>2007-02-27</td>\n",
       "      <td>0.0</td>\n",
       "      <td>07z7AKpnIsjxquIcfmfRNA</td>\n",
       "      <td>3.0</td>\n",
       "      <td>i will only add to the many reviews saying tha...</td>\n",
       "      <td>1.0</td>\n",
       "      <td>qYxGJKlYrqNgodzMWHaaGw</td>\n",
       "      <td>0.0</td>\n",
       "      <td>466.0</td>\n",
       "      <td>Pita Jungle</td>\n",
       "    </tr>\n",
       "  </tbody>\n",
       "</table>\n",
       "</div>"
      ],
      "text/plain": [
       "                business_id cool        date  funny               review_id  \\\n",
       "32   XvTBQotmJpVPjPNaMM7qLA    5  2007-09-26    6.0  P5T_vC327RVB3m8V405Oeg   \n",
       "72   ept9mIlqGIsemr6w0RczaA    1  2011-04-29    0.0  ojC-NdzaX_sOxn6znQIEAA   \n",
       "182  XvTBQotmJpVPjPNaMM7qLA    1  2007-02-27    0.0  07z7AKpnIsjxquIcfmfRNA   \n",
       "\n",
       "     stars                                               text  useful  \\\n",
       "32     3.0  i enjoy the juicy succulent taste of murder bu...     5.0   \n",
       "72     3.0  first rule of brunch club is that if you're go...     1.0   \n",
       "182    3.0  i will only add to the many reviews saying tha...     1.0   \n",
       "\n",
       "                    user_id  is_fast_food  review_len         name  \n",
       "32   dyhTHLIf6eWBvU78Y3T06A           0.0      3788.0  Pita Jungle  \n",
       "72   5V8eXkTJb6IejJkMDaj_Bw           0.0       722.0  Pita Jungle  \n",
       "182  qYxGJKlYrqNgodzMWHaaGw           0.0       466.0  Pita Jungle  "
      ]
     },
     "execution_count": 12,
     "metadata": {},
     "output_type": "execute_result"
    }
   ],
   "source": [
    "pita_jungle_reviews = review_df[review_df.name == nff_most_reviewed].copy()\n",
    "pita_jungle_reviews.head(3)"
   ]
  },
  {
   "cell_type": "code",
   "execution_count": 13,
   "metadata": {
    "scrolled": true
   },
   "outputs": [
    {
     "name": "stdout",
     "output_type": "stream",
     "text": [
      "[('Chipotle Mexican Grill', 2920), (\"McDonald's\", 2833), ('In-N-Out Burger', 2151), ('Pei Wei', 1913), ('Subway', 1810)]\n"
     ]
    }
   ],
   "source": [
    "ff_review_counter = Counter(review_df[review_df.is_fast_food == 1].name.values).most_common(5)\n",
    "ff_most_reviewed = ff_review_counter[0][0]\n",
    "print(ff_review_counter)"
   ]
  },
  {
   "cell_type": "code",
   "execution_count": 14,
   "metadata": {},
   "outputs": [
    {
     "data": {
      "text/html": [
       "<div>\n",
       "<style scoped>\n",
       "    .dataframe tbody tr th:only-of-type {\n",
       "        vertical-align: middle;\n",
       "    }\n",
       "\n",
       "    .dataframe tbody tr th {\n",
       "        vertical-align: top;\n",
       "    }\n",
       "\n",
       "    .dataframe thead th {\n",
       "        text-align: right;\n",
       "    }\n",
       "</style>\n",
       "<table border=\"1\" class=\"dataframe\">\n",
       "  <thead>\n",
       "    <tr style=\"text-align: right;\">\n",
       "      <th></th>\n",
       "      <th>business_id</th>\n",
       "      <th>cool</th>\n",
       "      <th>date</th>\n",
       "      <th>funny</th>\n",
       "      <th>review_id</th>\n",
       "      <th>stars</th>\n",
       "      <th>text</th>\n",
       "      <th>useful</th>\n",
       "      <th>user_id</th>\n",
       "      <th>is_fast_food</th>\n",
       "      <th>review_len</th>\n",
       "      <th>name</th>\n",
       "    </tr>\n",
       "  </thead>\n",
       "  <tbody>\n",
       "    <tr>\n",
       "      <th>140</th>\n",
       "      <td>uovqgCcWIqTwUeH_A54t2A</td>\n",
       "      <td>0</td>\n",
       "      <td>2014-05-15</td>\n",
       "      <td>0.0</td>\n",
       "      <td>VSVXCLsGO_MduBX4nfE6dw</td>\n",
       "      <td>2.0</td>\n",
       "      <td>this location is not as stellar as others. the...</td>\n",
       "      <td>1.0</td>\n",
       "      <td>Jt4u7qnfrk35buainfOuGA</td>\n",
       "      <td>1.0</td>\n",
       "      <td>213.0</td>\n",
       "      <td>Chipotle Mexican Grill</td>\n",
       "    </tr>\n",
       "    <tr>\n",
       "      <th>177</th>\n",
       "      <td>uovqgCcWIqTwUeH_A54t2A</td>\n",
       "      <td>1</td>\n",
       "      <td>2008-05-10</td>\n",
       "      <td>1.0</td>\n",
       "      <td>-niC6oq1n697C-dIDWaOnA</td>\n",
       "      <td>4.0</td>\n",
       "      <td>i have always been a fan of chipotle's food bu...</td>\n",
       "      <td>2.0</td>\n",
       "      <td>qYxGJKlYrqNgodzMWHaaGw</td>\n",
       "      <td>1.0</td>\n",
       "      <td>1177.0</td>\n",
       "      <td>Chipotle Mexican Grill</td>\n",
       "    </tr>\n",
       "    <tr>\n",
       "      <th>213</th>\n",
       "      <td>wAXYLmHuysYTz8i4VPKmaQ</td>\n",
       "      <td>0</td>\n",
       "      <td>2011-02-02</td>\n",
       "      <td>0.0</td>\n",
       "      <td>5MAbf8n0niuIRU1P4rdhZw</td>\n",
       "      <td>4.0</td>\n",
       "      <td>everyone already knows how good chipotle is bu...</td>\n",
       "      <td>0.0</td>\n",
       "      <td>4I_woZLXCO9jaVZvDi18CA</td>\n",
       "      <td>1.0</td>\n",
       "      <td>266.0</td>\n",
       "      <td>Chipotle Mexican Grill</td>\n",
       "    </tr>\n",
       "  </tbody>\n",
       "</table>\n",
       "</div>"
      ],
      "text/plain": [
       "                business_id cool        date  funny               review_id  \\\n",
       "140  uovqgCcWIqTwUeH_A54t2A    0  2014-05-15    0.0  VSVXCLsGO_MduBX4nfE6dw   \n",
       "177  uovqgCcWIqTwUeH_A54t2A    1  2008-05-10    1.0  -niC6oq1n697C-dIDWaOnA   \n",
       "213  wAXYLmHuysYTz8i4VPKmaQ    0  2011-02-02    0.0  5MAbf8n0niuIRU1P4rdhZw   \n",
       "\n",
       "     stars                                               text  useful  \\\n",
       "140    2.0  this location is not as stellar as others. the...     1.0   \n",
       "177    4.0  i have always been a fan of chipotle's food bu...     2.0   \n",
       "213    4.0  everyone already knows how good chipotle is bu...     0.0   \n",
       "\n",
       "                    user_id  is_fast_food  review_len                    name  \n",
       "140  Jt4u7qnfrk35buainfOuGA           1.0       213.0  Chipotle Mexican Grill  \n",
       "177  qYxGJKlYrqNgodzMWHaaGw           1.0      1177.0  Chipotle Mexican Grill  \n",
       "213  4I_woZLXCO9jaVZvDi18CA           1.0       266.0  Chipotle Mexican Grill  "
      ]
     },
     "execution_count": 14,
     "metadata": {},
     "output_type": "execute_result"
    }
   ],
   "source": [
    "chipotle_reviews = review_df[review_df.name == ff_most_reviewed].copy()\n",
    "chipotle_reviews.head(3)"
   ]
  },
  {
   "cell_type": "markdown",
   "metadata": {},
   "source": [
    "## Step 6: Print Most Frequent Subtopics identified in Given Review"
   ]
  },
  {
   "cell_type": "code",
   "execution_count": 15,
   "metadata": {},
   "outputs": [],
   "source": [
    "def print_top_n_review_topics(model, review, n_topics=5, valid_topics = []):\n",
    "    review_topic_categories = []\n",
    "    for word in review.split(' '):\n",
    "        try:\n",
    "            r = model.get_term_topics(word_id = word)\n",
    "            [review_topic_categories.append(x[0]) for x in r]\n",
    "        except:\n",
    "            pass\n",
    "    \n",
    "    # count occurances of each identified topic\n",
    "    topic_counter = Counter(review_topic_categories) \n",
    "    top_n_topics = [x[0] for x in topic_counter.most_common(n_topics)]\n",
    "    \n",
    "    if len(valid_topics) > 0:\n",
    "        # prune to only topics we care about\n",
    "        topics = [topic for topic in top_n_topics if topic in valid_topics]\n",
    "    else:\n",
    "        topics = top_n_topics\n",
    "\n",
    "    print('Review Text:\\n\\t{}'.format(review.replace('\\n', ' ')))\n",
    "    print('Topics Identified:')\n",
    "\n",
    "    for n in topics:\n",
    "        topic_label = list(topics_of_interest.keys())[list(topics_of_interest.values()).index(n)]\n",
    "        print('\\t{}'.format(topic_label))"
   ]
  },
  {
   "cell_type": "markdown",
   "metadata": {},
   "source": [
    "### Step 6a: Non Fast Food Sample Bad Reviews"
   ]
  },
  {
   "cell_type": "code",
   "execution_count": 16,
   "metadata": {},
   "outputs": [],
   "source": [
    "nff_bad_reviews = pita_jungle_reviews[pita_jungle_reviews.stars < 3].iloc[1:5,6]\n",
    "nff_good_reviews = pita_jungle_reviews[pita_jungle_reviews.stars > 3].iloc[1:5,6]"
   ]
  },
  {
   "cell_type": "code",
   "execution_count": 17,
   "metadata": {},
   "outputs": [
    {
     "name": "stdout",
     "output_type": "stream",
     "text": [
      "Review Text:\n",
      "\tvery disappointed in the staff here due to the gossip aloud mocking others included  a manager with blonde hair arguing with a worker infront of customers. the hummus with chicken came over cooked with hard to chew pieces.  he had sharma sandwhich.  well to some it up we won't be coming back to this pita j. shea location blows this one away for food and service!.\n",
      "Topics Identified:\n",
      "\tcustomer_Service_44\n",
      "\tcustomer_service_27\n",
      "================================================================================\n",
      "Review Text:\n",
      "\ti am so disappointed. i never have any problems with this location as far as service and the quality of my food but today my experience was less than stellar. i usually order the lentil fatoosh salad but today i decided to order the wood fired salmon and boy was that a mistake. first of all my food took forever to come i waited 40 minutes. once my food arrived my salmon was not well done as requested and the portion size was super small considering the price of $15.99. it was literally maybe 2 big tablespoons of mashed potatoes and a sprinkle of spinach. the food was uber bland and it wasn't made with love. whoever is cooking in the kitchen must really hate their job because it shows in the food.  the server \"tried\" to fix the situation by bringing us a complementary desert and she brought us baklava after i cleared mentioned a gluten sensitivity at the beginning of our order. what in the world?!! she was kind enough to give us $10 off the next meal. i am so disappointed and i won't be back. ever.\n",
      "Topics Identified:\n",
      "\tfood_quality_21\n",
      "\twait_time_7\n",
      "================================================================================\n",
      "Review Text:\n",
      "\tworst service ever!!!! was seated for over 20 minutes before anyone came to our table. oh and we had to waive someone down and they proceeded to tell us they weren't our server. when we were finally waited on the server was just plain rude. i love pita jungles food but would not recommend going to sit down and eat at the pita jungle on southern and dobson!!\n",
      "Topics Identified:\n",
      "\tcustomer_service_27\n",
      "\tfood_quality_21\n",
      "================================================================================\n",
      "Review Text:\n",
      "\twent in for my regular order of a philly chicken pita and draft beer. not sure what has changed but for some reason placing my order and then getting my food took what seemed to be twice as long as usual. i know summer can be slow but for us regulars it's nice to know that when we stay loyal during tough times that our restaurants also stay loyal to us customers by having adequate staff.   my food was good as usual but being there almost an hour to place and eat a simple order was a little long.   i'll be back i promise and hopefully so will the service level.\n",
      "Topics Identified:\n",
      "\twait_time_7\n",
      "\tcustomer_service_27\n",
      "\tfood_quality_21\n",
      "================================================================================\n"
     ]
    }
   ],
   "source": [
    "for rev in nff_bad_reviews:\n",
    "    print_top_n_review_topics(model_05, rev, n_topics=5, valid_topics = topic_ids)\n",
    "    print('='*80)"
   ]
  },
  {
   "cell_type": "code",
   "execution_count": 18,
   "metadata": {},
   "outputs": [
    {
     "name": "stdout",
     "output_type": "stream",
     "text": [
      "Review Text:\n",
      "\tmmmmmm vegetarian heaven!  so many choices i never know what to do!  this visit i tried the cilantro & jalapeno hummus which was delicious and the greek salad.  always yummy!  service is always a little slow but i like to call it more laid back....just enjoy yourself!\n",
      "Topics Identified:\n",
      "\tretention_1\n",
      "\tmenu_options_19\n",
      "\tfood_quality_20\n",
      "================================================================================\n",
      "Review Text:\n",
      "\tlove it love it love it! i have been eating at various pita jungles around the valley since i moved to az over 6 years ago and i have yet to have anything that i didn't love. my favorites include the black bean burger lentil fetoosh salad all three hummus types dolmas and gazpacho but everything is delicious so you really can't go wrong! the tempe location also has breakfast which is amazing!   each location is fairly small so luch and dinner may require a short wait but its worth it. the prices are fair and the portions are huge! don't be afraid to split a dish with a loved one.\n",
      "Topics Identified:\n",
      "\tatmosphere_8\n",
      "\tretention_1\n",
      "\tvalue_35\n",
      "================================================================================\n",
      "Review Text:\n",
      "\tmy favorite thing to get here is the mediterranean chicken salad. it's huge btw. the hummus is the best i've ever had the small is a good size for 3-4 people as a starter cause the actual meals you order are huge. i usually order extra pita with it. they have a bar as well smaller than most but still nice to have a beer or glass of wine with dinner/lunch.\n",
      "Topics Identified:\n",
      "\tvalue_35\n",
      "\twait_time_7\n",
      "\tordering_9\n",
      "================================================================================\n",
      "Review Text:\n",
      "\tthanks to the impressive and professional people at pita jungle my husband and i were recently invited back to the tatum location to give it another try. our experience was excellent and i can't say enough about how the members of the pita jungle team treated us after our initial negative experience.  after my first review of this location i was immediately contacted by a member of the pita jungle team apologizing and asking for more detailed information. i was so impressed at this company's ability to appreciate my constructive criticism and take interest in remedying the problem. no defensive attitude or pushy behavior...just genuine interest in how to make their business better.   needless to say the tatum location proved my previous review completely wrong and showed me what they are truly capable of. our service was great the food delicious (as always!) and we were completely taken care of. the manager made sure to stop by several times and even thanked me for my feedback. kevin the man i emailed back and forth with several times was very helpful appreciative and always quick to respond. i can't say enough about our treatment both in and out of the restaurant.   we will continue to be huge fans of pita jungle for a long time to come. thanks everyone!\n",
      "Topics Identified:\n",
      "\tcustomer_service_27\n",
      "\tretention_1\n",
      "\tcustomer_Service_44\n",
      "================================================================================\n"
     ]
    }
   ],
   "source": [
    "for rev in nff_good_reviews:\n",
    "    print_top_n_review_topics(model_05, rev, n_topics=5, valid_topics = topic_ids)\n",
    "    print('='*80)"
   ]
  },
  {
   "cell_type": "markdown",
   "metadata": {},
   "source": [
    "### Step 6b: Fast Food Sample Reviews"
   ]
  },
  {
   "cell_type": "code",
   "execution_count": 19,
   "metadata": {},
   "outputs": [],
   "source": [
    "ff_bad_reviews = chipotle_reviews[chipotle_reviews.stars < 3].iloc[1:5,6]\n",
    "ff_good_reviews = chipotle_reviews[chipotle_reviews.stars > 3].iloc[1:5,6]"
   ]
  },
  {
   "cell_type": "code",
   "execution_count": 20,
   "metadata": {
    "scrolled": false
   },
   "outputs": [
    {
     "name": "stdout",
     "output_type": "stream",
     "text": [
      "Review Text:\n",
      "\ti'm not sure how a mexican'ish place runs out of white rice when it's a main staple but they did. this location is hit or miss. if i were you i'd miss it and head down the road.\n",
      "Topics Identified:\n",
      "\tretention_1\n",
      "\tatmosphere_8\n",
      "\tfood_quality_20\n",
      "================================================================================\n",
      "Review Text:\n",
      "\twhy wait 20 minutes to repeat your order 3 times and then eat a lukewarm bowl of cat food?  not a fan but one extra star for the hot sauce because it's actually hot.  skip the steak...\n",
      "Topics Identified:\n",
      "\twait_time_7\n",
      "\tordering_9\n",
      "\tfood_quality_3\n",
      "================================================================================\n",
      "Review Text:\n",
      "\t*sniff* i can't believe i was made to cry (on the inside) no less on new year's eve. my hubby and i came here thinking we would split a burrito since i know how big the burritos can be at chipotle.    we waited in line. i watched the two guys in front of me each get 2 tortillas each for their burrito and the girl behind the line really piled on the rice beans and their choice of meat. i was thinking wow these burritos are even bigger than what i remembered.   then when it came my turn for my burrito the girl behind the counter took one look at petite me and took out one tortilla and gave me a skimpy serving of rice beans and seriously like 5 pieces of meat. i felt so crest fallen.  i looked at the measly portion that was going to be my burrito i looked at the girl behind the counter and asked why the two guys in front of me got such massive burritos but not me. she just rolled her eyes at me and went on to the next costumer.   boy was i disappointed. and i checked too with those two young guys in case they paid extra for their mega massive burritos. nope same price as what i paid.   i seriously wanted to take a photo of my burrito next to theirs cause mine would look like the runt of the litter. it was so pathetically so much smaller in size.   i thought maybe it was an off night but from reading the other reviews many other customers have received the same uneven service.   chipotle corporate you should take note since as corporate you take such pride in providing a good product and service- that is the chipotle brand and signature.   well this particular location is not making the grade.   and *sniff* now i know what being an unwanted stepchild feels like. *sniff*.\n",
      "Topics Identified:\n",
      "\tvalue_35\n",
      "\tfood_quality_21\n",
      "================================================================================\n",
      "Review Text:\n",
      "\ti was coming here quite frequently but the service has gotten to a point that it's not worth it. the girl who was wrapping the burrito watched it split open and  continued wrapping it anyway without even asking if i wanted it rewrapped. i'll just go to the greek place next door since they have better service.\n",
      "Topics Identified:\n",
      "\tfood_quality_20\n",
      "\tfood_quality_21\n",
      "\tretention_1\n",
      "\tcustomer_service_27\n",
      "================================================================================\n"
     ]
    }
   ],
   "source": [
    "for rev in ff_bad_reviews:\n",
    "    print_top_n_review_topics(model_05, rev, n_topics=5, valid_topics = topic_ids)\n",
    "    print('='*80)"
   ]
  },
  {
   "cell_type": "code",
   "execution_count": 21,
   "metadata": {
    "scrolled": false
   },
   "outputs": [
    {
     "name": "stdout",
     "output_type": "stream",
     "text": [
      "Review Text:\n",
      "\teveryone already knows how good chipotle is but this location has always given us good service they are pretty speedy. they screwed up on on line order we placed once and they fixed it right away and gave a free drink and extra chips really cool we weren't even mad.\n",
      "Topics Identified:\n",
      "\tfood_quality_21\n",
      "\tvalue_35\n",
      "\tcustomer_service_27\n",
      "================================================================================\n",
      "Review Text:\n",
      "\tthis chipotle has the best customer service.  food is always super fresh and tastes delicious. best location!!\n",
      "Topics Identified:\n",
      "\tcustomer_service_27\n",
      "\tcustomer_Service_44\n",
      "================================================================================\n",
      "Review Text:\n",
      "\ti like everything about chipotle. i prefer a bowl with easy brown rice heavy fajita veggies strained brown beans chicken two scoops of strained pico de gallo and cheese. i can usually only eat half. i chill the rest and eat it later. i can't decide it i like it better hot or cold. i guess i'll have to come back and eat more to figure it out.\n",
      "Topics Identified:\n",
      "\tfood_quality_20\n",
      "\tfood_quality_21\n",
      "\tvalue_35\n",
      "\tmenu_options_19\n",
      "================================================================================\n",
      "Review Text:\n",
      "\tstopped by for some \"fast food\". i'm not a patient man so i held my breath for two minutes until the fajita veggies were done cooking.  after my face regained color i was thoroughly pleased to receive the steaming hot flavorful addition to my bowl. needless to say that my masterful picks contributed to a fantastic tasting meal. all kidding aside if i could bottle the smell of this resturaunt and place it in my kitchen i'd be the happiest man alive. keep up the good work chipotle i'll be back for sure.\n",
      "Topics Identified:\n",
      "\tretention_1\n",
      "\tcustomer_service_27\n",
      "\tvalue_35\n",
      "================================================================================\n"
     ]
    }
   ],
   "source": [
    "for rev in ff_good_reviews:\n",
    "    print_top_n_review_topics(model_05, rev, n_topics=5, valid_topics = topic_ids)\n",
    "    print('='*80)"
   ]
  },
  {
   "cell_type": "code",
   "execution_count": null,
   "metadata": {},
   "outputs": [],
   "source": []
  },
  {
   "cell_type": "code",
   "execution_count": null,
   "metadata": {},
   "outputs": [],
   "source": []
  }
 ],
 "metadata": {
  "kernelspec": {
   "display_name": "Python 3",
   "language": "python",
   "name": "python3"
  },
  "language_info": {
   "codemirror_mode": {
    "name": "ipython",
    "version": 3
   },
   "file_extension": ".py",
   "mimetype": "text/x-python",
   "name": "python",
   "nbconvert_exporter": "python",
   "pygments_lexer": "ipython3",
   "version": "3.6.3"
  }
 },
 "nbformat": 4,
 "nbformat_minor": 2
}
