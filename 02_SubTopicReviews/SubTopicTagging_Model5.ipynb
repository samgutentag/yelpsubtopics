{
 "cells": [
  {
   "cell_type": "markdown",
   "metadata": {},
   "source": [
    "# LDA Model Results\n",
    "<p>Here we will review teh results of the various ldam models that were generated. The goal is to idenity a model that has enough topics of interest while still providing significant deliniation between the topics.  Models are numbered Model 1 through Model 5, and descriptionsof each are included below.</p>\n",
    "\n",
    "# Results\n",
    "<p><b>Model 5</b> provides the best results and includes all reviews and will thus be used to identify subtopics in review texts.</p>"
   ]
  },
  {
   "cell_type": "markdown",
   "metadata": {},
   "source": [
    "## Step 0: Import packages"
   ]
  },
  {
   "cell_type": "code",
   "execution_count": 1,
   "metadata": {},
   "outputs": [
    {
     "data": {
      "text/html": [
       "<style>.container { width:95% !important; }</style>"
      ],
      "text/plain": [
       "<IPython.core.display.HTML object>"
      ]
     },
     "metadata": {},
     "output_type": "display_data"
    }
   ],
   "source": [
    "from IPython.core.display import display, HTML\n",
    "display(HTML(\"<style>.container { width:95% !important; }</style>\"))"
   ]
  },
  {
   "cell_type": "code",
   "execution_count": 2,
   "metadata": {},
   "outputs": [],
   "source": [
    "from gensim.models.ldamulticore import LdaMulticore\n",
    "import itertools\n",
    "from collections import Counter\n",
    "\n",
    "import pandas as pd\n",
    "import numpy as np"
   ]
  },
  {
   "cell_type": "markdown",
   "metadata": {},
   "source": [
    "___"
   ]
  },
  {
   "cell_type": "markdown",
   "metadata": {},
   "source": [
    "### Pretty Printer Function"
   ]
  },
  {
   "cell_type": "code",
   "execution_count": 3,
   "metadata": {},
   "outputs": [],
   "source": [
    "def print_topic_terms(model, num_topics=-1, num_words=10, unique=False, topics_of_interest=[]):\n",
    "    results = model.print_topics(num_topics=num_topics, num_words=num_words)\n",
    "    if not unique:\n",
    "        print('=============================== Terms Per Topic ===============================')\n",
    "        for r in results:\n",
    "            topic = r[0]\n",
    "            term_list = r[1]\n",
    "\n",
    "            term_list = term_list.split('\"')[1::2]\n",
    "            topic_terms = [term for term in term_list]\n",
    "            \n",
    "            if len(topics_of_interest) > 0:\n",
    "                if topic in list(topics_of_interest.values()):\n",
    "                    \n",
    "                    print('{}\\t{}'.format(topic, topic_terms))\n",
    "            else:\n",
    "                print('{:>2}\\t{}'.format(topic, topic_terms))\n",
    "    else:\n",
    "        terms = [x[1] for x in results]\n",
    "        term_lists = [x.split('\"')[1::2] for x in terms]\n",
    "\n",
    "        flatList = itertools.chain.from_iterable(term_lists)\n",
    "        term_counts = Counter(flatList)\n",
    "\n",
    "        # non_unique_terms = term_counts\n",
    "        test = dict(term_counts)\n",
    "\n",
    "        # extract terms that appear more than once\n",
    "        non_unique_terms = [key for key, value in test.items() if value > 1]\n",
    "        \n",
    "        \n",
    "        print('============================ Unique Terms Per Topic ===========================')\n",
    "        for r in results:\n",
    "            topic = r[0]\n",
    "            term_list = r[1]\n",
    "\n",
    "            term_list = term_list.split('\"')[1::2]\n",
    "            topic_terms = [term for term in term_list if term not in non_unique_terms]\n",
    "            if len(topics_of_interest) > 0:\n",
    "                if topic in list(topics_of_interest.values()):\n",
    "                    \n",
    "                    print('{}\\t{}'.format(topic, topic_terms))\n",
    "            else:\n",
    "                print('{:>2}\\t{}'.format(topic, topic_terms))\n",
    "            "
   ]
  },
  {
   "cell_type": "markdown",
   "metadata": {},
   "source": [
    "___"
   ]
  },
  {
   "cell_type": "markdown",
   "metadata": {},
   "source": [
    "## Step 1: Review Model 5 - All Reviews, All Tokens\n",
    "<p>Looking at all Reviews, and limiting tokens to only nouns and verb tokens more common than the 10,000th most common noun or verb token.</p>\n",
    "\n",
    "<ul>\n",
    "    <li>Num Topics: 50</li>\n",
    "    <li>Num Terms: 10</li>\n",
    "    <li>Num Passes: 50</li>\n",
    "    <li>Key Topics Identified: 1:Loyalty, 7:Wait Time, 8:Atmosphere, 9:Ordering, 13:Cleanliness, 15:Food Quality, 17:Customer Service, 26:Lunch Parking, 35:Price Value</li>\n",
    "</ul>"
   ]
  },
  {
   "cell_type": "code",
   "execution_count": 4,
   "metadata": {
    "scrolled": false
   },
   "outputs": [],
   "source": [
    "model_05 = LdaMulticore.load('../models/ldam_all_restaurants_50_topics_10_terms_50_passes.model')"
   ]
  },
  {
   "cell_type": "code",
   "execution_count": 5,
   "metadata": {
    "scrolled": false
   },
   "outputs": [
    {
     "name": "stdout",
     "output_type": "stream",
     "text": [
      "=============================== Terms Per Topic ===============================\n",
      " 0\t['dessert', 'wine', 'ice', 'cream', 'cake', 'entree', 'meal', 'chocolate', 'course', 'appetizer']\n",
      " 1\t['time', 'back', 'first', 'try', 'place', 'went', 'definitely', 'go', 'next', 'great']\n",
      " 2\t['u', 'table', 'came', 'server', 'food', 'drink', 'waitress', 'asked', 'ordered', 'minute']\n",
      " 3\t['dish', 'flavor', 'sauce', 'like', 'taste', 'menu', 'one', 'would', 'bit', 'meat']\n",
      " 4\t['pizza', 'crust', 'slice', 'topping', 'cheese', 'pie', 'thin', 'good', 'sauce', 'pepperoni']\n",
      " 5\t['crab', 'leg', 'shell', 'pound', 'coworker', 'saving', 'panini', 'hub', 'e', 'angry']\n",
      " 6\t['chicken', 'rice', 'chinese', 'fried', 'food', 'beef', 'soup', 'egg', 'orange', 'sour']\n",
      " 7\t['wait', 'minute', 'time', 'food', 'get', 'order', 'long', 'line', 'hour', 'waiting']\n",
      " 8\t['great', 'nice', 'patio', 'atmosphere', 'outside', 'place', 'cool', 'fun', 'inside', 'food']\n",
      " 9\t['order', 'ordered', 'called', 'delivery', 'extra', 'got', 'time', 'get', 'card', 'call']\n",
      "10\t['tempe', 'school', 'opening', 'mill', 'w', 'college', 'b', 'asu', 'high', 'grand']\n",
      "11\t['fresh', 'ingredient', 'olive', 'tomato', 'salad', 'oil', 'made', 'bianco', 'mozzarella', 'basil']\n",
      "12\t['best', 'year', 'place', 'restaurant', 'phoenix', 'one', 'ever', 'food', 'valley', 'family']\n",
      "13\t['table', 'dirty', 'clean', 'bathroom', 'floor', 'plate', 'hand', 'cup', 'paper', 'chair']\n",
      "14\t['chicken', 'fried', 'waffle', 'deep', 'breast', 'piece', 'cajun', 'tender', 'catfish', 'crispy']\n",
      "15\t['mouth', 'smell', 'taste', 'word', 'world', 'heaven', 'bud', 'holy', 'win', 'watering']\n",
      "16\t['always', 'love', 'place', 'get', 'time', 'food', 'go', 'favorite', 'great', 'never']\n",
      "17\t['food', 'experience', 'service', 'great', 'server', 'u', 'staff', 'friendly', 'restaurant', 'made']\n",
      "18\t['sushi', 'roll', 'tuna', 'fresh', 'chef', 'salmon', 'japanese', 'spicy', 'tempura', 'fish']\n",
      "19\t['option', 'menu', 'free', 'gyro', 'meat', 'vegetarian', 'veggie', 'choose', 'vegan', 'choice']\n",
      "20\t['food', 'like', 'place', 'ordered', 'tasted', 'bad', 'even', 'back', 'cold', 'taste']\n",
      "21\t['good', 'food', 'place', 'price', 'pretty', 'service', 'better', 'like', 'would', 'really']\n",
      "22\t['burger', 'fry', 'onion', 'bun', 'shake', 'ring', 'cheese', 'french', 'bacon', 'patty']\n",
      "23\t['bowl', 'pho', 'soup', 'noodle', 'roll', 'spring', 'broth', 'vietnamese', 'beef', 'rice']\n",
      "24\t['star', 'review', 'give', 'yelp', 'five', 'reason', 'rating', 'giving', 'based', 'shot']\n",
      "25\t['location', 'drive', 'employee', 'thru', 'window', 'car', 'fast', 'chipotle', 'dont', 'im']\n",
      "26\t['restaurant', 'parking', 'menu', 'lunch', 'small', 'lot', 'area', 'find', 'little', 'place']\n",
      "27\t['great', 'food', 'service', 'place', 'friendly', 'good', 'recommend', 'staff', 'delicious', 'price']\n",
      "28\t['wing', 'pasta', 'sauce', 'italian', 'garlic', 'bread', 'meatball', 'spaghetti', 'dish', 'ranch']\n",
      "29\t['steak', 'cooked', 'potato', 'perfectly', 'well', 'medium', 'rare', 'filet', 'mashed', 'perfection']\n",
      "30\t['bar', 'room', 'dining', 'bartender', 'area', 'sit', 'drink', 'airport', 'sat', 'table']\n",
      "31\t['breakfast', 'egg', 'coffee', 'pancake', 'bacon', 'morning', 'toast', 'brunch', 'biscuit', 'gravy']\n",
      "32\t['fish', 'shrimp', 'ramen', 'chip', 'fried', 'sea', 'ceviche', 'ahi', 'sauce', 'mahi']\n",
      "33\t['hot', 'dog', 'chicago', 'beef', 'chili', 'piping', 'italian', 'slider', 'wendy', 'pepper']\n",
      "34\t['place', 'like', 'get', 'know', 'go', 'one', 'say', 'want', 'make', 'really']\n",
      "35\t['good', 'really', 'got', 'ordered', 'little', 'nice', 'pretty', 'came', 'portion', 'also']\n",
      "36\t['sandwich', 'bread', 'sub', 'cheese', 'turkey', 'meat', 'subway', 'shop', 'lunch', 'philly']\n",
      "37\t['seafood', 'lobster', 'shrimp', 'pot', 'calamari', 'chop', 'sum', 'duck', 'dim', 'clam']\n",
      "38\t['taco', 'mexican', 'salsa', 'burrito', 'chip', 'bean', 'tortilla', 'food', 'carne', 'asada']\n",
      "39\t['bbq', 'pork', 'rib', 'meat', 'brisket', 'sauce', 'pulled', 'side', 'good', 'corn']\n",
      "40\t['salad', 'chicken', 'pita', 'dressing', 'greek', 'hummus', 'lettuce', 'wrap', 'fresh', 'lunch']\n",
      "41\t['kid', 'music', 'loud', 'wall', 'game', 'child', 'hole', 'playing', 'play', 'family']\n",
      "42\t['cheese', 'sweet', 'delicious', 'sauce', 'perfect', 'mac', 'onion', 'green', 'potato', 'pepper']\n",
      "43\t['happy', 'hour', 'beer', 'drink', 'selection', 'great', 'menu', 'special', 'price', 'deal']\n",
      "44\t['customer', 'manager', 'service', 'back', 'food', 'said', 'time', 'asked', 'one', 'would']\n",
      "45\t['buffet', 'indian', 'food', 'lamb', 'chicken', 'dish', 'naan', 'rice', 'masala', 'restaurant']\n",
      "46\t['son', 'sister', 'mother', 'brother', 'http', 'father', 'c', 'buck', 'law', 'wallet']\n",
      "47\t['night', 'dinner', 'last', 'party', 'friday', 'went', 'reservation', 'birthday', 'group', 'saturday']\n",
      "48\t['thai', 'tea', 'spicy', 'curry', 'pad', 'tofu', 'iced', 'dish', 'spice', 'rice']\n",
      "49\t['grill', 'cookie', 'hawaiian', 'cooky', 'mini', 'macaroni', 'island', 'paradise', 'scoop', 'nugget']\n"
     ]
    }
   ],
   "source": [
    "print_topic_terms(model_05, num_topics=-1, num_words=10, unique=False)"
   ]
  },
  {
   "cell_type": "markdown",
   "metadata": {},
   "source": [
    "## Step 2: Assign labels to interesting topics\n",
    "<p>The goal here is to inspect qualities and attribures about the restaurant, not what is on the menu.  Many topics identified contain highly specific menu categories.  This information is useful to set asidde from other sub topics.</p>\n",
    "<p>In another pass, these topics could be used to double check the assigned cuisine categories to each restaurant.</p>"
   ]
  },
  {
   "cell_type": "code",
   "execution_count": 6,
   "metadata": {},
   "outputs": [],
   "source": [
    "topics_of_interest = {'retention_1': 1,\n",
    "                      'food_quality_3': 3,\n",
    "                      'wait_time_7': 7,\n",
    "                      'atmosphere_8': 8,\n",
    "                      'ordering_9': 9,\n",
    "                      'cleanliness_13' : 13,\n",
    "                      'menu_options_19' : 19,\n",
    "                      'food_quality_20': 20,\n",
    "                      'food_quality_21': 21,\n",
    "                      'customer_service_27' : 27,\n",
    "                      'customer_Service_44': 44,\n",
    "                      'value_35': 35}\n",
    "topic_ids = list(topics_of_interest.values())"
   ]
  },
  {
   "cell_type": "markdown",
   "metadata": {},
   "source": [
    "## Step 3: Inspect Topics of Interest"
   ]
  },
  {
   "cell_type": "code",
   "execution_count": 7,
   "metadata": {},
   "outputs": [
    {
     "name": "stdout",
     "output_type": "stream",
     "text": [
      "=============================== Terms Per Topic ===============================\n",
      "1\t['time', 'back', 'first', 'try', 'place', 'went', 'definitely', 'go', 'next', 'great']\n",
      "3\t['dish', 'flavor', 'sauce', 'like', 'taste', 'menu', 'one', 'would', 'bit', 'meat']\n",
      "7\t['wait', 'minute', 'time', 'food', 'get', 'order', 'long', 'line', 'hour', 'waiting']\n",
      "8\t['great', 'nice', 'patio', 'atmosphere', 'outside', 'place', 'cool', 'fun', 'inside', 'food']\n",
      "9\t['order', 'ordered', 'called', 'delivery', 'extra', 'got', 'time', 'get', 'card', 'call']\n",
      "13\t['table', 'dirty', 'clean', 'bathroom', 'floor', 'plate', 'hand', 'cup', 'paper', 'chair']\n",
      "19\t['option', 'menu', 'free', 'gyro', 'meat', 'vegetarian', 'veggie', 'choose', 'vegan', 'choice']\n",
      "20\t['food', 'like', 'place', 'ordered', 'tasted', 'bad', 'even', 'back', 'cold', 'taste']\n",
      "21\t['good', 'food', 'place', 'price', 'pretty', 'service', 'better', 'like', 'would', 'really']\n",
      "27\t['great', 'food', 'service', 'place', 'friendly', 'good', 'recommend', 'staff', 'delicious', 'price']\n",
      "35\t['good', 'really', 'got', 'ordered', 'little', 'nice', 'pretty', 'came', 'portion', 'also']\n",
      "44\t['customer', 'manager', 'service', 'back', 'food', 'said', 'time', 'asked', 'one', 'would']\n"
     ]
    }
   ],
   "source": [
    "print_topic_terms(model_05, num_topics=-1, num_words=10, unique=False, topics_of_interest=topics_of_interest)"
   ]
  },
  {
   "cell_type": "markdown",
   "metadata": {},
   "source": [
    "## Step 4: Assigning Topic to Reviews"
   ]
  },
  {
   "cell_type": "markdown",
   "metadata": {},
   "source": [
    "### Step 4a: Load Review Data and Restaurant Business Data"
   ]
  },
  {
   "cell_type": "code",
   "execution_count": 8,
   "metadata": {},
   "outputs": [
    {
     "name": "stderr",
     "output_type": "stream",
     "text": [
      "/Users/samgutentag/anaconda/envs/spring/lib/python3.6/site-packages/IPython/core/interactiveshell.py:2728: DtypeWarning: Columns (0,2) have mixed types. Specify dtype option on import or set low_memory=False.\n",
      "  interactivity=interactivity, compiler=compiler, result=result)\n"
     ]
    }
   ],
   "source": [
    "reviews = pd.read_csv('../clean_data/az_restaurant_reviews.csv', index_col=0, parse_dates=['date'])\n",
    "\n",
    "biz = pd.read_csv('../clean_data/az_restaurant_business_clean.csv', index_col=0)\n",
    "biz = biz.iloc[:,:9].copy()"
   ]
  },
  {
   "cell_type": "markdown",
   "metadata": {},
   "source": [
    "### Step 4b: Merge Restaurant Name to Reviews"
   ]
  },
  {
   "cell_type": "code",
   "execution_count": 9,
   "metadata": {},
   "outputs": [],
   "source": [
    "review_df = reviews.merge(biz[['name', 'business_id']], on='business_id', how='left')"
   ]
  },
  {
   "cell_type": "code",
   "execution_count": 10,
   "metadata": {},
   "outputs": [
    {
     "data": {
      "text/html": [
       "<div>\n",
       "<style scoped>\n",
       "    .dataframe tbody tr th:only-of-type {\n",
       "        vertical-align: middle;\n",
       "    }\n",
       "\n",
       "    .dataframe tbody tr th {\n",
       "        vertical-align: top;\n",
       "    }\n",
       "\n",
       "    .dataframe thead th {\n",
       "        text-align: right;\n",
       "    }\n",
       "</style>\n",
       "<table border=\"1\" class=\"dataframe\">\n",
       "  <thead>\n",
       "    <tr style=\"text-align: right;\">\n",
       "      <th></th>\n",
       "      <th>business_id</th>\n",
       "      <th>cool</th>\n",
       "      <th>date</th>\n",
       "      <th>funny</th>\n",
       "      <th>review_id</th>\n",
       "      <th>stars</th>\n",
       "      <th>text</th>\n",
       "      <th>useful</th>\n",
       "      <th>user_id</th>\n",
       "      <th>is_fast_food</th>\n",
       "      <th>review_len</th>\n",
       "      <th>name</th>\n",
       "    </tr>\n",
       "  </thead>\n",
       "  <tbody>\n",
       "    <tr>\n",
       "      <th>0</th>\n",
       "      <td>JlNeaOymdVbE6_bubqjohg</td>\n",
       "      <td>0</td>\n",
       "      <td>2014-08-09</td>\n",
       "      <td>0.0</td>\n",
       "      <td>BF0ANB54sc_f-3_howQBCg</td>\n",
       "      <td>1.0</td>\n",
       "      <td>we always go to the chevo's in chandler which ...</td>\n",
       "      <td>3.0</td>\n",
       "      <td>ssuXFjkH4neiBgwv-oN4IA</td>\n",
       "      <td>0.0</td>\n",
       "      <td>422.0</td>\n",
       "      <td>Papa Chevo's Taco Shop</td>\n",
       "    </tr>\n",
       "    <tr>\n",
       "      <th>1</th>\n",
       "      <td>0Rni7ocMC_Lg2UH0lDeKMQ</td>\n",
       "      <td>0</td>\n",
       "      <td>2014-08-09</td>\n",
       "      <td>0.0</td>\n",
       "      <td>DbLUpPT61ykLTakknCF9CQ</td>\n",
       "      <td>1.0</td>\n",
       "      <td>this place is always so dirty and grimy been t...</td>\n",
       "      <td>6.0</td>\n",
       "      <td>ssuXFjkH4neiBgwv-oN4IA</td>\n",
       "      <td>0.0</td>\n",
       "      <td>111.0</td>\n",
       "      <td>Barro's Pizza</td>\n",
       "    </tr>\n",
       "    <tr>\n",
       "      <th>2</th>\n",
       "      <td>S-oLPRdhlyL5HAknBKTUcQ</td>\n",
       "      <td>0</td>\n",
       "      <td>2017-11-30</td>\n",
       "      <td>0.0</td>\n",
       "      <td>z_mVLygzPn8uHp63SSCErw</td>\n",
       "      <td>4.0</td>\n",
       "      <td>holy portion sizes! you get a lot of bang for ...</td>\n",
       "      <td>0.0</td>\n",
       "      <td>MzEnYCyZlRYQRISNMXTWIg</td>\n",
       "      <td>0.0</td>\n",
       "      <td>130.0</td>\n",
       "      <td>Harumi Sushi</td>\n",
       "    </tr>\n",
       "  </tbody>\n",
       "</table>\n",
       "</div>"
      ],
      "text/plain": [
       "              business_id cool        date  funny               review_id  \\\n",
       "0  JlNeaOymdVbE6_bubqjohg    0  2014-08-09    0.0  BF0ANB54sc_f-3_howQBCg   \n",
       "1  0Rni7ocMC_Lg2UH0lDeKMQ    0  2014-08-09    0.0  DbLUpPT61ykLTakknCF9CQ   \n",
       "2  S-oLPRdhlyL5HAknBKTUcQ    0  2017-11-30    0.0  z_mVLygzPn8uHp63SSCErw   \n",
       "\n",
       "   stars                                               text  useful  \\\n",
       "0    1.0  we always go to the chevo's in chandler which ...     3.0   \n",
       "1    1.0  this place is always so dirty and grimy been t...     6.0   \n",
       "2    4.0  holy portion sizes! you get a lot of bang for ...     0.0   \n",
       "\n",
       "                  user_id  is_fast_food  review_len                    name  \n",
       "0  ssuXFjkH4neiBgwv-oN4IA           0.0       422.0  Papa Chevo's Taco Shop  \n",
       "1  ssuXFjkH4neiBgwv-oN4IA           0.0       111.0           Barro's Pizza  \n",
       "2  MzEnYCyZlRYQRISNMXTWIg           0.0       130.0            Harumi Sushi  "
      ]
     },
     "execution_count": 10,
     "metadata": {},
     "output_type": "execute_result"
    }
   ],
   "source": [
    "review_df.head(3)"
   ]
  },
  {
   "cell_type": "markdown",
   "metadata": {},
   "source": [
    "## Step 5: Examples - Extract all Reviews given to Chipotle Mexican Grill locations"
   ]
  },
  {
   "cell_type": "code",
   "execution_count": 11,
   "metadata": {},
   "outputs": [
    {
     "data": {
      "text/html": [
       "<div>\n",
       "<style scoped>\n",
       "    .dataframe tbody tr th:only-of-type {\n",
       "        vertical-align: middle;\n",
       "    }\n",
       "\n",
       "    .dataframe tbody tr th {\n",
       "        vertical-align: top;\n",
       "    }\n",
       "\n",
       "    .dataframe thead th {\n",
       "        text-align: right;\n",
       "    }\n",
       "</style>\n",
       "<table border=\"1\" class=\"dataframe\">\n",
       "  <thead>\n",
       "    <tr style=\"text-align: right;\">\n",
       "      <th></th>\n",
       "      <th>business_id</th>\n",
       "      <th>cool</th>\n",
       "      <th>date</th>\n",
       "      <th>funny</th>\n",
       "      <th>review_id</th>\n",
       "      <th>stars</th>\n",
       "      <th>text</th>\n",
       "      <th>useful</th>\n",
       "      <th>user_id</th>\n",
       "      <th>is_fast_food</th>\n",
       "      <th>review_len</th>\n",
       "      <th>name</th>\n",
       "    </tr>\n",
       "  </thead>\n",
       "  <tbody>\n",
       "    <tr>\n",
       "      <th>140</th>\n",
       "      <td>uovqgCcWIqTwUeH_A54t2A</td>\n",
       "      <td>0</td>\n",
       "      <td>2014-05-15</td>\n",
       "      <td>0.0</td>\n",
       "      <td>VSVXCLsGO_MduBX4nfE6dw</td>\n",
       "      <td>2.0</td>\n",
       "      <td>this location is not as stellar as others. the...</td>\n",
       "      <td>1.0</td>\n",
       "      <td>Jt4u7qnfrk35buainfOuGA</td>\n",
       "      <td>1.0</td>\n",
       "      <td>213.0</td>\n",
       "      <td>Chipotle Mexican Grill</td>\n",
       "    </tr>\n",
       "    <tr>\n",
       "      <th>177</th>\n",
       "      <td>uovqgCcWIqTwUeH_A54t2A</td>\n",
       "      <td>1</td>\n",
       "      <td>2008-05-10</td>\n",
       "      <td>1.0</td>\n",
       "      <td>-niC6oq1n697C-dIDWaOnA</td>\n",
       "      <td>4.0</td>\n",
       "      <td>i have always been a fan of chipotle's food bu...</td>\n",
       "      <td>2.0</td>\n",
       "      <td>qYxGJKlYrqNgodzMWHaaGw</td>\n",
       "      <td>1.0</td>\n",
       "      <td>1177.0</td>\n",
       "      <td>Chipotle Mexican Grill</td>\n",
       "    </tr>\n",
       "    <tr>\n",
       "      <th>213</th>\n",
       "      <td>wAXYLmHuysYTz8i4VPKmaQ</td>\n",
       "      <td>0</td>\n",
       "      <td>2011-02-02</td>\n",
       "      <td>0.0</td>\n",
       "      <td>5MAbf8n0niuIRU1P4rdhZw</td>\n",
       "      <td>4.0</td>\n",
       "      <td>everyone already knows how good chipotle is bu...</td>\n",
       "      <td>0.0</td>\n",
       "      <td>4I_woZLXCO9jaVZvDi18CA</td>\n",
       "      <td>1.0</td>\n",
       "      <td>266.0</td>\n",
       "      <td>Chipotle Mexican Grill</td>\n",
       "    </tr>\n",
       "  </tbody>\n",
       "</table>\n",
       "</div>"
      ],
      "text/plain": [
       "                business_id cool        date  funny               review_id  \\\n",
       "140  uovqgCcWIqTwUeH_A54t2A    0  2014-05-15    0.0  VSVXCLsGO_MduBX4nfE6dw   \n",
       "177  uovqgCcWIqTwUeH_A54t2A    1  2008-05-10    1.0  -niC6oq1n697C-dIDWaOnA   \n",
       "213  wAXYLmHuysYTz8i4VPKmaQ    0  2011-02-02    0.0  5MAbf8n0niuIRU1P4rdhZw   \n",
       "\n",
       "     stars                                               text  useful  \\\n",
       "140    2.0  this location is not as stellar as others. the...     1.0   \n",
       "177    4.0  i have always been a fan of chipotle's food bu...     2.0   \n",
       "213    4.0  everyone already knows how good chipotle is bu...     0.0   \n",
       "\n",
       "                    user_id  is_fast_food  review_len                    name  \n",
       "140  Jt4u7qnfrk35buainfOuGA           1.0       213.0  Chipotle Mexican Grill  \n",
       "177  qYxGJKlYrqNgodzMWHaaGw           1.0      1177.0  Chipotle Mexican Grill  \n",
       "213  4I_woZLXCO9jaVZvDi18CA           1.0       266.0  Chipotle Mexican Grill  "
      ]
     },
     "execution_count": 11,
     "metadata": {},
     "output_type": "execute_result"
    }
   ],
   "source": [
    "chipotle_reviews = review_df[review_df.name == 'Chipotle Mexican Grill'].copy()\n",
    "chipotle_reviews.head(3)"
   ]
  },
  {
   "cell_type": "markdown",
   "metadata": {},
   "source": [
    "## Step 6: Print Most Frequent Subtopics identified in Given Review"
   ]
  },
  {
   "cell_type": "code",
   "execution_count": 12,
   "metadata": {},
   "outputs": [],
   "source": [
    "def print_top_n_review_topics(model, review, n_topics=5, valid_topics = []):\n",
    "    review_topic_categories = []\n",
    "    for word in review.split(' '):\n",
    "        try:\n",
    "            r = model.get_term_topics(word_id = word)\n",
    "            [review_topic_categories.append(x[0]) for x in r]\n",
    "        except:\n",
    "            pass\n",
    "    \n",
    "    # count occurances of each identified topic\n",
    "    topic_counter = Counter(review_topic_categories) \n",
    "    top_n_topics = [x[0] for x in topic_counter.most_common(n_topics)]\n",
    "    \n",
    "    if len(valid_topics) > 0:\n",
    "        # prune to only topics we care about\n",
    "        topics = [topic for topic in top_n_topics if topic in valid_topics]\n",
    "    else:\n",
    "        topics = top_n_topics\n",
    "\n",
    "    print('Review Text:\\n\\t{}'.format(review.replace('\\n', ' ')))\n",
    "    print('Topics Identified:')\n",
    "\n",
    "    for n in topics:\n",
    "        topic_label = list(topics_of_interest.keys())[list(topics_of_interest.values()).index(n)]\n",
    "        print('\\t{}'.format(topic_label))"
   ]
  },
  {
   "cell_type": "markdown",
   "metadata": {},
   "source": [
    "### Step 6a: Sample Bad Reviews"
   ]
  },
  {
   "cell_type": "code",
   "execution_count": 13,
   "metadata": {},
   "outputs": [],
   "source": [
    "bad_reviews = chipotle_reviews[chipotle_reviews.stars < 3].iloc[1:10,6]\n",
    "good_reviews = chipotle_reviews[chipotle_reviews.stars > 3].iloc[1:10,6]"
   ]
  },
  {
   "cell_type": "code",
   "execution_count": 14,
   "metadata": {
    "scrolled": false
   },
   "outputs": [
    {
     "name": "stdout",
     "output_type": "stream",
     "text": [
      "Review Text:\n",
      "\ti'm not sure how a mexican'ish place runs out of white rice when it's a main staple but they did. this location is hit or miss. if i were you i'd miss it and head down the road.\n",
      "Topics Identified:\n",
      "\tretention_1\n",
      "\tatmosphere_8\n",
      "\tfood_quality_20\n",
      "================================================================================\n",
      "Review Text:\n",
      "\twhy wait 20 minutes to repeat your order 3 times and then eat a lukewarm bowl of cat food?  not a fan but one extra star for the hot sauce because it's actually hot.  skip the steak...\n",
      "Topics Identified:\n",
      "\twait_time_7\n",
      "\tordering_9\n",
      "\tfood_quality_3\n",
      "================================================================================\n",
      "Review Text:\n",
      "\t*sniff* i can't believe i was made to cry (on the inside) no less on new year's eve. my hubby and i came here thinking we would split a burrito since i know how big the burritos can be at chipotle.    we waited in line. i watched the two guys in front of me each get 2 tortillas each for their burrito and the girl behind the line really piled on the rice beans and their choice of meat. i was thinking wow these burritos are even bigger than what i remembered.   then when it came my turn for my burrito the girl behind the counter took one look at petite me and took out one tortilla and gave me a skimpy serving of rice beans and seriously like 5 pieces of meat. i felt so crest fallen.  i looked at the measly portion that was going to be my burrito i looked at the girl behind the counter and asked why the two guys in front of me got such massive burritos but not me. she just rolled her eyes at me and went on to the next costumer.   boy was i disappointed. and i checked too with those two young guys in case they paid extra for their mega massive burritos. nope same price as what i paid.   i seriously wanted to take a photo of my burrito next to theirs cause mine would look like the runt of the litter. it was so pathetically so much smaller in size.   i thought maybe it was an off night but from reading the other reviews many other customers have received the same uneven service.   chipotle corporate you should take note since as corporate you take such pride in providing a good product and service- that is the chipotle brand and signature.   well this particular location is not making the grade.   and *sniff* now i know what being an unwanted stepchild feels like. *sniff*.\n",
      "Topics Identified:\n",
      "\tvalue_35\n",
      "\tfood_quality_21\n",
      "================================================================================\n",
      "Review Text:\n",
      "\ti was coming here quite frequently but the service has gotten to a point that it's not worth it. the girl who was wrapping the burrito watched it split open and  continued wrapping it anyway without even asking if i wanted it rewrapped. i'll just go to the greek place next door since they have better service.\n",
      "Topics Identified:\n",
      "\tfood_quality_20\n",
      "\tfood_quality_21\n",
      "\tretention_1\n",
      "\tcustomer_service_27\n",
      "================================================================================\n",
      "Review Text:\n",
      "\ti think i'm seriously missing something here. am i the only person in the world that thinks chipotle sucks? there isn't one thing on the menu that i enjoy. not even the chips and salsa. how can you mess up chips and salsa??  everyone i know loves this place. i feel like i'm an alien. maybe they put something in their food that not only makes you bleed when you go the bathroom but also hypnotizes you to think they have the best food when really its the worst.  my two most recent experiences are as follows:  a friend of mine insisted we go before a movie. i asked him if he really wanted to eat that garbage and then sit for two hours but he said yes. i watched him eat a burrito while i ate stale chips and the cashier made fun of me (yes he made fun of me! who does this?) for not ordering something. he actually asked me if i was watching my figure. i'm a skinny girl so it was really insulting to the bigger girls behind me in line. i could tell they were visibly offended.  another time my boyfriend got a coupon for a free burrito for selling his books back to the school. i guess they figure that if you're stupid enough to sell your books back to the school instead of online then you're stupid enough to eat chipotle. i went with him even if i didn't want anything. i just wanted to spend time with him. well apparently everyone and their mother wanted chipotle that day because the line was so long it went outside. the door was open so it was hot. imagine every possible thing that could go wrong in a line happening at once. that's what it was. sweaty people all over screaming kids crying babies loud cell phone talkers cutters.... ugh. when we finally reached the front of the human labyrinth they almost didn't take his coupon even though it was completely valid.     in the end. not a fan of the food the experience the staff the building. no. please someone tell me what i'm missing here!!\n",
      "Topics Identified:\n",
      "\tfood_quality_20\n",
      "\twait_time_7\n",
      "\tcustomer_Service_44\n",
      "================================================================================\n",
      "Review Text:\n",
      "\ti love chipotle but this location needs to hire a whole new staff. they are slow rude and lack customer service. i have attempted to buy from this location 3 separate times just to end up walking out. 20 mins to cut a cube of cheese!? seriously what are you doing?\n",
      "Topics Identified:\n",
      "\tatmosphere_8\n",
      "\twait_time_7\n",
      "================================================================================\n",
      "Review Text:\n",
      "\tthis review does not reflect the food rather the staff and their ability to be prepared for a dinner rush. i went on a sunday around 7pm and they were out of just about everything and asked people to wait 10 minutes ( this is while portions of their order sat on the counter getting cold. the staff also seemed to lack experience with cooking assembling and checking out customers in a welcoming appealing pleasant tasty cleanliness way. doubt i will ever go back to this location! if you like chipotle don't go to this location and get let down\n",
      "Topics Identified:\n",
      "\twait_time_7\n",
      "\tfood_quality_20\n",
      "================================================================================\n",
      "Review Text:\n",
      "\ti am very disappointed that the decided to take away soft corn tortillas (and chorizo tortillas) from the menu. not only do i usually order them(i go there about 3 times a month) but it's one of the things i liked about chipotle. an \"authentic mexican grill\"... in mexico soft corn tortillas are the main if not only tortilla used in food their. so i read into why they removed them: to toot their own horn about how they're now 100% preservative free. their new flour tortillas now have only whole ingredients... sadly i don't think they could achieve this with the soft corn tortillas - so they cut them. finally people who are gluten intolerant (i am not btw) will no longer be able to order tortillas at chipotle. and the corn shells are almost impossible to keep together after taking a bite. i hope chipotle brings back the soft corn tortillas because i know i will probably rarely come to chipotle if they don't.\n",
      "Topics Identified:\n",
      "\twait_time_7\n",
      "\tfood_quality_20\n",
      "================================================================================\n",
      "Review Text:\n",
      "\tcheck it out i was taking my family and some friends to eat and was finishing smoking my cigarette in the parking lot. i was told i could not smoke on the lot. won't be eating here again. in goodyear az\n",
      "Topics Identified:\n",
      "\tmenu_options_19\n",
      "\tfood_quality_20\n",
      "================================================================================\n"
     ]
    }
   ],
   "source": [
    "for rev in bad_reviews:\n",
    "    print_top_n_review_topics(model_05, rev, n_topics=5, valid_topics = topic_ids)\n",
    "    print('='*80)"
   ]
  },
  {
   "cell_type": "markdown",
   "metadata": {},
   "source": [
    "### Step 6b: Sample Good Reviews"
   ]
  },
  {
   "cell_type": "code",
   "execution_count": 15,
   "metadata": {},
   "outputs": [
    {
     "name": "stdout",
     "output_type": "stream",
     "text": [
      "Review Text:\n",
      "\teveryone already knows how good chipotle is but this location has always given us good service they are pretty speedy. they screwed up on on line order we placed once and they fixed it right away and gave a free drink and extra chips really cool we weren't even mad.\n",
      "Topics Identified:\n",
      "\tfood_quality_21\n",
      "\tvalue_35\n",
      "\tcustomer_service_27\n",
      "================================================================================\n",
      "Review Text:\n",
      "\tthis chipotle has the best customer service.  food is always super fresh and tastes delicious. best location!!\n",
      "Topics Identified:\n",
      "\tcustomer_service_27\n",
      "\tcustomer_Service_44\n",
      "================================================================================\n",
      "Review Text:\n",
      "\ti like everything about chipotle. i prefer a bowl with easy brown rice heavy fajita veggies strained brown beans chicken two scoops of strained pico de gallo and cheese. i can usually only eat half. i chill the rest and eat it later. i can't decide it i like it better hot or cold. i guess i'll have to come back and eat more to figure it out.\n",
      "Topics Identified:\n",
      "\tfood_quality_20\n",
      "\tfood_quality_21\n",
      "\tvalue_35\n",
      "\tmenu_options_19\n",
      "================================================================================\n",
      "Review Text:\n",
      "\tstopped by for some \"fast food\". i'm not a patient man so i held my breath for two minutes until the fajita veggies were done cooking.  after my face regained color i was thoroughly pleased to receive the steaming hot flavorful addition to my bowl. needless to say that my masterful picks contributed to a fantastic tasting meal. all kidding aside if i could bottle the smell of this resturaunt and place it in my kitchen i'd be the happiest man alive. keep up the good work chipotle i'll be back for sure.\n",
      "Topics Identified:\n",
      "\tretention_1\n",
      "\tcustomer_service_27\n",
      "\tvalue_35\n",
      "================================================================================\n",
      "Review Text:\n",
      "\tum.  i love this joint.  seriously.  it's the vegetarian burrito for me with black beans obv with lots of that hot salsa!  mmmmm!  if i eat the whole thing i'm full for a good 8 hours....and my burrito is always so tasty that yep i'm full for a good 8 hours.  i wish i had the self control to save half for later.    i'd give this 5 stars but i'm kind of a health nut and we all know those white toritillas are def not healthy!\n",
      "Topics Identified:\n",
      "\tmenu_options_19\n",
      "\tretention_1\n",
      "================================================================================\n",
      "Review Text:\n",
      "\ti always get amazing service here. even if the line is out the door i'm done faster then a mc'donalds drive through. the food always come's out the same and the people that work there are friendly.\n",
      "Topics Identified:\n",
      "\twait_time_7\n",
      "\tfood_quality_21\n",
      "\tcustomer_service_27\n",
      "================================================================================\n",
      "Review Text:\n",
      "\twe've been frequenting here for five years now and their food is always consistent.  service is great.  my only complaint - well there's 2 - is they are super busy during lunch hours and the parking isn't so great.  if you go off peak no problem.  as far as chipotles go this one definitely passes muster!\n",
      "Topics Identified:\n",
      "\twait_time_7\n",
      "\tcustomer_service_27\n",
      "\tretention_1\n",
      "================================================================================\n",
      "Review Text:\n",
      "\tlove this location at the scottsdale pavillions.  all the employees are super friendly at this location.  the food is always good and fresh.  i would go every week oh wait i do!\n",
      "Topics Identified:\n",
      "\tcustomer_service_27\n",
      "\twait_time_7\n",
      "\tfood_quality_20\n",
      "\tfood_quality_21\n",
      "================================================================================\n",
      "Review Text:\n",
      "\tno complaints from this branch. you pretty much know what you're getting from any chiptole. i will say that the staff here aren't too \"portion friendly\" when it comes to scoops of food as compared to other locations i've been to. overall a clean and friendly  environment.\n",
      "Topics Identified:\n",
      "\tcustomer_service_27\n",
      "\tfood_quality_21\n",
      "\tvalue_35\n",
      "================================================================================\n"
     ]
    }
   ],
   "source": [
    "for rev in good_reviews:\n",
    "    print_top_n_review_topics(model_05, rev, n_topics=5, valid_topics = topic_ids)\n",
    "    print('='*80)"
   ]
  },
  {
   "cell_type": "code",
   "execution_count": null,
   "metadata": {},
   "outputs": [],
   "source": []
  },
  {
   "cell_type": "code",
   "execution_count": null,
   "metadata": {},
   "outputs": [],
   "source": []
  }
 ],
 "metadata": {
  "kernelspec": {
   "display_name": "Python 3",
   "language": "python",
   "name": "python3"
  },
  "language_info": {
   "codemirror_mode": {
    "name": "ipython",
    "version": 3
   },
   "file_extension": ".py",
   "mimetype": "text/x-python",
   "name": "python",
   "nbconvert_exporter": "python",
   "pygments_lexer": "ipython3",
   "version": "3.6.3"
  }
 },
 "nbformat": 4,
 "nbformat_minor": 2
}
