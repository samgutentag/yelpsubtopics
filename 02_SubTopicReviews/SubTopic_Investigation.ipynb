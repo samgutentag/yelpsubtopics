{
 "cells": [
  {
   "cell_type": "markdown",
   "metadata": {},
   "source": [
    "# Applying Subtopic Ratings\n",
    "<p>ADD INFOMRATION HERE</p>\n"
   ]
  },
  {
   "cell_type": "markdown",
   "metadata": {},
   "source": [
    "## Step 0: Import packages"
   ]
  },
  {
   "cell_type": "code",
   "execution_count": null,
   "metadata": {},
   "outputs": [],
   "source": [
    "from IPython.core.display import display, HTML\n",
    "display(HTML(\"<style>.container { width:95% !important; }</style>\"))"
   ]
  },
  {
   "cell_type": "code",
   "execution_count": null,
   "metadata": {},
   "outputs": [],
   "source": [
    "from gensim.models.ldamulticore import LdaMulticore\n",
    "import itertools\n",
    "from collections import Counter\n",
    "\n",
    "import pandas as pd\n",
    "import numpy as np\n",
    "import datetime\n",
    "import matplotlib.pyplot as plt\n",
    "from math import ceil\n",
    "\n",
    "import seaborn as sns\n",
    "sns.set()\n",
    "\n",
    "SUP_TITLE_FONT_SIZE = 25\n",
    "TITLE_FONT_SIZE = 25\n",
    "LABEL_FONT_SIZE = 15\n",
    "TICK_FONT_SIZE  = 15\n",
    "\n",
    "FIG_SIZE = (15,6)\n",
    "\n",
    "DO_WRITE_CHARTS = True\n",
    "\n",
    "def time_marker(text=''):\n",
    "    print('[{}] {}'.format(datetime.datetime.now().time(), text))"
   ]
  },
  {
   "cell_type": "markdown",
   "metadata": {},
   "source": [
    "## Step 1: Import Review Data with Subtopics"
   ]
  },
  {
   "cell_type": "code",
   "execution_count": null,
   "metadata": {},
   "outputs": [],
   "source": [
    "time_marker('Loading Restaurant Review data...')\n",
    "reviews = pd.read_csv('../clean_data/az_restaurant_reviews_with_subtopics.csv', index_col=0, parse_dates=['date'], low_memory=False)\n",
    "\n",
    "reviews.dropna(subset=['user_id'], inplace=True)\n",
    "\n",
    "reviews.reset_index(inplace=True, drop=True)\n",
    "\n",
    "reviews['chain_name'] = reviews['name'].str.lower().str.replace('[^\\w\\s]','').str.replace(' ', '_')\n",
    "\n",
    "time_marker('done')"
   ]
  },
  {
   "cell_type": "code",
   "execution_count": null,
   "metadata": {},
   "outputs": [],
   "source": [
    "reviews.info()"
   ]
  },
  {
   "cell_type": "markdown",
   "metadata": {},
   "source": [
    "## Step 2: Calculate Subtopic Ratings for Each Business\n",
    "<p>Yelp Review Star Rounding is performed by rounding up to the nearest half star, the same way Yelp rounds off Business Star Ratings</p>"
   ]
  },
  {
   "cell_type": "code",
   "execution_count": null,
   "metadata": {},
   "outputs": [],
   "source": [
    "def yelp_star_rounding(stars):\n",
    "    ''' \n",
    "        Yelp review stars are calculated by rounding the \n",
    "        average review scroe up to the nearest 0.5 so here \n",
    "        we use the same method for subtopic review stars.\n",
    "    '''\n",
    "    \n",
    "    if stars > 0:\n",
    "        result = ceil(stars*4)/4\n",
    "    else:\n",
    "        result = np.nan\n",
    "    \n",
    "    return result"
   ]
  },
  {
   "cell_type": "code",
   "execution_count": null,
   "metadata": {},
   "outputs": [],
   "source": [
    "# group reviews by business id\n",
    "business_subtopic_ratings = reviews.groupby('business_id').mean()[reviews.columns[-10:-1]]\n",
    "\n",
    "# apply yelp rounding to all ratings\n",
    "# business_subtopic_ratings = business_subtopic_ratings.applymap(yelp_star_rounding)\n",
    "\n",
    "business_subtopic_ratings.head(10)"
   ]
  },
  {
   "cell_type": "code",
   "execution_count": null,
   "metadata": {
    "scrolled": true
   },
   "outputs": [],
   "source": [
    "business_subtopic_ratings.describe()"
   ]
  },
  {
   "cell_type": "markdown",
   "metadata": {},
   "source": [
    "## Step 3: Import Restaurant Business Data\n",
    "<p>Merge Subtopic Ratings to business information DataFrame</p>"
   ]
  },
  {
   "cell_type": "code",
   "execution_count": null,
   "metadata": {},
   "outputs": [],
   "source": [
    "time_marker('Loading Restaurant Business data...')\n",
    "biz_data = pd.read_csv('../clean_data/az_restaurant_business_clean.csv', index_col=0)\n",
    "biz_data = biz_data.iloc[:,:10].copy()\n",
    "\n",
    "biz_data['chain_name'] = biz_data['name'].str.lower().str.replace('[^\\w\\s]','').str.replace(' ', '_')\n"
   ]
  },
  {
   "cell_type": "code",
   "execution_count": null,
   "metadata": {},
   "outputs": [],
   "source": [
    "# Merge Subtopic Ratings\n",
    "biz_subtopics = biz_data.merge(business_subtopic_ratings, left_on='business_id', right_index=True)"
   ]
  },
  {
   "cell_type": "code",
   "execution_count": null,
   "metadata": {
    "scrolled": true
   },
   "outputs": [],
   "source": [
    "biz_subtopics.head(3).transpose()"
   ]
  },
  {
   "cell_type": "markdown",
   "metadata": {},
   "source": [
    "## Step 4: Plotting Subtopic Review Stars against Restaurant Star Ratings\n",
    "<p>Restarants are givena single Star Rating, these ratings are compared to our calculated Rating for each of the 9 identified Sub Topics.  Using a set of box plots, we can see that Four possible trends appear.</p>\n"
   ]
  },
  {
   "cell_type": "code",
   "execution_count": null,
   "metadata": {},
   "outputs": [],
   "source": [
    "def plot_suptopic_comparisons(df, palette='Reds_r', title_prefix=''):\n",
    "    \n",
    "    nrows = 3\n",
    "    ncols = 3\n",
    "    size = 6\n",
    "\n",
    "    subtopic_labels = list(df.columns[-9:])\n",
    "\n",
    "    fig, ax = plt.subplots(nrows=nrows, ncols=ncols, figsize=(ncols*size, nrows*size))\n",
    "\n",
    "    for rr, row in enumerate(ax):\n",
    "        for cc, col in enumerate(row):\n",
    "            subtopic_label = subtopic_labels[rr*ncols + cc]\n",
    "\n",
    "            ax = plt.subplot(nrows, ncols, rr*ncols + cc+1)\n",
    "            ax = sns.boxplot(x=\"stars\", y=df[subtopic_label], data=df, palette=palette)\n",
    "            \n",
    "            \n",
    "            ax.plot(ax.get_xlim(), ax.get_ylim(), ls=\"--\", c=\".3\")\n",
    "\n",
    "            ax.set_xlabel('Restaurant Star Rating', size=LABEL_FONT_SIZE)\n",
    "            ax.set_ylabel('{} Rating'.format(subtopic_label).replace('_', ' ').title(), weight='bold',  size=LABEL_FONT_SIZE)\n",
    "            \n",
    "            ax.set_yticks([x/4 for x in range(4, 21)])\n",
    "            \n",
    "\n",
    "    plt.suptitle('{} Subtopic Rating Review'.format(title_prefix.title().title()), size=25, weight='bold', y=0.90)\n",
    "    \n",
    "    if DO_WRITE_CHARTS:\n",
    "        plt.savefig('../charts/subtopic_review_{}.png'.format(title_prefix.replace(' ', '_').lower()))\n",
    "    plt.show()\n",
    "    plt.close()"
   ]
  },
  {
   "cell_type": "code",
   "execution_count": null,
   "metadata": {},
   "outputs": [],
   "source": [
    "plot_suptopic_comparisons(biz_subtopics, palette='Reds_r', title_prefix='All Restaurants')"
   ]
  },
  {
   "cell_type": "code",
   "execution_count": null,
   "metadata": {},
   "outputs": [],
   "source": [
    "plot_suptopic_comparisons(biz_subtopics[biz_subtopics.is_fast_food == 0], palette='Greens_r', \n",
    "                          title_prefix='Non Fast Food Restaurants')"
   ]
  },
  {
   "cell_type": "code",
   "execution_count": null,
   "metadata": {},
   "outputs": [],
   "source": [
    "plot_suptopic_comparisons(biz_subtopics[biz_subtopics.is_fast_food == 1], palette='Blues_r',\n",
    "                          title_prefix='Fast Food Restaurants')"
   ]
  },
  {
   "cell_type": "markdown",
   "metadata": {},
   "source": [
    "## Step 5:  Compare Restaurant to Others in the same Chain\n",
    "<p>Given a `business_id` this report shows the status of the given business in comparison to others bearing the same name.</p>"
   ]
  },
  {
   "cell_type": "code",
   "execution_count": null,
   "metadata": {
    "scrolled": true
   },
   "outputs": [],
   "source": [
    "biz_data.head(3)"
   ]
  },
  {
   "cell_type": "markdown",
   "metadata": {},
   "source": [
    "### Collect Information on specific Business"
   ]
  },
  {
   "cell_type": "code",
   "execution_count": null,
   "metadata": {},
   "outputs": [],
   "source": [
    "def get_business_information(df, business_id):\n",
    "    ''' Get dict of business attributes from a given business_id '''\n",
    "    business_information = df[df.business_id == business_id].transpose().to_dict()\n",
    "    results = list(business_information.values())[0]\n",
    "    \n",
    "    # convert categories from string to list\n",
    "    results['categories'] = results['categories'].split(\"'\")[1::2]\n",
    "    \n",
    "    return results"
   ]
  },
  {
   "cell_type": "markdown",
   "metadata": {},
   "source": [
    "### Plot Business Rankings in Comparison to all Others in the Chain\n",
    "<ul> Parameters\n",
    "    <li><b>df</b>: the DataFrame of reviews to draw from</li>\n",
    "    <li><b>bid</b>: the business_id of the business in question, this location is shown as a blue line in each Sub Rating</li>\n",
    "    <li><b>min_reviews</b>: The minumum number of reviews for another business in the chain to be included</li>\n",
    "    <li><b>min_biz</b>: The minumum number of other businesses in the chain.</li>\n",
    "</ul>"
   ]
  },
  {
   "cell_type": "code",
   "execution_count": null,
   "metadata": {},
   "outputs": [],
   "source": [
    "def compare_to_chain(df, bid, min_reviews=10, min_biz=5):\n",
    "    '''\n",
    "        when passed a dataframe of reviews, collect ratings from all other businesses with the same name.\n",
    "        Plot in red dots, the reviews in each Sub Category for each location.\n",
    "    '''\n",
    "\n",
    "    business_information = get_business_information(biz_subtopics, bid)\n",
    "    \n",
    "\n",
    "    business_address = '{} {} AZ'.format(business_information['address'], business_information['city'])\n",
    "    \n",
    "    # all locations with the same name\n",
    "    chain_reviews = df[df.name == business_information['name']].copy()\n",
    "    chain_reviews = chain_reviews.groupby('business_id').mean()\n",
    "    \n",
    "    # only generate report if the number of other locations is greater than min_biz \n",
    "    if chain_reviews.shape[0] < min_biz:\n",
    "        time_marker('''Sorry, this set of reviews only includes {:d} other \"{}\" locations, we need at least {:d} other locations to generate a meaningful report.  \n",
    "                        You can specify the \"biz_min\" argument lower in this function call and try again.'''.format(chain_reviews.shape[0], business_information['name'], min_biz))\n",
    "        return False\n",
    "    \n",
    "    # get count of reviews from each location\n",
    "    location_review_counts = df[df.name == business_information['name']].groupby('business_id').count()['name'].to_frame()\n",
    "\n",
    "    # select only businesses with more than min_reviews reviews\n",
    "    location_review_counts = location_review_counts[location_review_counts.name > min_reviews].copy()\n",
    "\n",
    "    # subset chain reviews to include only those with more than min_reviews reviews\n",
    "    chain_reviews[chain_reviews.index.isin(location_review_counts.index)].copy()\n",
    "    \n",
    "    \n",
    "    # only generate report if the number of other locations is greater than min_biz \n",
    "    if chain_reviews.shape[0] < min_biz:\n",
    "        time_marker('''Sorry, this set of reviews only includes {:d} other \"{}\" locations, with at least {:d} reviews, we need at least {:d} other locations to generate a meaningful report.  \n",
    "                        You can specify the \"biz_min\" argument lower in this function call and try again.'''.format(chain_reviews.shape[0], business_information['name'], min_reviews, min_biz))\n",
    "        return False\n",
    "    \n",
    "    # Plotting!\n",
    "    plt.subplots(figsize=FIG_SIZE)\n",
    "    \n",
    "    # melt data frame for seaborn boxplot\n",
    "    chain_melt = chain_reviews[chain_reviews.index != bid].iloc[:,-9:].melt()\n",
    "\n",
    "    # sqarm plot of subtopic reviews\n",
    "    ax = sns.swarmplot(x='variable', y='value', data=chain_melt, color='r', alpha=0.75)\n",
    "    \n",
    "    # plot the specific bid with lines\n",
    "    sample_location_ratings = chain_reviews[chain_reviews.index == bid].mean()[-9:].values\n",
    "    \n",
    "    for ii, val in enumerate(sample_location_ratings):\n",
    "        ax.axhline(val, xmin=ii/9, xmax=(ii+1)/9, color='b', linewidth=5)\n",
    "\n",
    "    # formatting title and axis\n",
    "    plt.suptitle('{} at {}'.format(business_information['name'], business_address), size=SUP_TITLE_FONT_SIZE, weight='bold')\n",
    "    ax.set_title('Compared to all other {} Restaurants'.format(business_information['name']), size=LABEL_FONT_SIZE)\n",
    "\n",
    "    ax.set_ylabel('Review Sub Categories', size=LABEL_FONT_SIZE)\n",
    "    ax.set_xlabel('Sub Category Rating', size=LABEL_FONT_SIZE)\n",
    "    \n",
    "    ax.set_xticklabels([x.replace('_', ' ').title() for x in biz_subtopics.columns[-9:]])\n",
    "    \n",
    "    ax.set_yticks([(x/2)+1 for x in range(0, 9)])\n",
    "    \n",
    "    file_path = '../charts/reports/{}_{}_chain_comparison.png'.format(business_information['chain_name'].replace('_',''), bid)\n",
    "    \n",
    "    if DO_WRITE_CHARTS:\n",
    "        plt.savefig(file_path)\n",
    "\n",
    "    plt.show()\n",
    "    plt.close()\n",
    "    \n",
    "    return file_path"
   ]
  },
  {
   "cell_type": "markdown",
   "metadata": {},
   "source": [
    "## Step 8: Generate Chain Review Comparison Charts for Top 5 Largest Restaurant Chains\n",
    "<p>A restaurant chain is defined as a group of Restaurants all sharing the same name.</p>"
   ]
  },
  {
   "cell_type": "code",
   "execution_count": null,
   "metadata": {},
   "outputs": [],
   "source": [
    "def get_top_n_chains(n):\n",
    " \n",
    "    # extract top 10 chains, by number of locations\n",
    "    top_n_chains = [x[0] for x in Counter(biz_data.chain_name).most_common(n)]\n",
    "\n",
    "    # etract business_id values of all retaurants in top_ten_chains\n",
    "    top_n_chain_bids = list(reviews[reviews.chain_name.isin(top_n_chains)].business_id.unique())\n",
    "\n",
    "    print('Working with reviews for {:d} Restaurants across {:d} Chains'.format(len(top_n_chain_bids), n))\n",
    "    \n",
    "    return top_n_chain_bids\n",
    "    \n",
    "chain_bids = get_top_n_chains(5)"
   ]
  },
  {
   "cell_type": "code",
   "execution_count": null,
   "metadata": {
    "scrolled": false
   },
   "outputs": [],
   "source": [
    "[compare_to_chain(reviews, x) for x in chain_bids]"
   ]
  },
  {
   "cell_type": "code",
   "execution_count": null,
   "metadata": {},
   "outputs": [],
   "source": []
  },
  {
   "cell_type": "code",
   "execution_count": null,
   "metadata": {},
   "outputs": [],
   "source": []
  },
  {
   "cell_type": "code",
   "execution_count": null,
   "metadata": {},
   "outputs": [],
   "source": []
  },
  {
   "cell_type": "code",
   "execution_count": null,
   "metadata": {},
   "outputs": [],
   "source": []
  },
  {
   "cell_type": "code",
   "execution_count": null,
   "metadata": {},
   "outputs": [],
   "source": []
  },
  {
   "cell_type": "code",
   "execution_count": null,
   "metadata": {},
   "outputs": [],
   "source": []
  },
  {
   "cell_type": "code",
   "execution_count": null,
   "metadata": {},
   "outputs": [],
   "source": []
  },
  {
   "cell_type": "code",
   "execution_count": null,
   "metadata": {},
   "outputs": [],
   "source": []
  },
  {
   "cell_type": "code",
   "execution_count": null,
   "metadata": {
    "scrolled": false
   },
   "outputs": [],
   "source": []
  },
  {
   "cell_type": "code",
   "execution_count": null,
   "metadata": {},
   "outputs": [],
   "source": []
  },
  {
   "cell_type": "code",
   "execution_count": null,
   "metadata": {},
   "outputs": [],
   "source": []
  },
  {
   "cell_type": "code",
   "execution_count": null,
   "metadata": {},
   "outputs": [],
   "source": []
  },
  {
   "cell_type": "code",
   "execution_count": null,
   "metadata": {},
   "outputs": [],
   "source": []
  },
  {
   "cell_type": "code",
   "execution_count": null,
   "metadata": {},
   "outputs": [],
   "source": []
  },
  {
   "cell_type": "code",
   "execution_count": null,
   "metadata": {},
   "outputs": [],
   "source": []
  },
  {
   "cell_type": "code",
   "execution_count": null,
   "metadata": {},
   "outputs": [],
   "source": []
  },
  {
   "cell_type": "code",
   "execution_count": null,
   "metadata": {},
   "outputs": [],
   "source": []
  },
  {
   "cell_type": "code",
   "execution_count": null,
   "metadata": {},
   "outputs": [],
   "source": []
  }
 ],
 "metadata": {
  "kernelspec": {
   "display_name": "Python 3",
   "language": "python",
   "name": "python3"
  },
  "language_info": {
   "codemirror_mode": {
    "name": "ipython",
    "version": 3
   },
   "file_extension": ".py",
   "mimetype": "text/x-python",
   "name": "python",
   "nbconvert_exporter": "python",
   "pygments_lexer": "ipython3",
   "version": "3.6.3"
  }
 },
 "nbformat": 4,
 "nbformat_minor": 2
}
