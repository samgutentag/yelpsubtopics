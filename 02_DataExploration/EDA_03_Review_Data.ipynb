{
 "cells": [
  {
   "cell_type": "markdown",
   "metadata": {},
   "source": [
    "# Review Data EDA"
   ]
  },
  {
   "cell_type": "code",
   "execution_count": 1,
   "metadata": {},
   "outputs": [],
   "source": [
    "%matplotlib inline\n",
    "import numpy as np\n",
    "import math\n",
    "import matplotlib.pyplot as plt\n",
    "import pandas as pd\n",
    "import datetime\n",
    "from glob import glob\n",
    "\n",
    "import seaborn as sns\n",
    "sns.set_style('whitegrid')\n",
    "sns.set_context(\"poster\")"
   ]
  },
  {
   "cell_type": "code",
   "execution_count": 2,
   "metadata": {},
   "outputs": [],
   "source": [
    "def time_marker(text=''):\n",
    "    print('[{}] {}'.format(datetime.datetime.now().time(), text))"
   ]
  },
  {
   "cell_type": "code",
   "execution_count": 3,
   "metadata": {},
   "outputs": [
    {
     "data": {
      "text/html": [
       "<style>.container { width:95% !important; }</style>"
      ],
      "text/plain": [
       "<IPython.core.display.HTML object>"
      ]
     },
     "metadata": {},
     "output_type": "display_data"
    }
   ],
   "source": [
    "from IPython.core.display import display, HTML\n",
    "display(HTML(\"<style>.container { width:95% !important; }</style>\"))\n",
    "\n",
    "import matplotlib\n",
    "font = {'size' : 50}\n",
    "matplotlib.rc('font', **font)\n",
    "\n",
    "TITLE_FONT_SIZE = 25\n",
    "LABEL_FONT_SIZE = 15\n",
    "TICK_FONT_SIZE  = 15\n",
    "\n",
    "day_labels = ['MON','TUE','WED','THU','FRI','SAT','SUN']\n",
    "day_labels_full = ['MONDAY','TUESDAY','WEDNESDAY','THURSDAY','FRIDAY','SATURDAY','SUNDAY']\n",
    "month_labels = ['JAN','FEB','MAR','APR','MAY','JUN','JUL','AUG','SEP','OCT','NOV','DEC']\n",
    "month_labels_full = ['JANUARY','FEBRUARY','MARCH','APRIL','MAY','JUNE','JULY','AUGUST','SEPTEMBER','OCTOBER','NOVEMBER','DECEMBER']\n",
    "\n",
    "FIG_SIZE = (15,6)\n",
    "FIG_SIZE_SHORT = (15,3)\n",
    "GRID_DIMS = 15\n",
    "\n",
    "DO_WRITE_CHARTS = False"
   ]
  },
  {
   "cell_type": "markdown",
   "metadata": {},
   "source": [
    "# Load Review Data"
   ]
  },
  {
   "cell_type": "code",
   "execution_count": 4,
   "metadata": {
    "scrolled": true
   },
   "outputs": [
    {
     "name": "stdout",
     "output_type": "stream",
     "text": [
      "[21:35:18.420968] Loading Review Data...\n",
      "[21:35:18.427663] Reading 1 of 64 ../clean_data/reviews/00_-_reviews_clean.csv...\n",
      "[21:35:20.042073] Reading 2 of 64 ../clean_data/reviews/01_0_reviews_clean.csv...\n",
      "[21:35:21.611762] Reading 3 of 64 ../clean_data/reviews/02_1_reviews_clean.csv...\n",
      "[21:35:22.838381] Reading 4 of 64 ../clean_data/reviews/03_2_reviews_clean.csv...\n",
      "[21:35:24.065913] Reading 5 of 64 ../clean_data/reviews/04_3_reviews_clean.csv...\n",
      "[21:35:25.574859] Reading 6 of 64 ../clean_data/reviews/05_4_reviews_clean.csv...\n",
      "[21:35:26.922628] Reading 7 of 64 ../clean_data/reviews/06_5_reviews_clean.csv...\n",
      "[21:35:28.368421] Reading 8 of 64 ../clean_data/reviews/07_6_reviews_clean.csv...\n",
      "[21:35:29.692336] Reading 9 of 64 ../clean_data/reviews/08_7_reviews_clean.csv...\n",
      "[21:35:31.032349] Reading 10 of 64 ../clean_data/reviews/09_8_reviews_clean.csv...\n",
      "[21:35:32.219126] Reading 11 of 64 ../clean_data/reviews/10_9_reviews_clean.csv...\n",
      "[21:35:33.513875] Reading 12 of 64 ../clean_data/reviews/11_A_reviews_clean.csv...\n",
      "[21:35:35.010110] Reading 13 of 64 ../clean_data/reviews/12_B_reviews_clean.csv...\n",
      "[21:35:36.444044] Reading 14 of 64 ../clean_data/reviews/13_C_reviews_clean.csv...\n",
      "[21:35:37.811831] Reading 15 of 64 ../clean_data/reviews/14_D_reviews_clean.csv...\n",
      "[21:35:39.325322] Reading 16 of 64 ../clean_data/reviews/15_E_reviews_clean.csv...\n",
      "[21:35:40.831494] Reading 17 of 64 ../clean_data/reviews/16_F_reviews_clean.csv...\n",
      "[21:35:42.187747] Reading 18 of 64 ../clean_data/reviews/17_G_reviews_clean.csv...\n",
      "[21:35:43.576697] Reading 19 of 64 ../clean_data/reviews/18_H_reviews_clean.csv...\n",
      "[21:35:44.925729] Reading 20 of 64 ../clean_data/reviews/19_I_reviews_clean.csv...\n",
      "[21:35:46.298159] Reading 21 of 64 ../clean_data/reviews/20_J_reviews_clean.csv...\n",
      "[21:35:48.773651] Reading 22 of 64 ../clean_data/reviews/21_K_reviews_clean.csv...\n",
      "[21:35:50.320116] Reading 23 of 64 ../clean_data/reviews/22_L_reviews_clean.csv...\n",
      "[21:35:51.802330] Reading 24 of 64 ../clean_data/reviews/23_M_reviews_clean.csv...\n",
      "[21:35:53.088458] Reading 25 of 64 ../clean_data/reviews/24_N_reviews_clean.csv...\n",
      "[21:35:54.559447] Reading 26 of 64 ../clean_data/reviews/25_O_reviews_clean.csv...\n",
      "[21:35:56.049635] Reading 27 of 64 ../clean_data/reviews/26_P_reviews_clean.csv...\n",
      "[21:35:57.359292] Reading 28 of 64 ../clean_data/reviews/27_Q_reviews_clean.csv...\n",
      "[21:35:58.694654] Reading 29 of 64 ../clean_data/reviews/28_R_reviews_clean.csv...\n",
      "[21:36:00.302545] Reading 30 of 64 ../clean_data/reviews/29_S_reviews_clean.csv...\n",
      "[21:36:01.849085] Reading 31 of 64 ../clean_data/reviews/30_T_reviews_clean.csv...\n",
      "[21:36:03.334142] Reading 32 of 64 ../clean_data/reviews/31_U_reviews_clean.csv...\n",
      "[21:36:04.994159] Reading 33 of 64 ../clean_data/reviews/32_V_reviews_clean.csv...\n",
      "[21:36:06.852170] Reading 34 of 64 ../clean_data/reviews/33_W_reviews_clean.csv...\n",
      "[21:36:08.372922] Reading 35 of 64 ../clean_data/reviews/34_X_reviews_clean.csv...\n",
      "[21:36:10.278157] Reading 36 of 64 ../clean_data/reviews/35_Y_reviews_clean.csv...\n",
      "[21:36:11.793507] Reading 37 of 64 ../clean_data/reviews/36_Z_reviews_clean.csv...\n",
      "[21:36:15.232416] Reading 38 of 64 ../clean_data/reviews/37___reviews_clean.csv...\n",
      "[21:36:16.757643] Reading 39 of 64 ../clean_data/reviews/38_a_reviews_clean.csv...\n",
      "[21:36:18.704911] Reading 40 of 64 ../clean_data/reviews/39_b_reviews_clean.csv...\n",
      "[21:36:20.874941] Reading 41 of 64 ../clean_data/reviews/40_c_reviews_clean.csv...\n",
      "[21:36:22.795921] Reading 42 of 64 ../clean_data/reviews/41_d_reviews_clean.csv...\n",
      "[21:36:24.760058] Reading 43 of 64 ../clean_data/reviews/42_e_reviews_clean.csv...\n",
      "[21:36:27.091071] Reading 44 of 64 ../clean_data/reviews/43_f_reviews_clean.csv...\n",
      "[21:36:28.993221] Reading 45 of 64 ../clean_data/reviews/44_g_reviews_clean.csv...\n",
      "[21:36:33.599592] Reading 46 of 64 ../clean_data/reviews/45_h_reviews_clean.csv...\n",
      "[21:36:35.684689] Reading 47 of 64 ../clean_data/reviews/46_i_reviews_clean.csv...\n",
      "[21:36:37.450622] Reading 48 of 64 ../clean_data/reviews/47_j_reviews_clean.csv...\n",
      "[21:36:38.876455] Reading 49 of 64 ../clean_data/reviews/48_k_reviews_clean.csv...\n",
      "[21:36:40.318909] Reading 50 of 64 ../clean_data/reviews/49_l_reviews_clean.csv...\n",
      "[21:36:41.924846] Reading 51 of 64 ../clean_data/reviews/50_m_reviews_clean.csv...\n",
      "[21:36:44.351155] Reading 52 of 64 ../clean_data/reviews/51_n_reviews_clean.csv...\n",
      "[21:36:45.634805] Reading 53 of 64 ../clean_data/reviews/52_o_reviews_clean.csv...\n",
      "[21:36:47.496449] Reading 54 of 64 ../clean_data/reviews/53_p_reviews_clean.csv...\n",
      "[21:36:49.708382] Reading 55 of 64 ../clean_data/reviews/54_q_reviews_clean.csv...\n",
      "[21:36:51.705763] Reading 56 of 64 ../clean_data/reviews/55_r_reviews_clean.csv...\n",
      "[21:36:53.482961] Reading 57 of 64 ../clean_data/reviews/56_s_reviews_clean.csv...\n",
      "[21:36:55.369604] Reading 58 of 64 ../clean_data/reviews/57_t_reviews_clean.csv...\n",
      "[21:36:57.407356] Reading 59 of 64 ../clean_data/reviews/58_u_reviews_clean.csv...\n",
      "[21:36:59.908525] Reading 60 of 64 ../clean_data/reviews/59_v_reviews_clean.csv...\n",
      "[21:37:01.547543] Reading 61 of 64 ../clean_data/reviews/60_w_reviews_clean.csv...\n",
      "[21:37:03.316321] Reading 62 of 64 ../clean_data/reviews/61_x_reviews_clean.csv...\n",
      "[21:37:04.772632] Reading 63 of 64 ../clean_data/reviews/62_y_reviews_clean.csv...\n",
      "[21:37:07.155508] Reading 64 of 64 ../clean_data/reviews/63_z_reviews_clean.csv...\n",
      "[21:37:08.621976] merging to dataframe...\n",
      "[21:37:29.917083] reseting index...\n",
      "[21:37:30.284398] Complete!\n"
     ]
    }
   ],
   "source": [
    "time_marker(text='Loading Review Data...')\n",
    "\n",
    "reviews = pd.DataFrame()\n",
    "file_path_slug = '../clean_data/reviews/*.csv'\n",
    "file_list = glob(file_path_slug)\n",
    "\n",
    "\n",
    "# Chunk Settings\n",
    "chunks = list()\n",
    "chunksize = 10000\n",
    "for ii, file in enumerate(sorted(file_list)):\n",
    "    time_marker('Reading {} of {} {}...'.format(ii+1, len(file_list), file))\n",
    "    num_chunks = math.ceil(sum(1 for row in open(file, 'r'))/chunksize)\n",
    "    format_width = len(str(num_chunks))\n",
    "\n",
    "    # import file in chunks\n",
    "    for jj, chunk in enumerate(pd.read_csv(file, chunksize=chunksize, iterator=True, index_col=0, parse_dates=['date'])):\n",
    "\n",
    "        # drop reviews with missing review text\n",
    "        chunk = chunk[(~chunk.text.isnull()) & (~chunk.user_id.isnull())].copy()\n",
    "        \n",
    "        # append chunk to chunks list\n",
    "        chunks.append(chunk)\n",
    "        \n",
    "time_marker(text='merging to dataframe...')\n",
    "reviews = pd.concat(chunks)\n",
    "\n",
    "time_marker('reseting index...')\n",
    "reviews.reset_index(inplace=True, drop=True)\n",
    "time_marker(text='Complete!')\n"
   ]
  },
  {
   "cell_type": "code",
   "execution_count": 8,
   "metadata": {},
   "outputs": [],
   "source": [
    "reviews['date'] = pd.to_datetime(reviews['date'])\n",
    "\n",
    "reviews['cool']             = reviews['cool'].astype(int)\n",
    "reviews['funny']            = reviews['funny'].astype(int)\n",
    "reviews['stars']            = reviews['stars'].astype(int)\n",
    "\n",
    "reviews['useful'].fillna(0, inplace=True)\n",
    "reviews['useful']           = reviews['useful'].astype(int)\n",
    "\n",
    "reviews['review_length']    = reviews['review_length'].astype(int)"
   ]
  },
  {
   "cell_type": "code",
   "execution_count": 17,
   "metadata": {
    "scrolled": true
   },
   "outputs": [
    {
     "data": {
      "text/html": [
       "<div>\n",
       "<style scoped>\n",
       "    .dataframe tbody tr th:only-of-type {\n",
       "        vertical-align: middle;\n",
       "    }\n",
       "\n",
       "    .dataframe tbody tr th {\n",
       "        vertical-align: top;\n",
       "    }\n",
       "\n",
       "    .dataframe thead th {\n",
       "        text-align: right;\n",
       "    }\n",
       "</style>\n",
       "<table border=\"1\" class=\"dataframe\">\n",
       "  <thead>\n",
       "    <tr style=\"text-align: right;\">\n",
       "      <th></th>\n",
       "      <th>business_id</th>\n",
       "      <th>cool</th>\n",
       "      <th>date</th>\n",
       "      <th>funny</th>\n",
       "      <th>review_id</th>\n",
       "      <th>stars</th>\n",
       "      <th>text</th>\n",
       "      <th>useful</th>\n",
       "      <th>user_id</th>\n",
       "      <th>review_length</th>\n",
       "    </tr>\n",
       "  </thead>\n",
       "  <tbody>\n",
       "    <tr>\n",
       "      <th>0</th>\n",
       "      <td>-MhfebM0QIsKt87iDN-FNw</td>\n",
       "      <td>0</td>\n",
       "      <td>2012-08-10</td>\n",
       "      <td>0</td>\n",
       "      <td>tFf1QKZ8MR6gIC4Z2ekDVg</td>\n",
       "      <td>1</td>\n",
       "      <td>sadly my wife and i attended last nights wine ...</td>\n",
       "      <td>2</td>\n",
       "      <td>PIKBAhQq7OyJsvkHsbn9Iw</td>\n",
       "      <td>1162</td>\n",
       "    </tr>\n",
       "    <tr>\n",
       "      <th>1</th>\n",
       "      <td>-MhfebM0QIsKt87iDN-FNw</td>\n",
       "      <td>5</td>\n",
       "      <td>2012-02-27</td>\n",
       "      <td>5</td>\n",
       "      <td>Ahr7sNdGkNsDgOK3N4yRwQ</td>\n",
       "      <td>4</td>\n",
       "      <td>the bellagio gallery of fine art is small and ...</td>\n",
       "      <td>7</td>\n",
       "      <td>HFECrzYDpgbS5EmTBtj2zQ</td>\n",
       "      <td>576</td>\n",
       "    </tr>\n",
       "    <tr>\n",
       "      <th>2</th>\n",
       "      <td>-MhfebM0QIsKt87iDN-FNw</td>\n",
       "      <td>1</td>\n",
       "      <td>2013-01-04</td>\n",
       "      <td>0</td>\n",
       "      <td>yRuhN1lSAeFVD3qWtbuW5g</td>\n",
       "      <td>4</td>\n",
       "      <td>a touch of true not manufactured french impres...</td>\n",
       "      <td>1</td>\n",
       "      <td>pngNlr9t4HObDgecGH_jaw</td>\n",
       "      <td>1187</td>\n",
       "    </tr>\n",
       "    <tr>\n",
       "      <th>3</th>\n",
       "      <td>-MhfebM0QIsKt87iDN-FNw</td>\n",
       "      <td>0</td>\n",
       "      <td>2013-05-11</td>\n",
       "      <td>1</td>\n",
       "      <td>RaSU-d08Y2ywamgI3TOeRA</td>\n",
       "      <td>2</td>\n",
       "      <td>2 stars for the andy warhol exhibits value in ...</td>\n",
       "      <td>1</td>\n",
       "      <td>eZZyuJDouIg4p-GYB3PV_A</td>\n",
       "      <td>461</td>\n",
       "    </tr>\n",
       "    <tr>\n",
       "      <th>4</th>\n",
       "      <td>-MhfebM0QIsKt87iDN-FNw</td>\n",
       "      <td>0</td>\n",
       "      <td>2015-08-18</td>\n",
       "      <td>0</td>\n",
       "      <td>O467QnXRMUhGezSU7y1VPQ</td>\n",
       "      <td>5</td>\n",
       "      <td>bellagio prides itself on being one of the bes...</td>\n",
       "      <td>2</td>\n",
       "      <td>NqwJWpIcnp4pw53JW4buLg</td>\n",
       "      <td>1023</td>\n",
       "    </tr>\n",
       "  </tbody>\n",
       "</table>\n",
       "</div>"
      ],
      "text/plain": [
       "              business_id  cool       date  funny               review_id  \\\n",
       "0  -MhfebM0QIsKt87iDN-FNw     0 2012-08-10      0  tFf1QKZ8MR6gIC4Z2ekDVg   \n",
       "1  -MhfebM0QIsKt87iDN-FNw     5 2012-02-27      5  Ahr7sNdGkNsDgOK3N4yRwQ   \n",
       "2  -MhfebM0QIsKt87iDN-FNw     1 2013-01-04      0  yRuhN1lSAeFVD3qWtbuW5g   \n",
       "3  -MhfebM0QIsKt87iDN-FNw     0 2013-05-11      1  RaSU-d08Y2ywamgI3TOeRA   \n",
       "4  -MhfebM0QIsKt87iDN-FNw     0 2015-08-18      0  O467QnXRMUhGezSU7y1VPQ   \n",
       "\n",
       "   stars                                               text  useful  \\\n",
       "0      1  sadly my wife and i attended last nights wine ...       2   \n",
       "1      4  the bellagio gallery of fine art is small and ...       7   \n",
       "2      4  a touch of true not manufactured french impres...       1   \n",
       "3      2  2 stars for the andy warhol exhibits value in ...       1   \n",
       "4      5  bellagio prides itself on being one of the bes...       2   \n",
       "\n",
       "                  user_id  review_length  \n",
       "0  PIKBAhQq7OyJsvkHsbn9Iw           1162  \n",
       "1  HFECrzYDpgbS5EmTBtj2zQ            576  \n",
       "2  pngNlr9t4HObDgecGH_jaw           1187  \n",
       "3  eZZyuJDouIg4p-GYB3PV_A            461  \n",
       "4  NqwJWpIcnp4pw53JW4buLg           1023  "
      ]
     },
     "execution_count": 17,
     "metadata": {},
     "output_type": "execute_result"
    }
   ],
   "source": [
    "reviews.head()"
   ]
  },
  {
   "cell_type": "code",
   "execution_count": 18,
   "metadata": {
    "scrolled": false
   },
   "outputs": [
    {
     "name": "stdout",
     "output_type": "stream",
     "text": [
      "<class 'pandas.core.frame.DataFrame'>\n",
      "RangeIndex: 4736882 entries, 0 to 4736881\n",
      "Data columns (total 10 columns):\n",
      "business_id      object\n",
      "cool             int64\n",
      "date             datetime64[ns]\n",
      "funny            int64\n",
      "review_id        object\n",
      "stars            int64\n",
      "text             object\n",
      "useful           int64\n",
      "user_id          object\n",
      "review_length    int64\n",
      "dtypes: datetime64[ns](1), int64(5), object(4)\n",
      "memory usage: 361.4+ MB\n"
     ]
    }
   ],
   "source": [
    "reviews.info()"
   ]
  },
  {
   "cell_type": "code",
   "execution_count": 19,
   "metadata": {},
   "outputs": [
    {
     "name": "stdout",
     "output_type": "stream",
     "text": [
      "    156638 unique business_id  values\n",
      "       160 unique cool         values\n",
      "      4409 unique date         values\n",
      "       152 unique funny        values\n",
      "   4736882 unique review_id    values\n",
      "         5 unique stars        values\n",
      "   4733869 unique text         values\n",
      "       205 unique useful       values\n",
      "   1183362 unique user_id      values\n",
      "      4938 unique review_length values\n"
     ]
    }
   ],
   "source": [
    "for col in reviews.columns:\n",
    "    print('{} unique {} values'.format(str(len(reviews[col].unique())).rjust(10), col.ljust(12)))"
   ]
  },
  {
   "cell_type": "markdown",
   "metadata": {},
   "source": [
    "# Exploratory Data Analysis"
   ]
  },
  {
   "cell_type": "markdown",
   "metadata": {},
   "source": [
    "# Annual Growth"
   ]
  },
  {
   "cell_type": "code",
   "execution_count": 22,
   "metadata": {
    "scrolled": false
   },
   "outputs": [
    {
     "data": {
      "image/png": "[encoded data removed]",
      "text/plain": [
       "<matplotlib.figure.Figure at 0x1aa5fac860>"
      ]
     },
     "metadata": {},
     "output_type": "display_data"
    }
   ],
   "source": [
    "reviews_df = reviews[['date', 'stars', 'useful' , 'funny', 'cool']].copy()\n",
    "reviews_by_date = reviews_df.groupby('date').sum()\n",
    "reviews_by_date.head(3)\n",
    "\n",
    "ax = reviews_by_date.resample('D').sum().rolling(365).sum().plot(figsize=FIG_SIZE)\n",
    "ax.legend(loc=2, frameon=True)\n",
    "ax.set_title('Annual Review Votes - Rolling')\n",
    "plt.show()\n",
    "plt.close()"
   ]
  },
  {
   "cell_type": "code",
   "execution_count": 23,
   "metadata": {},
   "outputs": [
    {
     "data": {
      "image/png": "[encoded data removed]",
      "text/plain": [
       "<matplotlib.figure.Figure at 0x1a84ba9f60>"
      ]
     },
     "metadata": {},
     "output_type": "display_data"
    }
   ],
   "source": [
    "plt.subplots(figsize=FIG_SIZE)\n",
    "ax = reviews.groupby(reviews.date).count()['user_id'].resample('D').sum().rolling(365).mean().plot(color='g')\n",
    "plt.show()\n",
    "plt.close()"
   ]
  },
  {
   "cell_type": "markdown",
   "metadata": {
    "collapsed": true
   },
   "source": [
    "# Simple Recommenders\n",
    "<ul>\n",
    "    <li>Decide on the metric or score to rate reviews on</li>\n",
    "    <li><b>IMDB Top 250 Rattin Weights</b></li>\n",
    "</ul>\n",
    "\n",
    "<ul>\n",
    "    <li>Calculate score on every review</li>\n",
    "    <li></li>\n",
    "</ul>\n",
    "\n",
    "<ul>\n",
    "    <li>sort movies based on that score, output top ten</li>\n",
    "    <li></li>\n",
    "</ul>"
   ]
  },
  {
   "cell_type": "code",
   "execution_count": 74,
   "metadata": {},
   "outputs": [
    {
     "name": "stdout",
     "output_type": "stream",
     "text": [
      "[23:18:45.066481] v = number of reviews...\n",
      "[23:18:48.579655] m = min_rating_for_consideration - top 90th percentile in this case is the cutoff...\n",
      "[23:18:51.151993] R = business_average_rating...\n",
      "[23:18:53.388213] C = global_mean_rating...\n"
     ]
    }
   ],
   "source": [
    "\n",
    "time_marker('v = number of reviews...')\n",
    "v = reviews.groupby('business_id').count()['review_id']\n",
    "\n",
    "time_marker('m = min_rating_for_consideration - top 90th percentile in this case is the cutoff...')\n",
    "m = reviews.groupby('business_id').count()['review_id'].quantile(0.90)\n",
    "\n",
    "time_marker('R = business_average_rating...')\n",
    "R = reviews.groupby('business_id').mean()['stars']\n",
    "\n",
    "time_marker('C = global_mean_rating...')\n",
    "C = reviews.stars.mean()"
   ]
  },
  {
   "cell_type": "code",
   "execution_count": 76,
   "metadata": {},
   "outputs": [],
   "source": [
    "def get_weighted_rating(v, m , R, C):\n",
    "    weighted_rating = (v / (v+m) * R) + (m/(v+m)*C)\n",
    "    \n",
    "    return weighted_rating"
   ]
  },
  {
   "cell_type": "markdown",
   "metadata": {},
   "source": [
    "## Get subset of business with review counts in the top 90th percentile"
   ]
  },
  {
   "cell_type": "code",
   "execution_count": 77,
   "metadata": {
    "scrolled": true
   },
   "outputs": [
    {
     "name": "stdout",
     "output_type": "stream",
     "text": [
      "<class 'pandas.core.frame.DataFrame'>\n",
      "RangeIndex: 2921654 entries, 0 to 2921653\n",
      "Data columns (total 10 columns):\n",
      "business_id      object\n",
      "cool             int64\n",
      "date             datetime64[ns]\n",
      "funny            int64\n",
      "review_id        object\n",
      "stars            int64\n",
      "text             object\n",
      "useful           int64\n",
      "user_id          object\n",
      "review_length    int64\n",
      "dtypes: datetime64[ns](1), int64(5), object(4)\n",
      "memory usage: 222.9+ MB\n"
     ]
    }
   ],
   "source": [
    "# select reviews of businesses in top 90th percentile\n",
    "review_counts = reviews.groupby('business_id').count()['review_id'].to_frame()\n",
    "review_counts = review_counts[review_counts.review_id >= reviews.groupby('business_id').count()['review_id'].quantile(0.90)]\n",
    "\n",
    "top_90_bid = list(review_counts.index)\n",
    "\n",
    "top_90th = reviews[reviews['business_id'].isin(top_90_bid)].copy()\n",
    "\n",
    "top_90th.reset_index(inplace=True, drop=True)\n",
    "top_90th.info()"
   ]
  },
  {
   "cell_type": "code",
   "execution_count": null,
   "metadata": {},
   "outputs": [],
   "source": []
  },
  {
   "cell_type": "code",
   "execution_count": null,
   "metadata": {},
   "outputs": [],
   "source": []
  },
  {
   "cell_type": "code",
   "execution_count": null,
   "metadata": {},
   "outputs": [],
   "source": []
  },
  {
   "cell_type": "code",
   "execution_count": null,
   "metadata": {},
   "outputs": [],
   "source": []
  },
  {
   "cell_type": "code",
   "execution_count": null,
   "metadata": {},
   "outputs": [],
   "source": []
  },
  {
   "cell_type": "code",
   "execution_count": null,
   "metadata": {},
   "outputs": [],
   "source": []
  },
  {
   "cell_type": "code",
   "execution_count": null,
   "metadata": {},
   "outputs": [],
   "source": []
  },
  {
   "cell_type": "code",
   "execution_count": null,
   "metadata": {},
   "outputs": [],
   "source": []
  },
  {
   "cell_type": "code",
   "execution_count": null,
   "metadata": {},
   "outputs": [],
   "source": []
  }
 ],
 "metadata": {
  "kernelspec": {
   "display_name": "Python 3",
   "language": "python",
   "name": "python3"
  },
  "language_info": {
   "codemirror_mode": {
    "name": "ipython",
    "version": 3
   },
   "file_extension": ".py",
   "mimetype": "text/x-python",
   "name": "python",
   "nbconvert_exporter": "python",
   "pygments_lexer": "ipython3",
   "version": "3.6.3"
  }
 },
 "nbformat": 4,
 "nbformat_minor": 2
}
