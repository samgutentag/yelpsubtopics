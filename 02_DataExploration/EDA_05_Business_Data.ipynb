{
 "cells": [
  {
   "cell_type": "markdown",
   "metadata": {},
   "source": [
    "# Business Data EDA"
   ]
  },
  {
   "cell_type": "code",
   "execution_count": 1,
   "metadata": {},
   "outputs": [],
   "source": [
    "%matplotlib inline\n",
    "import numpy as np\n",
    "import math\n",
    "import matplotlib.pyplot as plt\n",
    "import pandas as pd\n",
    "import datetime\n",
    "from glob import glob\n",
    "\n",
    "import seaborn as sns\n",
    "sns.set_style('whitegrid')\n",
    "sns.set_context(\"poster\")"
   ]
  },
  {
   "cell_type": "code",
   "execution_count": 2,
   "metadata": {},
   "outputs": [],
   "source": [
    "def time_marker(text=''):\n",
    "    print('[{}] {}'.format(datetime.datetime.now().time(), text))"
   ]
  },
  {
   "cell_type": "code",
   "execution_count": 3,
   "metadata": {},
   "outputs": [
    {
     "data": {
      "text/html": [
       "<style>.container { width:95% !important; }</style>"
      ],
      "text/plain": [
       "<IPython.core.display.HTML object>"
      ]
     },
     "metadata": {},
     "output_type": "display_data"
    }
   ],
   "source": [
    "from IPython.core.display import display, HTML\n",
    "display(HTML(\"<style>.container { width:95% !important; }</style>\"))\n",
    "\n",
    "import matplotlib\n",
    "font = {'size' : 50}\n",
    "matplotlib.rc('font', **font)\n",
    "\n",
    "TITLE_FONT_SIZE = 25\n",
    "LABEL_FONT_SIZE = 15\n",
    "TICK_FONT_SIZE  = 15\n",
    "\n",
    "day_labels = ['MON','TUE','WED','THU','FRI','SAT','SUN']\n",
    "day_labels_full = ['MONDAY','TUESDAY','WEDNESDAY','THURSDAY','FRIDAY','SATURDAY','SUNDAY']\n",
    "month_labels = ['JAN','FEB','MAR','APR','MAY','JUN','JUL','AUG','SEP','OCT','NOV','DEC']\n",
    "month_labels_full = ['JANUARY','FEBRUARY','MARCH','APRIL','MAY','JUNE','JULY','AUGUST','SEPTEMBER','OCTOBER','NOVEMBER','DECEMBER']\n",
    "\n",
    "FIG_SIZE = (15,6)\n",
    "FIG_SIZE_SHORT = (15,3)\n",
    "GRID_DIMS = 15\n",
    "\n",
    "DO_WRITE_CHARTS = False"
   ]
  },
  {
   "cell_type": "markdown",
   "metadata": {},
   "source": [
    "# Load Review Data"
   ]
  },
  {
   "cell_type": "code",
   "execution_count": 4,
   "metadata": {
    "scrolled": true
   },
   "outputs": [
    {
     "name": "stdout",
     "output_type": "stream",
     "text": [
      "[10:01:47.250668] Loading Review Data...\n",
      "[10:01:47.256047] Reading 1 of 64 ../clean_data/business/07_6_business_clean.csv...\n"
     ]
    },
    {
     "name": "stderr",
     "output_type": "stream",
     "text": [
      "/Users/samgutentag/anaconda/envs/spring/lib/python3.6/site-packages/IPython/core/interactiveshell.py:2728: DtypeWarning: Columns (28,60,61,62,63,64,65,66) have mixed types. Specify dtype option on import or set low_memory=False.\n",
      "  interactivity=interactivity, compiler=compiler, result=result)\n"
     ]
    },
    {
     "name": "stdout",
     "output_type": "stream",
     "text": [
      "[10:01:48.099936] \tfinished chunk 1 of 1\n",
      "[10:01:48.100211] Reading 2 of 64 ../clean_data/business/26_P_business_clean.csv...\n"
     ]
    },
    {
     "name": "stderr",
     "output_type": "stream",
     "text": [
      "/Users/samgutentag/anaconda/envs/spring/lib/python3.6/site-packages/IPython/core/interactiveshell.py:2728: DtypeWarning: Columns (28,60,61,62,63,64,65,66,77,78,84) have mixed types. Specify dtype option on import or set low_memory=False.\n",
      "  interactivity=interactivity, compiler=compiler, result=result)\n"
     ]
    },
    {
     "name": "stdout",
     "output_type": "stream",
     "text": [
      "[10:01:48.861015] \tfinished chunk 1 of 1\n",
      "[10:01:48.861462] Reading 3 of 64 ../clean_data/business/33_W_business_clean.csv...\n"
     ]
    },
    {
     "name": "stderr",
     "output_type": "stream",
     "text": [
      "/Users/samgutentag/anaconda/envs/spring/lib/python3.6/site-packages/IPython/core/interactiveshell.py:2728: DtypeWarning: Columns (60,61,62,63,64,65,66) have mixed types. Specify dtype option on import or set low_memory=False.\n",
      "  interactivity=interactivity, compiler=compiler, result=result)\n"
     ]
    },
    {
     "name": "stdout",
     "output_type": "stream",
     "text": [
      "[10:01:49.684409] \tfinished chunk 1 of 1\n",
      "[10:01:49.684684] Reading 4 of 64 ../clean_data/business/24_N_business_clean.csv...\n",
      "[10:01:50.444411] \tfinished chunk 1 of 1\n",
      "[10:01:50.445015] Reading 5 of 64 ../clean_data/business/36_Z_business_clean.csv...\n",
      "[10:01:51.167927] \tfinished chunk 1 of 1\n",
      "[10:01:51.168166] Reading 6 of 64 ../clean_data/business/49_l_business_clean.csv...\n"
     ]
    },
    {
     "name": "stderr",
     "output_type": "stream",
     "text": [
      "/Users/samgutentag/anaconda/envs/spring/lib/python3.6/site-packages/IPython/core/interactiveshell.py:2728: DtypeWarning: Columns (28,40,60,61,62,63,64,65,66) have mixed types. Specify dtype option on import or set low_memory=False.\n",
      "  interactivity=interactivity, compiler=compiler, result=result)\n"
     ]
    },
    {
     "name": "stdout",
     "output_type": "stream",
     "text": [
      "[10:01:51.971269] \tfinished chunk 1 of 1\n",
      "[10:01:51.971517] Reading 7 of 64 ../clean_data/business/13_C_business_clean.csv...\n",
      "[10:01:52.754361] \tfinished chunk 1 of 1\n",
      "[10:01:52.754607] Reading 8 of 64 ../clean_data/business/57_t_business_clean.csv...\n",
      "[10:01:53.631600] \tfinished chunk 1 of 1\n",
      "[10:01:53.631884] Reading 9 of 64 ../clean_data/business/29_S_business_clean.csv...\n",
      "[10:01:54.753213] \tfinished chunk 1 of 1\n",
      "[10:01:54.753479] Reading 10 of 64 ../clean_data/business/18_H_business_clean.csv...\n",
      "[10:01:55.906380] \tfinished chunk 1 of 1\n",
      "[10:01:55.906627] Reading 11 of 64 ../clean_data/business/22_L_business_clean.csv...\n",
      "[10:01:56.712683] \tfinished chunk 1 of 1\n",
      "[10:01:56.712943] Reading 12 of 64 ../clean_data/business/14_D_business_clean.csv...\n",
      "[10:01:57.489882] \tfinished chunk 1 of 1\n",
      "[10:01:57.490467] Reading 13 of 64 ../clean_data/business/47_j_business_clean.csv...\n",
      "[10:01:58.184349] \tfinished chunk 1 of 1\n",
      "[10:01:58.184663] Reading 14 of 64 ../clean_data/business/40_c_business_clean.csv...\n",
      "[10:01:58.895922] \tfinished chunk 1 of 1\n",
      "[10:01:58.896252] Reading 15 of 64 ../clean_data/business/60_w_business_clean.csv...\n",
      "[10:01:59.614214] \tfinished chunk 1 of 1\n",
      "[10:01:59.614463] Reading 16 of 64 ../clean_data/business/46_i_business_clean.csv...\n",
      "[10:02:00.323852] \tfinished chunk 1 of 1\n",
      "[10:02:00.324129] Reading 17 of 64 ../clean_data/business/00_-_business_clean.csv...\n",
      "[10:02:01.217051] \tfinished chunk 1 of 1\n",
      "[10:02:01.217439] Reading 18 of 64 ../clean_data/business/21_K_business_clean.csv...\n",
      "[10:02:02.065360] \tfinished chunk 1 of 1\n",
      "[10:02:02.065599] Reading 19 of 64 ../clean_data/business/45_h_business_clean.csv...\n",
      "[10:02:03.040239] \tfinished chunk 1 of 1\n",
      "[10:02:03.040608] Reading 20 of 64 ../clean_data/business/16_F_business_clean.csv...\n"
     ]
    },
    {
     "name": "stderr",
     "output_type": "stream",
     "text": [
      "/Users/samgutentag/anaconda/envs/spring/lib/python3.6/site-packages/IPython/core/interactiveshell.py:2728: DtypeWarning: Columns (28,60,61,62,63,64,65,66,77,78,79,80,81,82,83,84) have mixed types. Specify dtype option on import or set low_memory=False.\n",
      "  interactivity=interactivity, compiler=compiler, result=result)\n"
     ]
    },
    {
     "name": "stdout",
     "output_type": "stream",
     "text": [
      "[10:02:03.960066] \tfinished chunk 1 of 1\n",
      "[10:02:03.960427] Reading 21 of 64 ../clean_data/business/11_A_business_clean.csv...\n",
      "[10:02:04.763257] \tfinished chunk 1 of 1\n",
      "[10:02:04.763561] Reading 22 of 64 ../clean_data/business/06_5_business_clean.csv...\n",
      "[10:02:05.572966] \tfinished chunk 1 of 1\n",
      "[10:02:05.573273] Reading 23 of 64 ../clean_data/business/09_8_business_clean.csv...\n",
      "[10:02:06.400113] \tfinished chunk 1 of 1\n",
      "[10:02:06.400442] Reading 24 of 64 ../clean_data/business/34_X_business_clean.csv...\n",
      "[10:02:07.364890] \tfinished chunk 1 of 1\n",
      "[10:02:07.365235] Reading 25 of 64 ../clean_data/business/31_U_business_clean.csv...\n",
      "[10:02:08.228174] \tfinished chunk 1 of 1\n",
      "[10:02:08.228546] Reading 26 of 64 ../clean_data/business/05_4_business_clean.csv...\n",
      "[10:02:08.993347] \tfinished chunk 1 of 1\n",
      "[10:02:08.993585] Reading 27 of 64 ../clean_data/business/50_m_business_clean.csv...\n",
      "[10:02:09.812117] \tfinished chunk 1 of 1\n",
      "[10:02:09.812427] Reading 28 of 64 ../clean_data/business/59_v_business_clean.csv...\n",
      "[10:02:10.886354] \tfinished chunk 1 of 1\n",
      "[10:02:10.886631] Reading 29 of 64 ../clean_data/business/01_0_business_clean.csv...\n",
      "[10:02:11.716782] \tfinished chunk 1 of 1\n",
      "[10:02:11.717037] Reading 30 of 64 ../clean_data/business/37___business_clean.csv...\n",
      "[10:02:12.560183] \tfinished chunk 1 of 1\n",
      "[10:02:12.560416] Reading 31 of 64 ../clean_data/business/15_E_business_clean.csv...\n",
      "[10:02:13.383127] \tfinished chunk 1 of 1\n",
      "[10:02:13.383422] Reading 32 of 64 ../clean_data/business/02_1_business_clean.csv...\n",
      "[10:02:14.181765] \tfinished chunk 1 of 1\n",
      "[10:02:14.182019] Reading 33 of 64 ../clean_data/business/23_M_business_clean.csv...\n"
     ]
    },
    {
     "name": "stderr",
     "output_type": "stream",
     "text": [
      "/Users/samgutentag/anaconda/envs/spring/lib/python3.6/site-packages/IPython/core/interactiveshell.py:2728: DtypeWarning: Columns (28) have mixed types. Specify dtype option on import or set low_memory=False.\n",
      "  interactivity=interactivity, compiler=compiler, result=result)\n"
     ]
    },
    {
     "name": "stdout",
     "output_type": "stream",
     "text": [
      "[10:02:14.995448] \tfinished chunk 1 of 1\n",
      "[10:02:14.995702] Reading 34 of 64 ../clean_data/business/19_I_business_clean.csv...\n",
      "[10:02:15.756186] \tfinished chunk 1 of 1\n",
      "[10:02:15.756452] Reading 35 of 64 ../clean_data/business/43_f_business_clean.csv...\n",
      "[10:02:16.445875] \tfinished chunk 1 of 1\n",
      "[10:02:16.446126] Reading 36 of 64 ../clean_data/business/28_R_business_clean.csv...\n",
      "[10:02:17.118451] \tfinished chunk 1 of 1\n",
      "[10:02:17.118714] Reading 37 of 64 ../clean_data/business/38_a_business_clean.csv...\n",
      "[10:02:17.861130] \tfinished chunk 1 of 1\n",
      "[10:02:17.861412] Reading 38 of 64 ../clean_data/business/54_q_business_clean.csv...\n",
      "[10:02:18.555849] \tfinished chunk 1 of 1\n",
      "[10:02:18.556099] Reading 39 of 64 ../clean_data/business/12_B_business_clean.csv...\n",
      "[10:02:19.292823] \tfinished chunk 1 of 1\n",
      "[10:02:19.293073] Reading 40 of 64 ../clean_data/business/62_y_business_clean.csv...\n",
      "[10:02:20.026782] \tfinished chunk 1 of 1\n",
      "[10:02:20.027018] Reading 41 of 64 ../clean_data/business/04_3_business_clean.csv...\n",
      "[10:02:20.761200] \tfinished chunk 1 of 1\n",
      "[10:02:20.761452] Reading 42 of 64 ../clean_data/business/25_O_business_clean.csv...\n",
      "[10:02:21.489654] \tfinished chunk 1 of 1\n",
      "[10:02:21.489910] Reading 43 of 64 ../clean_data/business/32_V_business_clean.csv...\n",
      "[10:02:22.211979] \tfinished chunk 1 of 1\n",
      "[10:02:22.212242] Reading 44 of 64 ../clean_data/business/27_Q_business_clean.csv...\n",
      "[10:02:22.935468] \tfinished chunk 1 of 1\n",
      "[10:02:22.935730] Reading 45 of 64 ../clean_data/business/61_x_business_clean.csv...\n",
      "[10:02:23.647849] \tfinished chunk 1 of 1\n",
      "[10:02:23.648103] Reading 46 of 64 ../clean_data/business/55_r_business_clean.csv...\n",
      "[10:02:24.358221] \tfinished chunk 1 of 1\n",
      "[10:02:24.358470] Reading 47 of 64 ../clean_data/business/63_z_business_clean.csv...\n",
      "[10:02:25.179098] \tfinished chunk 1 of 1\n",
      "[10:02:25.179350] Reading 48 of 64 ../clean_data/business/30_T_business_clean.csv...\n",
      "[10:02:25.972272] \tfinished chunk 1 of 1\n",
      "[10:02:25.972523] Reading 49 of 64 ../clean_data/business/39_b_business_clean.csv...\n",
      "[10:02:26.687730] \tfinished chunk 1 of 1\n",
      "[10:02:26.687980] Reading 50 of 64 ../clean_data/business/35_Y_business_clean.csv...\n",
      "[10:02:27.371285] \tfinished chunk 1 of 1\n",
      "[10:02:27.371520] Reading 51 of 64 ../clean_data/business/56_s_business_clean.csv...\n",
      "[10:02:28.082100] \tfinished chunk 1 of 1\n",
      "[10:02:28.082354] Reading 52 of 64 ../clean_data/business/44_g_business_clean.csv...\n",
      "[10:02:28.763290] \tfinished chunk 1 of 1\n",
      "[10:02:28.763543] Reading 53 of 64 ../clean_data/business/48_k_business_clean.csv...\n",
      "[10:02:29.452225] \tfinished chunk 1 of 1\n",
      "[10:02:29.452540] Reading 54 of 64 ../clean_data/business/53_p_business_clean.csv...\n",
      "[10:02:30.150027] \tfinished chunk 1 of 1\n",
      "[10:02:30.150280] Reading 55 of 64 ../clean_data/business/10_9_business_clean.csv...\n",
      "[10:02:30.850148] \tfinished chunk 1 of 1\n",
      "[10:02:30.850412] Reading 56 of 64 ../clean_data/business/41_d_business_clean.csv...\n",
      "[10:02:31.539717] \tfinished chunk 1 of 1\n",
      "[10:02:31.539963] Reading 57 of 64 ../clean_data/business/17_G_business_clean.csv...\n",
      "[10:02:32.247341] \tfinished chunk 1 of 1\n",
      "[10:02:32.247591] Reading 58 of 64 ../clean_data/business/51_n_business_clean.csv...\n"
     ]
    },
    {
     "name": "stderr",
     "output_type": "stream",
     "text": [
      "/Users/samgutentag/anaconda/envs/spring/lib/python3.6/site-packages/IPython/core/interactiveshell.py:2728: DtypeWarning: Columns (60,61,62,63,64,65,66,77,78,84) have mixed types. Specify dtype option on import or set low_memory=False.\n",
      "  interactivity=interactivity, compiler=compiler, result=result)\n"
     ]
    },
    {
     "name": "stdout",
     "output_type": "stream",
     "text": [
      "[10:02:32.941359] \tfinished chunk 1 of 1\n",
      "[10:02:32.941636] Reading 59 of 64 ../clean_data/business/58_u_business_clean.csv...\n",
      "[10:02:33.625476] \tfinished chunk 1 of 1\n",
      "[10:02:33.625726] Reading 60 of 64 ../clean_data/business/20_J_business_clean.csv...\n",
      "[10:02:34.334853] \tfinished chunk 1 of 1\n",
      "[10:02:34.335105] Reading 61 of 64 ../clean_data/business/42_e_business_clean.csv...\n",
      "[10:02:35.016935] \tfinished chunk 1 of 1\n",
      "[10:02:35.017185] Reading 62 of 64 ../clean_data/business/08_7_business_clean.csv...\n",
      "[10:02:35.711625] \tfinished chunk 1 of 1\n",
      "[10:02:35.711874] Reading 63 of 64 ../clean_data/business/03_2_business_clean.csv...\n",
      "[10:02:36.418421] \tfinished chunk 1 of 1\n",
      "[10:02:36.418674] Reading 64 of 64 ../clean_data/business/52_o_business_clean.csv...\n",
      "[10:02:37.128803] \tfinished chunk 1 of 1\n",
      "[10:02:37.129143] merging to dataframe...\n",
      "[10:02:47.489661] reseting index...\n",
      "[10:02:47.495036] Complete!\n"
     ]
    }
   ],
   "source": [
    "time_marker(text='Loading Review Data...')\n",
    "\n",
    "business = pd.DataFrame()\n",
    "file_path_slug = '../clean_data/business/*.csv'\n",
    "file_list = glob(file_path_slug)\n",
    "\n",
    "\n",
    "# Chunk Settings\n",
    "chunks = list()\n",
    "chunksize = 10000\n",
    "newest_review_date = pd.Timestamp('2017-07-26')\n",
    "\n",
    "for ii, file in enumerate(file_list):\n",
    "    time_marker('Reading {} of {} {}...'.format(ii+1, len(file_list), file))\n",
    "    num_chunks = math.ceil(sum(1 for row in open(file, 'r'))/chunksize)\n",
    "    format_width = len(str(num_chunks))\n",
    "\n",
    "    # import file in chunks\n",
    "    for jj, chunk in enumerate(pd.read_csv(file, chunksize=chunksize, iterator=True, index_col=0)):\n",
    "\n",
    "#         # drop reviews with missing review text\n",
    "#         chunk = chunk[~chunk.text.isnull()].copy()\n",
    "        \n",
    "        # lowercase text\n",
    "#         chunk.text = chunk.text.str.lower()\n",
    "#         chunk['review_length'] = chunk.text.str.len()\n",
    "        \n",
    "#         # append review age in days, previously found the 'newest review' to be 2017-07-26\n",
    "#         chunk['review_age'] = chunk.apply(lambda row: (newest_review_date - row.date).days, axis=1)\n",
    "        \n",
    "        \n",
    "        # append chunk to chunks list\n",
    "        chunks.append(chunk)        \n",
    "        \n",
    "        if jj % 10 == 0 or jj == num_chunks:\n",
    "            time_marker(text='\\tfinished chunk {} of {}'.format(str(jj+1).rjust(format_width), str(num_chunks).rjust(format_width)))\n",
    "\n",
    "time_marker(text='merging to dataframe...')\n",
    "business = pd.concat(chunks)\n",
    "\n",
    "time_marker('reseting index...')\n",
    "business.reset_index(inplace=True, drop=True)\n",
    "time_marker(text='Complete!')\n"
   ]
  },
  {
   "cell_type": "code",
   "execution_count": 5,
   "metadata": {},
   "outputs": [
    {
     "ename": "NameError",
     "evalue": "name 'reviews' is not defined",
     "output_type": "error",
     "traceback": [
      "\u001b[0;31m---------------------------------------------------------------------------\u001b[0m",
      "\u001b[0;31mNameError\u001b[0m                                 Traceback (most recent call last)",
      "\u001b[0;32m<ipython-input-5-1b52793800d8>\u001b[0m in \u001b[0;36m<module>\u001b[0;34m()\u001b[0m\n\u001b[0;32m----> 1\u001b[0;31m \u001b[0mreviews\u001b[0m\u001b[0;34m.\u001b[0m\u001b[0minfo\u001b[0m\u001b[0;34m(\u001b[0m\u001b[0;34m)\u001b[0m\u001b[0;34m\u001b[0m\u001b[0m\n\u001b[0m",
      "\u001b[0;31mNameError\u001b[0m: name 'reviews' is not defined"
     ]
    }
   ],
   "source": [
    "reviews.info()"
   ]
  },
  {
   "cell_type": "code",
   "execution_count": 5,
   "metadata": {
    "scrolled": false
   },
   "outputs": [
    {
     "data": {
      "text/html": [
       "<div>\n",
       "<style scoped>\n",
       "    .dataframe tbody tr th:only-of-type {\n",
       "        vertical-align: middle;\n",
       "    }\n",
       "\n",
       "    .dataframe tbody tr th {\n",
       "        vertical-align: top;\n",
       "    }\n",
       "\n",
       "    .dataframe thead th {\n",
       "        text-align: right;\n",
       "    }\n",
       "</style>\n",
       "<table border=\"1\" class=\"dataframe\">\n",
       "  <thead>\n",
       "    <tr style=\"text-align: right;\">\n",
       "      <th></th>\n",
       "      <th>business_id</th>\n",
       "      <th>cool</th>\n",
       "      <th>date</th>\n",
       "      <th>funny</th>\n",
       "      <th>review_id</th>\n",
       "      <th>stars</th>\n",
       "      <th>text</th>\n",
       "      <th>useful</th>\n",
       "      <th>user_id</th>\n",
       "      <th>review_length</th>\n",
       "      <th>review_age</th>\n",
       "    </tr>\n",
       "  </thead>\n",
       "  <tbody>\n",
       "    <tr>\n",
       "      <th>0</th>\n",
       "      <td>uYHaNptLzDLoV_JZ_MuzUA</td>\n",
       "      <td>0</td>\n",
       "      <td>2014-05-07</td>\n",
       "      <td>0.0</td>\n",
       "      <td>fbVYETRuWDw8QnpimpGMpg</td>\n",
       "      <td>4.0</td>\n",
       "      <td>well  i like the idea of motel one. always in ...</td>\n",
       "      <td>1.0</td>\n",
       "      <td>Cx4UCow0zQgFQOp47RRRaA</td>\n",
       "      <td>314</td>\n",
       "      <td>1176</td>\n",
       "    </tr>\n",
       "    <tr>\n",
       "      <th>1</th>\n",
       "      <td>jQsNFOzDpxPmOurSWCg1vQ</td>\n",
       "      <td>0</td>\n",
       "      <td>2014-04-22</td>\n",
       "      <td>0.0</td>\n",
       "      <td>fk8OI26dAhQfot46T_SXWg</td>\n",
       "      <td>1.0</td>\n",
       "      <td>if i could give no stars i would. my family pl...</td>\n",
       "      <td>0.0</td>\n",
       "      <td>KrQ_dWOBn2voaQLNv7hj8A</td>\n",
       "      <td>683</td>\n",
       "      <td>1191</td>\n",
       "    </tr>\n",
       "    <tr>\n",
       "      <th>2</th>\n",
       "      <td>jQsNFOzDpxPmOurSWCg1vQ</td>\n",
       "      <td>1</td>\n",
       "      <td>2014-05-03</td>\n",
       "      <td>0.0</td>\n",
       "      <td>CxVx2FD73kw--RuzXL_RVA</td>\n",
       "      <td>4.0</td>\n",
       "      <td>i like pei wei overall and enjoy their varied ...</td>\n",
       "      <td>1.0</td>\n",
       "      <td>xlkjaJUu2fVojeaaVgQPOw</td>\n",
       "      <td>143</td>\n",
       "      <td>1180</td>\n",
       "    </tr>\n",
       "    <tr>\n",
       "      <th>3</th>\n",
       "      <td>jQsNFOzDpxPmOurSWCg1vQ</td>\n",
       "      <td>1</td>\n",
       "      <td>2014-05-29</td>\n",
       "      <td>1.0</td>\n",
       "      <td>jJaU6pbKkYgl15P-5zfg3A</td>\n",
       "      <td>3.0</td>\n",
       "      <td>everything was good except thai chicken wraps....</td>\n",
       "      <td>0.0</td>\n",
       "      <td>alTlRb9qMBX11pARX05Big</td>\n",
       "      <td>232</td>\n",
       "      <td>1154</td>\n",
       "    </tr>\n",
       "    <tr>\n",
       "      <th>4</th>\n",
       "      <td>jQsNFOzDpxPmOurSWCg1vQ</td>\n",
       "      <td>0</td>\n",
       "      <td>2014-10-01</td>\n",
       "      <td>0.0</td>\n",
       "      <td>pxs5biP-IzmjXZpoh-iVHg</td>\n",
       "      <td>2.0</td>\n",
       "      <td>went in for lunch with a coworker today. the s...</td>\n",
       "      <td>0.0</td>\n",
       "      <td>Ns0hZ0xDOuVRMpHk0Q-5Yw</td>\n",
       "      <td>551</td>\n",
       "      <td>1029</td>\n",
       "    </tr>\n",
       "  </tbody>\n",
       "</table>\n",
       "</div>"
      ],
      "text/plain": [
       "              business_id  cool       date  funny               review_id  \\\n",
       "0  uYHaNptLzDLoV_JZ_MuzUA     0 2014-05-07    0.0  fbVYETRuWDw8QnpimpGMpg   \n",
       "1  jQsNFOzDpxPmOurSWCg1vQ     0 2014-04-22    0.0  fk8OI26dAhQfot46T_SXWg   \n",
       "2  jQsNFOzDpxPmOurSWCg1vQ     1 2014-05-03    0.0  CxVx2FD73kw--RuzXL_RVA   \n",
       "3  jQsNFOzDpxPmOurSWCg1vQ     1 2014-05-29    1.0  jJaU6pbKkYgl15P-5zfg3A   \n",
       "4  jQsNFOzDpxPmOurSWCg1vQ     0 2014-10-01    0.0  pxs5biP-IzmjXZpoh-iVHg   \n",
       "\n",
       "   stars                                               text  useful  \\\n",
       "0    4.0  well  i like the idea of motel one. always in ...     1.0   \n",
       "1    1.0  if i could give no stars i would. my family pl...     0.0   \n",
       "2    4.0  i like pei wei overall and enjoy their varied ...     1.0   \n",
       "3    3.0  everything was good except thai chicken wraps....     0.0   \n",
       "4    2.0  went in for lunch with a coworker today. the s...     0.0   \n",
       "\n",
       "                  user_id  review_length  review_age  \n",
       "0  Cx4UCow0zQgFQOp47RRRaA            314        1176  \n",
       "1  KrQ_dWOBn2voaQLNv7hj8A            683        1191  \n",
       "2  xlkjaJUu2fVojeaaVgQPOw            143        1180  \n",
       "3  alTlRb9qMBX11pARX05Big            232        1154  \n",
       "4  Ns0hZ0xDOuVRMpHk0Q-5Yw            551        1029  "
      ]
     },
     "execution_count": 5,
     "metadata": {},
     "output_type": "execute_result"
    }
   ],
   "source": [
    "reviews.head()"
   ]
  },
  {
   "cell_type": "markdown",
   "metadata": {},
   "source": [
    "# Write to File"
   ]
  },
  {
   "cell_type": "code",
   "execution_count": null,
   "metadata": {},
   "outputs": [],
   "source": [
    "for year in reviews.date.dt.year.unique():\n",
    "    reviews[reviews.date.dt.year == year].to_csv('../clean_data/reviews/{:d}_reviews_with_age_clean.csv'.format(year), encoding='utf-8')\n",
    "    time_marker('wrote {:d} reviews to file'.format(year))"
   ]
  },
  {
   "cell_type": "code",
   "execution_count": null,
   "metadata": {},
   "outputs": [],
   "source": [
    "reviews.head(3)"
   ]
  },
  {
   "cell_type": "code",
   "execution_count": null,
   "metadata": {},
   "outputs": [],
   "source": []
  },
  {
   "cell_type": "markdown",
   "metadata": {},
   "source": [
    "# Investigation"
   ]
  },
  {
   "cell_type": "code",
   "execution_count": 7,
   "metadata": {
    "scrolled": false
   },
   "outputs": [
    {
     "data": {
      "image/png": "[encoded data removed]",
      "text/plain": [
       "<matplotlib.figure.Figure at 0x10e545860>"
      ]
     },
     "metadata": {},
     "output_type": "display_data"
    }
   ],
   "source": [
    "plt.subplots(figsize=FIG_SIZE)\n",
    "reviews.groupby('date').count()['review_id'].plot()\n",
    "plt.show()\n",
    "plt.close()"
   ]
  },
  {
   "cell_type": "code",
   "execution_count": 8,
   "metadata": {},
   "outputs": [
    {
     "data": {
      "image/png": "[encoded data removed]",
      "text/plain": [
       "<matplotlib.figure.Figure at 0x1a857cb7b8>"
      ]
     },
     "metadata": {},
     "output_type": "display_data"
    }
   ],
   "source": [
    "ax = sns.distplot(reviews.review_age, bins=100)\n",
    "plt.show()\n",
    "plt.close()"
   ]
  },
  {
   "cell_type": "code",
   "execution_count": 9,
   "metadata": {},
   "outputs": [
    {
     "name": "stdout",
     "output_type": "stream",
     "text": [
      "    156638 unique business_id  values\n",
      "       160 unique cool         values\n",
      "      4409 unique date         values\n",
      "       152 unique funny        values\n",
      "   4736897 unique review_id    values\n",
      "         5 unique stars        values\n",
      "   4734001 unique text         values\n",
      "       206 unique useful       values\n",
      "   1183363 unique user_id      values\n",
      "      5001 unique review_length values\n",
      "      4409 unique review_age   values\n"
     ]
    }
   ],
   "source": [
    "for col in reviews.columns:\n",
    "    print('{} unique {} values'.format(str(len(reviews[col].unique())).rjust(10), col.ljust(12)))"
   ]
  },
  {
   "cell_type": "markdown",
   "metadata": {},
   "source": [
    "# Annual Growth"
   ]
  },
  {
   "cell_type": "code",
   "execution_count": 10,
   "metadata": {},
   "outputs": [
    {
     "data": {
      "image/png": "[encoded data removed]",
      "text/plain": [
       "<matplotlib.figure.Figure at 0x109d4bcc0>"
      ]
     },
     "metadata": {},
     "output_type": "display_data"
    }
   ],
   "source": [
    "reviews_df = reviews[['date', 'stars', 'useful' , 'funny', 'cool']].copy()\n",
    "reviews_by_date = reviews_df.groupby('date').sum()\n",
    "reviews_by_date.head(3)\n",
    "\n",
    "ax = reviews_by_date.resample('D').sum().rolling(365).sum().plot(figsize=FIG_SIZE)\n",
    "ax.legend(loc=2, frameon=True)\n",
    "ax.set_title('Annual Review Likes - Rolling')\n",
    "plt.show()\n",
    "plt.close()"
   ]
  },
  {
   "cell_type": "code",
   "execution_count": 11,
   "metadata": {},
   "outputs": [
    {
     "data": {
      "image/png": "[encoded data removed]",
      "text/plain": [
       "<matplotlib.figure.Figure at 0x1a87d960f0>"
      ]
     },
     "metadata": {},
     "output_type": "display_data"
    }
   ],
   "source": [
    "plt.subplots(figsize=FIG_SIZE)\n",
    "ax = reviews.groupby(reviews.date).count()['user_id'].resample('D').sum().rolling(365).mean().plot(color='g')\n",
    "plt.show()\n",
    "plt.close()"
   ]
  },
  {
   "cell_type": "markdown",
   "metadata": {},
   "source": [
    "# Clustering"
   ]
  },
  {
   "cell_type": "code",
   "execution_count": 12,
   "metadata": {},
   "outputs": [],
   "source": [
    "from sklearn.feature_extraction.text import CountVectorizer"
   ]
  },
  {
   "cell_type": "code",
   "execution_count": 13,
   "metadata": {},
   "outputs": [
    {
     "name": "stdout",
     "output_type": "stream",
     "text": [
      "[23:54:55.816035] collecting review text...\n"
     ]
    }
   ],
   "source": [
    "time_marker('collecting review text...')\n",
    "text = [x for x in reviews.text]"
   ]
  },
  {
   "cell_type": "code",
   "execution_count": 14,
   "metadata": {},
   "outputs": [
    {
     "name": "stdout",
     "output_type": "stream",
     "text": [
      "[23:54:56.981792] initializing vectorizer...\n"
     ]
    }
   ],
   "source": [
    "time_marker('initializing vectorizer...')\n",
    "vectorizer = CountVectorizer()"
   ]
  },
  {
   "cell_type": "code",
   "execution_count": 15,
   "metadata": {},
   "outputs": [
    {
     "name": "stdout",
     "output_type": "stream",
     "text": [
      "[23:54:56.991396] fitting vectorizer...\n"
     ]
    },
    {
     "data": {
      "text/plain": [
       "CountVectorizer(analyzer='word', binary=False, decode_error='strict',\n",
       "        dtype=<class 'numpy.int64'>, encoding='utf-8', input='content',\n",
       "        lowercase=True, max_df=1.0, max_features=None, min_df=1,\n",
       "        ngram_range=(1, 1), preprocessor=None, stop_words=None,\n",
       "        strip_accents=None, token_pattern='(?u)\\\\b\\\\w\\\\w+\\\\b',\n",
       "        tokenizer=None, vocabulary=None)"
      ]
     },
     "execution_count": 15,
     "metadata": {},
     "output_type": "execute_result"
    }
   ],
   "source": [
    "time_marker('fitting vectorizer...')\n",
    "vectorizer.fit(text)"
   ]
  },
  {
   "cell_type": "code",
   "execution_count": 16,
   "metadata": {},
   "outputs": [
    {
     "name": "stdout",
     "output_type": "stream",
     "text": [
      "[00:10:20.651583] transforming vectorizer...\n",
      "[00:24:09.621215] done\n"
     ]
    }
   ],
   "source": [
    "time_marker('transforming vectorizer...')\n",
    "x = vectorizer.transform(text)\n",
    "time_marker('done')"
   ]
  },
  {
   "cell_type": "code",
   "execution_count": null,
   "metadata": {},
   "outputs": [
    {
     "name": "stdout",
     "output_type": "stream",
     "text": [
      "[00:25:16.763860] convert to array...\n"
     ]
    }
   ],
   "source": [
    "time_marker('convert to array...')\n",
    "x = x.toarray()"
   ]
  },
  {
   "cell_type": "code",
   "execution_count": 17,
   "metadata": {},
   "outputs": [
    {
     "name": "stdout",
     "output_type": "stream",
     "text": [
      "\n",
      "Words for each feature:\n"
     ]
    },
    {
     "name": "stderr",
     "output_type": "stream",
     "text": [
      "IOPub data rate exceeded.\n",
      "The notebook server will temporarily stop sending output\n",
      "to the client in order to avoid crashing it.\n",
      "To change this limit, set the config variable\n",
      "`--NotebookApp.iopub_data_rate_limit`.\n",
      "\n",
      "Current values:\n",
      "NotebookApp.iopub_data_rate_limit=1000000.0 (bytes/sec)\n",
      "NotebookApp.rate_limit_window=3.0 (secs)\n",
      "\n"
     ]
    }
   ],
   "source": [
    "print(\"\")\n",
    "print(\"Words for each feature:\")\n",
    "print(vectorizer.get_feature_names())"
   ]
  },
  {
   "cell_type": "code",
   "execution_count": null,
   "metadata": {},
   "outputs": [],
   "source": []
  },
  {
   "cell_type": "code",
   "execution_count": null,
   "metadata": {},
   "outputs": [],
   "source": []
  },
  {
   "cell_type": "code",
   "execution_count": null,
   "metadata": {},
   "outputs": [],
   "source": [
    "reviews.head(3)"
   ]
  },
  {
   "cell_type": "code",
   "execution_count": null,
   "metadata": {},
   "outputs": [],
   "source": [
    "def make_xy(df, label, vectorizer=None):\n",
    "    if vectorizer is None:\n",
    "        vectorizer = CountVectorizer()\n",
    "    X =  vectorizer.for_transform(df[label])\n",
    "    X = X.tocsc()\n",
    "    y = (df[label] == target).values.astype(np.int)\n",
    "    return X, y"
   ]
  },
  {
   "cell_type": "code",
   "execution_count": null,
   "metadata": {},
   "outputs": [],
   "source": [
    "X, y = make_xy(reviews, text, stars)\n"
   ]
  },
  {
   "cell_type": "code",
   "execution_count": null,
   "metadata": {},
   "outputs": [],
   "source": []
  },
  {
   "cell_type": "code",
   "execution_count": null,
   "metadata": {},
   "outputs": [],
   "source": []
  },
  {
   "cell_type": "code",
   "execution_count": null,
   "metadata": {},
   "outputs": [],
   "source": []
  },
  {
   "cell_type": "code",
   "execution_count": null,
   "metadata": {},
   "outputs": [],
   "source": []
  },
  {
   "cell_type": "code",
   "execution_count": null,
   "metadata": {},
   "outputs": [],
   "source": []
  },
  {
   "cell_type": "code",
   "execution_count": null,
   "metadata": {},
   "outputs": [],
   "source": []
  },
  {
   "cell_type": "code",
   "execution_count": null,
   "metadata": {},
   "outputs": [],
   "source": []
  },
  {
   "cell_type": "code",
   "execution_count": null,
   "metadata": {},
   "outputs": [],
   "source": []
  },
  {
   "cell_type": "code",
   "execution_count": null,
   "metadata": {},
   "outputs": [],
   "source": []
  },
  {
   "cell_type": "code",
   "execution_count": null,
   "metadata": {},
   "outputs": [],
   "source": []
  },
  {
   "cell_type": "code",
   "execution_count": null,
   "metadata": {},
   "outputs": [],
   "source": []
  }
 ],
 "metadata": {
  "kernelspec": {
   "display_name": "Python 3",
   "language": "python",
   "name": "python3"
  },
  "language_info": {
   "codemirror_mode": {
    "name": "ipython",
    "version": 3
   },
   "file_extension": ".py",
   "mimetype": "text/x-python",
   "name": "python",
   "nbconvert_exporter": "python",
   "pygments_lexer": "ipython3",
   "version": "3.6.3"
  }
 },
 "nbformat": 4,
 "nbformat_minor": 2
}
