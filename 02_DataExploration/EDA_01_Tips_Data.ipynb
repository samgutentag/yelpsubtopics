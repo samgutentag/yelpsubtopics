{
 "cells": [
  {
   "cell_type": "markdown",
   "metadata": {},
   "source": [
    "# Tips Data EDA"
   ]
  },
  {
   "cell_type": "code",
   "execution_count": 1,
   "metadata": {},
   "outputs": [],
   "source": [
    "%matplotlib inline\n",
    "import numpy as np\n",
    "import math\n",
    "import matplotlib.pyplot as plt\n",
    "import pandas as pd\n",
    "import datetime\n",
    "\n",
    "import seaborn as sns\n",
    "sns.set_style('whitegrid')\n",
    "sns.set_context(\"poster\")"
   ]
  },
  {
   "cell_type": "code",
   "execution_count": 75,
   "metadata": {},
   "outputs": [],
   "source": [
    "from textblob import TextBlob"
   ]
  },
  {
   "cell_type": "code",
   "execution_count": 2,
   "metadata": {},
   "outputs": [],
   "source": [
    "def time_marker(text=''):\n",
    "    print('[{}] {}'.format(datetime.datetime.now().time(), text.title()))"
   ]
  },
  {
   "cell_type": "code",
   "execution_count": 4,
   "metadata": {},
   "outputs": [
    {
     "data": {
      "text/html": [
       "<style>.container { width:95% !important; }</style>"
      ],
      "text/plain": [
       "<IPython.core.display.HTML object>"
      ]
     },
     "metadata": {},
     "output_type": "display_data"
    }
   ],
   "source": [
    "from IPython.core.display import display, HTML\n",
    "display(HTML(\"<style>.container { width:95% !important; }</style>\"))\n",
    "\n",
    "import matplotlib\n",
    "font = {'size' : 50}\n",
    "matplotlib.rc('font', **font)\n",
    "\n",
    "TITLE_FONT_SIZE = 25\n",
    "LABEL_FONT_SIZE = 15\n",
    "TICK_FONT_SIZE  = 15\n",
    "\n",
    "day_labels = ['MON','TUE','WED','THU','FRI','SAT','SUN']\n",
    "day_labels_full = ['MONDAY','TUESDAY','WEDNESDAY','THURSDAY','FRIDAY','SATURDAY','SUNDAY']\n",
    "month_labels = ['JAN','FEB','MAR','APR','MAY','JUN','JUL','AUG','SEP','OCT','NOV','DEC']\n",
    "month_labels_full = ['JANUARY','FEBRUARY','MARCH','APRIL','MAY','JUNE','JULY','AUGUST','SEPTEMBER','OCTOBER','NOVEMBER','DECEMBER']\n",
    "\n",
    "FIG_SIZE = (15,6)\n",
    "FIG_SIZE_SHORT = (15,3)\n",
    "GRID_DIMS = 15\n",
    "\n",
    "DO_WRITE_CHARTS = False"
   ]
  },
  {
   "cell_type": "markdown",
   "metadata": {},
   "source": [
    "# Load Tips Dataset"
   ]
  },
  {
   "cell_type": "code",
   "execution_count": 95,
   "metadata": {
    "scrolled": false
   },
   "outputs": [
    {
     "name": "stdout",
     "output_type": "stream",
     "text": [
      "[22:19:47.020905] Loading Tips Data...\n",
      "[22:19:47.813759] \tFinished Chunk   0 Of 107\n",
      "[22:19:47.854506] \tFinished Chunk   1 Of 107\n",
      "[22:19:48.292552] \tFinished Chunk  11 Of 107\n",
      "[22:19:48.822682] \tFinished Chunk  22 Of 107\n",
      "[22:19:49.296715] \tFinished Chunk  33 Of 107\n",
      "[22:19:50.131846] \tFinished Chunk  44 Of 107\n",
      "[22:19:50.779504] \tFinished Chunk  55 Of 107\n",
      "[22:19:51.301407] \tFinished Chunk  66 Of 107\n",
      "[22:19:51.789613] \tFinished Chunk  77 Of 107\n",
      "[22:19:52.286872] \tFinished Chunk  88 Of 107\n",
      "[22:19:52.825534] \tFinished Chunk  99 Of 107\n",
      "[22:19:52.955057] Merging To Dataframe...\n",
      "[22:19:53.296670] Complete!\n"
     ]
    }
   ],
   "source": [
    "time_marker(text='Loading Tips Data...')\n",
    "\n",
    "tips = pd.DataFrame()\n",
    "datafile = '../clean_data/tips_clean.csv'\n",
    "\n",
    "# Chunk Settings\n",
    "chunks = list()\n",
    "chunksize = 10000\n",
    "num_chunks = math.ceil(sum(1 for row in open(datafile, 'r'))/chunksize)\n",
    "format_width = len(str(num_chunks))\n",
    "\n",
    "# import file in chunks\n",
    "for ii, chunk in enumerate(pd.read_csv(datafile, chunksize=chunksize, iterator=True, index_col=0, parse_dates=['date'])):\n",
    "        \n",
    "    # append chunk to chunks list\n",
    "    chunks.append(chunk)\n",
    "    if ii == 1 or ii % math.ceil(num_chunks/10) == 0 or ii == num_chunks:\n",
    "        time_marker(text='\\tfinished chunk {} of {}'.format(str(ii).rjust(format_width), str(num_chunks).rjust(format_width)))\n",
    "\n",
    "time_marker(text='merging to dataframe...')\n",
    "tips = pd.concat(chunks)\n",
    "tips.reset_index(inplace=True, drop=True)\n",
    "time_marker(text='Complete!')\n"
   ]
  },
  {
   "cell_type": "code",
   "execution_count": 96,
   "metadata": {},
   "outputs": [
    {
     "name": "stdout",
     "output_type": "stream",
     "text": [
      "<class 'pandas.core.frame.DataFrame'>\n",
      "RangeIndex: 1028802 entries, 0 to 1028801\n",
      "Data columns (total 6 columns):\n",
      "business_id    1028802 non-null object\n",
      "date           1028802 non-null datetime64[ns]\n",
      "likes          1028802 non-null int64\n",
      "text           1028801 non-null object\n",
      "user_id        1028802 non-null object\n",
      "tip_len        1028802 non-null int64\n",
      "dtypes: datetime64[ns](1), int64(2), object(3)\n",
      "memory usage: 47.1+ MB\n"
     ]
    }
   ],
   "source": [
    "tips.info()"
   ]
  },
  {
   "cell_type": "code",
   "execution_count": 97,
   "metadata": {},
   "outputs": [
    {
     "name": "stdout",
     "output_type": "stream",
     "text": [
      "1028802 total reviews\n",
      "business_id     contains  104412 unique entries\n",
      "date            contains    3004 unique entries\n",
      "likes           contains      13 unique entries\n",
      "text            contains  968489 unique entries\n",
      "tip_len         contains     500 unique entries\n",
      "user_id         contains  244632 unique entries\n"
     ]
    }
   ],
   "source": [
    "print('{} total reviews'.format(tips.shape[0]))\n",
    "for col in sorted(tips.columns):\n",
    "    print('{} contains {} unique entries'.format(str(col).ljust(15), str(len(tips[col].unique())).rjust(7)))"
   ]
  },
  {
   "cell_type": "code",
   "execution_count": 109,
   "metadata": {},
   "outputs": [],
   "source": [
    "def get_sentiment(df=None):\n",
    "\n",
    "    df['polarity'] = np.nan\n",
    "    df['subjectivity'] = np.nan\n",
    "    df['polarity'] = df['text'].apply(lambda text: list(TextBlob(text).sentiment)[0])\n",
    "    df['subjectivity'] = df['text'].apply(lambda text: list(TextBlob(text).sentiment)[1])\n",
    "    \n",
    "    return df"
   ]
  },
  {
   "cell_type": "code",
   "execution_count": 106,
   "metadata": {},
   "outputs": [
    {
     "data": {
      "image/png": "[encoded data removed]",
      "text/plain": [
       "<matplotlib.figure.Figure at 0x1a3f19be80>"
      ]
     },
     "metadata": {},
     "output_type": "display_data"
    }
   ],
   "source": [
    "tips.groupby('date').tip_len.mean().plot()\n",
    "plt.show()\n",
    "plt.close()"
   ]
  },
  {
   "cell_type": "code",
   "execution_count": null,
   "metadata": {},
   "outputs": [],
   "source": [
    "tips = get_sentiment(df=tips)\n",
    "tips.head()"
   ]
  },
  {
   "cell_type": "code",
   "execution_count": null,
   "metadata": {},
   "outputs": [],
   "source": [
    "tips.text"
   ]
  },
  {
   "cell_type": "code",
   "execution_count": null,
   "metadata": {},
   "outputs": [],
   "source": []
  }
 ],
 "metadata": {
  "kernelspec": {
   "display_name": "Python 3",
   "language": "python",
   "name": "python3"
  },
  "language_info": {
   "codemirror_mode": {
    "name": "ipython",
    "version": 3
   },
   "file_extension": ".py",
   "mimetype": "text/x-python",
   "name": "python",
   "nbconvert_exporter": "python",
   "pygments_lexer": "ipython3",
   "version": "3.6.3"
  }
 },
 "nbformat": 4,
 "nbformat_minor": 2
}
