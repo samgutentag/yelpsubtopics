{
 "cells": [
  {
   "cell_type": "markdown",
   "metadata": {},
   "source": [
    "# Wrangle Tip Data"
   ]
  },
  {
   "cell_type": "code",
   "execution_count": 1,
   "metadata": {},
   "outputs": [],
   "source": [
    "import numpy as np\n",
    "import pandas as pd\n",
    "import datetime\n",
    "import json"
   ]
  },
  {
   "cell_type": "code",
   "execution_count": 2,
   "metadata": {},
   "outputs": [
    {
     "data": {
      "text/html": [
       "<style>.container { width:95% !important; }</style>"
      ],
      "text/plain": [
       "<IPython.core.display.HTML object>"
      ]
     },
     "metadata": {},
     "output_type": "display_data"
    }
   ],
   "source": [
    "import matplotlib.pyplot as plt\n",
    "%matplotlib inline\n",
    "\n",
    "TITLE_FONT_SIZE = 25\n",
    "LABEL_FONT_SIZE = 15\n",
    "TICK_FONT_SIZE  = 15\n",
    "\n",
    "from IPython.core.display import display, HTML\n",
    "display(HTML(\"<style>.container { width:95% !important; }</style>\"))\n",
    "\n",
    "def time_marker(text=''):\n",
    "    print('[{}] {}'.format(datetime.datetime.now().time(), text.lower()))"
   ]
  },
  {
   "cell_type": "markdown",
   "metadata": {},
   "source": [
    "# Load Cleaned Business Data"
   ]
  },
  {
   "cell_type": "code",
   "execution_count": 3,
   "metadata": {},
   "outputs": [],
   "source": [
    "business_data = pd.read_csv('../clean_data/business_clean.csv', index_col=0)\n",
    "restaurant_bids = list(business_data.business_id.values)"
   ]
  },
  {
   "cell_type": "markdown",
   "metadata": {},
   "source": [
    "## Load the Data"
   ]
  },
  {
   "cell_type": "code",
   "execution_count": 4,
   "metadata": {},
   "outputs": [
    {
     "name": "stdout",
     "output_type": "stream",
     "text": [
      "[23:19:11.741769] loading source data file...\n",
      "[23:19:26.047233] creating dataframe...\n"
     ]
    }
   ],
   "source": [
    "data = pd.DataFrame()\n",
    "source_data_file = '../source_data/tip.json'\n",
    "\n",
    "time_marker('loading source data file...')\n",
    "biz_list = []\n",
    "for line in open(source_data_file, 'r'):\n",
    "    biz_list.append(json.loads(line))\n",
    "\n",
    "time_marker('creating dataframe...')\n",
    "data = pd.DataFrame(biz_list)"
   ]
  },
  {
   "cell_type": "code",
   "execution_count": 5,
   "metadata": {},
   "outputs": [
    {
     "name": "stdout",
     "output_type": "stream",
     "text": [
      "<class 'pandas.core.frame.DataFrame'>\n",
      "RangeIndex: 1098325 entries, 0 to 1098324\n",
      "Data columns (total 5 columns):\n",
      "business_id    1098325 non-null object\n",
      "date           1098325 non-null object\n",
      "likes          1098325 non-null int64\n",
      "text           1098325 non-null object\n",
      "user_id        1098325 non-null object\n",
      "dtypes: int64(1), object(4)\n",
      "memory usage: 41.9+ MB\n"
     ]
    }
   ],
   "source": [
    "data.info()"
   ]
  },
  {
   "cell_type": "markdown",
   "metadata": {},
   "source": [
    "## Prune tips to only those for our restaurant subset"
   ]
  },
  {
   "cell_type": "code",
   "execution_count": 6,
   "metadata": {},
   "outputs": [],
   "source": [
    "data = data[data.business_id.isin(restaurant_bids)].copy()\n",
    "data.reset_index(inplace=True, drop=True)"
   ]
  },
  {
   "cell_type": "code",
   "execution_count": 7,
   "metadata": {},
   "outputs": [
    {
     "name": "stdout",
     "output_type": "stream",
     "text": [
      "[23:19:33.799361] set index to business_id...\n"
     ]
    }
   ],
   "source": [
    "time_marker(text='set index to business_id...')\n",
    "data.set_index('business_id', inplace=True, drop=True)"
   ]
  },
  {
   "cell_type": "markdown",
   "metadata": {},
   "source": [
    "## Prune tips that are less than less than 4 characters long, these rarely provide useful information"
   ]
  },
  {
   "cell_type": "code",
   "execution_count": 8,
   "metadata": {},
   "outputs": [],
   "source": [
    "data = data[data.text.str.len() >= 4].copy()"
   ]
  },
  {
   "cell_type": "markdown",
   "metadata": {},
   "source": [
    "## Sanitize tip text"
   ]
  },
  {
   "cell_type": "code",
   "execution_count": 9,
   "metadata": {},
   "outputs": [],
   "source": [
    "import string\n",
    "translator = str.maketrans('','', string.punctuation)"
   ]
  },
  {
   "cell_type": "code",
   "execution_count": 10,
   "metadata": {},
   "outputs": [],
   "source": [
    "data['text'] = data['text'].apply(lambda text: text.translate(translator).lower())"
   ]
  },
  {
   "cell_type": "markdown",
   "metadata": {},
   "source": [
    "## Cleanup columns and reset index"
   ]
  },
  {
   "cell_type": "code",
   "execution_count": 11,
   "metadata": {},
   "outputs": [
    {
     "name": "stdout",
     "output_type": "stream",
     "text": [
      "[23:19:35.247187] cleaning up and reset index...\n"
     ]
    }
   ],
   "source": [
    "time_marker(text='cleaning up and reset index...')\n",
    "data.columns = [str(x).lower().replace(' ', '_') for x in data.columns]\n",
    "data.reset_index(inplace=True)"
   ]
  },
  {
   "cell_type": "markdown",
   "metadata": {},
   "source": [
    "## EDA Tip Text Length Distribution"
   ]
  },
  {
   "cell_type": "code",
   "execution_count": 12,
   "metadata": {},
   "outputs": [
    {
     "data": {
      "image/png": "[encoded data removed]",
      "text/plain": [
       "<matplotlib.figure.Figure at 0x14b42cf98>"
      ]
     },
     "metadata": {},
     "output_type": "display_data"
    }
   ],
   "source": [
    "ax = data.text.str.len().plot(kind='hist', bins=200, figsize=(15,6))\n",
    "\n",
    "ax.axvline(data.text.str.len().quantile(0.05), color='k')\n",
    "ax.axvline(data.text.str.len().quantile(0.25), color='k', alpha=0.5, linestyle=':')\n",
    "ax.axvline(data.text.str.len().quantile(0.55), color='k', alpha=0.5, linestyle=':')\n",
    "ax.axvline(data.text.str.len().quantile(0.75), color='k', alpha=0.5, linestyle=':')\n",
    "ax.axvline(data.text.str.len().quantile(0.95), color='k')\n",
    "\n",
    "plt.show()\n",
    "plt.close()"
   ]
  },
  {
   "cell_type": "markdown",
   "metadata": {},
   "source": [
    "## Tokenize Tip Text, remove stop words"
   ]
  },
  {
   "cell_type": "code",
   "execution_count": 13,
   "metadata": {},
   "outputs": [],
   "source": [
    "from nltk.tokenize import word_tokenize\n",
    "from nltk.corpus import stopwords"
   ]
  },
  {
   "cell_type": "code",
   "execution_count": 14,
   "metadata": {},
   "outputs": [],
   "source": [
    "def tokenize_tip(text):\n",
    "    tokens = [t for t in word_tokenize(text) if t.isalpha()]\n",
    "    no_stops = [t for t in tokens if t not in stopwords.words('english')]\n",
    "    return no_stops"
   ]
  },
  {
   "cell_type": "code",
   "execution_count": 15,
   "metadata": {},
   "outputs": [],
   "source": [
    "data['tokenize_text'] = data.text.apply(lambda x: tokenize_tip(x))"
   ]
  },
  {
   "cell_type": "code",
   "execution_count": 16,
   "metadata": {},
   "outputs": [],
   "source": [
    "data['word_count'] = data.tokenize_text.str.len()"
   ]
  },
  {
   "cell_type": "code",
   "execution_count": 28,
   "metadata": {},
   "outputs": [],
   "source": [
    "data['unique_word_count'] = data.tokenize_text.apply(lambda x: len(set(x)))"
   ]
  },
  {
   "cell_type": "code",
   "execution_count": 29,
   "metadata": {},
   "outputs": [
    {
     "data": {
      "text/html": [
       "<div>\n",
       "<style scoped>\n",
       "    .dataframe tbody tr th:only-of-type {\n",
       "        vertical-align: middle;\n",
       "    }\n",
       "\n",
       "    .dataframe tbody tr th {\n",
       "        vertical-align: top;\n",
       "    }\n",
       "\n",
       "    .dataframe thead th {\n",
       "        text-align: right;\n",
       "    }\n",
       "</style>\n",
       "<table border=\"1\" class=\"dataframe\">\n",
       "  <thead>\n",
       "    <tr style=\"text-align: right;\">\n",
       "      <th></th>\n",
       "      <th>0</th>\n",
       "      <th>1</th>\n",
       "      <th>2</th>\n",
       "    </tr>\n",
       "  </thead>\n",
       "  <tbody>\n",
       "    <tr>\n",
       "      <th>business_id</th>\n",
       "      <td>xFN8mRubo3G0oIzJwc8XBA</td>\n",
       "      <td>Xmndl6GoZg8taEUlwQMYxg</td>\n",
       "      <td>1CqDdPrrb0xvQpgu7fhI5w</td>\n",
       "    </tr>\n",
       "    <tr>\n",
       "      <th>date</th>\n",
       "      <td>2012-03-28</td>\n",
       "      <td>2012-03-28</td>\n",
       "      <td>2012-03-27</td>\n",
       "    </tr>\n",
       "    <tr>\n",
       "      <th>likes</th>\n",
       "      <td>0</td>\n",
       "      <td>0</td>\n",
       "      <td>0</td>\n",
       "    </tr>\n",
       "    <tr>\n",
       "      <th>text</th>\n",
       "      <td>finally found some churros four types here it ...</td>\n",
       "      <td>closed closed closed closed closed closed clos...</td>\n",
       "      <td>great weather for eating outdoors good service</td>\n",
       "    </tr>\n",
       "    <tr>\n",
       "      <th>user_id</th>\n",
       "      <td>TvkqJ8YEIsTb16RnnrNyfQ</td>\n",
       "      <td>TvkqJ8YEIsTb16RnnrNyfQ</td>\n",
       "      <td>TvkqJ8YEIsTb16RnnrNyfQ</td>\n",
       "    </tr>\n",
       "    <tr>\n",
       "      <th>tokenize_text</th>\n",
       "      <td>[finally, found, churros, four, types, great]</td>\n",
       "      <td>[closed, closed, closed, closed, closed, close...</td>\n",
       "      <td>[great, weather, eating, outdoors, good, service]</td>\n",
       "    </tr>\n",
       "    <tr>\n",
       "      <th>word_count</th>\n",
       "      <td>6</td>\n",
       "      <td>20</td>\n",
       "      <td>6</td>\n",
       "    </tr>\n",
       "    <tr>\n",
       "      <th>unique_word_count</th>\n",
       "      <td>6</td>\n",
       "      <td>1</td>\n",
       "      <td>6</td>\n",
       "    </tr>\n",
       "  </tbody>\n",
       "</table>\n",
       "</div>"
      ],
      "text/plain": [
       "                                                                   0  \\\n",
       "business_id                                   xFN8mRubo3G0oIzJwc8XBA   \n",
       "date                                                      2012-03-28   \n",
       "likes                                                              0   \n",
       "text               finally found some churros four types here it ...   \n",
       "user_id                                       TvkqJ8YEIsTb16RnnrNyfQ   \n",
       "tokenize_text          [finally, found, churros, four, types, great]   \n",
       "word_count                                                         6   \n",
       "unique_word_count                                                  6   \n",
       "\n",
       "                                                                   1  \\\n",
       "business_id                                   Xmndl6GoZg8taEUlwQMYxg   \n",
       "date                                                      2012-03-28   \n",
       "likes                                                              0   \n",
       "text               closed closed closed closed closed closed clos...   \n",
       "user_id                                       TvkqJ8YEIsTb16RnnrNyfQ   \n",
       "tokenize_text      [closed, closed, closed, closed, closed, close...   \n",
       "word_count                                                        20   \n",
       "unique_word_count                                                  1   \n",
       "\n",
       "                                                                   2  \n",
       "business_id                                   1CqDdPrrb0xvQpgu7fhI5w  \n",
       "date                                                      2012-03-27  \n",
       "likes                                                              0  \n",
       "text                  great weather for eating outdoors good service  \n",
       "user_id                                       TvkqJ8YEIsTb16RnnrNyfQ  \n",
       "tokenize_text      [great, weather, eating, outdoors, good, service]  \n",
       "word_count                                                         6  \n",
       "unique_word_count                                                  6  "
      ]
     },
     "execution_count": 29,
     "metadata": {},
     "output_type": "execute_result"
    }
   ],
   "source": [
    "data.head(3).transpose()"
   ]
  },
  {
   "cell_type": "markdown",
   "metadata": {},
   "source": [
    "## EDA Tip Word Count Distribution"
   ]
  },
  {
   "cell_type": "code",
   "execution_count": 30,
   "metadata": {},
   "outputs": [
    {
     "data": {
      "image/png": "[encoded data removed]",
      "text/plain": [
       "<matplotlib.figure.Figure at 0x11092cb38>"
      ]
     },
     "metadata": {},
     "output_type": "display_data"
    }
   ],
   "source": [
    "ax = data.word_count.plot(kind='hist', bins=100, figsize=(15,6))\n",
    "\n",
    "ax.axvline(data.word_count.quantile(0.05), color='k')\n",
    "ax.axvline(data.word_count.quantile(0.25), color='k', alpha=0.5, linestyle=':')\n",
    "ax.axvline(data.word_count.quantile(0.55), color='k', alpha=0.5, linestyle=':')\n",
    "ax.axvline(data.word_count.quantile(0.75), color='k', alpha=0.5, linestyle=':')\n",
    "ax.axvline(data.word_count.quantile(0.95), color='k')\n",
    "\n",
    "plt.show()\n",
    "plt.close()"
   ]
  },
  {
   "cell_type": "code",
   "execution_count": 31,
   "metadata": {},
   "outputs": [
    {
     "data": {
      "text/html": [
       "<div>\n",
       "<style scoped>\n",
       "    .dataframe tbody tr th:only-of-type {\n",
       "        vertical-align: middle;\n",
       "    }\n",
       "\n",
       "    .dataframe tbody tr th {\n",
       "        vertical-align: top;\n",
       "    }\n",
       "\n",
       "    .dataframe thead th {\n",
       "        text-align: right;\n",
       "    }\n",
       "</style>\n",
       "<table border=\"1\" class=\"dataframe\">\n",
       "  <thead>\n",
       "    <tr style=\"text-align: right;\">\n",
       "      <th></th>\n",
       "      <th>business_id</th>\n",
       "      <th>date</th>\n",
       "      <th>likes</th>\n",
       "      <th>text</th>\n",
       "      <th>user_id</th>\n",
       "      <th>tokenize_text</th>\n",
       "      <th>word_count</th>\n",
       "      <th>unique_word_count</th>\n",
       "    </tr>\n",
       "  </thead>\n",
       "  <tbody>\n",
       "    <tr>\n",
       "      <th>0</th>\n",
       "      <td>xFN8mRubo3G0oIzJwc8XBA</td>\n",
       "      <td>2012-03-28</td>\n",
       "      <td>0</td>\n",
       "      <td>finally found some churros four types here it ...</td>\n",
       "      <td>TvkqJ8YEIsTb16RnnrNyfQ</td>\n",
       "      <td>[finally, found, churros, four, types, great]</td>\n",
       "      <td>6</td>\n",
       "      <td>6</td>\n",
       "    </tr>\n",
       "    <tr>\n",
       "      <th>1</th>\n",
       "      <td>Xmndl6GoZg8taEUlwQMYxg</td>\n",
       "      <td>2012-03-28</td>\n",
       "      <td>0</td>\n",
       "      <td>closed closed closed closed closed closed clos...</td>\n",
       "      <td>TvkqJ8YEIsTb16RnnrNyfQ</td>\n",
       "      <td>[closed, closed, closed, closed, closed, close...</td>\n",
       "      <td>20</td>\n",
       "      <td>1</td>\n",
       "    </tr>\n",
       "    <tr>\n",
       "      <th>2</th>\n",
       "      <td>1CqDdPrrb0xvQpgu7fhI5w</td>\n",
       "      <td>2012-03-27</td>\n",
       "      <td>0</td>\n",
       "      <td>great weather for eating outdoors good service</td>\n",
       "      <td>TvkqJ8YEIsTb16RnnrNyfQ</td>\n",
       "      <td>[great, weather, eating, outdoors, good, service]</td>\n",
       "      <td>6</td>\n",
       "      <td>6</td>\n",
       "    </tr>\n",
       "    <tr>\n",
       "      <th>3</th>\n",
       "      <td>HWjqW5ZFJ8eZRQuHcpySQA</td>\n",
       "      <td>2012-03-28</td>\n",
       "      <td>0</td>\n",
       "      <td>i didnt eat here but they were nice enough to ...</td>\n",
       "      <td>TvkqJ8YEIsTb16RnnrNyfQ</td>\n",
       "      <td>[didnt, eat, nice, enough, tell, find, tacos, ...</td>\n",
       "      <td>14</td>\n",
       "      <td>13</td>\n",
       "    </tr>\n",
       "    <tr>\n",
       "      <th>4</th>\n",
       "      <td>3x45Q9c5G6VBicedNKrXxQ</td>\n",
       "      <td>2012-03-29</td>\n",
       "      <td>0</td>\n",
       "      <td>good food but it took too long to get the food...</td>\n",
       "      <td>TvkqJ8YEIsTb16RnnrNyfQ</td>\n",
       "      <td>[good, food, took, long, get, food, recommended]</td>\n",
       "      <td>7</td>\n",
       "      <td>6</td>\n",
       "    </tr>\n",
       "  </tbody>\n",
       "</table>\n",
       "</div>"
      ],
      "text/plain": [
       "              business_id        date  likes  \\\n",
       "0  xFN8mRubo3G0oIzJwc8XBA  2012-03-28      0   \n",
       "1  Xmndl6GoZg8taEUlwQMYxg  2012-03-28      0   \n",
       "2  1CqDdPrrb0xvQpgu7fhI5w  2012-03-27      0   \n",
       "3  HWjqW5ZFJ8eZRQuHcpySQA  2012-03-28      0   \n",
       "4  3x45Q9c5G6VBicedNKrXxQ  2012-03-29      0   \n",
       "\n",
       "                                                text                 user_id  \\\n",
       "0  finally found some churros four types here it ...  TvkqJ8YEIsTb16RnnrNyfQ   \n",
       "1  closed closed closed closed closed closed clos...  TvkqJ8YEIsTb16RnnrNyfQ   \n",
       "2     great weather for eating outdoors good service  TvkqJ8YEIsTb16RnnrNyfQ   \n",
       "3  i didnt eat here but they were nice enough to ...  TvkqJ8YEIsTb16RnnrNyfQ   \n",
       "4  good food but it took too long to get the food...  TvkqJ8YEIsTb16RnnrNyfQ   \n",
       "\n",
       "                                       tokenize_text  word_count  \\\n",
       "0      [finally, found, churros, four, types, great]           6   \n",
       "1  [closed, closed, closed, closed, closed, close...          20   \n",
       "2  [great, weather, eating, outdoors, good, service]           6   \n",
       "3  [didnt, eat, nice, enough, tell, find, tacos, ...          14   \n",
       "4   [good, food, took, long, get, food, recommended]           7   \n",
       "\n",
       "   unique_word_count  \n",
       "0                  6  \n",
       "1                  1  \n",
       "2                  6  \n",
       "3                 13  \n",
       "4                  6  "
      ]
     },
     "execution_count": 31,
     "metadata": {},
     "output_type": "execute_result"
    }
   ],
   "source": [
    "data.head()"
   ]
  },
  {
   "cell_type": "code",
   "execution_count": 40,
   "metadata": {},
   "outputs": [
    {
     "data": {
      "text/html": [
       "<div>\n",
       "<style scoped>\n",
       "    .dataframe tbody tr th:only-of-type {\n",
       "        vertical-align: middle;\n",
       "    }\n",
       "\n",
       "    .dataframe tbody tr th {\n",
       "        vertical-align: top;\n",
       "    }\n",
       "\n",
       "    .dataframe thead th {\n",
       "        text-align: right;\n",
       "    }\n",
       "</style>\n",
       "<table border=\"1\" class=\"dataframe\">\n",
       "  <thead>\n",
       "    <tr style=\"text-align: right;\">\n",
       "      <th></th>\n",
       "      <th>0</th>\n",
       "      <th>2</th>\n",
       "      <th>3</th>\n",
       "      <th>4</th>\n",
       "      <th>5</th>\n",
       "    </tr>\n",
       "  </thead>\n",
       "  <tbody>\n",
       "    <tr>\n",
       "      <th>business_id</th>\n",
       "      <td>xFN8mRubo3G0oIzJwc8XBA</td>\n",
       "      <td>1CqDdPrrb0xvQpgu7fhI5w</td>\n",
       "      <td>HWjqW5ZFJ8eZRQuHcpySQA</td>\n",
       "      <td>3x45Q9c5G6VBicedNKrXxQ</td>\n",
       "      <td>SRYM6FaIF6LuXldcC1PY8w</td>\n",
       "    </tr>\n",
       "    <tr>\n",
       "      <th>date</th>\n",
       "      <td>2012-03-28</td>\n",
       "      <td>2012-03-27</td>\n",
       "      <td>2012-03-28</td>\n",
       "      <td>2012-03-29</td>\n",
       "      <td>2015-05-15</td>\n",
       "    </tr>\n",
       "    <tr>\n",
       "      <th>likes</th>\n",
       "      <td>0</td>\n",
       "      <td>0</td>\n",
       "      <td>0</td>\n",
       "      <td>0</td>\n",
       "      <td>0</td>\n",
       "    </tr>\n",
       "    <tr>\n",
       "      <th>text</th>\n",
       "      <td>finally found some churros four types here it ...</td>\n",
       "      <td>great weather for eating outdoors good service</td>\n",
       "      <td>i didnt eat here but they were nice enough to ...</td>\n",
       "      <td>good food but it took too long to get the food...</td>\n",
       "      <td>the spicy green beans is an amazing side try it</td>\n",
       "    </tr>\n",
       "    <tr>\n",
       "      <th>user_id</th>\n",
       "      <td>TvkqJ8YEIsTb16RnnrNyfQ</td>\n",
       "      <td>TvkqJ8YEIsTb16RnnrNyfQ</td>\n",
       "      <td>TvkqJ8YEIsTb16RnnrNyfQ</td>\n",
       "      <td>TvkqJ8YEIsTb16RnnrNyfQ</td>\n",
       "      <td>QGgWWhEi5R4SLAKN-xwtNQ</td>\n",
       "    </tr>\n",
       "    <tr>\n",
       "      <th>tokenize_text</th>\n",
       "      <td>[finally, found, churros, four, types, great]</td>\n",
       "      <td>[great, weather, eating, outdoors, good, service]</td>\n",
       "      <td>[didnt, eat, nice, enough, tell, find, tacos, ...</td>\n",
       "      <td>[good, food, took, long, get, food, recommended]</td>\n",
       "      <td>[spicy, green, beans, amazing, side, try]</td>\n",
       "    </tr>\n",
       "    <tr>\n",
       "      <th>word_count</th>\n",
       "      <td>6</td>\n",
       "      <td>6</td>\n",
       "      <td>14</td>\n",
       "      <td>7</td>\n",
       "      <td>6</td>\n",
       "    </tr>\n",
       "    <tr>\n",
       "      <th>unique_word_count</th>\n",
       "      <td>6</td>\n",
       "      <td>6</td>\n",
       "      <td>13</td>\n",
       "      <td>6</td>\n",
       "      <td>6</td>\n",
       "    </tr>\n",
       "  </tbody>\n",
       "</table>\n",
       "</div>"
      ],
      "text/plain": [
       "                                                                   0  \\\n",
       "business_id                                   xFN8mRubo3G0oIzJwc8XBA   \n",
       "date                                                      2012-03-28   \n",
       "likes                                                              0   \n",
       "text               finally found some churros four types here it ...   \n",
       "user_id                                       TvkqJ8YEIsTb16RnnrNyfQ   \n",
       "tokenize_text          [finally, found, churros, four, types, great]   \n",
       "word_count                                                         6   \n",
       "unique_word_count                                                  6   \n",
       "\n",
       "                                                                   2  \\\n",
       "business_id                                   1CqDdPrrb0xvQpgu7fhI5w   \n",
       "date                                                      2012-03-27   \n",
       "likes                                                              0   \n",
       "text                  great weather for eating outdoors good service   \n",
       "user_id                                       TvkqJ8YEIsTb16RnnrNyfQ   \n",
       "tokenize_text      [great, weather, eating, outdoors, good, service]   \n",
       "word_count                                                         6   \n",
       "unique_word_count                                                  6   \n",
       "\n",
       "                                                                   3  \\\n",
       "business_id                                   HWjqW5ZFJ8eZRQuHcpySQA   \n",
       "date                                                      2012-03-28   \n",
       "likes                                                              0   \n",
       "text               i didnt eat here but they were nice enough to ...   \n",
       "user_id                                       TvkqJ8YEIsTb16RnnrNyfQ   \n",
       "tokenize_text      [didnt, eat, nice, enough, tell, find, tacos, ...   \n",
       "word_count                                                        14   \n",
       "unique_word_count                                                 13   \n",
       "\n",
       "                                                                   4  \\\n",
       "business_id                                   3x45Q9c5G6VBicedNKrXxQ   \n",
       "date                                                      2012-03-29   \n",
       "likes                                                              0   \n",
       "text               good food but it took too long to get the food...   \n",
       "user_id                                       TvkqJ8YEIsTb16RnnrNyfQ   \n",
       "tokenize_text       [good, food, took, long, get, food, recommended]   \n",
       "word_count                                                         7   \n",
       "unique_word_count                                                  6   \n",
       "\n",
       "                                                                 5  \n",
       "business_id                                 SRYM6FaIF6LuXldcC1PY8w  \n",
       "date                                                    2015-05-15  \n",
       "likes                                                            0  \n",
       "text               the spicy green beans is an amazing side try it  \n",
       "user_id                                     QGgWWhEi5R4SLAKN-xwtNQ  \n",
       "tokenize_text            [spicy, green, beans, amazing, side, try]  \n",
       "word_count                                                       6  \n",
       "unique_word_count                                                6  "
      ]
     },
     "execution_count": 40,
     "metadata": {},
     "output_type": "execute_result"
    }
   ],
   "source": [
    "data_pruned = data[(data.unique_word_count > 3) & (data.text.str.len() > 10)].copy()\n",
    "\n",
    "data_pruned.head().transpose()"
   ]
  },
  {
   "cell_type": "code",
   "execution_count": 41,
   "metadata": {},
   "outputs": [
    {
     "data": {
      "image/png": "[encoded data removed]",
      "text/plain": [
       "<matplotlib.figure.Figure at 0x1a5d382320>"
      ]
     },
     "metadata": {},
     "output_type": "display_data"
    }
   ],
   "source": [
    "ax = data_pruned.word_count.plot(kind='hist', bins=100, figsize=(15,6))\n",
    "\n",
    "ax.axvline(data_pruned.word_count.quantile(0.05), color='k')\n",
    "ax.axvline(data_pruned.word_count.quantile(0.25), color='k', alpha=0.5, linestyle=':')\n",
    "ax.axvline(data_pruned.word_count.quantile(0.55), color='k', alpha=0.75, linestyle='-.')\n",
    "ax.axvline(data_pruned.word_count.quantile(0.75), color='k', alpha=0.5, linestyle=':')\n",
    "ax.axvline(data_pruned.word_count.quantile(0.95), color='k')\n",
    "\n",
    "plt.show()\n",
    "plt.close()"
   ]
  },
  {
   "cell_type": "code",
   "execution_count": null,
   "metadata": {},
   "outputs": [],
   "source": []
  },
  {
   "cell_type": "code",
   "execution_count": 42,
   "metadata": {},
   "outputs": [
    {
     "name": "stdout",
     "output_type": "stream",
     "text": [
      "<class 'pandas.core.frame.DataFrame'>\n",
      "RangeIndex: 154287 entries, 0 to 154286\n",
      "Data columns (total 8 columns):\n",
      "business_id          154287 non-null object\n",
      "date                 154287 non-null object\n",
      "likes                154287 non-null int64\n",
      "text                 154287 non-null object\n",
      "user_id              154287 non-null object\n",
      "tokenize_text        154287 non-null object\n",
      "word_count           154287 non-null int64\n",
      "unique_word_count    154287 non-null int64\n",
      "dtypes: int64(3), object(5)\n",
      "memory usage: 9.4+ MB\n"
     ]
    }
   ],
   "source": [
    "data.info()"
   ]
  },
  {
   "cell_type": "code",
   "execution_count": 43,
   "metadata": {},
   "outputs": [
    {
     "name": "stdout",
     "output_type": "stream",
     "text": [
      "<class 'pandas.core.frame.DataFrame'>\n",
      "Int64Index: 110039 entries, 0 to 154286\n",
      "Data columns (total 8 columns):\n",
      "business_id          110039 non-null object\n",
      "date                 110039 non-null object\n",
      "likes                110039 non-null int64\n",
      "text                 110039 non-null object\n",
      "user_id              110039 non-null object\n",
      "tokenize_text        110039 non-null object\n",
      "word_count           110039 non-null int64\n",
      "unique_word_count    110039 non-null int64\n",
      "dtypes: int64(3), object(5)\n",
      "memory usage: 7.6+ MB\n"
     ]
    }
   ],
   "source": [
    "data_pruned.info()"
   ]
  },
  {
   "cell_type": "markdown",
   "metadata": {},
   "source": [
    "# Write to File"
   ]
  },
  {
   "cell_type": "code",
   "execution_count": 18,
   "metadata": {},
   "outputs": [],
   "source": [
    "# file_name = '../clean_data/business_clean.csv'\n",
    "# time_marker(text='Writing {:d} records to file {}'.format(data_pass3.shape[0], file_name))\n",
    "# data_pass3.to_csv(file_name, encoding='utf-8')"
   ]
  }
 ],
 "metadata": {
  "kernelspec": {
   "display_name": "Python 3",
   "language": "python",
   "name": "python3"
  },
  "language_info": {
   "codemirror_mode": {
    "name": "ipython",
    "version": 3
   },
   "file_extension": ".py",
   "mimetype": "text/x-python",
   "name": "python",
   "nbconvert_exporter": "python",
   "pygments_lexer": "ipython3",
   "version": "3.6.3"
  }
 },
 "nbformat": 4,
 "nbformat_minor": 2
}
