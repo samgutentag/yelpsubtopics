{
 "cells": [
  {
   "cell_type": "markdown",
   "metadata": {},
   "source": [
    "# Wrangle Tip Data"
   ]
  },
  {
   "cell_type": "code",
   "execution_count": 1,
   "metadata": {},
   "outputs": [],
   "source": [
    "import numpy as np\n",
    "import pandas as pd\n",
    "import datetime\n",
    "import json\n",
    "\n",
    "import seaborn as sns\n",
    "sns.set()\n",
    "\n",
    "import matplotlib.pyplot as plt\n",
    "%matplotlib inline"
   ]
  },
  {
   "cell_type": "code",
   "execution_count": 2,
   "metadata": {},
   "outputs": [
    {
     "data": {
      "text/html": [
       "<style>.container { width:95% !important; }</style>"
      ],
      "text/plain": [
       "<IPython.core.display.HTML object>"
      ]
     },
     "metadata": {},
     "output_type": "display_data"
    }
   ],
   "source": [
    "TITLE_FONT_SIZE = 25\n",
    "LABEL_FONT_SIZE = 15\n",
    "TICK_FONT_SIZE  = 15\n",
    "\n",
    "FIG_SIZE = (15,6)\n",
    "\n",
    "from IPython.core.display import display, HTML\n",
    "display(HTML(\"<style>.container { width:95% !important; }</style>\"))\n",
    "\n",
    "def time_marker(text=''):\n",
    "    print('[{}] {}'.format(datetime.datetime.now().time(), text.lower()))"
   ]
  },
  {
   "cell_type": "markdown",
   "metadata": {},
   "source": [
    "# Load Cleaned Business Data"
   ]
  },
  {
   "cell_type": "code",
   "execution_count": 3,
   "metadata": {},
   "outputs": [
    {
     "name": "stdout",
     "output_type": "stream",
     "text": [
      "7066 Restaurant business_id values\n",
      "1505 Fast Food Restaurant business_id values\n",
      "5561 Non Fast Food Restaurant business_id values\n"
     ]
    }
   ],
   "source": [
    "restaurant_data = pd.read_csv('../clean_data/az_restaurant_business_clean.csv', index_col=0)\n",
    "restaurant_bids = restaurant_data.business_id.values\n",
    "print('{:d} Restaurant business_id values'.format(len(restaurant_bids)))\n",
    "\n",
    "fast_food_restaurant_data = pd.read_csv('../clean_data/az_restaurant_fast_food_business_clean.csv', index_col=0)\n",
    "fast_food_restaurant_bids = fast_food_restaurant_data.business_id.values\n",
    "print('{:d} Fast Food Restaurant business_id values'.format(len(fast_food_restaurant_bids)))\n",
    "\n",
    "non_fast_food_restaurant_data = pd.read_csv('../clean_data/az_restaurant_non_fast_food_business_clean.csv', index_col=0)\n",
    "non_fast_food_restaurant_bids = non_fast_food_restaurant_data.business_id.values\n",
    "print('{:d} Non Fast Food Restaurant business_id values'.format(len(non_fast_food_restaurant_bids)))"
   ]
  },
  {
   "cell_type": "markdown",
   "metadata": {},
   "source": [
    "## Load Tip Data for All Arizona Restaurants\n",
    "<p>use the list of restaurant_bids provided by the cleaned business data file</p>"
   ]
  },
  {
   "cell_type": "markdown",
   "metadata": {},
   "source": [
    "<p><b>WARNING: All Restaurants TAKES ROUGHLY 6 MINUTES</b></p>"
   ]
  },
  {
   "cell_type": "code",
   "execution_count": 4,
   "metadata": {},
   "outputs": [
    {
     "name": "stdout",
     "output_type": "stream",
     "text": [
      "[22:16:01.449274] processed 100000 tips so far...\n",
      "[22:16:28.315413] processed 200000 tips so far...\n",
      "[22:16:55.588397] processed 300000 tips so far...\n",
      "[22:17:22.039322] processed 400000 tips so far...\n",
      "[22:17:48.737902] processed 500000 tips so far...\n",
      "[22:18:14.252523] processed 600000 tips so far...\n",
      "[22:18:40.756723] processed 700000 tips so far...\n",
      "[22:19:07.485960] processed 800000 tips so far...\n",
      "[22:19:33.151119] processed 900000 tips so far...\n",
      "[22:20:01.521759] processed 1000000 tips so far...\n",
      "Selected 119274 Arizona Restaurant Tipss from 1098324 total tips\n",
      "Selected 12052 Arizona Fast Food Tipss from 1098324 total tips\n",
      "Selected 107222 Arizona Non Fast Food Tipss from 1098324 total tips\n"
     ]
    }
   ],
   "source": [
    "all_restaurant_tips = []\n",
    "fast_food_tips = []\n",
    "non_fast_food_tips = []\n",
    "\n",
    "source_data_file = '../source_data/tip.json'\n",
    "\n",
    "# read the file line by line and save only lines we need\n",
    "with open(source_data_file, 'r') as tip_file:\n",
    "    for i, tip_json in enumerate(tip_file):\n",
    "        tip = json.loads(tip_json)\n",
    "\n",
    "        # append to restaurant tips\n",
    "        if tip['business_id'] not in restaurant_bids:\n",
    "            pass\n",
    "        else:\n",
    "            # append to all restaurants tip list\n",
    "            all_restaurant_tips.append(tip)\n",
    "        \n",
    "            # if restaurant not fast food, append to non fast food tips list\n",
    "            if tip['business_id'] not in fast_food_restaurant_bids:\n",
    "                non_fast_food_tips.append(tip)\n",
    "            # else append to fast food tips list\n",
    "            else:\n",
    "                fast_food_tips.append(tip)\n",
    "\n",
    "        if i % 100000 == 0 and i != 0:\n",
    "            time_marker('processed {:d} tips so far...'.format(i))\n",
    "\n",
    "print('Selected {:d} Arizona Restaurant Tipss from {:d} total tips'.format(len(all_restaurant_tips), i))\n",
    "tips_df = pd.DataFrame(all_restaurant_tips)\n",
    "\n",
    "print('Selected {:d} Arizona Fast Food Tipss from {:d} total tips'.format(len(fast_food_tips), i))\n",
    "fast_food_tips_df = pd.DataFrame(fast_food_tips)\n",
    "\n",
    "print('Selected {:d} Arizona Non Fast Food Tipss from {:d} total tips'.format(len(non_fast_food_tips), i))\n",
    "non_fast_food_tips_df = pd.DataFrame(non_fast_food_tips)\n"
   ]
  },
  {
   "cell_type": "markdown",
   "metadata": {},
   "source": [
    "# Sanitize Tip Text for CSV"
   ]
  },
  {
   "cell_type": "code",
   "execution_count": 5,
   "metadata": {},
   "outputs": [],
   "source": [
    "tips_df['text'] = tips_df.text.apply(lambda x: x.replace(',', ''))\n",
    "fast_food_tips_df['text'] = fast_food_tips_df.text.apply(lambda x: x.replace(',', ''))\n",
    "non_fast_food_tips_df['text'] = non_fast_food_tips_df.text.apply(lambda x: x.replace(',', ''))"
   ]
  },
  {
   "cell_type": "code",
   "execution_count": 6,
   "metadata": {},
   "outputs": [],
   "source": [
    "tips_df['tip_len'] = tips_df.text.str.len()\n",
    "fast_food_tips_df['tip_len'] = fast_food_tips_df.text.str.len()\n",
    "non_fast_food_tips_df['tip_len'] = non_fast_food_tips_df.text.str.len()"
   ]
  },
  {
   "cell_type": "code",
   "execution_count": 7,
   "metadata": {},
   "outputs": [],
   "source": [
    "tips_df['date'] = pd.to_datetime(tips_df['date'])\n",
    "fast_food_tips_df['date'] = pd.to_datetime(fast_food_tips_df['date'])\n",
    "non_fast_food_tips_df['date'] = pd.to_datetime(non_fast_food_tips_df['date'])"
   ]
  },
  {
   "cell_type": "markdown",
   "metadata": {},
   "source": [
    "# Pruning Short Tips\n",
    "<p>Yelp Tips in this subset of Arizona Restaurants.  After investingating that the 5% Quantile year over year in any of our selected tip subsets is rarely under 5 characters long, we will be conservative and prune all tips less than 5 characters in length</p>"
   ]
  },
  {
   "cell_type": "code",
   "execution_count": 8,
   "metadata": {},
   "outputs": [
    {
     "data": {
      "image/png": "[encoded data removed]",
      "text/plain": [
       "<matplotlib.figure.Figure at 0x1a1bffdd30>"
      ]
     },
     "metadata": {},
     "output_type": "display_data"
    }
   ],
   "source": [
    "ax = tips_df.groupby(tips_df.date.dt.year).quantile(0.05)['tip_len'].plot(figsize=FIG_SIZE, color='r')\n",
    "non_fast_food_tips_df.groupby(non_fast_food_tips_df.date.dt.year).quantile(0.05)['tip_len'].plot(ax=ax, color='b')\n",
    "fast_food_tips_df.groupby(fast_food_tips_df.date.dt.year).quantile(0.05)['tip_len'].plot(ax=ax, color='g')\n",
    "\n",
    "ax.set_title('5% Quantile Tip Length Year to Year', size=TITLE_FONT_SIZE)\n",
    "ax.set_xlabel('Year', size=LABEL_FONT_SIZE)\n",
    "ax.set_ylabel('Tip Text Length', size=LABEL_FONT_SIZE)\n",
    "\n",
    "ax.set_xticks(tips_df.groupby(tips_df.date.dt.year).quantile(0.05)['tip_len'].index)\n",
    "\n",
    "ax.legend(['All Restaurants', 'Non Fast Food Restaurants', 'Fast Food Restaurants'], loc=1, frameon=True)\n",
    "\n",
    "plt.savefig('../charts/tip_length_Q05_yearly.png')\n",
    "plt.show()\n",
    "plt.close()"
   ]
  },
  {
   "cell_type": "code",
   "execution_count": 9,
   "metadata": {},
   "outputs": [],
   "source": [
    "min_tip_len = 5\n",
    "\n",
    "tips_df_count = tips_df.shape[0]\n",
    "tips_df = tips_df[tips_df.tip_len >= min_tip_len].copy()\n",
    "tips_df.reset_index(inplace=True, drop=True)\n",
    "\n",
    "fast_food_tips_df_count = fast_food_tips_df.shape[0]\n",
    "fast_food_tips_df = fast_food_tips_df[fast_food_tips_df.tip_len >= min_tip_len].copy()\n",
    "fast_food_tips_df.reset_index(inplace=True, drop=True)\n",
    "\n",
    "non_fast_food_tips_df_count = non_fast_food_tips_df.shape[0]\n",
    "non_fast_food_tips_df = non_fast_food_tips_df[non_fast_food_tips_df.tip_len >= min_tip_len].copy()\n",
    "non_fast_food_tips_df.reset_index(inplace=True, drop=True)\n"
   ]
  },
  {
   "cell_type": "code",
   "execution_count": 10,
   "metadata": {},
   "outputs": [
    {
     "name": "stdout",
     "output_type": "stream",
     "text": [
      "<class 'pandas.core.frame.DataFrame'>\n",
      "RangeIndex: 118301 entries, 0 to 118300\n",
      "Data columns (total 6 columns):\n",
      "business_id    118301 non-null object\n",
      "date           118301 non-null datetime64[ns]\n",
      "likes          118301 non-null int64\n",
      "text           118301 non-null object\n",
      "user_id        118301 non-null object\n",
      "tip_len        118301 non-null int64\n",
      "dtypes: datetime64[ns](1), int64(2), object(3)\n",
      "memory usage: 5.4+ MB\n"
     ]
    }
   ],
   "source": [
    "tips_df.info()"
   ]
  },
  {
   "cell_type": "code",
   "execution_count": 11,
   "metadata": {},
   "outputs": [
    {
     "name": "stdout",
     "output_type": "stream",
     "text": [
      "<class 'pandas.core.frame.DataFrame'>\n",
      "RangeIndex: 11941 entries, 0 to 11940\n",
      "Data columns (total 6 columns):\n",
      "business_id    11941 non-null object\n",
      "date           11941 non-null datetime64[ns]\n",
      "likes          11941 non-null int64\n",
      "text           11941 non-null object\n",
      "user_id        11941 non-null object\n",
      "tip_len        11941 non-null int64\n",
      "dtypes: datetime64[ns](1), int64(2), object(3)\n",
      "memory usage: 559.8+ KB\n"
     ]
    }
   ],
   "source": [
    "fast_food_tips_df.info()"
   ]
  },
  {
   "cell_type": "code",
   "execution_count": 12,
   "metadata": {},
   "outputs": [
    {
     "name": "stdout",
     "output_type": "stream",
     "text": [
      "<class 'pandas.core.frame.DataFrame'>\n",
      "RangeIndex: 106360 entries, 0 to 106359\n",
      "Data columns (total 6 columns):\n",
      "business_id    106360 non-null object\n",
      "date           106360 non-null datetime64[ns]\n",
      "likes          106360 non-null int64\n",
      "text           106360 non-null object\n",
      "user_id        106360 non-null object\n",
      "tip_len        106360 non-null int64\n",
      "dtypes: datetime64[ns](1), int64(2), object(3)\n",
      "memory usage: 4.9+ MB\n"
     ]
    }
   ],
   "source": [
    "non_fast_food_tips_df.info()"
   ]
  },
  {
   "cell_type": "code",
   "execution_count": 13,
   "metadata": {},
   "outputs": [
    {
     "name": "stdout",
     "output_type": "stream",
     "text": [
      "Reduced 119274 tips to a subset of 118301 tips 99.1842 [tips_df]\n",
      "Reduced 12052 tips to a subset of 11941 tips 99.0790 [fast_food_tips_df]\n",
      "Reduced 107222 tips to a subset of 106360 tips 99.1961 [non_fast_food_tips_df]\n"
     ]
    }
   ],
   "source": [
    "print('Reduced {:d} tips to a subset of {:d} tips {:2.4f} [tips_df]'.format(tips_df_count, \n",
    "                                                                                        tips_df.shape[0], \n",
    "                                                                                        (100.*tips_df.shape[0]/tips_df_count)))\n",
    "print('Reduced {:d} tips to a subset of {:d} tips {:2.4f} [fast_food_tips_df]'.format(fast_food_tips_df_count, \n",
    "                                                                                        fast_food_tips_df.shape[0], \n",
    "                                                                                        (100.*fast_food_tips_df.shape[0]/fast_food_tips_df_count)))\n",
    "print('Reduced {:d} tips to a subset of {:d} tips {:2.4f} [non_fast_food_tips_df]'.format(non_fast_food_tips_df_count, \n",
    "                                                                                        non_fast_food_tips_df.shape[0], \n",
    "                                                                                        (100.*non_fast_food_tips_df.shape[0]/non_fast_food_tips_df_count)))"
   ]
  },
  {
   "cell_type": "markdown",
   "metadata": {},
   "source": [
    "# Write to File\n",
    "<p>Write data frame of only Arizona Restaurant tips to file</p>"
   ]
  },
  {
   "cell_type": "code",
   "execution_count": 14,
   "metadata": {},
   "outputs": [
    {
     "name": "stdout",
     "output_type": "stream",
     "text": [
      "[22:20:30.337067] writing 118301 records to file ../clean_data/az_restaurant_tips.csv\n",
      "[22:20:33.635580] writing 11941 records to file ../clean_data/az_restaurant_fast_food_tips.csv\n",
      "[22:20:33.927694] writing 106360 records to file ../clean_data/az_restaurant_non_fast_food_tips.csv\n",
      "[22:20:36.096253] complete!\n"
     ]
    }
   ],
   "source": [
    "file_name = '../clean_data/az_restaurant_tips.csv'\n",
    "time_marker(text='Writing {:d} records to file {}'.format(tips_df.shape[0], file_name))\n",
    "tips_df.to_csv(file_name, encoding='utf-8')\n",
    "\n",
    "file_name = '../clean_data/az_restaurant_fast_food_tips.csv'\n",
    "time_marker(text='Writing {:d} records to file {}'.format(fast_food_tips_df.shape[0], file_name))\n",
    "fast_food_tips_df.to_csv(file_name, encoding='utf-8')\n",
    "\n",
    "file_name = '../clean_data/az_restaurant_non_fast_food_tips.csv'\n",
    "time_marker(text='Writing {:d} records to file {}'.format(non_fast_food_tips_df.shape[0], file_name))\n",
    "non_fast_food_tips_df.to_csv(file_name, encoding='utf-8')\n",
    "\n",
    "\n",
    "time_marker('complete!')"
   ]
  }
 ],
 "metadata": {
  "kernelspec": {
   "display_name": "Python 3",
   "language": "python",
   "name": "python3"
  },
  "language_info": {
   "codemirror_mode": {
    "name": "ipython",
    "version": 3
   },
   "file_extension": ".py",
   "mimetype": "text/x-python",
   "name": "python",
   "nbconvert_exporter": "python",
   "pygments_lexer": "ipython3",
   "version": "3.6.3"
  }
 },
 "nbformat": 4,
 "nbformat_minor": 2
}
